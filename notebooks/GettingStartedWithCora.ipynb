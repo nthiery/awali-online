{
 "cells": [
  {
   "cell_type": "markdown",
   "metadata": {},
   "source": [
    "Getting Started with Cora\n",
    "==\n",
    "\n",
    "(Awali version 2.1; notebook version 14/10/2021) \n",
    "\n",
    "A short, but necessary, presentation of Awali. \n",
    "--\n",
    "\n",
    " **Awali** is written in C++ and is organised into three layers: the *static*, the *dynamic*, and the *interface* layers. \n",
    "\n",
    "The core of the platform is the **static level**, which provides the data structures and a library of algorithms. The *type* of a weighted automaton -- called the *context* -- is determined by the type of weights and the type of labels. Every algorithm is implemented via template functions working on template classes, and is compiled for the type of automata that are used. Efficiency is partly based upon this generic programming which is anyway essential when dealing with weighted automata.\n",
    "\n",
    "The **dynamic level** allows both the call of functions of the static level and genuine C++ programming with the use of a kind of *universal* type of automata. This type is an abstraction of template (static) types of automata; it gives access to a complete template-free API for weighted automata. \n",
    "A remarkable feature of the dynamic level is the *on-request compilation* of modules (data structures and algorithms) from the static level. Even written at the dynamic level, programs are compiled and not interpreted at execution time.\n",
    "\n",
    "The **interface level** offers for the time being two kinds of access to the lower layers: a *command-line interface*, called **Cora**, which allows the call to most of the algorithms of the static level, and a Python interface to both the dynamic and the static levels. \n",
    "\n",
    "The easiest way to begin with Awali platform is probably to play with the command-line module Cora and this is what is described here.\n",
    "\n",
    "What is at hand ? \n",
    "--\n",
    "\n",
    "After Awali installation, the command **cora help** gives an overview of the usage of Cora and, as important, the way to list all available commands, examples, and documentation."
   ]
  },
  {
   "cell_type": "code",
   "execution_count": 1,
   "metadata": {
    "scrolled": true
   },
   "outputs": [
    {
     "name": "stdout",
     "output_type": "stream",
     "text": [
      "\r\n",
      "cora is the line command interface to the Awali platform for\r\n",
      "computing automata and transducers.\r\n",
      "\r\n",
      "Usage:  \u001b[0;35mcora [options] <command> <argument> [<argument2>]\u001b[0m\r\n",
      "\r\n",
      "where, in most cases,\u001b[0;35m <command> \u001b[0mis a function applied to\u001b[0;35m <argument>\u001b[0m, usually \r\n",
      "an automaton, a transducer, or a rational (regular) expression ('ratexp' in\r\n",
      "awali parlance). The\u001b[0;35m [options] \u001b[0mbring more information to <command>, from the\r\n",
      "type of some parameters in <argument> to the input or output format to the\r\n",
      "method to be used for the computation.\r\n",
      "\r\n",
      "There are more than 80 commands. To give an overview \r\n",
      "\u001b[0;35m   cora list commands \u001b[0m\r\n",
      "prints (almost) all commands, organised in a table showing 6 'kinds':\r\n",
      "'basic-cmds', 'generic-cmds', 'wfa-cmds', 'nfa-cmds', 'ratexp-cmds', and \r\n",
      "'transducer-cmds', and\r\n",
      "\u001b[0;35m   cora list <kind> \u001b[0m\r\n",
      "prints the list of the commands in the category <kind> together with a short\r\n",
      "description for each command. More classically,\r\n",
      "\u001b[0;35m   cora help <cmd> \u001b[0m\r\n",
      "prints a more detailed description of the command <cmd>, whereas\r\n",
      "\u001b[0;35m   cora help <option> \u001b[0m\r\n",
      "gives more information on the option <option>.\r\n",
      "\r\n",
      "By default, the result of\u001b[0;35m <command> \u001b[0mis output on the 'standard output'. This is\r\n",
      "sensible when the result is a number, a word, or a (small) ratexp. Not when\r\n",
      "the result is an automaton or a (long) ratexp, in which case the output is to\r\n",
      "be redirected to a file, and the command line looks then like:\r\n",
      "\r\n",
      "\u001b[0;35m   cora <command> <argument>  >  <result-file>\u001b[0m\r\n",
      "\r\n",
      "Commands can be 'piped' in order to compose the commands:\r\n",
      "\r\n",
      "\u001b[0;35m   cora <command1> <argument> \\| <command2> - \\| <command3> -  >  <result-file>\u001b[0m\r\n",
      "\r\n",
      "In this case, the '-' refer to the result of the previous command. Such\r\n",
      "composition of functions avoids the transformation, forth and back, between\r\n",
      "the inner representation of automata (or ratexps) and their linearisation\r\n",
      "in files.\r\n",
      "\t  \r\n",
      "A number of automata and ratexps are stored to serve as examples in command\r\n",
      "lines. Accordingly, a number of 'factories' allow to build automata that depend\r\n",
      "on one, or two, parameters. Automata and expressions can take their 'weights'\r\n",
      "or 'coefficients' in various semirings or 'weightsets'.\r\n",
      "\u001b[0;35m   cora list automata \u001b[0m(or \u001b[0;35mratexps\u001b[0m or \u001b[0;35mfactories\u001b[0m or \u001b[0;35mweightsets\u001b[0m)\r\n",
      "gives the list of such available examples or weightsets. \r\n",
      "\t  \r\n",
      "Finally, some elements of the Awali platform have been documented in such a way\r\n",
      "that the corresponding information can be called from cora with the command\r\n",
      "\u001b[0;35mcora doc <page>\u001b[0m in addition to being readable in the Doxygen pages.\r\n",
      "\r\n"
     ]
    }
   ],
   "source": [
    "!cora help"
   ]
  },
  {
   "cell_type": "markdown",
   "metadata": {},
   "source": [
    "In particular, the command **cora list commands** yields the list of available commands (over 80, without counting the options we'll explain below). The command\n",
    "\n",
    "\t$ cora help <command>\n",
    "\n",
    "gives more precise information on the command `<command>`, eg:"
   ]
  },
  {
   "cell_type": "code",
   "execution_count": 1,
   "metadata": {},
   "outputs": [
    {
     "name": "stdout",
     "output_type": "stream",
     "text": [
      "\r\n",
      " Usage : \u001b[0;35mcora determinize <aut> \u001b[0m\r\n",
      "\r\n",
      "Compute the (weighted) determinization of <aut>.\r\n",
      "\t  \r\n",
      "The method is that of (weighted) subset construction, that is, the states of\r\n",
      "the determinization are weighted subsets of the state set Q of <aut> or, which\r\n",
      "amounts to the same thing, vectors of dimension Q with entries in the weightset\r\n",
      "of <aut>.\t  \r\n",
      "\r\n",
      "The weightset must be a (locally) finite semiring to insure the finiteness\r\n",
      "of the computation. The result is a deterministic automaton and the weight\r\n",
      "of a word is given by the final function at the state reached by that word\r\n",
      "when input in this automaton.\r\n",
      "\r\n"
     ]
    }
   ],
   "source": [
    "!cora help determinize"
   ]
  },
  {
   "cell_type": "markdown",
   "metadata": {},
   "source": [
    "The command  **cora list automata** yields the list of preloaded automata that are part of Awali distribution (11 presently)."
   ]
  },
  {
   "cell_type": "code",
   "execution_count": 3,
   "metadata": {
    "scrolled": true
   },
   "outputs": [
    {
     "name": "stdout",
     "output_type": "stream",
     "text": [
      "\r\n",
      "Automata library :\r\n",
      "==================\r\n",
      "\r\n",
      "Name:            Description:                                                  \r\n",
      "---------------- --------------------------------------------------------------\r\n",
      "a1 ............. NFA that accepts words with at least one factor 'ab'\r\n",
      "ab ............. NFA with epsilon transition which recognizes words in 'a*b*'\r\n",
      "b1 ............. Z-FA that counts the number of 'b' in words of {a,b}*\r\n",
      "binary ......... Z-FA that converts words of {0,1}^* into their binary values\r\n",
      "binary-int ..... Z-FA that converts words of {0,1}^* into their binary values\r\n",
      "c1 ............. Z-FA that converts words of {a,b}^* into their binary values\r\n",
      "d1 ............. Z-FA computes the difference between the numbers of 'a' and\r\n",
      "                 'b'\r\n",
      "e1 ............. Q-FA that converts words of {a,b}^* into their binary values\r\n",
      "                 after the radix point\r\n",
      "evena .......... DFA which recognizes words with an even number of 'a'\r\n",
      "fibotdc-lr ..... Sequential transducer which tries to replace 'abb' by 'baa'\r\n",
      "flipper ........ Transducer that mimics a flipper game\r\n",
      "gray ........... Gray code increment\r\n",
      "heapmodel ...... Z-max-plus automaton, heap model with 2 pieces\r\n",
      "lamplighter .... Group automaton which realizes the Lamplighter group\r\n",
      "minab .......... Z-min-plus-automaton which computes the minimum among the\r\n",
      "                 numbers of 'a' and 'b' in every word\r\n",
      "minblocka ...... Z-min-plus-automaton which computes the length of the shortest\r\n",
      "                 block of 'a' in every word\r\n",
      "oddb ........... DFA which recognizes words with an odd number of 'b'\r\n",
      "prob-rabin ..... R-automaton (probabilistic automaton) that accepts w with\r\n",
      "                 prob. expansion(w)\r\n",
      "rotation ....... C-automaton realizing a rotation\r\n",
      "slowcerny ...... Synchronisable NFA which meets Cerny bound\r\n",
      "slowgrow ....... Z-min-plus-automaton with a slow growing length function\r\n",
      "url-validator .. Automaton with epsilon transition that validates url\r\n",
      "\r\n",
      "\r\n"
     ]
    }
   ],
   "source": [
    "!cora list automata"
   ]
  },
  {
   "cell_type": "markdown",
   "metadata": {},
   "source": [
    "The first command\n",
    "--\n",
    "\n",
    "A quite natural way to get used with Cora commands is to apply them on preloaded automata and, to begin with, with preloaded Boolean automata. For instance the command:"
   ]
  },
  {
   "cell_type": "code",
   "execution_count": 4,
   "metadata": {},
   "outputs": [
    {
     "name": "stdout",
     "output_type": "stream",
     "text": [
      "\r\n",
      " Automaton : a1\r\n",
      "\r\n",
      " Weightset : B\r\n",
      "\r\n",
      " Label type : Letters\t\tLetter type : Character\r\n",
      " Alphabet : { a, b }\r\n",
      "\r\n",
      " 3 states        \t\t 6 transitions\r\n",
      " 1 initial state\t\t 1 final state\r\n",
      "\r\n"
     ]
    }
   ],
   "source": [
    "!cora info a1"
   ]
  },
  {
   "cell_type": "markdown",
   "metadata": {},
   "source": [
    "yields informations (number of states, of transitions, etc.) on the automaton `a1`. \n",
    "\n",
    "The two lines displayed before this output explain what is going on during the waiting time.\n",
    "Awali is installed without that any function at the static level be compiled. \n",
    "When the first function is called or, later, when a function that has not been compiled yet is called, Awali recognises it, launches the compilation of a group of functions (a *module*) for the \"type\" of the automaton that is used by the command (the *context*), create the corresponding links, and executes the command.\n",
    "\n",
    "If the same command is repeated, the answer is immediate (unless the computation time is noticeable) as Awali will have recognised that the necessary function is already compiled.\n",
    "In what follows, we will not show these messages anymore. The \"context\" will be explained below (or not). \n"
   ]
  },
  {
   "cell_type": "code",
   "execution_count": 5,
   "metadata": {},
   "outputs": [],
   "source": [
    "!cora display a1"
   ]
  },
  {
   "cell_type": "markdown",
   "metadata": {},
   "source": [
    "opens a pdf viewer which display a graphical representation of `a1` generated by `Graphviz`.\n",
    "\n",
    "Some classical functions\n",
    "--"
   ]
  },
  {
   "cell_type": "code",
   "execution_count": 6,
   "metadata": {},
   "outputs": [],
   "source": [
    "!cora determinize a1 > a1det.json"
   ]
  },
  {
   "cell_type": "markdown",
   "metadata": {},
   "source": [
    "computes the determinisation of `a1` and stores it, under `json` format, in the file `a1det.json`.\n",
    "This automaton that is just created (and which is stored in the current directory) can be called as an operand by any other command."
   ]
  },
  {
   "cell_type": "code",
   "execution_count": 7,
   "metadata": {},
   "outputs": [],
   "source": [
    "!cora -Na1det display a1det.json"
   ]
  },
  {
   "cell_type": "markdown",
   "metadata": {},
   "source": [
    "displays `a1det` in another window.\n",
    "Thanks to option `-N`, the name of the temporary file is `a1det`; without it would have been `tmp` and the old window would have been updated.\n"
   ]
  },
  {
   "cell_type": "code",
   "execution_count": 8,
   "metadata": {},
   "outputs": [],
   "source": [
    "!cora min-quotient a1det.json \\| display -"
   ]
  },
  {
   "cell_type": "markdown",
   "metadata": {},
   "source": [
    "computes the minimal quotient of `a1det` and displays it in the window `tmp`. \n",
    "\n",
    "This line shows how it is possible to chain commands in `Cora` by means of a kind of \"fake pipe\" : the result of the first command is sent to the second one which receive it by means of the `-`. \n",
    "\n",
    "For instance, Brzozowski's method for the computaion of the minimal automaton of the language accepted by an automaton may be written (on one line):\n",
    " "
   ]
  },
  {
   "cell_type": "code",
   "execution_count": 9,
   "metadata": {},
   "outputs": [],
   "source": [
    "!cora transpose a1 \\| determinize - \\| transpose - \\| determinize - \\| display -"
   ]
  },
  {
   "cell_type": "markdown",
   "metadata": {},
   "source": [
    "Awali of course implements Kleene Theorem and produces a rational (regular) expression from an automaton:"
   ]
  },
  {
   "cell_type": "code",
   "execution_count": 10,
   "metadata": {},
   "outputs": [
    {
     "name": "stdout",
     "output_type": "stream",
     "text": [
      "(a+b)*(ab)(a+b)*\r\n"
     ]
    }
   ],
   "source": [
    "!cora aut-to-exp a1"
   ]
  },
  {
   "cell_type": "markdown",
   "metadata": {},
   "source": [
    "The method used to compute the expression is the *state elimination method* (is there really another one?) together with an elementary, natural, and efficient heuristic.\n",
    "\n",
    "Construction of automata\n",
    "--\n",
    "\n",
    "A first method to constructing an automaton is to use the converse part of Kleene Theorem:"
   ]
  },
  {
   "cell_type": "code",
   "execution_count": 11,
   "metadata": {},
   "outputs": [],
   "source": [
    "!cora exp-to-aut '(a+b)*(ab)(a+b)*' \\| display -"
   ]
  },
  {
   "cell_type": "markdown",
   "metadata": {},
   "source": [
    "The method used to building this automaton is the one of *derived terms*, that is the automaton obtained is the one often called *Antimirov automaton*.\n",
    "Using options, one can also build, with the `standard` method, the *standard automaton* of the expression, also called *Glushkov* or *position automaton*, which has obviously 7 states:\n"
   ]
  },
  {
   "cell_type": "code",
   "execution_count": 12,
   "metadata": {},
   "outputs": [],
   "source": [
    "!cora -Mstandard exp-to-aut '(a+b)*(ab)(a+b)*' \\| display -"
   ]
  },
  {
   "cell_type": "markdown",
   "metadata": {},
   "source": [
    "or the *Thompson automaton* with the `thompson` method: "
   ]
  },
  {
   "cell_type": "code",
   "execution_count": 13,
   "metadata": {},
   "outputs": [],
   "source": [
    "!cora -Mthompson exp-to-aut '(a+b)*(ab)(a+b)*' \\| display -"
   ]
  },
  {
   "cell_type": "markdown",
   "metadata": {},
   "source": [
    "The alphabet on which the automaton is built is implicitely the set of letters that occur in the rational expression that is considered.\n",
    "It could be conceived that the alphabet is indeed strictly larger, as in the following example where the option `-A` allows to specify the alphabet explicitely:\n"
   ]
  },
  {
   "cell_type": "code",
   "execution_count": 14,
   "metadata": {},
   "outputs": [],
   "source": [
    "!cora -Aabc exp-to-aut '(a+b)*(ab)(a+b)*' \\| display -"
   ]
  },
  {
   "cell_type": "markdown",
   "metadata": {},
   "source": [
    "The result is not different from the one obtained before.\n",
    "The difference appears when one tries to make the automaton *complete*:"
   ]
  },
  {
   "cell_type": "code",
   "execution_count": 15,
   "metadata": {},
   "outputs": [],
   "source": [
    "!cora -Aabc exp-to-aut '(a+b)*(ab)(a+b)*' \\| complete - \\| display -"
   ]
  },
  {
   "cell_type": "markdown",
   "metadata": {},
   "source": [
    "Another method for building automata with Cora consists in using the `edit` command in order to add, or suppress, states, or transitions, to an automaton that already exists:\n",
    "\n",
    "    $ cora edit a1\n",
    "    \n",
    "or the `create` command to build an automaton from scratch -- with the specification of the alphabet if the default one `A={a,b}` is not sufficient:\n",
    "\n",
    "    $ cora -Aabcd create\n",
    "    \n",
    "These two commands open an interactive session in the terminal.\n",
    "\n",
    "Other commands\n",
    "--\n",
    "\n",
    "Cora offers a large number of commands, the name of which are self-explanatory in general.\n",
    "In particular, it accepts all commands present in *Grail* or in *Fado*.\n",
    "\n",
    "Notice the difference between\n",
    "\n",
    "    $ cora minimal-automaton <aut>\n",
    "    \n",
    "which computes the *minimal automaton* of the language accepted by the (Boolean) automaton `<aut>` and \n",
    "\n",
    "    $ cora min-quotient <aut>\n",
    "    \n",
    "which computes le *minimal quotient* of `<aut>` (also called *minimal bisimulation*).\n",
    "\n",
    "\n",
    "Input--Output\n",
    "--\n",
    "\n",
    "The automata created with Cora (or Awali), and those which are preloaded, are stored under `json` format (hence the extension in the above examples). \n",
    "Remark that no extension is used for *calling* preloaded automata, it is the way they are distinguished from others.\n",
    "\n",
    "One can write an automaton under that `json` format with the `cat` command:"
   ]
  },
  {
   "cell_type": "code",
   "execution_count": 16,
   "metadata": {},
   "outputs": [
    {
     "name": "stdout",
     "output_type": "stream",
     "text": [
      "{\"format\": {\"name\":\"fsm-json\", \"version\":\"1\"},\r\n",
      " \"kind\":\"Automaton\",\r\n",
      " \"metadata\":\r\n",
      "   {\"name\":\"a1\",\r\n",
      "    \"caption\":\"NFA that accepts words with at least one factor 'ab'\",\r\n",
      "    \"creator\": {\"programName\":\"awali\", \"version\":\"2.0.0-rc2\"},\r\n",
      "    \"timestamp\": {\"date\":\"2021-06-22\", \"time\":\"06:35:52Z\"}},\r\n",
      " \"context\":\r\n",
      "   {\"labels\":\r\n",
      "      {\"labelKind\":\"Letters\", \"letterType\":\"Char\", \"alphabet\":[\"a\",\"b\"]},\r\n",
      "    \"weights\": {\"semiring\":\"B\"}},\r\n",
      " \"data\":\r\n",
      "   {\"states\":\r\n",
      "      [{\"id\":0, \"name\":\"p\", \"initial\":true},\r\n",
      "       {\"id\":1, \"name\":\"q\"},\r\n",
      "       {\"id\":2, \"name\":\"r\", \"final\":true}],\r\n",
      "    \"transitions\":\r\n",
      "      [{\"source\":0, \"destination\":0, \"label\":\"a\"},\r\n",
      "       {\"source\":0, \"destination\":0, \"label\":\"b\"},\r\n",
      "       {\"source\":2, \"destination\":2, \"label\":\"a\"},\r\n",
      "       {\"source\":2, \"destination\":2, \"label\":\"b\"},\r\n",
      "       {\"source\":0, \"destination\":1, \"label\":\"a\"},\r\n",
      "       {\"source\":1, \"destination\":2, \"label\":\"b\"}]}}\r\n"
     ]
    }
   ],
   "source": [
    "!cora cat a1"
   ]
  },
  {
   "cell_type": "markdown",
   "metadata": {},
   "source": [
    "Cora, and Awali, output, and read automata written under other description formats, namely those used by the `Grail` and `Fado` platforms (for Boolean automata only):"
   ]
  },
  {
   "cell_type": "code",
   "execution_count": 17,
   "metadata": {},
   "outputs": [
    {
     "name": "stdout",
     "output_type": "stream",
     "text": [
      "(START) |- p\r\n",
      "p a p\r\n",
      "p a q\r\n",
      "p b p\r\n",
      "q b r\r\n",
      "r a r\r\n",
      "r b r\r\n",
      "r -| (FINAL)\r\n"
     ]
    }
   ],
   "source": [
    "!cora -Ograil cat a1"
   ]
  },
  {
   "cell_type": "markdown",
   "metadata": {},
   "source": [
    "Rational expressions can be read, and output, under a `text` or a `json`format.\n",
    "Under the `text` format, they are written between quotes (for input).\n",
    "In order to be input from a file, they should *necessarily* be stored under the `json` format."
   ]
  },
  {
   "cell_type": "code",
   "execution_count": 18,
   "metadata": {},
   "outputs": [
    {
     "name": "stdout",
     "output_type": "stream",
     "text": [
      "a+b\r\n"
     ]
    }
   ],
   "source": [
    "!cora cat 'a+b'"
   ]
  },
  {
   "cell_type": "code",
   "execution_count": 19,
   "metadata": {},
   "outputs": [
    {
     "name": "stdout",
     "output_type": "stream",
     "text": [
      "a+b\r\n"
     ]
    }
   ],
   "source": [
    "!cora -Ojson cat 'a+b' > e.json\n",
    "!cora -Ijson cat  e.json       "
   ]
  },
  {
   "cell_type": "markdown",
   "metadata": {},
   "source": [
    "Further features of Cora, in particular the computations with weighted automata and with transducers, will be treated in other notebooks and pieces of documentation."
   ]
  }
 ],
 "metadata": {
  "kernelspec": {
   "display_name": "Python 3",
   "language": "python",
   "name": "python3"
  },
  "language_info": {
   "codemirror_mode": {
    "name": "ipython",
    "version": 3
   },
   "file_extension": ".py",
   "mimetype": "text/x-python",
   "name": "python",
   "nbconvert_exporter": "python",
   "pygments_lexer": "ipython3",
   "version": "3.7.6"
  }
 },
 "nbformat": 4,
 "nbformat_minor": 2
}
