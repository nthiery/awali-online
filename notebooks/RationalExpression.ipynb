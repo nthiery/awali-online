{
 "cells": [
  {
   "cell_type": "markdown",
   "metadata": {},
   "source": [
    "# Rational expressions\n",
    "<br>"
   ]
  },
  {
   "cell_type": "code",
   "execution_count": 3,
   "metadata": {},
   "outputs": [
    {
     "data": {
      "application/javascript": [
       "IPython.notebook.set_autosave_interval(0)"
      ]
     },
     "metadata": {},
     "output_type": "display_data"
    },
    {
     "name": "stdout",
     "output_type": "stream",
     "text": [
      "Autosave disabled\n"
     ]
    }
   ],
   "source": [
    "# We disable autosave for technical reasons.\n",
    "# Replace 0 by 120 in next line to restore default.\n",
    "%autosave 0"
   ]
  },
  {
   "cell_type": "code",
   "execution_count": 4,
   "metadata": {},
   "outputs": [
    {
     "name": "stdout",
     "output_type": "stream",
     "text": [
      "[Warning] The python module awalipy relies on compilation executed \"on-the-fly\" depending on the context (type of weights, of labels, etc.). As a result, the very first call to a given function in a given context may take up to one minute. \n"
     ]
    }
   ],
   "source": [
    "import awalipy # If import fails, check that \n",
    "               # Python version used as Jupyter\n",
    "               # kernel matches the one\n",
    "               # Awalipy was compiled with."
   ]
  },
  {
   "cell_type": "markdown",
   "metadata": {},
   "source": [
    "## Creating a RatExp"
   ]
  },
  {
   "cell_type": "markdown",
   "metadata": {},
   "source": [
    "When parsing a rational expression operator precedence is : star > concatenation > union . In other words,  \n",
    "\n",
    "- `a+(b*)` = `a+b*` != `(a+b)*`\n",
    "- `a(b*)`  = `ab*` != `(ab)*`\n",
    "- `a+(bc)` = `a+bc` != `(a+b)c`"
   ]
  },
  {
   "cell_type": "code",
   "execution_count": 5,
   "metadata": {},
   "outputs": [
    {
     "data": {
      "text/plain": [
       "(a+bc)c*(ab)*"
      ]
     },
     "execution_count": 5,
     "metadata": {},
     "output_type": "execute_result"
    }
   ],
   "source": [
    "e = awalipy.RatExp(\"(a+bc)c*(ab)*\")\n",
    "e\n"
   ]
  },
  {
   "cell_type": "markdown",
   "metadata": {},
   "source": [
    "By default, the *alphabet* of a rational expression is the set of all letters appearing in it. However the alphabet may be increased artifically as follows."
   ]
  },
  {
   "cell_type": "code",
   "execution_count": 6,
   "metadata": {},
   "outputs": [
    {
     "data": {
      "text/plain": [
       "(a+b)(c*+a)*"
      ]
     },
     "execution_count": 6,
     "metadata": {},
     "output_type": "execute_result"
    }
   ],
   "source": [
    "f = awalipy.RatExp(\"(a+b)(c*+a)*\", alphabet=\"abcd\")\n",
    "f"
   ]
  },
  {
   "cell_type": "markdown",
   "metadata": {},
   "source": [
    "---\n",
    "Displaying a rational expression as a tree."
   ]
  },
  {
   "cell_type": "code",
   "execution_count": 7,
   "metadata": {},
   "outputs": [
    {
     "name": "stderr",
     "output_type": "stream",
     "text": [
      "Compiling module \"proper\" for a new automaton context (lal_char_b).\n",
      "Linking module \"proper\" for a new automaton context (lal_char_b).\n",
      "Compiling module \"output\" for a new automaton context (law_char_b).\n",
      "Linking module \"output\" for a new automaton context (law_char_b).\n"
     ]
    },
    {
     "data": {
      "image/svg+xml": [
       "<svg xmlns=\"http://www.w3.org/2000/svg\" xmlns:xlink=\"http://www.w3.org/1999/xlink\" width=\"499pt\" height=\"260pt\" viewBox=\"0.00 0.00 499.00 260.00\">\n",
       "<g id=\"graph0\" class=\"graph\" transform=\"scale(1 1) rotate(0) translate(4 256)\">\n",
       "<title>%3</title>\n",
       "<polygon fill=\"white\" stroke=\"transparent\" points=\"-4,4 -4,-256 495,-256 495,4 -4,4\"/>\n",
       "<!-- I2 -->\n",
       "<g id=\"node1\" class=\"node\">\n",
       "<title>I2</title>\n",
       "<ellipse fill=\"black\" stroke=\"black\" cx=\"0\" cy=\"-99\" rx=\"0\" ry=\"0\"/>\n",
       "</g>\n",
       "<!-- 2 -->\n",
       "<g id=\"node2\" class=\"node\">\n",
       "<title>2</title>\n",
       "<path fill=\"none\" stroke=\"DimGray\" d=\"M79,-117C79,-117 49,-117 49,-117 43,-117 37,-111 37,-105 37,-105 37,-93 37,-93 37,-87 43,-81 49,-81 49,-81 79,-81 79,-81 85,-81 91,-87 91,-93 91,-93 91,-105 91,-105 91,-111 85,-117 79,-117\"/>\n",
       "<text text-anchor=\"middle\" x=\"64\" y=\"-95.3\" font-family=\"Times,serif\" font-size=\"14.00\">[.]</text>\n",
       "</g>\n",
       "<!-- I2&#45;&gt;2 -->\n",
       "<g id=\"edge1\" class=\"edge\">\n",
       "<title>I2-&gt;2</title>\n",
       "<path fill=\"none\" stroke=\"DimGray\" d=\"M1.04,-99C1.86,-99 13.73,-99 26.87,-99\"/>\n",
       "<polygon fill=\"DimGray\" stroke=\"DimGray\" points=\"27,-102.5 37,-99 27,-95.5 27,-102.5\"/>\n",
       "</g>\n",
       "<!-- 3 -->\n",
       "<g id=\"node3\" class=\"node\">\n",
       "<title>3</title>\n",
       "<path fill=\"none\" stroke=\"DimGray\" d=\"M179,-144C179,-144 149,-144 149,-144 143,-144 137,-138 137,-132 137,-132 137,-120 137,-120 137,-114 143,-108 149,-108 149,-108 179,-108 179,-108 185,-108 191,-114 191,-120 191,-120 191,-132 191,-132 191,-138 185,-144 179,-144\"/>\n",
       "<text text-anchor=\"middle\" x=\"164\" y=\"-122.3\" font-family=\"Times,serif\" font-size=\"14.00\">[.]</text>\n",
       "</g>\n",
       "<!-- 2&#45;&gt;3 -->\n",
       "<g id=\"edge2\" class=\"edge\">\n",
       "<title>2-&gt;3</title>\n",
       "<path fill=\"none\" stroke=\"DimGray\" d=\"M91,-106.16C102.08,-109.22 115.18,-112.83 127.15,-116.12\"/>\n",
       "<polygon fill=\"DimGray\" stroke=\"DimGray\" points=\"126.3,-119.52 136.87,-118.8 128.16,-112.77 126.3,-119.52\"/>\n",
       "<text text-anchor=\"middle\" x=\"114\" y=\"-117.8\" font-family=\"Times,serif\" font-size=\"14.00\">.</text>\n",
       "</g>\n",
       "<!-- 14 -->\n",
       "<g id=\"node14\" class=\"node\">\n",
       "<title>14</title>\n",
       "<path fill=\"none\" stroke=\"DimGray\" d=\"M179,-90C179,-90 149,-90 149,-90 143,-90 137,-84 137,-78 137,-78 137,-66 137,-66 137,-60 143,-54 149,-54 149,-54 179,-54 179,-54 185,-54 191,-60 191,-66 191,-66 191,-78 191,-78 191,-84 185,-90 179,-90\"/>\n",
       "<text text-anchor=\"middle\" x=\"164\" y=\"-68.3\" font-family=\"Times,serif\" font-size=\"14.00\">[*]</text>\n",
       "</g>\n",
       "<!-- 2&#45;&gt;14 -->\n",
       "<g id=\"edge3\" class=\"edge\">\n",
       "<title>2-&gt;14</title>\n",
       "<path fill=\"none\" stroke=\"DimGray\" d=\"M91,-91.84C102.08,-88.78 115.18,-85.17 127.15,-81.88\"/>\n",
       "<polygon fill=\"DimGray\" stroke=\"DimGray\" points=\"128.16,-85.23 136.87,-79.2 126.3,-78.48 128.16,-85.23\"/>\n",
       "<text text-anchor=\"middle\" x=\"114\" y=\"-90.8\" font-family=\"Times,serif\" font-size=\"14.00\">..</text>\n",
       "</g>\n",
       "<!-- 4 -->\n",
       "<g id=\"node4\" class=\"node\">\n",
       "<title>4</title>\n",
       "<path fill=\"none\" stroke=\"DimGray\" d=\"M279,-198C279,-198 249,-198 249,-198 243,-198 237,-192 237,-186 237,-186 237,-174 237,-174 237,-168 243,-162 249,-162 249,-162 279,-162 279,-162 285,-162 291,-168 291,-174 291,-174 291,-186 291,-186 291,-192 285,-198 279,-198\"/>\n",
       "<text text-anchor=\"middle\" x=\"264\" y=\"-176.3\" font-family=\"Times,serif\" font-size=\"14.00\">[+]</text>\n",
       "</g>\n",
       "<!-- 3&#45;&gt;4 -->\n",
       "<g id=\"edge4\" class=\"edge\">\n",
       "<title>3-&gt;4</title>\n",
       "<path fill=\"none\" stroke=\"DimGray\" d=\"M191,-140.33C202.3,-146.55 215.71,-153.94 227.87,-160.64\"/>\n",
       "<polygon fill=\"DimGray\" stroke=\"DimGray\" points=\"226.43,-163.84 236.87,-165.6 229.8,-157.71 226.43,-163.84\"/>\n",
       "<text text-anchor=\"middle\" x=\"214\" y=\"-157.8\" font-family=\"Times,serif\" font-size=\"14.00\">.</text>\n",
       "</g>\n",
       "<!-- 10 -->\n",
       "<g id=\"node10\" class=\"node\">\n",
       "<title>10</title>\n",
       "<path fill=\"none\" stroke=\"DimGray\" d=\"M279,-144C279,-144 249,-144 249,-144 243,-144 237,-138 237,-132 237,-132 237,-120 237,-120 237,-114 243,-108 249,-108 249,-108 279,-108 279,-108 285,-108 291,-114 291,-120 291,-120 291,-132 291,-132 291,-138 285,-144 279,-144\"/>\n",
       "<text text-anchor=\"middle\" x=\"264\" y=\"-122.3\" font-family=\"Times,serif\" font-size=\"14.00\">[*]</text>\n",
       "</g>\n",
       "<!-- 3&#45;&gt;10 -->\n",
       "<g id=\"edge5\" class=\"edge\">\n",
       "<title>3-&gt;10</title>\n",
       "<path fill=\"none\" stroke=\"DimGray\" d=\"M191,-126C201.97,-126 214.92,-126 226.79,-126\"/>\n",
       "<polygon fill=\"DimGray\" stroke=\"DimGray\" points=\"226.87,-129.5 236.87,-126 226.87,-122.5 226.87,-129.5\"/>\n",
       "<text text-anchor=\"middle\" x=\"214\" y=\"-129.8\" font-family=\"Times,serif\" font-size=\"14.00\">..</text>\n",
       "</g>\n",
       "<!-- 5 -->\n",
       "<g id=\"node5\" class=\"node\">\n",
       "<title>5</title>\n",
       "<path fill=\"none\" stroke=\"DimGray\" d=\"M379,-252C379,-252 349,-252 349,-252 343,-252 337,-246 337,-240 337,-240 337,-228 337,-228 337,-222 343,-216 349,-216 349,-216 379,-216 379,-216 385,-216 391,-222 391,-228 391,-228 391,-240 391,-240 391,-246 385,-252 379,-252\"/>\n",
       "<text text-anchor=\"middle\" x=\"364\" y=\"-230.3\" font-family=\"Times,serif\" font-size=\"14.00\">a</text>\n",
       "</g>\n",
       "<!-- 4&#45;&gt;5 -->\n",
       "<g id=\"edge6\" class=\"edge\">\n",
       "<title>4-&gt;5</title>\n",
       "<path fill=\"none\" stroke=\"DimGray\" d=\"M291,-194.33C302.3,-200.55 315.71,-207.94 327.87,-214.64\"/>\n",
       "<polygon fill=\"DimGray\" stroke=\"DimGray\" points=\"326.43,-217.84 336.87,-219.6 329.8,-211.71 326.43,-217.84\"/>\n",
       "<text text-anchor=\"middle\" x=\"314\" y=\"-211.8\" font-family=\"Times,serif\" font-size=\"14.00\">.</text>\n",
       "</g>\n",
       "<!-- 6 -->\n",
       "<g id=\"node6\" class=\"node\">\n",
       "<title>6</title>\n",
       "<path fill=\"none\" stroke=\"DimGray\" d=\"M379,-198C379,-198 349,-198 349,-198 343,-198 337,-192 337,-186 337,-186 337,-174 337,-174 337,-168 343,-162 349,-162 349,-162 379,-162 379,-162 385,-162 391,-168 391,-174 391,-174 391,-186 391,-186 391,-192 385,-198 379,-198\"/>\n",
       "<text text-anchor=\"middle\" x=\"364\" y=\"-176.3\" font-family=\"Times,serif\" font-size=\"14.00\">[.]</text>\n",
       "</g>\n",
       "<!-- 4&#45;&gt;6 -->\n",
       "<g id=\"edge7\" class=\"edge\">\n",
       "<title>4-&gt;6</title>\n",
       "<path fill=\"none\" stroke=\"DimGray\" d=\"M291,-180C301.97,-180 314.92,-180 326.79,-180\"/>\n",
       "<polygon fill=\"DimGray\" stroke=\"DimGray\" points=\"326.87,-183.5 336.87,-180 326.87,-176.5 326.87,-183.5\"/>\n",
       "<text text-anchor=\"middle\" x=\"314\" y=\"-183.8\" font-family=\"Times,serif\" font-size=\"14.00\">..</text>\n",
       "</g>\n",
       "<!-- 7 -->\n",
       "<g id=\"node7\" class=\"node\">\n",
       "<title>7</title>\n",
       "<path fill=\"none\" stroke=\"DimGray\" d=\"M479,-225C479,-225 449,-225 449,-225 443,-225 437,-219 437,-213 437,-213 437,-201 437,-201 437,-195 443,-189 449,-189 449,-189 479,-189 479,-189 485,-189 491,-195 491,-201 491,-201 491,-213 491,-213 491,-219 485,-225 479,-225\"/>\n",
       "<text text-anchor=\"middle\" x=\"464\" y=\"-203.3\" font-family=\"Times,serif\" font-size=\"14.00\">b</text>\n",
       "</g>\n",
       "<!-- 6&#45;&gt;7 -->\n",
       "<g id=\"edge8\" class=\"edge\">\n",
       "<title>6-&gt;7</title>\n",
       "<path fill=\"none\" stroke=\"DimGray\" d=\"M391,-187.16C402.08,-190.22 415.18,-193.83 427.15,-197.12\"/>\n",
       "<polygon fill=\"DimGray\" stroke=\"DimGray\" points=\"426.3,-200.52 436.87,-199.8 428.16,-193.77 426.3,-200.52\"/>\n",
       "<text text-anchor=\"middle\" x=\"414\" y=\"-197.8\" font-family=\"Times,serif\" font-size=\"14.00\">.</text>\n",
       "</g>\n",
       "<!-- 8 -->\n",
       "<g id=\"node8\" class=\"node\">\n",
       "<title>8</title>\n",
       "<path fill=\"none\" stroke=\"DimGray\" d=\"M479,-171C479,-171 449,-171 449,-171 443,-171 437,-165 437,-159 437,-159 437,-147 437,-147 437,-141 443,-135 449,-135 449,-135 479,-135 479,-135 485,-135 491,-141 491,-147 491,-147 491,-159 491,-159 491,-165 485,-171 479,-171\"/>\n",
       "<text text-anchor=\"middle\" x=\"464\" y=\"-149.3\" font-family=\"Times,serif\" font-size=\"14.00\">c</text>\n",
       "</g>\n",
       "<!-- 6&#45;&gt;8 -->\n",
       "<g id=\"edge9\" class=\"edge\">\n",
       "<title>6-&gt;8</title>\n",
       "<path fill=\"none\" stroke=\"DimGray\" d=\"M391,-172.84C402.08,-169.78 415.18,-166.17 427.15,-162.88\"/>\n",
       "<polygon fill=\"DimGray\" stroke=\"DimGray\" points=\"428.16,-166.23 436.87,-160.2 426.3,-159.48 428.16,-166.23\"/>\n",
       "<text text-anchor=\"middle\" x=\"414\" y=\"-170.8\" font-family=\"Times,serif\" font-size=\"14.00\">..</text>\n",
       "</g>\n",
       "<!-- 9 -->\n",
       "<g id=\"node9\" class=\"node\">\n",
       "<title>9</title>\n",
       "<path fill=\"none\" stroke=\"DimGray\" d=\"M379,-144C379,-144 349,-144 349,-144 343,-144 337,-138 337,-132 337,-132 337,-120 337,-120 337,-114 343,-108 349,-108 349,-108 379,-108 379,-108 385,-108 391,-114 391,-120 391,-120 391,-132 391,-132 391,-138 385,-144 379,-144\"/>\n",
       "<text text-anchor=\"middle\" x=\"364\" y=\"-122.3\" font-family=\"Times,serif\" font-size=\"14.00\">c</text>\n",
       "</g>\n",
       "<!-- 10&#45;&gt;9 -->\n",
       "<g id=\"edge10\" class=\"edge\">\n",
       "<title>10-&gt;9</title>\n",
       "<path fill=\"none\" stroke=\"DimGray\" d=\"M291,-126C301.97,-126 314.92,-126 326.79,-126\"/>\n",
       "<polygon fill=\"DimGray\" stroke=\"DimGray\" points=\"326.87,-129.5 336.87,-126 326.87,-122.5 326.87,-129.5\"/>\n",
       "<text text-anchor=\"middle\" x=\"314\" y=\"-129.8\" font-family=\"Times,serif\" font-size=\"14.00\"> </text>\n",
       "</g>\n",
       "<!-- 11 -->\n",
       "<g id=\"node11\" class=\"node\">\n",
       "<title>11</title>\n",
       "<path fill=\"none\" stroke=\"DimGray\" d=\"M279,-90C279,-90 249,-90 249,-90 243,-90 237,-84 237,-78 237,-78 237,-66 237,-66 237,-60 243,-54 249,-54 249,-54 279,-54 279,-54 285,-54 291,-60 291,-66 291,-66 291,-78 291,-78 291,-84 285,-90 279,-90\"/>\n",
       "<text text-anchor=\"middle\" x=\"264\" y=\"-68.3\" font-family=\"Times,serif\" font-size=\"14.00\">[.]</text>\n",
       "</g>\n",
       "<!-- 12 -->\n",
       "<g id=\"node12\" class=\"node\">\n",
       "<title>12</title>\n",
       "<path fill=\"none\" stroke=\"DimGray\" d=\"M379,-90C379,-90 349,-90 349,-90 343,-90 337,-84 337,-78 337,-78 337,-66 337,-66 337,-60 343,-54 349,-54 349,-54 379,-54 379,-54 385,-54 391,-60 391,-66 391,-66 391,-78 391,-78 391,-84 385,-90 379,-90\"/>\n",
       "<text text-anchor=\"middle\" x=\"364\" y=\"-68.3\" font-family=\"Times,serif\" font-size=\"14.00\">a</text>\n",
       "</g>\n",
       "<!-- 11&#45;&gt;12 -->\n",
       "<g id=\"edge11\" class=\"edge\">\n",
       "<title>11-&gt;12</title>\n",
       "<path fill=\"none\" stroke=\"DimGray\" d=\"M291,-72C301.97,-72 314.92,-72 326.79,-72\"/>\n",
       "<polygon fill=\"DimGray\" stroke=\"DimGray\" points=\"326.87,-75.5 336.87,-72 326.87,-68.5 326.87,-75.5\"/>\n",
       "<text text-anchor=\"middle\" x=\"314\" y=\"-75.8\" font-family=\"Times,serif\" font-size=\"14.00\">.</text>\n",
       "</g>\n",
       "<!-- 13 -->\n",
       "<g id=\"node13\" class=\"node\">\n",
       "<title>13</title>\n",
       "<path fill=\"none\" stroke=\"DimGray\" d=\"M379,-36C379,-36 349,-36 349,-36 343,-36 337,-30 337,-24 337,-24 337,-12 337,-12 337,-6 343,0 349,0 349,0 379,0 379,0 385,0 391,-6 391,-12 391,-12 391,-24 391,-24 391,-30 385,-36 379,-36\"/>\n",
       "<text text-anchor=\"middle\" x=\"364\" y=\"-14.3\" font-family=\"Times,serif\" font-size=\"14.00\">b</text>\n",
       "</g>\n",
       "<!-- 11&#45;&gt;13 -->\n",
       "<g id=\"edge12\" class=\"edge\">\n",
       "<title>11-&gt;13</title>\n",
       "<path fill=\"none\" stroke=\"DimGray\" d=\"M291,-57.67C302.3,-51.45 315.71,-44.06 327.87,-37.36\"/>\n",
       "<polygon fill=\"DimGray\" stroke=\"DimGray\" points=\"329.8,-40.29 336.87,-32.4 326.43,-34.16 329.8,-40.29\"/>\n",
       "<text text-anchor=\"middle\" x=\"314\" y=\"-50.8\" font-family=\"Times,serif\" font-size=\"14.00\">..</text>\n",
       "</g>\n",
       "<!-- 14&#45;&gt;11 -->\n",
       "<g id=\"edge13\" class=\"edge\">\n",
       "<title>14-&gt;11</title>\n",
       "<path fill=\"none\" stroke=\"DimGray\" d=\"M191,-72C201.97,-72 214.92,-72 226.79,-72\"/>\n",
       "<polygon fill=\"DimGray\" stroke=\"DimGray\" points=\"226.87,-75.5 236.87,-72 226.87,-68.5 226.87,-75.5\"/>\n",
       "<text text-anchor=\"middle\" x=\"214\" y=\"-75.8\" font-family=\"Times,serif\" font-size=\"14.00\"> </text>\n",
       "</g>\n",
       "</g>\n",
       "</svg>"
      ],
      "text/plain": [
       "<IPython.core.display.SVG object>"
      ]
     },
     "metadata": {},
     "output_type": "display_data"
    }
   ],
   "source": [
    "e.display()"
   ]
  },
  {
   "cell_type": "markdown",
   "metadata": {},
   "source": [
    "## Union"
   ]
  },
  {
   "cell_type": "code",
   "execution_count": 8,
   "metadata": {},
   "outputs": [
    {
     "data": {
      "text/plain": [
       "(a+bc)c*(ab)*+(a+b)(c*+a)*"
      ]
     },
     "execution_count": 8,
     "metadata": {},
     "output_type": "execute_result"
    }
   ],
   "source": [
    "e+f"
   ]
  },
  {
   "cell_type": "code",
   "execution_count": 9,
   "metadata": {},
   "outputs": [
    {
     "data": {
      "text/plain": [
       "(a+bc)c*(ab)*+(a+bc)c*(ab)*"
      ]
     },
     "execution_count": 9,
     "metadata": {},
     "output_type": "execute_result"
    }
   ],
   "source": [
    "e+=e\n",
    "e"
   ]
  },
  {
   "cell_type": "markdown",
   "metadata": {},
   "source": [
    "## Concatenation"
   ]
  },
  {
   "cell_type": "code",
   "execution_count": 10,
   "metadata": {},
   "outputs": [
    {
     "data": {
      "text/plain": [
       "((a+bc)c*(ab)*+(a+bc)c*(ab)*)((a+b)(c*+a)*)"
      ]
     },
     "execution_count": 10,
     "metadata": {},
     "output_type": "execute_result"
    }
   ],
   "source": [
    "e^f"
   ]
  },
  {
   "cell_type": "code",
   "execution_count": 11,
   "metadata": {},
   "outputs": [
    {
     "data": {
      "text/plain": [
       "((a+bc)c*(ab)*+(a+bc)c*(ab)*)(abc*)"
      ]
     },
     "execution_count": 11,
     "metadata": {},
     "output_type": "execute_result"
    }
   ],
   "source": [
    "e^=\"abc*\"\n",
    "e"
   ]
  },
  {
   "cell_type": "markdown",
   "metadata": {},
   "source": [
    "## Star"
   ]
  },
  {
   "cell_type": "code",
   "execution_count": 12,
   "metadata": {},
   "outputs": [
    {
     "data": {
      "text/plain": [
       "(((a+bc)c*(ab)*+(a+bc)c*(ab)*)(abc*))*"
      ]
     },
     "execution_count": 12,
     "metadata": {},
     "output_type": "execute_result"
    }
   ],
   "source": [
    "e.star()"
   ]
  },
  {
   "cell_type": "code",
   "execution_count": 13,
   "metadata": {},
   "outputs": [
    {
     "data": {
      "text/plain": [
       "(((a+bc)c*(ab)*+(a+bc)c*(ab)*)(abc*))*"
      ]
     },
     "execution_count": 13,
     "metadata": {},
     "output_type": "execute_result"
    }
   ],
   "source": [
    "e.star_here()\n",
    "e"
   ]
  },
  {
   "cell_type": "markdown",
   "metadata": {},
   "source": [
    "## Star normal form and star height"
   ]
  },
  {
   "cell_type": "code",
   "execution_count": 14,
   "metadata": {},
   "outputs": [
    {
     "data": {
      "text/plain": [
       "2"
      ]
     },
     "execution_count": 14,
     "metadata": {},
     "output_type": "execute_result"
    }
   ],
   "source": [
    "e.star_height()"
   ]
  },
  {
   "cell_type": "code",
   "execution_count": 15,
   "metadata": {},
   "outputs": [
    {
     "data": {
      "text/plain": [
       "(((a+bc)c*(ab)*+(a+bc)c*(ab)*)(abc*))*"
      ]
     },
     "execution_count": 15,
     "metadata": {},
     "output_type": "execute_result"
    }
   ],
   "source": [
    "e.star_normal_form()"
   ]
  },
  {
   "cell_type": "markdown",
   "metadata": {},
   "source": [
    "## Expand"
   ]
  },
  {
   "cell_type": "markdown",
   "metadata": {},
   "source": [
    "The method `expand` distribute union and concatenation as much as possible."
   ]
  },
  {
   "cell_type": "code",
   "execution_count": 16,
   "metadata": {},
   "outputs": [
    {
     "data": {
      "text/plain": [
       "ad(f+g)*+ae(f+g)*+bcd(f+g)*+bce(f+g)*"
      ]
     },
     "execution_count": 16,
     "metadata": {},
     "output_type": "execute_result"
    }
   ],
   "source": [
    "awalipy.RatExp(\"(a+bc)(d+e)(f+g)*\").expand()"
   ]
  },
  {
   "cell_type": "markdown",
   "metadata": {},
   "source": [
    "## Expressions to automata"
   ]
  },
  {
   "cell_type": "markdown",
   "metadata": {},
   "source": [
    "By default, awali uses the *derived term* algorithm."
   ]
  },
  {
   "cell_type": "code",
   "execution_count": 17,
   "metadata": {},
   "outputs": [
    {
     "name": "stderr",
     "output_type": "stream",
     "text": [
      "Compiling module \"standard\" for a new automaton context (lal_char_b).\n",
      "Linking module \"standard\" for a new automaton context (lal_char_b).\n",
      "Compiling module \"determinize\" for a new automaton context (lal_char_b).\n",
      "Linking module \"determinize\" for a new automaton context (lal_char_b).\n",
      "Compiling module \"quotient\" for a new automaton context (lal_char_b).\n",
      "Linking module \"quotient\" for a new automaton context (lal_char_b).\n",
      "Compiling module \"output\" for a new automaton context (lal_char_b).\n",
      "Linking module \"output\" for a new automaton context (lal_char_b).\n"
     ]
    },
    {
     "data": {
      "image/svg+xml": [
       "<svg xmlns=\"http://www.w3.org/2000/svg\" xmlns:xlink=\"http://www.w3.org/1999/xlink\" width=\"732pt\" height=\"180pt\" viewBox=\"0.00 0.00 732.00 180.00\">\n",
       "<g id=\"graph0\" class=\"graph\" transform=\"scale(1 1) rotate(0) translate(4 176)\">\n",
       "<title>%3</title>\n",
       "<polygon fill=\"white\" stroke=\"transparent\" points=\"-4,4 -4,-176 728,-176 728,4 -4,4\"/>\n",
       "<!-- I6 -->\n",
       "<g id=\"node1\" class=\"node\">\n",
       "<title>I6</title>\n",
       "<ellipse fill=\"black\" stroke=\"black\" cx=\"0\" cy=\"-128\" rx=\"0\" ry=\"0\"/>\n",
       "</g>\n",
       "<!-- 6 -->\n",
       "<g id=\"node8\" class=\"node\">\n",
       "<title>6</title>\n",
       "<path fill=\"none\" stroke=\"black\" d=\"M79,-146C79,-146 49,-146 49,-146 43,-146 37,-140 37,-134 37,-134 37,-122 37,-122 37,-116 43,-110 49,-110 49,-110 79,-110 79,-110 85,-110 91,-116 91,-122 91,-122 91,-134 91,-134 91,-140 85,-146 79,-146\"/>\n",
       "<text text-anchor=\"middle\" x=\"64\" y=\"-124.3\" font-family=\"Times,serif\" font-size=\"14.00\">$0</text>\n",
       "</g>\n",
       "<!-- I6&#45;&gt;6 -->\n",
       "<g id=\"edge1\" class=\"edge\">\n",
       "<title>I6-&gt;6</title>\n",
       "<path fill=\"none\" stroke=\"DimGray\" d=\"M1.04,-128C1.86,-128 13.73,-128 26.87,-128\"/>\n",
       "<polygon fill=\"DimGray\" stroke=\"DimGray\" points=\"27,-131.5 37,-128 27,-124.5 27,-131.5\"/>\n",
       "</g>\n",
       "<!-- F6 -->\n",
       "<g id=\"node2\" class=\"node\">\n",
       "<title>F6</title>\n",
       "<ellipse fill=\"black\" stroke=\"black\" cx=\"164\" cy=\"-164\" rx=\"0\" ry=\"0\"/>\n",
       "</g>\n",
       "<!-- F7 -->\n",
       "<g id=\"node3\" class=\"node\">\n",
       "<title>F7</title>\n",
       "<ellipse fill=\"black\" stroke=\"black\" cx=\"724\" cy=\"-67\" rx=\"0\" ry=\"0\"/>\n",
       "</g>\n",
       "<!-- 2 -->\n",
       "<g id=\"node4\" class=\"node\">\n",
       "<title>2</title>\n",
       "<path fill=\"none\" stroke=\"black\" d=\"M179,-146C179,-146 149,-146 149,-146 143,-146 137,-140 137,-134 137,-134 137,-122 137,-122 137,-116 143,-110 149,-110 149,-110 179,-110 179,-110 185,-110 191,-116 191,-122 191,-122 191,-134 191,-134 191,-140 185,-146 179,-146\"/>\n",
       "<text text-anchor=\"middle\" x=\"164\" y=\"-124.3\" font-family=\"Times,serif\" font-size=\"14.00\">$3</text>\n",
       "</g>\n",
       "<!-- 5 -->\n",
       "<g id=\"node7\" class=\"node\">\n",
       "<title>5</title>\n",
       "<path fill=\"none\" stroke=\"black\" d=\"M277,-95C277,-95 247,-95 247,-95 241,-95 235,-89 235,-83 235,-83 235,-71 235,-71 235,-65 241,-59 247,-59 247,-59 277,-59 277,-59 283,-59 289,-65 289,-71 289,-71 289,-83 289,-83 289,-89 283,-95 277,-95\"/>\n",
       "<text text-anchor=\"middle\" x=\"262\" y=\"-73.3\" font-family=\"Times,serif\" font-size=\"14.00\">$1</text>\n",
       "</g>\n",
       "<!-- 2&#45;&gt;5 -->\n",
       "<g id=\"edge2\" class=\"edge\">\n",
       "<title>2-&gt;5</title>\n",
       "<path fill=\"none\" stroke=\"black\" d=\"M191.23,-114.06C201.92,-108.39 214.44,-101.74 225.89,-95.65\"/>\n",
       "<polygon fill=\"black\" stroke=\"black\" points=\"227.61,-98.7 234.8,-90.92 224.33,-92.52 227.61,-98.7\"/>\n",
       "<text text-anchor=\"middle\" x=\"213\" y=\"-107.8\" font-family=\"Times,serif\" font-size=\"14.00\">c</text>\n",
       "</g>\n",
       "<!-- 3 -->\n",
       "<g id=\"node5\" class=\"node\">\n",
       "<title>3</title>\n",
       "<path fill=\"none\" stroke=\"black\" d=\"M476,-107C476,-107 446,-107 446,-107 440,-107 434,-101 434,-95 434,-95 434,-83 434,-83 434,-77 440,-71 446,-71 446,-71 476,-71 476,-71 482,-71 488,-77 488,-83 488,-83 488,-95 488,-95 488,-101 482,-107 476,-107\"/>\n",
       "<text text-anchor=\"middle\" x=\"461\" y=\"-85.3\" font-family=\"Times,serif\" font-size=\"14.00\">$8</text>\n",
       "</g>\n",
       "<!-- 4 -->\n",
       "<g id=\"node6\" class=\"node\">\n",
       "<title>4</title>\n",
       "<path fill=\"none\" stroke=\"black\" d=\"M376,-107C376,-107 346,-107 346,-107 340,-107 334,-101 334,-95 334,-95 334,-83 334,-83 334,-77 340,-71 346,-71 346,-71 376,-71 376,-71 382,-71 388,-77 388,-83 388,-83 388,-95 388,-95 388,-101 382,-107 376,-107\"/>\n",
       "<text text-anchor=\"middle\" x=\"361\" y=\"-85.3\" font-family=\"Times,serif\" font-size=\"14.00\">$6</text>\n",
       "</g>\n",
       "<!-- 3&#45;&gt;4 -->\n",
       "<g id=\"edge3\" class=\"edge\">\n",
       "<title>3-&gt;4</title>\n",
       "<path fill=\"none\" stroke=\"black\" d=\"M433.56,-84.1C427.79,-83.23 421.71,-82.45 416,-82 410.29,-81.55 404.25,-81.7 398.37,-82.2\"/>\n",
       "<polygon fill=\"black\" stroke=\"black\" points=\"397.56,-78.77 388.04,-83.42 398.38,-85.73 397.56,-78.77\"/>\n",
       "<text text-anchor=\"middle\" x=\"411\" y=\"-85.8\" font-family=\"Times,serif\" font-size=\"14.00\">a</text>\n",
       "</g>\n",
       "<!-- 8 -->\n",
       "<g id=\"node10\" class=\"node\">\n",
       "<title>8</title>\n",
       "<path fill=\"none\" stroke=\"black\" d=\"M575,-85C575,-85 545,-85 545,-85 539,-85 533,-79 533,-73 533,-73 533,-61 533,-61 533,-55 539,-49 545,-49 545,-49 575,-49 575,-49 581,-49 587,-55 587,-61 587,-61 587,-73 587,-73 587,-79 581,-85 575,-85\"/>\n",
       "<text text-anchor=\"middle\" x=\"560\" y=\"-63.3\" font-family=\"Times,serif\" font-size=\"14.00\">$9</text>\n",
       "</g>\n",
       "<!-- 3&#45;&gt;8 -->\n",
       "<g id=\"edge4\" class=\"edge\">\n",
       "<title>3-&gt;8</title>\n",
       "<path fill=\"none\" stroke=\"black\" d=\"M488.25,-83.05C498.92,-80.63 511.44,-77.79 522.95,-75.18\"/>\n",
       "<polygon fill=\"black\" stroke=\"black\" points=\"523.75,-78.58 532.73,-72.96 522.2,-71.76 523.75,-78.58\"/>\n",
       "<text text-anchor=\"middle\" x=\"510.5\" y=\"-81.8\" font-family=\"Times,serif\" font-size=\"14.00\">a</text>\n",
       "</g>\n",
       "<!-- 4&#45;&gt;3 -->\n",
       "<g id=\"edge5\" class=\"edge\">\n",
       "<title>4-&gt;3</title>\n",
       "<path fill=\"none\" stroke=\"black\" d=\"M388.42,-94.6C394.19,-95.6 400.28,-96.48 406,-97 411.72,-97.52 417.76,-97.34 423.65,-96.77\"/>\n",
       "<polygon fill=\"black\" stroke=\"black\" points=\"424.53,-100.18 433.98,-95.38 423.6,-93.24 424.53,-100.18\"/>\n",
       "<text text-anchor=\"middle\" x=\"411\" y=\"-100.8\" font-family=\"Times,serif\" font-size=\"14.00\">b</text>\n",
       "</g>\n",
       "<!-- 5&#45;&gt;4 -->\n",
       "<g id=\"edge6\" class=\"edge\">\n",
       "<title>5-&gt;4</title>\n",
       "<path fill=\"none\" stroke=\"black\" d=\"M289.25,-80.25C299.82,-81.55 312.18,-83.08 323.6,-84.5\"/>\n",
       "<polygon fill=\"black\" stroke=\"black\" points=\"323.38,-88 333.73,-85.75 324.23,-81.05 323.38,-88\"/>\n",
       "<text text-anchor=\"middle\" x=\"311.5\" y=\"-86.8\" font-family=\"Times,serif\" font-size=\"14.00\">a</text>\n",
       "</g>\n",
       "<!-- 5&#45;&gt;5 -->\n",
       "<g id=\"edge7\" class=\"edge\">\n",
       "<title>5-&gt;5</title>\n",
       "<path fill=\"none\" stroke=\"black\" d=\"M253.32,-95.15C251.98,-104.54 254.88,-113 262,-113 266.34,-113 269.11,-109.86 270.31,-105.28\"/>\n",
       "<polygon fill=\"black\" stroke=\"black\" points=\"273.82,-105.27 270.68,-95.15 266.82,-105.02 273.82,-105.27\"/>\n",
       "<text text-anchor=\"middle\" x=\"262\" y=\"-116.8\" font-family=\"Times,serif\" font-size=\"14.00\">c</text>\n",
       "</g>\n",
       "<!-- 5&#45;&gt;8 -->\n",
       "<g id=\"edge8\" class=\"edge\">\n",
       "<title>5-&gt;8</title>\n",
       "<path fill=\"none\" stroke=\"black\" d=\"M289.09,-70.13C302.42,-66.97 318.96,-63.57 334,-62 400.38,-55.06 478.34,-59.61 522.88,-63.4\"/>\n",
       "<polygon fill=\"black\" stroke=\"black\" points=\"522.66,-66.9 532.93,-64.29 523.28,-59.92 522.66,-66.9\"/>\n",
       "<text text-anchor=\"middle\" x=\"411\" y=\"-62.8\" font-family=\"Times,serif\" font-size=\"14.00\">a</text>\n",
       "</g>\n",
       "<!-- 6&#45;&gt;F6 -->\n",
       "<g id=\"edge9\" class=\"edge\">\n",
       "<title>6-&gt;F6</title>\n",
       "<path fill=\"none\" stroke=\"DimGray\" d=\"M91.35,-139.9C97.12,-142.36 103.23,-144.85 109,-147 124.17,-152.65 142.17,-158.06 153.08,-161.21\"/>\n",
       "<polygon fill=\"DimGray\" stroke=\"DimGray\" points=\"152.34,-164.64 162.91,-163.98 154.23,-157.9 152.34,-164.64\"/>\n",
       "</g>\n",
       "<!-- 6&#45;&gt;2 -->\n",
       "<g id=\"edge10\" class=\"edge\">\n",
       "<title>6-&gt;2</title>\n",
       "<path fill=\"none\" stroke=\"black\" d=\"M91,-128C101.97,-128 114.92,-128 126.79,-128\"/>\n",
       "<polygon fill=\"black\" stroke=\"black\" points=\"126.87,-131.5 136.87,-128 126.87,-124.5 126.87,-131.5\"/>\n",
       "<text text-anchor=\"middle\" x=\"114\" y=\"-131.8\" font-family=\"Times,serif\" font-size=\"14.00\">b</text>\n",
       "</g>\n",
       "<!-- 6&#45;&gt;5 -->\n",
       "<g id=\"edge11\" class=\"edge\">\n",
       "<title>6-&gt;5</title>\n",
       "<path fill=\"none\" stroke=\"black\" d=\"M89.67,-109.82C102.99,-101.01 120.13,-91.22 137,-86 165.51,-77.17 199.39,-75.26 224.52,-75.36\"/>\n",
       "<polygon fill=\"black\" stroke=\"black\" points=\"224.67,-78.86 234.72,-75.51 224.77,-71.86 224.67,-78.86\"/>\n",
       "<text text-anchor=\"middle\" x=\"164\" y=\"-89.8\" font-family=\"Times,serif\" font-size=\"14.00\">a</text>\n",
       "</g>\n",
       "<!-- 7 -->\n",
       "<g id=\"node9\" class=\"node\">\n",
       "<title>7</title>\n",
       "<path fill=\"none\" stroke=\"black\" d=\"M675,-85C675,-85 645,-85 645,-85 639,-85 633,-79 633,-73 633,-73 633,-61 633,-61 633,-55 639,-49 645,-49 645,-49 675,-49 675,-49 681,-49 687,-55 687,-61 687,-61 687,-73 687,-73 687,-79 681,-85 675,-85\"/>\n",
       "<text text-anchor=\"middle\" x=\"660\" y=\"-63.3\" font-family=\"Times,serif\" font-size=\"14.00\">$16</text>\n",
       "</g>\n",
       "<!-- 7&#45;&gt;F7 -->\n",
       "<g id=\"edge12\" class=\"edge\">\n",
       "<title>7-&gt;F7</title>\n",
       "<path fill=\"none\" stroke=\"DimGray\" d=\"M687.29,-67C696.25,-67 705.73,-67 712.68,-67\"/>\n",
       "<polygon fill=\"DimGray\" stroke=\"DimGray\" points=\"712.95,-70.5 722.95,-67 712.95,-63.5 712.95,-70.5\"/>\n",
       "</g>\n",
       "<!-- 7&#45;&gt;2 -->\n",
       "<g id=\"edge13\" class=\"edge\">\n",
       "<title>7-&gt;2</title>\n",
       "<path fill=\"none\" stroke=\"black\" d=\"M649.71,-85.21C634.84,-111.51 603.04,-157 561,-157 261,-157 261,-157 261,-157 240.43,-157 218.41,-150.83 200.65,-144.17\"/>\n",
       "<polygon fill=\"black\" stroke=\"black\" points=\"201.84,-140.88 191.26,-140.47 199.27,-147.39 201.84,-140.88\"/>\n",
       "<text text-anchor=\"middle\" x=\"411\" y=\"-160.8\" font-family=\"Times,serif\" font-size=\"14.00\">b</text>\n",
       "</g>\n",
       "<!-- 7&#45;&gt;5 -->\n",
       "<g id=\"edge14\" class=\"edge\">\n",
       "<title>7-&gt;5</title>\n",
       "<path fill=\"none\" stroke=\"black\" d=\"M644.5,-48.69C627.01,-28.85 595.62,0 561,0 360,0 360,0 360,0 326.64,0 298.08,-28.29 280.76,-50.58\"/>\n",
       "<polygon fill=\"black\" stroke=\"black\" points=\"277.84,-48.64 274.69,-58.75 283.46,-52.81 277.84,-48.64\"/>\n",
       "<text text-anchor=\"middle\" x=\"461\" y=\"-3.8\" font-family=\"Times,serif\" font-size=\"14.00\">a</text>\n",
       "</g>\n",
       "<!-- 7&#45;&gt;7 -->\n",
       "<g id=\"edge15\" class=\"edge\">\n",
       "<title>7-&gt;7</title>\n",
       "<path fill=\"none\" stroke=\"black\" d=\"M652.04,-85.15C650.82,-94.54 653.47,-103 660,-103 663.98,-103 666.52,-99.86 667.62,-95.28\"/>\n",
       "<polygon fill=\"black\" stroke=\"black\" points=\"671.12,-95.26 667.96,-85.15 664.13,-95.03 671.12,-95.26\"/>\n",
       "<text text-anchor=\"middle\" x=\"660\" y=\"-106.8\" font-family=\"Times,serif\" font-size=\"14.00\">c</text>\n",
       "</g>\n",
       "<!-- 8&#45;&gt;7 -->\n",
       "<g id=\"edge16\" class=\"edge\">\n",
       "<title>8-&gt;7</title>\n",
       "<path fill=\"none\" stroke=\"black\" d=\"M587,-67C597.97,-67 610.92,-67 622.79,-67\"/>\n",
       "<polygon fill=\"black\" stroke=\"black\" points=\"622.87,-70.5 632.87,-67 622.87,-63.5 622.87,-70.5\"/>\n",
       "<text text-anchor=\"middle\" x=\"610\" y=\"-70.8\" font-family=\"Times,serif\" font-size=\"14.00\">b</text>\n",
       "</g>\n",
       "</g>\n",
       "</svg>"
      ],
      "text/plain": [
       "<IPython.core.display.SVG object>"
      ]
     },
     "metadata": {},
     "output_type": "display_data"
    }
   ],
   "source": [
    "A = e.exp_to_aut()\n",
    "A.display()"
   ]
  },
  {
   "cell_type": "markdown",
   "metadata": {},
   "source": [
    "The states of `A` are indeed all the derived expressions of `e`. It may be displayed by setting to `True` the optional argument `history`."
   ]
  },
  {
   "cell_type": "code",
   "execution_count": 18,
   "metadata": {},
   "outputs": [
    {
     "data": {
      "image/svg+xml": [
       "<svg xmlns=\"http://www.w3.org/2000/svg\" xmlns:xlink=\"http://www.w3.org/1999/xlink\" width=\"198pt\" height=\"640pt\" viewBox=\"0.00 0.00 198.00 640.00\">\n",
       "<g id=\"graph0\" class=\"graph\" transform=\"scale(1 1) rotate(0) translate(4 636)\">\n",
       "<title>%3</title>\n",
       "<polygon fill=\"white\" stroke=\"transparent\" points=\"-4,4 -4,-636 194,-636 194,4 -4,4\"/>\n",
       "<!-- I6 -->\n",
       "<g id=\"node1\" class=\"node\">\n",
       "<title>I6</title>\n",
       "<ellipse fill=\"black\" stroke=\"black\" cx=\"45\" cy=\"-632\" rx=\"0\" ry=\"0\"/>\n",
       "</g>\n",
       "<!-- 6 -->\n",
       "<g id=\"node8\" class=\"node\">\n",
       "<title>6</title>\n",
       "<path fill=\"none\" stroke=\"black\" d=\"M60,-595C60,-595 30,-595 30,-595 24,-595 18,-589 18,-583 18,-583 18,-571 18,-571 18,-565 24,-559 30,-559 30,-559 60,-559 60,-559 66,-559 72,-565 72,-571 72,-571 72,-583 72,-583 72,-589 66,-595 60,-595\"/>\n",
       "<text text-anchor=\"middle\" x=\"45\" y=\"-573.3\" font-family=\"Times,serif\" font-size=\"14.00\">$0</text>\n",
       "</g>\n",
       "<!-- I6&#45;&gt;6 -->\n",
       "<g id=\"edge1\" class=\"edge\">\n",
       "<title>I6-&gt;6</title>\n",
       "<path fill=\"none\" stroke=\"DimGray\" d=\"M45,-630.85C45,-629.37 45,-617.32 45,-605.1\"/>\n",
       "<polygon fill=\"DimGray\" stroke=\"DimGray\" points=\"48.5,-605.02 45,-595.02 41.5,-605.02 48.5,-605.02\"/>\n",
       "</g>\n",
       "<!-- F6 -->\n",
       "<g id=\"node2\" class=\"node\">\n",
       "<title>F6</title>\n",
       "<ellipse fill=\"black\" stroke=\"black\" cx=\"0\" cy=\"-490\" rx=\"0\" ry=\"0\"/>\n",
       "</g>\n",
       "<!-- F7 -->\n",
       "<g id=\"node3\" class=\"node\">\n",
       "<title>F7</title>\n",
       "<ellipse fill=\"black\" stroke=\"black\" cx=\"78\" cy=\"0\" rx=\"0\" ry=\"0\"/>\n",
       "</g>\n",
       "<!-- 2 -->\n",
       "<g id=\"node4\" class=\"node\">\n",
       "<title>2</title>\n",
       "<path fill=\"none\" stroke=\"black\" d=\"M60,-508C60,-508 30,-508 30,-508 24,-508 18,-502 18,-496 18,-496 18,-484 18,-484 18,-478 24,-472 30,-472 30,-472 60,-472 60,-472 66,-472 72,-478 72,-484 72,-484 72,-496 72,-496 72,-502 66,-508 60,-508\"/>\n",
       "<text text-anchor=\"middle\" x=\"45\" y=\"-486.3\" font-family=\"Times,serif\" font-size=\"14.00\">$3</text>\n",
       "</g>\n",
       "<!-- 5 -->\n",
       "<g id=\"node7\" class=\"node\">\n",
       "<title>5</title>\n",
       "<path fill=\"none\" stroke=\"black\" d=\"M123,-421C123,-421 93,-421 93,-421 87,-421 81,-415 81,-409 81,-409 81,-397 81,-397 81,-391 87,-385 93,-385 93,-385 123,-385 123,-385 129,-385 135,-391 135,-397 135,-397 135,-409 135,-409 135,-415 129,-421 123,-421\"/>\n",
       "<text text-anchor=\"middle\" x=\"108\" y=\"-399.3\" font-family=\"Times,serif\" font-size=\"14.00\">$1</text>\n",
       "</g>\n",
       "<!-- 2&#45;&gt;5 -->\n",
       "<g id=\"edge2\" class=\"edge\">\n",
       "<title>2-&gt;5</title>\n",
       "<path fill=\"none\" stroke=\"black\" d=\"M57.75,-471.8C66.8,-459.59 79.1,-442.99 89.26,-429.28\"/>\n",
       "<polygon fill=\"black\" stroke=\"black\" points=\"92.13,-431.29 95.27,-421.18 86.5,-427.13 92.13,-431.29\"/>\n",
       "<text text-anchor=\"middle\" x=\"84\" y=\"-442.8\" font-family=\"Times,serif\" font-size=\"14.00\">c</text>\n",
       "</g>\n",
       "<!-- 3 -->\n",
       "<g id=\"node5\" class=\"node\">\n",
       "<title>3</title>\n",
       "<path fill=\"none\" stroke=\"black\" d=\"M148,-247C148,-247 118,-247 118,-247 112,-247 106,-241 106,-235 106,-235 106,-223 106,-223 106,-217 112,-211 118,-211 118,-211 148,-211 148,-211 154,-211 160,-217 160,-223 160,-223 160,-235 160,-235 160,-241 154,-247 148,-247\"/>\n",
       "<text text-anchor=\"middle\" x=\"133\" y=\"-225.3\" font-family=\"Times,serif\" font-size=\"14.00\">$8</text>\n",
       "</g>\n",
       "<!-- 4 -->\n",
       "<g id=\"node6\" class=\"node\">\n",
       "<title>4</title>\n",
       "<path fill=\"none\" stroke=\"black\" d=\"M148,-334C148,-334 118,-334 118,-334 112,-334 106,-328 106,-322 106,-322 106,-310 106,-310 106,-304 112,-298 118,-298 118,-298 148,-298 148,-298 154,-298 160,-304 160,-310 160,-310 160,-322 160,-322 160,-328 154,-334 148,-334\"/>\n",
       "<text text-anchor=\"middle\" x=\"133\" y=\"-312.3\" font-family=\"Times,serif\" font-size=\"14.00\">$6</text>\n",
       "</g>\n",
       "<!-- 3&#45;&gt;4 -->\n",
       "<g id=\"edge3\" class=\"edge\">\n",
       "<title>3-&gt;4</title>\n",
       "<path fill=\"none\" stroke=\"black\" d=\"M133,-247.18C133,-258.81 133,-274.42 133,-287.73\"/>\n",
       "<polygon fill=\"black\" stroke=\"black\" points=\"129.5,-287.8 133,-297.8 136.5,-287.8 129.5,-287.8\"/>\n",
       "<text text-anchor=\"middle\" x=\"137.5\" y=\"-268.8\" font-family=\"Times,serif\" font-size=\"14.00\">a</text>\n",
       "</g>\n",
       "<!-- 8 -->\n",
       "<g id=\"node10\" class=\"node\">\n",
       "<title>8</title>\n",
       "<path fill=\"none\" stroke=\"black\" d=\"M148,-160C148,-160 118,-160 118,-160 112,-160 106,-154 106,-148 106,-148 106,-136 106,-136 106,-130 112,-124 118,-124 118,-124 148,-124 148,-124 154,-124 160,-130 160,-136 160,-136 160,-148 160,-148 160,-154 154,-160 148,-160\"/>\n",
       "<text text-anchor=\"middle\" x=\"133\" y=\"-138.3\" font-family=\"Times,serif\" font-size=\"14.00\">$9</text>\n",
       "</g>\n",
       "<!-- 3&#45;&gt;8 -->\n",
       "<g id=\"edge4\" class=\"edge\">\n",
       "<title>3-&gt;8</title>\n",
       "<path fill=\"none\" stroke=\"black\" d=\"M133,-210.8C133,-199.16 133,-183.55 133,-170.24\"/>\n",
       "<polygon fill=\"black\" stroke=\"black\" points=\"136.5,-170.18 133,-160.18 129.5,-170.18 136.5,-170.18\"/>\n",
       "<text text-anchor=\"middle\" x=\"137.5\" y=\"-181.8\" font-family=\"Times,serif\" font-size=\"14.00\">a</text>\n",
       "</g>\n",
       "<!-- 4&#45;&gt;3 -->\n",
       "<g id=\"edge5\" class=\"edge\">\n",
       "<title>4-&gt;3</title>\n",
       "<path fill=\"none\" stroke=\"black\" d=\"M124.67,-297.95C122.36,-292.36 120.16,-286.04 119,-280 117.55,-272.45 118.61,-264.39 120.68,-256.99\"/>\n",
       "<polygon fill=\"black\" stroke=\"black\" points=\"124.03,-258.01 123.99,-247.42 117.42,-255.73 124.03,-258.01\"/>\n",
       "<text text-anchor=\"middle\" x=\"124\" y=\"-268.8\" font-family=\"Times,serif\" font-size=\"14.00\">b</text>\n",
       "</g>\n",
       "<!-- 5&#45;&gt;4 -->\n",
       "<g id=\"edge6\" class=\"edge\">\n",
       "<title>5-&gt;4</title>\n",
       "<path fill=\"none\" stroke=\"black\" d=\"M113.06,-384.8C116.52,-373.05 121.17,-357.24 125.11,-343.84\"/>\n",
       "<polygon fill=\"black\" stroke=\"black\" points=\"128.48,-344.76 127.95,-334.18 121.77,-342.78 128.48,-344.76\"/>\n",
       "<text text-anchor=\"middle\" x=\"125.5\" y=\"-355.8\" font-family=\"Times,serif\" font-size=\"14.00\">a</text>\n",
       "</g>\n",
       "<!-- 5&#45;&gt;5 -->\n",
       "<g id=\"edge7\" class=\"edge\">\n",
       "<title>5-&gt;5</title>\n",
       "<path fill=\"none\" stroke=\"black\" d=\"M135.24,-410.87C145.02,-411.04 153,-408.41 153,-403 153,-399.7 150.04,-397.44 145.51,-396.21\"/>\n",
       "<polygon fill=\"black\" stroke=\"black\" points=\"145.55,-392.7 135.24,-395.13 144.82,-399.66 145.55,-392.7\"/>\n",
       "<text text-anchor=\"middle\" x=\"157\" y=\"-399.3\" font-family=\"Times,serif\" font-size=\"14.00\">c</text>\n",
       "</g>\n",
       "<!-- 5&#45;&gt;8 -->\n",
       "<g id=\"edge8\" class=\"edge\">\n",
       "<title>5-&gt;8</title>\n",
       "<path fill=\"none\" stroke=\"black\" d=\"M130.25,-384.73C144.31,-372.34 161.23,-354.29 169,-334 188.54,-282.95 182.18,-264.05 169,-211 165.33,-196.23 157.8,-181.13 150.56,-168.93\"/>\n",
       "<polygon fill=\"black\" stroke=\"black\" points=\"153.4,-166.87 145.16,-160.21 147.45,-170.56 153.4,-166.87\"/>\n",
       "<text text-anchor=\"middle\" x=\"185.5\" y=\"-268.8\" font-family=\"Times,serif\" font-size=\"14.00\">a</text>\n",
       "</g>\n",
       "<!-- 6&#45;&gt;F6 -->\n",
       "<g id=\"edge9\" class=\"edge\">\n",
       "<title>6-&gt;F6</title>\n",
       "<path fill=\"none\" stroke=\"DimGray\" d=\"M35.89,-558.8C26.54,-541.13 12.33,-514.29 4.9,-500.26\"/>\n",
       "<polygon fill=\"DimGray\" stroke=\"DimGray\" points=\"7.84,-498.32 0.07,-491.12 1.65,-501.6 7.84,-498.32\"/>\n",
       "</g>\n",
       "<!-- 6&#45;&gt;2 -->\n",
       "<g id=\"edge10\" class=\"edge\">\n",
       "<title>6-&gt;2</title>\n",
       "<path fill=\"none\" stroke=\"black\" d=\"M45,-558.8C45,-547.16 45,-531.55 45,-518.24\"/>\n",
       "<polygon fill=\"black\" stroke=\"black\" points=\"48.5,-518.18 45,-508.18 41.5,-518.18 48.5,-518.18\"/>\n",
       "<text text-anchor=\"middle\" x=\"50\" y=\"-529.8\" font-family=\"Times,serif\" font-size=\"14.00\">b</text>\n",
       "</g>\n",
       "<!-- 6&#45;&gt;5 -->\n",
       "<g id=\"edge11\" class=\"edge\">\n",
       "<title>6-&gt;5</title>\n",
       "<path fill=\"none\" stroke=\"black\" d=\"M55.48,-558.92C63.37,-545.47 73.99,-526.06 81,-508 90.82,-482.71 98.2,-452.59 102.74,-431.29\"/>\n",
       "<polygon fill=\"black\" stroke=\"black\" points=\"106.2,-431.82 104.79,-421.32 99.35,-430.4 106.2,-431.82\"/>\n",
       "<text text-anchor=\"middle\" x=\"96.5\" y=\"-486.3\" font-family=\"Times,serif\" font-size=\"14.00\">a</text>\n",
       "</g>\n",
       "<!-- 7 -->\n",
       "<g id=\"node9\" class=\"node\">\n",
       "<title>7</title>\n",
       "<path fill=\"none\" stroke=\"black\" d=\"M93,-73C93,-73 63,-73 63,-73 57,-73 51,-67 51,-61 51,-61 51,-49 51,-49 51,-43 57,-37 63,-37 63,-37 93,-37 93,-37 99,-37 105,-43 105,-49 105,-49 105,-61 105,-61 105,-67 99,-73 93,-73\"/>\n",
       "<text text-anchor=\"middle\" x=\"78\" y=\"-51.3\" font-family=\"Times,serif\" font-size=\"14.00\">$16</text>\n",
       "</g>\n",
       "<!-- 7&#45;&gt;F7 -->\n",
       "<g id=\"edge12\" class=\"edge\">\n",
       "<title>7-&gt;F7</title>\n",
       "<path fill=\"none\" stroke=\"DimGray\" d=\"M78,-36.94C78,-28.5 78,-18.58 78,-11.31\"/>\n",
       "<polygon fill=\"DimGray\" stroke=\"DimGray\" points=\"81.5,-11.06 78,-1.06 74.5,-11.06 81.5,-11.06\"/>\n",
       "</g>\n",
       "<!-- 7&#45;&gt;2 -->\n",
       "<g id=\"edge13\" class=\"edge\">\n",
       "<title>7-&gt;2</title>\n",
       "<path fill=\"none\" stroke=\"black\" d=\"M62.17,-73.11C48.86,-89.32 32,-114.99 32,-141 32,-404 32,-404 32,-404 32,-423.47 35.37,-445.17 38.69,-461.76\"/>\n",
       "<polygon fill=\"black\" stroke=\"black\" points=\"35.33,-462.8 40.82,-471.86 42.18,-461.35 35.33,-462.8\"/>\n",
       "<text text-anchor=\"middle\" x=\"37\" y=\"-268.8\" font-family=\"Times,serif\" font-size=\"14.00\">b</text>\n",
       "</g>\n",
       "<!-- 7&#45;&gt;5 -->\n",
       "<g id=\"edge14\" class=\"edge\">\n",
       "<title>7-&gt;5</title>\n",
       "<path fill=\"none\" stroke=\"black\" d=\"M78,-73.26C78,-90.43 78,-117.54 78,-141 78,-317 78,-317 78,-317 78,-337.54 85.88,-359.36 93.57,-375.75\"/>\n",
       "<polygon fill=\"black\" stroke=\"black\" points=\"90.44,-377.31 98.01,-384.72 96.71,-374.2 90.44,-377.31\"/>\n",
       "<text text-anchor=\"middle\" x=\"82.5\" y=\"-225.3\" font-family=\"Times,serif\" font-size=\"14.00\">a</text>\n",
       "</g>\n",
       "<!-- 7&#45;&gt;7 -->\n",
       "<g id=\"edge15\" class=\"edge\">\n",
       "<title>7-&gt;7</title>\n",
       "<path fill=\"none\" stroke=\"black\" d=\"M105.24,-61.74C115.02,-61.89 123,-59.64 123,-55 123,-52.17 120.04,-50.23 115.51,-49.18\"/>\n",
       "<polygon fill=\"black\" stroke=\"black\" points=\"115.51,-45.67 105.24,-48.26 114.89,-52.64 115.51,-45.67\"/>\n",
       "<text text-anchor=\"middle\" x=\"127\" y=\"-51.3\" font-family=\"Times,serif\" font-size=\"14.00\">c</text>\n",
       "</g>\n",
       "<!-- 8&#45;&gt;7 -->\n",
       "<g id=\"edge16\" class=\"edge\">\n",
       "<title>8-&gt;7</title>\n",
       "<path fill=\"none\" stroke=\"black\" d=\"M121.87,-123.8C114.04,-111.7 103.43,-95.3 94.61,-81.67\"/>\n",
       "<polygon fill=\"black\" stroke=\"black\" points=\"97.48,-79.67 89.11,-73.18 91.61,-83.47 97.48,-79.67\"/>\n",
       "<text text-anchor=\"middle\" x=\"113\" y=\"-94.8\" font-family=\"Times,serif\" font-size=\"14.00\">b</text>\n",
       "</g>\n",
       "</g>\n",
       "</svg>"
      ],
      "text/plain": [
       "<IPython.core.display.SVG object>"
      ]
     },
     "metadata": {},
     "output_type": "display_data"
    }
   ],
   "source": [
    "A.display(horizontal=False)"
   ]
  },
  {
   "cell_type": "markdown",
   "metadata": {},
   "source": [
    "---\n",
    "For convenience, one may give an expression to the constructor of an automaton."
   ]
  },
  {
   "cell_type": "code",
   "execution_count": 19,
   "metadata": {},
   "outputs": [
    {
     "data": {
      "image/svg+xml": [
       "<svg xmlns=\"http://www.w3.org/2000/svg\" xmlns:xlink=\"http://www.w3.org/1999/xlink\" width=\"336pt\" height=\"112pt\" viewBox=\"0.00 0.00 336.00 112.00\">\n",
       "<g id=\"graph0\" class=\"graph\" transform=\"scale(1 1) rotate(0) translate(4 108)\">\n",
       "<title>%3</title>\n",
       "<polygon fill=\"white\" stroke=\"transparent\" points=\"-4,4 -4,-108 332,-108 332,4 -4,4\"/>\n",
       "<!-- I2 -->\n",
       "<g id=\"node1\" class=\"node\">\n",
       "<title>I2</title>\n",
       "<ellipse fill=\"black\" stroke=\"black\" cx=\"0\" cy=\"-53\" rx=\"0\" ry=\"0\"/>\n",
       "</g>\n",
       "<!-- 2 -->\n",
       "<g id=\"node4\" class=\"node\">\n",
       "<title>2</title>\n",
       "<path fill=\"none\" stroke=\"black\" d=\"M79,-71C79,-71 49,-71 49,-71 43,-71 37,-65 37,-59 37,-59 37,-47 37,-47 37,-41 43,-35 49,-35 49,-35 79,-35 79,-35 85,-35 91,-41 91,-47 91,-47 91,-59 91,-59 91,-65 85,-71 79,-71\"/>\n",
       "<text text-anchor=\"middle\" x=\"64\" y=\"-49.3\" font-family=\"Times,serif\" font-size=\"14.00\">$0</text>\n",
       "</g>\n",
       "<!-- I2&#45;&gt;2 -->\n",
       "<g id=\"edge1\" class=\"edge\">\n",
       "<title>I2-&gt;2</title>\n",
       "<path fill=\"none\" stroke=\"DimGray\" d=\"M1.04,-53C1.86,-53 13.73,-53 26.87,-53\"/>\n",
       "<polygon fill=\"DimGray\" stroke=\"DimGray\" points=\"27,-56.5 37,-53 27,-49.5 27,-56.5\"/>\n",
       "</g>\n",
       "<!-- F3 -->\n",
       "<g id=\"node2\" class=\"node\">\n",
       "<title>F3</title>\n",
       "<ellipse fill=\"black\" stroke=\"black\" cx=\"328\" cy=\"-18\" rx=\"0\" ry=\"0\"/>\n",
       "</g>\n",
       "<!-- F4 -->\n",
       "<g id=\"node3\" class=\"node\">\n",
       "<title>F4</title>\n",
       "<ellipse fill=\"black\" stroke=\"black\" cx=\"264\" cy=\"-87\" rx=\"0\" ry=\"0\"/>\n",
       "</g>\n",
       "<!-- 4 -->\n",
       "<g id=\"node6\" class=\"node\">\n",
       "<title>4</title>\n",
       "<path fill=\"none\" stroke=\"black\" d=\"M179,-71C179,-71 149,-71 149,-71 143,-71 137,-65 137,-59 137,-59 137,-47 137,-47 137,-41 143,-35 149,-35 149,-35 179,-35 179,-35 185,-35 191,-41 191,-47 191,-47 191,-59 191,-59 191,-65 185,-71 179,-71\"/>\n",
       "<text text-anchor=\"middle\" x=\"164\" y=\"-49.3\" font-family=\"Times,serif\" font-size=\"14.00\">$1</text>\n",
       "</g>\n",
       "<!-- 2&#45;&gt;4 -->\n",
       "<g id=\"edge2\" class=\"edge\">\n",
       "<title>2-&gt;4</title>\n",
       "<path fill=\"none\" stroke=\"black\" d=\"M91,-53C101.97,-53 114.92,-53 126.79,-53\"/>\n",
       "<polygon fill=\"black\" stroke=\"black\" points=\"126.87,-56.5 136.87,-53 126.87,-49.5 126.87,-56.5\"/>\n",
       "<text text-anchor=\"middle\" x=\"114\" y=\"-56.8\" font-family=\"Times,serif\" font-size=\"14.00\">0</text>\n",
       "</g>\n",
       "<!-- 3 -->\n",
       "<g id=\"node5\" class=\"node\">\n",
       "<title>3</title>\n",
       "<path fill=\"none\" stroke=\"black\" d=\"M279,-36C279,-36 249,-36 249,-36 243,-36 237,-30 237,-24 237,-24 237,-12 237,-12 237,-6 243,0 249,0 249,0 279,0 279,0 285,0 291,-6 291,-12 291,-12 291,-24 291,-24 291,-30 285,-36 279,-36\"/>\n",
       "<text text-anchor=\"middle\" x=\"264\" y=\"-14.3\" font-family=\"Times,serif\" font-size=\"14.00\">$4</text>\n",
       "</g>\n",
       "<!-- 3&#45;&gt;F3 -->\n",
       "<g id=\"edge3\" class=\"edge\">\n",
       "<title>3-&gt;F3</title>\n",
       "<path fill=\"none\" stroke=\"DimGray\" d=\"M291.29,-18C300.25,-18 309.73,-18 316.68,-18\"/>\n",
       "<polygon fill=\"DimGray\" stroke=\"DimGray\" points=\"316.95,-21.5 326.95,-18 316.95,-14.5 316.95,-21.5\"/>\n",
       "</g>\n",
       "<!-- 3&#45;&gt;3 -->\n",
       "<g id=\"edge4\" class=\"edge\">\n",
       "<title>3-&gt;3</title>\n",
       "<path fill=\"none\" stroke=\"black\" d=\"M256.04,-36.15C254.82,-45.54 257.47,-54 264,-54 267.98,-54 270.52,-50.86 271.62,-46.28\"/>\n",
       "<polygon fill=\"black\" stroke=\"black\" points=\"275.12,-46.26 271.96,-36.15 268.13,-46.03 275.12,-46.26\"/>\n",
       "<text text-anchor=\"middle\" x=\"264\" y=\"-57.8\" font-family=\"Times,serif\" font-size=\"14.00\">0</text>\n",
       "</g>\n",
       "<!-- 4&#45;&gt;F4 -->\n",
       "<g id=\"edge5\" class=\"edge\">\n",
       "<title>4-&gt;F4</title>\n",
       "<path fill=\"none\" stroke=\"DimGray\" d=\"M191.33,-62.15C204.96,-66.88 221.87,-72.76 237,-78 242.42,-79.88 248.47,-81.97 253.37,-83.67\"/>\n",
       "<polygon fill=\"DimGray\" stroke=\"DimGray\" points=\"252.24,-86.98 262.83,-86.94 254.53,-80.37 252.24,-86.98\"/>\n",
       "</g>\n",
       "<!-- 4&#45;&gt;3 -->\n",
       "<g id=\"edge6\" class=\"edge\">\n",
       "<title>4-&gt;3</title>\n",
       "<path fill=\"none\" stroke=\"black\" d=\"M191,-43.71C202.08,-39.76 215.18,-35.08 227.15,-30.8\"/>\n",
       "<polygon fill=\"black\" stroke=\"black\" points=\"228.63,-33.99 236.87,-27.33 226.28,-27.4 228.63,-33.99\"/>\n",
       "<text text-anchor=\"middle\" x=\"214\" y=\"-39.8\" font-family=\"Times,serif\" font-size=\"14.00\">0</text>\n",
       "</g>\n",
       "<!-- 4&#45;&gt;4 -->\n",
       "<g id=\"edge7\" class=\"edge\">\n",
       "<title>4-&gt;4</title>\n",
       "<path fill=\"none\" stroke=\"black\" d=\"M154.95,-71.15C153.56,-80.54 156.58,-89 164,-89 168.52,-89 171.41,-85.86 172.66,-81.28\"/>\n",
       "<polygon fill=\"black\" stroke=\"black\" points=\"176.16,-81.28 173.05,-71.15 169.17,-81.01 176.16,-81.28\"/>\n",
       "<text text-anchor=\"middle\" x=\"164\" y=\"-92.8\" font-family=\"Times,serif\" font-size=\"14.00\">1</text>\n",
       "</g>\n",
       "</g>\n",
       "</svg>"
      ],
      "text/plain": [
       "<IPython.core.display.SVG object>"
      ]
     },
     "metadata": {},
     "output_type": "display_data"
    }
   ],
   "source": [
    "A = awalipy.Automaton(awalipy.RatExp(\"01*0*\"))\n",
    "A.display()"
   ]
  },
  {
   "cell_type": "markdown",
   "metadata": {},
   "source": [
    "---\n",
    "Awali implements multiple algorithms for transforming expressions to automata, such as *thompson* or *standard*"
   ]
  },
  {
   "cell_type": "code",
   "execution_count": 20,
   "metadata": {},
   "outputs": [
    {
     "name": "stderr",
     "output_type": "stream",
     "text": [
      "Compiling module \"output\" for a new automaton context (lan<lal_char>_b).\n",
      "Linking module \"output\" for a new automaton context (lan<lal_char>_b).\n"
     ]
    },
    {
     "data": {
      "image/svg+xml": [
       "<svg xmlns=\"http://www.w3.org/2000/svg\" xmlns:xlink=\"http://www.w3.org/1999/xlink\" width=\"648pt\" height=\"83pt\" viewBox=\"0.00 0.00 648.00 83.00\">\n",
       "<g id=\"graph0\" class=\"graph\" transform=\"scale(1 1) rotate(0) translate(4 79)\">\n",
       "<title>%3</title>\n",
       "<polygon fill=\"white\" stroke=\"transparent\" points=\"-4,4 -4,-79 644,-79 644,4 -4,4\"/>\n",
       "<!-- I4 -->\n",
       "<g id=\"node1\" class=\"node\">\n",
       "<title>I4</title>\n",
       "<ellipse fill=\"black\" stroke=\"black\" cx=\"0\" cy=\"-18\" rx=\"0\" ry=\"0\"/>\n",
       "</g>\n",
       "<!-- 4 -->\n",
       "<g id=\"node5\" class=\"node\">\n",
       "<title>4</title>\n",
       "<path fill=\"none\" stroke=\"black\" d=\"M79,-36C79,-36 49,-36 49,-36 43,-36 37,-30 37,-24 37,-24 37,-12 37,-12 37,-6 43,0 49,0 49,0 79,0 79,0 85,0 91,-6 91,-12 91,-12 91,-24 91,-24 91,-30 85,-36 79,-36\"/>\n",
       "<text text-anchor=\"middle\" x=\"64\" y=\"-14.3\" font-family=\"Times,serif\" font-size=\"14.00\">s1</text>\n",
       "</g>\n",
       "<!-- I4&#45;&gt;4 -->\n",
       "<g id=\"edge1\" class=\"edge\">\n",
       "<title>I4-&gt;4</title>\n",
       "<path fill=\"none\" stroke=\"DimGray\" d=\"M1.04,-18C1.86,-18 13.73,-18 26.87,-18\"/>\n",
       "<polygon fill=\"DimGray\" stroke=\"DimGray\" points=\"27,-21.5 37,-18 27,-14.5 27,-21.5\"/>\n",
       "</g>\n",
       "<!-- F7 -->\n",
       "<g id=\"node2\" class=\"node\">\n",
       "<title>F7</title>\n",
       "<ellipse fill=\"black\" stroke=\"black\" cx=\"640\" cy=\"-18\" rx=\"0\" ry=\"0\"/>\n",
       "</g>\n",
       "<!-- 2 -->\n",
       "<g id=\"node3\" class=\"node\">\n",
       "<title>2</title>\n",
       "<path fill=\"none\" stroke=\"black\" d=\"M182,-66C182,-66 152,-66 152,-66 146,-66 140,-60 140,-54 140,-54 140,-42 140,-42 140,-36 146,-30 152,-30 152,-30 182,-30 182,-30 188,-30 194,-36 194,-42 194,-42 194,-54 194,-54 194,-60 188,-66 182,-66\"/>\n",
       "<text text-anchor=\"middle\" x=\"167\" y=\"-44.3\" font-family=\"Times,serif\" font-size=\"14.00\">s0</text>\n",
       "</g>\n",
       "<!-- 3 -->\n",
       "<g id=\"node4\" class=\"node\">\n",
       "<title>3</title>\n",
       "<path fill=\"none\" stroke=\"black\" d=\"M285,-66C285,-66 255,-66 255,-66 249,-66 243,-60 243,-54 243,-54 243,-42 243,-42 243,-36 249,-30 255,-30 255,-30 285,-30 285,-30 291,-30 297,-36 297,-42 297,-42 297,-54 297,-54 297,-60 291,-66 285,-66\"/>\n",
       "<text text-anchor=\"middle\" x=\"270\" y=\"-44.3\" font-family=\"Times,serif\" font-size=\"14.00\">t0</text>\n",
       "</g>\n",
       "<!-- 2&#45;&gt;3 -->\n",
       "<g id=\"edge2\" class=\"edge\">\n",
       "<title>2-&gt;3</title>\n",
       "<path fill=\"none\" stroke=\"black\" d=\"M194.29,-56.39C200.07,-57.89 206.19,-59.22 212,-60 218.8,-60.91 226,-60.5 232.91,-59.39\"/>\n",
       "<polygon fill=\"black\" stroke=\"black\" points=\"233.66,-62.81 242.75,-57.36 232.25,-55.96 233.66,-62.81\"/>\n",
       "<text text-anchor=\"middle\" x=\"218.5\" y=\"-63.8\" font-family=\"Times,serif\" font-size=\"14.00\">1</text>\n",
       "</g>\n",
       "<!-- 3&#45;&gt;2 -->\n",
       "<g id=\"edge3\" class=\"edge\">\n",
       "<title>3-&gt;2</title>\n",
       "<path fill=\"none\" stroke=\"black\" d=\"M242.56,-43.1C236.79,-42.23 230.71,-41.45 225,-41 218.35,-40.47 211.28,-40.7 204.46,-41.32\"/>\n",
       "<polygon fill=\"black\" stroke=\"black\" points=\"203.57,-37.91 194.06,-42.58 204.4,-44.86 203.57,-37.91\"/>\n",
       "<text text-anchor=\"middle\" x=\"218.5\" y=\"-44.8\" font-family=\"Times,serif\" font-size=\"14.00\">\\e</text>\n",
       "</g>\n",
       "<!-- 5 -->\n",
       "<g id=\"node6\" class=\"node\">\n",
       "<title>5</title>\n",
       "<path fill=\"none\" stroke=\"black\" d=\"M388,-36C388,-36 358,-36 358,-36 352,-36 346,-30 346,-24 346,-24 346,-12 346,-12 346,-6 352,0 358,0 358,0 388,0 388,0 394,0 400,-6 400,-12 400,-12 400,-24 400,-24 400,-30 394,-36 388,-36\"/>\n",
       "<text text-anchor=\"middle\" x=\"373\" y=\"-14.3\" font-family=\"Times,serif\" font-size=\"14.00\">t1</text>\n",
       "</g>\n",
       "<!-- 3&#45;&gt;5 -->\n",
       "<g id=\"edge4\" class=\"edge\">\n",
       "<title>3-&gt;5</title>\n",
       "<path fill=\"none\" stroke=\"black\" d=\"M297.01,-40.27C308.82,-36.77 322.98,-32.56 335.8,-28.75\"/>\n",
       "<polygon fill=\"black\" stroke=\"black\" points=\"337.14,-32.01 345.73,-25.8 335.14,-25.3 337.14,-32.01\"/>\n",
       "<text text-anchor=\"middle\" x=\"321.5\" y=\"-37.8\" font-family=\"Times,serif\" font-size=\"14.00\">\\e</text>\n",
       "</g>\n",
       "<!-- 4&#45;&gt;2 -->\n",
       "<g id=\"edge5\" class=\"edge\">\n",
       "<title>4-&gt;2</title>\n",
       "<path fill=\"none\" stroke=\"black\" d=\"M91.01,-25.73C102.82,-29.23 116.98,-33.44 129.8,-37.25\"/>\n",
       "<polygon fill=\"black\" stroke=\"black\" points=\"129.14,-40.7 139.73,-40.2 131.14,-33.99 129.14,-40.7\"/>\n",
       "<text text-anchor=\"middle\" x=\"115.5\" y=\"-37.8\" font-family=\"Times,serif\" font-size=\"14.00\">\\e</text>\n",
       "</g>\n",
       "<!-- 4&#45;&gt;5 -->\n",
       "<g id=\"edge6\" class=\"edge\">\n",
       "<title>4-&gt;5</title>\n",
       "<path fill=\"none\" stroke=\"black\" d=\"M91.17,-18C146,-18 273.02,-18 335.69,-18\"/>\n",
       "<polygon fill=\"black\" stroke=\"black\" points=\"335.89,-21.5 345.89,-18 335.89,-14.5 335.89,-21.5\"/>\n",
       "<text text-anchor=\"middle\" x=\"218.5\" y=\"-21.8\" font-family=\"Times,serif\" font-size=\"14.00\">\\e</text>\n",
       "</g>\n",
       "<!-- 6 -->\n",
       "<g id=\"node7\" class=\"node\">\n",
       "<title>6</title>\n",
       "<path fill=\"none\" stroke=\"black\" d=\"M491,-36C491,-36 461,-36 461,-36 455,-36 449,-30 449,-24 449,-24 449,-12 449,-12 449,-6 455,0 461,0 461,0 491,0 491,0 497,0 503,-6 503,-12 503,-12 503,-24 503,-24 503,-30 497,-36 491,-36\"/>\n",
       "<text text-anchor=\"middle\" x=\"476\" y=\"-14.3\" font-family=\"Times,serif\" font-size=\"14.00\">s2</text>\n",
       "</g>\n",
       "<!-- 5&#45;&gt;6 -->\n",
       "<g id=\"edge7\" class=\"edge\">\n",
       "<title>5-&gt;6</title>\n",
       "<path fill=\"none\" stroke=\"black\" d=\"M400.01,-18C411.7,-18 425.7,-18 438.42,-18\"/>\n",
       "<polygon fill=\"black\" stroke=\"black\" points=\"438.73,-21.5 448.73,-18 438.73,-14.5 438.73,-21.5\"/>\n",
       "<text text-anchor=\"middle\" x=\"424.5\" y=\"-21.8\" font-family=\"Times,serif\" font-size=\"14.00\">\\e</text>\n",
       "</g>\n",
       "<!-- 7 -->\n",
       "<g id=\"node8\" class=\"node\">\n",
       "<title>7</title>\n",
       "<path fill=\"none\" stroke=\"black\" d=\"M591,-36C591,-36 561,-36 561,-36 555,-36 549,-30 549,-24 549,-24 549,-12 549,-12 549,-6 555,0 561,0 561,0 591,0 591,0 597,0 603,-6 603,-12 603,-12 603,-24 603,-24 603,-30 597,-36 591,-36\"/>\n",
       "<text text-anchor=\"middle\" x=\"576\" y=\"-14.3\" font-family=\"Times,serif\" font-size=\"14.00\">t2</text>\n",
       "</g>\n",
       "<!-- 6&#45;&gt;7 -->\n",
       "<g id=\"edge8\" class=\"edge\">\n",
       "<title>6-&gt;7</title>\n",
       "<path fill=\"none\" stroke=\"black\" d=\"M503,-18C513.97,-18 526.92,-18 538.79,-18\"/>\n",
       "<polygon fill=\"black\" stroke=\"black\" points=\"538.87,-21.5 548.87,-18 538.87,-14.5 538.87,-21.5\"/>\n",
       "<text text-anchor=\"middle\" x=\"526\" y=\"-21.8\" font-family=\"Times,serif\" font-size=\"14.00\">0</text>\n",
       "</g>\n",
       "<!-- 7&#45;&gt;F7 -->\n",
       "<g id=\"edge9\" class=\"edge\">\n",
       "<title>7-&gt;F7</title>\n",
       "<path fill=\"none\" stroke=\"DimGray\" d=\"M603.29,-18C612.25,-18 621.73,-18 628.68,-18\"/>\n",
       "<polygon fill=\"DimGray\" stroke=\"DimGray\" points=\"628.95,-21.5 638.95,-18 628.95,-14.5 628.95,-21.5\"/>\n",
       "</g>\n",
       "</g>\n",
       "</svg>"
      ],
      "text/plain": [
       "<IPython.core.display.SVG object>"
      ]
     },
     "metadata": {},
     "output_type": "display_data"
    }
   ],
   "source": [
    "g = awalipy.RatExp(\"1*0\")\n",
    "g.exp_to_aut(\"thompson\").display()"
   ]
  },
  {
   "cell_type": "code",
   "execution_count": 21,
   "metadata": {},
   "outputs": [
    {
     "data": {
      "image/svg+xml": [
       "<svg xmlns=\"http://www.w3.org/2000/svg\" xmlns:xlink=\"http://www.w3.org/1999/xlink\" width=\"336pt\" height=\"112pt\" viewBox=\"0.00 0.00 336.00 112.00\">\n",
       "<g id=\"graph0\" class=\"graph\" transform=\"scale(1 1) rotate(0) translate(4 108)\">\n",
       "<title>%3</title>\n",
       "<polygon fill=\"white\" stroke=\"transparent\" points=\"-4,4 -4,-108 332,-108 332,4 -4,4\"/>\n",
       "<!-- I2 -->\n",
       "<g id=\"node1\" class=\"node\">\n",
       "<title>I2</title>\n",
       "<ellipse fill=\"black\" stroke=\"black\" cx=\"0\" cy=\"-18\" rx=\"0\" ry=\"0\"/>\n",
       "</g>\n",
       "<!-- 2 -->\n",
       "<g id=\"node3\" class=\"node\">\n",
       "<title>2</title>\n",
       "<path fill=\"none\" stroke=\"black\" d=\"M79,-36C79,-36 49,-36 49,-36 43,-36 37,-30 37,-24 37,-24 37,-12 37,-12 37,-6 43,0 49,0 49,0 79,0 79,0 85,0 91,-6 91,-12 91,-12 91,-24 91,-24 91,-30 85,-36 79,-36\"/>\n",
       "<text text-anchor=\"middle\" x=\"64\" y=\"-14.3\" font-family=\"Times,serif\" font-size=\"14.00\">$0</text>\n",
       "</g>\n",
       "<!-- I2&#45;&gt;2 -->\n",
       "<g id=\"edge1\" class=\"edge\">\n",
       "<title>I2-&gt;2</title>\n",
       "<path fill=\"none\" stroke=\"DimGray\" d=\"M1.04,-18C1.86,-18 13.73,-18 26.87,-18\"/>\n",
       "<polygon fill=\"DimGray\" stroke=\"DimGray\" points=\"27,-21.5 37,-18 27,-14.5 27,-21.5\"/>\n",
       "</g>\n",
       "<!-- F5 -->\n",
       "<g id=\"node2\" class=\"node\">\n",
       "<title>F5</title>\n",
       "<ellipse fill=\"black\" stroke=\"black\" cx=\"328\" cy=\"-18\" rx=\"0\" ry=\"0\"/>\n",
       "</g>\n",
       "<!-- 3 -->\n",
       "<g id=\"node4\" class=\"node\">\n",
       "<title>3</title>\n",
       "<path fill=\"none\" stroke=\"black\" d=\"M179,-71C179,-71 149,-71 149,-71 143,-71 137,-65 137,-59 137,-59 137,-47 137,-47 137,-41 143,-35 149,-35 149,-35 179,-35 179,-35 185,-35 191,-41 191,-47 191,-47 191,-59 191,-59 191,-65 185,-71 179,-71\"/>\n",
       "<text text-anchor=\"middle\" x=\"164\" y=\"-49.3\" font-family=\"Times,serif\" font-size=\"14.00\">$1</text>\n",
       "</g>\n",
       "<!-- 2&#45;&gt;3 -->\n",
       "<g id=\"edge2\" class=\"edge\">\n",
       "<title>2-&gt;3</title>\n",
       "<path fill=\"none\" stroke=\"black\" d=\"M91,-27.29C102.08,-31.24 115.18,-35.92 127.15,-40.2\"/>\n",
       "<polygon fill=\"black\" stroke=\"black\" points=\"126.28,-43.6 136.87,-43.67 128.63,-37.01 126.28,-43.6\"/>\n",
       "<text text-anchor=\"middle\" x=\"114\" y=\"-39.8\" font-family=\"Times,serif\" font-size=\"14.00\">1</text>\n",
       "</g>\n",
       "<!-- 5 -->\n",
       "<g id=\"node5\" class=\"node\">\n",
       "<title>5</title>\n",
       "<path fill=\"none\" stroke=\"black\" d=\"M279,-36C279,-36 249,-36 249,-36 243,-36 237,-30 237,-24 237,-24 237,-12 237,-12 237,-6 243,0 249,0 249,0 279,0 279,0 285,0 291,-6 291,-12 291,-12 291,-24 291,-24 291,-30 285,-36 279,-36\"/>\n",
       "<text text-anchor=\"middle\" x=\"264\" y=\"-14.3\" font-family=\"Times,serif\" font-size=\"14.00\">$3</text>\n",
       "</g>\n",
       "<!-- 2&#45;&gt;5 -->\n",
       "<g id=\"edge3\" class=\"edge\">\n",
       "<title>2-&gt;5</title>\n",
       "<path fill=\"none\" stroke=\"black\" d=\"M91.29,-14.83C104.91,-13.34 121.82,-11.74 137,-11 160.97,-9.84 167.03,-9.84 191,-11 202.62,-11.56 215.26,-12.64 226.66,-13.78\"/>\n",
       "<polygon fill=\"black\" stroke=\"black\" points=\"226.4,-17.27 236.71,-14.83 227.13,-10.31 226.4,-17.27\"/>\n",
       "<text text-anchor=\"middle\" x=\"164\" y=\"-14.8\" font-family=\"Times,serif\" font-size=\"14.00\">0</text>\n",
       "</g>\n",
       "<!-- 3&#45;&gt;3 -->\n",
       "<g id=\"edge4\" class=\"edge\">\n",
       "<title>3-&gt;3</title>\n",
       "<path fill=\"none\" stroke=\"black\" d=\"M154.95,-71.15C153.56,-80.54 156.58,-89 164,-89 168.52,-89 171.41,-85.86 172.66,-81.28\"/>\n",
       "<polygon fill=\"black\" stroke=\"black\" points=\"176.16,-81.28 173.05,-71.15 169.17,-81.01 176.16,-81.28\"/>\n",
       "<text text-anchor=\"middle\" x=\"164\" y=\"-92.8\" font-family=\"Times,serif\" font-size=\"14.00\">1</text>\n",
       "</g>\n",
       "<!-- 3&#45;&gt;5 -->\n",
       "<g id=\"edge5\" class=\"edge\">\n",
       "<title>3-&gt;5</title>\n",
       "<path fill=\"none\" stroke=\"black\" d=\"M191,-43.71C202.08,-39.76 215.18,-35.08 227.15,-30.8\"/>\n",
       "<polygon fill=\"black\" stroke=\"black\" points=\"228.63,-33.99 236.87,-27.33 226.28,-27.4 228.63,-33.99\"/>\n",
       "<text text-anchor=\"middle\" x=\"214\" y=\"-39.8\" font-family=\"Times,serif\" font-size=\"14.00\">0</text>\n",
       "</g>\n",
       "<!-- 5&#45;&gt;F5 -->\n",
       "<g id=\"edge6\" class=\"edge\">\n",
       "<title>5-&gt;F5</title>\n",
       "<path fill=\"none\" stroke=\"DimGray\" d=\"M291.29,-18C300.25,-18 309.73,-18 316.68,-18\"/>\n",
       "<polygon fill=\"DimGray\" stroke=\"DimGray\" points=\"316.95,-21.5 326.95,-18 316.95,-14.5 316.95,-21.5\"/>\n",
       "</g>\n",
       "</g>\n",
       "</svg>"
      ],
      "text/plain": [
       "<IPython.core.display.SVG object>"
      ]
     },
     "metadata": {},
     "output_type": "display_data"
    }
   ],
   "source": [
    "g.exp_to_aut(\"standard\").display()"
   ]
  },
  {
   "cell_type": "code",
   "execution_count": null,
   "metadata": {},
   "outputs": [],
   "source": []
  },
  {
   "cell_type": "markdown",
   "metadata": {},
   "source": [
    "#### Automata to expressions"
   ]
  },
  {
   "cell_type": "code",
   "execution_count": 22,
   "metadata": {},
   "outputs": [
    {
     "data": {
      "image/svg+xml": [
       "<svg xmlns=\"http://www.w3.org/2000/svg\" xmlns:xlink=\"http://www.w3.org/1999/xlink\" width=\"596pt\" height=\"243pt\" viewBox=\"0.00 0.00 596.00 243.00\">\n",
       "<g id=\"graph0\" class=\"graph\" transform=\"scale(1 1) rotate(0) translate(4 239)\">\n",
       "<title>%3</title>\n",
       "<polygon fill=\"white\" stroke=\"transparent\" points=\"-4,4 -4,-239 592,-239 592,4 -4,4\"/>\n",
       "<!-- I2 -->\n",
       "<g id=\"node1\" class=\"node\">\n",
       "<title>I2</title>\n",
       "<ellipse fill=\"black\" stroke=\"black\" cx=\"0\" cy=\"-184\" rx=\"0\" ry=\"0\"/>\n",
       "</g>\n",
       "<!-- 2 -->\n",
       "<g id=\"node8\" class=\"node\">\n",
       "<title>2</title>\n",
       "<path fill=\"none\" stroke=\"black\" d=\"M79,-202C79,-202 49,-202 49,-202 43,-202 37,-196 37,-190 37,-190 37,-178 37,-178 37,-172 43,-166 49,-166 49,-166 79,-166 79,-166 85,-166 91,-172 91,-178 91,-178 91,-190 91,-190 91,-196 85,-202 79,-202\"/>\n",
       "<text text-anchor=\"middle\" x=\"64\" y=\"-180.3\" font-family=\"Times,serif\" font-size=\"14.00\">p</text>\n",
       "</g>\n",
       "<!-- I2&#45;&gt;2 -->\n",
       "<g id=\"edge1\" class=\"edge\">\n",
       "<title>I2-&gt;2</title>\n",
       "<path fill=\"none\" stroke=\"DimGray\" d=\"M1.04,-184C1.86,-184 13.73,-184 26.87,-184\"/>\n",
       "<polygon fill=\"DimGray\" stroke=\"DimGray\" points=\"27,-187.5 37,-184 27,-180.5 27,-187.5\"/>\n",
       "</g>\n",
       "<!-- I3 -->\n",
       "<g id=\"node2\" class=\"node\">\n",
       "<title>I3</title>\n",
       "<ellipse fill=\"black\" stroke=\"black\" cx=\"64\" cy=\"-124\" rx=\"0\" ry=\"0\"/>\n",
       "</g>\n",
       "<!-- 3 -->\n",
       "<g id=\"node9\" class=\"node\">\n",
       "<title>3</title>\n",
       "<path fill=\"none\" stroke=\"black\" d=\"M178,-142C178,-142 148,-142 148,-142 142,-142 136,-136 136,-130 136,-130 136,-118 136,-118 136,-112 142,-106 148,-106 148,-106 178,-106 178,-106 184,-106 190,-112 190,-118 190,-118 190,-130 190,-130 190,-136 184,-142 178,-142\"/>\n",
       "<text text-anchor=\"middle\" x=\"163\" y=\"-120.3\" font-family=\"Times,serif\" font-size=\"14.00\">q</text>\n",
       "</g>\n",
       "<!-- I3&#45;&gt;3 -->\n",
       "<g id=\"edge2\" class=\"edge\">\n",
       "<title>I3-&gt;3</title>\n",
       "<path fill=\"none\" stroke=\"DimGray\" d=\"M65.07,-124C66.77,-124 98.84,-124 125.64,-124\"/>\n",
       "<polygon fill=\"DimGray\" stroke=\"DimGray\" points=\"125.95,-127.5 135.95,-124 125.95,-120.5 125.95,-127.5\"/>\n",
       "</g>\n",
       "<!-- I4 -->\n",
       "<g id=\"node3\" class=\"node\">\n",
       "<title>I4</title>\n",
       "<ellipse fill=\"black\" stroke=\"black\" cx=\"163\" cy=\"-88\" rx=\"0\" ry=\"0\"/>\n",
       "</g>\n",
       "<!-- 4 -->\n",
       "<g id=\"node10\" class=\"node\">\n",
       "<title>4</title>\n",
       "<path fill=\"none\" stroke=\"black\" d=\"M277,-142C277,-142 247,-142 247,-142 241,-142 235,-136 235,-130 235,-130 235,-118 235,-118 235,-112 241,-106 247,-106 247,-106 277,-106 277,-106 283,-106 289,-112 289,-118 289,-118 289,-130 289,-130 289,-136 283,-142 277,-142\"/>\n",
       "<text text-anchor=\"middle\" x=\"262\" y=\"-120.3\" font-family=\"Times,serif\" font-size=\"14.00\">r</text>\n",
       "</g>\n",
       "<!-- I4&#45;&gt;4 -->\n",
       "<g id=\"edge3\" class=\"edge\">\n",
       "<title>I4-&gt;4</title>\n",
       "<path fill=\"none\" stroke=\"DimGray\" d=\"M164.17,-88.06C165.8,-88.6 179.22,-93.09 190,-97 201.5,-101.18 214,-105.88 225.25,-110.17\"/>\n",
       "<polygon fill=\"DimGray\" stroke=\"DimGray\" points=\"224.18,-113.5 234.77,-113.81 226.68,-106.97 224.18,-113.5\"/>\n",
       "</g>\n",
       "<!-- I5 -->\n",
       "<g id=\"node4\" class=\"node\">\n",
       "<title>I5</title>\n",
       "<ellipse fill=\"black\" stroke=\"black\" cx=\"262\" cy=\"-38\" rx=\"0\" ry=\"0\"/>\n",
       "</g>\n",
       "<!-- 5 -->\n",
       "<g id=\"node11\" class=\"node\">\n",
       "<title>5</title>\n",
       "<path fill=\"none\" stroke=\"black\" d=\"M377,-89C377,-89 347,-89 347,-89 341,-89 335,-83 335,-77 335,-77 335,-65 335,-65 335,-59 341,-53 347,-53 347,-53 377,-53 377,-53 383,-53 389,-59 389,-65 389,-65 389,-77 389,-77 389,-83 383,-89 377,-89\"/>\n",
       "<text text-anchor=\"middle\" x=\"362\" y=\"-67.3\" font-family=\"Times,serif\" font-size=\"14.00\">s</text>\n",
       "</g>\n",
       "<!-- I5&#45;&gt;5 -->\n",
       "<g id=\"edge4\" class=\"edge\">\n",
       "<title>I5-&gt;5</title>\n",
       "<path fill=\"none\" stroke=\"DimGray\" d=\"M263.09,-38.02C264.9,-38.37 294.28,-44.2 317,-52 319.73,-52.94 322.53,-53.97 325.33,-55.05\"/>\n",
       "<polygon fill=\"DimGray\" stroke=\"DimGray\" points=\"324.15,-58.35 334.73,-58.88 326.79,-51.87 324.15,-58.35\"/>\n",
       "</g>\n",
       "<!-- I6 -->\n",
       "<g id=\"node5\" class=\"node\">\n",
       "<title>I6</title>\n",
       "<ellipse fill=\"black\" stroke=\"black\" cx=\"362\" cy=\"-35\" rx=\"0\" ry=\"0\"/>\n",
       "</g>\n",
       "<!-- 6 -->\n",
       "<g id=\"node12\" class=\"node\">\n",
       "<title>6</title>\n",
       "<path fill=\"none\" stroke=\"black\" d=\"M477,-54C477,-54 447,-54 447,-54 441,-54 435,-48 435,-42 435,-42 435,-30 435,-30 435,-24 441,-18 447,-18 447,-18 477,-18 477,-18 483,-18 489,-24 489,-30 489,-30 489,-42 489,-42 489,-48 483,-54 477,-54\"/>\n",
       "<text text-anchor=\"middle\" x=\"462\" y=\"-32.3\" font-family=\"Times,serif\" font-size=\"14.00\">t</text>\n",
       "</g>\n",
       "<!-- I6&#45;&gt;6 -->\n",
       "<g id=\"edge5\" class=\"edge\">\n",
       "<title>I6-&gt;6</title>\n",
       "<path fill=\"none\" stroke=\"DimGray\" d=\"M363.07,-35C364.8,-35.02 397.68,-35.35 424.87,-35.63\"/>\n",
       "<polygon fill=\"DimGray\" stroke=\"DimGray\" points=\"424.9,-39.13 434.93,-35.73 424.97,-32.13 424.9,-39.13\"/>\n",
       "</g>\n",
       "<!-- I7 -->\n",
       "<g id=\"node6\" class=\"node\">\n",
       "<title>I7</title>\n",
       "<ellipse fill=\"black\" stroke=\"black\" cx=\"462\" cy=\"0\" rx=\"0\" ry=\"0\"/>\n",
       "</g>\n",
       "<!-- 7 -->\n",
       "<g id=\"node13\" class=\"node\">\n",
       "<title>7</title>\n",
       "<path fill=\"none\" stroke=\"black\" d=\"M576,-119C576,-119 546,-119 546,-119 540,-119 534,-113 534,-107 534,-107 534,-95 534,-95 534,-89 540,-83 546,-83 546,-83 576,-83 576,-83 582,-83 588,-89 588,-95 588,-95 588,-107 588,-107 588,-113 582,-119 576,-119\"/>\n",
       "<text text-anchor=\"middle\" x=\"561\" y=\"-97.3\" font-family=\"Times,serif\" font-size=\"14.00\">u</text>\n",
       "</g>\n",
       "<!-- I7&#45;&gt;7 -->\n",
       "<g id=\"edge6\" class=\"edge\">\n",
       "<title>I7-&gt;7</title>\n",
       "<path fill=\"none\" stroke=\"DimGray\" d=\"M463.05,-0.01C464,-0.12 479.38,-2.08 489,-9 512.86,-26.16 532.56,-53.58 545.11,-74.03\"/>\n",
       "<polygon fill=\"DimGray\" stroke=\"DimGray\" points=\"542.24,-76.06 550.35,-82.88 548.26,-72.49 542.24,-76.06\"/>\n",
       "</g>\n",
       "<!-- F4 -->\n",
       "<g id=\"node7\" class=\"node\">\n",
       "<title>F4</title>\n",
       "<ellipse fill=\"black\" stroke=\"black\" cx=\"362\" cy=\"-138\" rx=\"0\" ry=\"0\"/>\n",
       "</g>\n",
       "<!-- 2&#45;&gt;2 -->\n",
       "<g id=\"edge7\" class=\"edge\">\n",
       "<title>2-&gt;2</title>\n",
       "<path fill=\"none\" stroke=\"black\" d=\"M56.04,-202.15C54.82,-211.54 57.47,-220 64,-220 67.98,-220 70.52,-216.86 71.62,-212.28\"/>\n",
       "<polygon fill=\"black\" stroke=\"black\" points=\"75.12,-212.26 71.96,-202.15 68.13,-212.03 75.12,-212.26\"/>\n",
       "<text text-anchor=\"middle\" x=\"64\" y=\"-223.8\" font-family=\"Times,serif\" font-size=\"14.00\">b</text>\n",
       "</g>\n",
       "<!-- 2&#45;&gt;3 -->\n",
       "<g id=\"edge8\" class=\"edge\">\n",
       "<title>2-&gt;3</title>\n",
       "<path fill=\"none\" stroke=\"black\" d=\"M91.25,-167.76C102.25,-160.96 115.2,-152.95 126.99,-145.66\"/>\n",
       "<polygon fill=\"black\" stroke=\"black\" points=\"129.07,-148.49 135.73,-140.25 125.38,-142.53 129.07,-148.49\"/>\n",
       "<text text-anchor=\"middle\" x=\"113.5\" y=\"-158.8\" font-family=\"Times,serif\" font-size=\"14.00\">a</text>\n",
       "</g>\n",
       "<!-- 3&#45;&gt;3 -->\n",
       "<g id=\"edge9\" class=\"edge\">\n",
       "<title>3-&gt;3</title>\n",
       "<path fill=\"none\" stroke=\"black\" d=\"M154.32,-142.15C152.98,-151.54 155.88,-160 163,-160 167.34,-160 170.11,-156.86 171.31,-152.28\"/>\n",
       "<polygon fill=\"black\" stroke=\"black\" points=\"174.82,-152.27 171.68,-142.15 167.82,-152.02 174.82,-152.27\"/>\n",
       "<text text-anchor=\"middle\" x=\"163\" y=\"-163.8\" font-family=\"Times,serif\" font-size=\"14.00\">b</text>\n",
       "</g>\n",
       "<!-- 3&#45;&gt;4 -->\n",
       "<g id=\"edge10\" class=\"edge\">\n",
       "<title>3-&gt;4</title>\n",
       "<path fill=\"none\" stroke=\"black\" d=\"M190.25,-124C200.82,-124 213.18,-124 224.6,-124\"/>\n",
       "<polygon fill=\"black\" stroke=\"black\" points=\"224.73,-127.5 234.73,-124 224.73,-120.5 224.73,-127.5\"/>\n",
       "<text text-anchor=\"middle\" x=\"212.5\" y=\"-127.8\" font-family=\"Times,serif\" font-size=\"14.00\">a</text>\n",
       "</g>\n",
       "<!-- 4&#45;&gt;F4 -->\n",
       "<g id=\"edge11\" class=\"edge\">\n",
       "<title>4-&gt;F4</title>\n",
       "<path fill=\"none\" stroke=\"DimGray\" d=\"M289,-127.71C309.22,-130.6 336.19,-134.46 350.71,-136.53\"/>\n",
       "<polygon fill=\"DimGray\" stroke=\"DimGray\" points=\"350.48,-140.03 360.88,-137.98 351.47,-133.1 350.48,-140.03\"/>\n",
       "</g>\n",
       "<!-- 4&#45;&gt;2 -->\n",
       "<g id=\"edge12\" class=\"edge\">\n",
       "<title>4-&gt;2</title>\n",
       "<path fill=\"none\" stroke=\"black\" d=\"M246.25,-142.06C233.2,-156.51 212.73,-175.68 190,-184 161.52,-194.42 126.89,-193.47 101.3,-190.45\"/>\n",
       "<polygon fill=\"black\" stroke=\"black\" points=\"101.66,-186.96 91.28,-189.11 100.73,-193.9 101.66,-186.96\"/>\n",
       "<text text-anchor=\"middle\" x=\"163\" y=\"-195.8\" font-family=\"Times,serif\" font-size=\"14.00\">a</text>\n",
       "</g>\n",
       "<!-- 4&#45;&gt;5 -->\n",
       "<g id=\"edge13\" class=\"edge\">\n",
       "<title>4-&gt;5</title>\n",
       "<path fill=\"none\" stroke=\"black\" d=\"M289,-109.94C300.3,-103.83 313.71,-96.58 325.87,-90\"/>\n",
       "<polygon fill=\"black\" stroke=\"black\" points=\"327.74,-92.97 334.87,-85.13 324.41,-86.81 327.74,-92.97\"/>\n",
       "<text text-anchor=\"middle\" x=\"312\" y=\"-103.8\" font-family=\"Times,serif\" font-size=\"14.00\">b</text>\n",
       "</g>\n",
       "<!-- 5&#45;&gt;4 -->\n",
       "<g id=\"edge14\" class=\"edge\">\n",
       "<title>5-&gt;4</title>\n",
       "<path fill=\"none\" stroke=\"black\" d=\"M334.95,-70.24C325.72,-70.9 315.52,-72.73 307,-77 297.26,-81.88 288.55,-89.86 281.51,-97.87\"/>\n",
       "<polygon fill=\"black\" stroke=\"black\" points=\"278.66,-95.82 275.04,-105.78 284.08,-100.26 278.66,-95.82\"/>\n",
       "<text text-anchor=\"middle\" x=\"312\" y=\"-80.8\" font-family=\"Times,serif\" font-size=\"14.00\">b</text>\n",
       "</g>\n",
       "<!-- 5&#45;&gt;6 -->\n",
       "<g id=\"edge15\" class=\"edge\">\n",
       "<title>5-&gt;6</title>\n",
       "<path fill=\"none\" stroke=\"black\" d=\"M389,-61.71C400.08,-57.76 413.18,-53.08 425.15,-48.8\"/>\n",
       "<polygon fill=\"black\" stroke=\"black\" points=\"426.63,-51.99 434.87,-45.33 424.28,-45.4 426.63,-51.99\"/>\n",
       "<text text-anchor=\"middle\" x=\"412\" y=\"-58.8\" font-family=\"Times,serif\" font-size=\"14.00\">a</text>\n",
       "</g>\n",
       "<!-- 6&#45;&gt;6 -->\n",
       "<g id=\"edge16\" class=\"edge\">\n",
       "<title>6-&gt;6</title>\n",
       "<path fill=\"none\" stroke=\"black\" d=\"M453.32,-54.15C451.98,-63.54 454.88,-72 462,-72 466.34,-72 469.11,-68.86 470.31,-64.28\"/>\n",
       "<polygon fill=\"black\" stroke=\"black\" points=\"473.82,-64.27 470.68,-54.15 466.82,-64.02 473.82,-64.27\"/>\n",
       "<text text-anchor=\"middle\" x=\"462\" y=\"-75.8\" font-family=\"Times,serif\" font-size=\"14.00\">b</text>\n",
       "</g>\n",
       "<!-- 6&#45;&gt;7 -->\n",
       "<g id=\"edge17\" class=\"edge\">\n",
       "<title>6-&gt;7</title>\n",
       "<path fill=\"none\" stroke=\"black\" d=\"M489.25,-53.59C500.36,-61.03 513.45,-69.81 525.34,-77.77\"/>\n",
       "<polygon fill=\"black\" stroke=\"black\" points=\"523.47,-80.74 533.73,-83.4 527.37,-74.92 523.47,-80.74\"/>\n",
       "<text text-anchor=\"middle\" x=\"511.5\" y=\"-74.8\" font-family=\"Times,serif\" font-size=\"14.00\">a</text>\n",
       "</g>\n",
       "<!-- 7&#45;&gt;4 -->\n",
       "<g id=\"edge18\" class=\"edge\">\n",
       "<title>7-&gt;4</title>\n",
       "<path fill=\"none\" stroke=\"black\" d=\"M533.64,-111.15C527.87,-113.21 521.76,-115.28 516,-117 460.43,-133.61 446.61,-140.29 389,-147 365.16,-149.78 358.98,-147.86 335,-147 322.53,-146.56 319.06,-148.19 307,-145 304.24,-144.27 301.44,-143.37 298.66,-142.35\"/>\n",
       "<polygon fill=\"black\" stroke=\"black\" points=\"299.96,-139.1 289.38,-138.54 297.3,-145.58 299.96,-139.1\"/>\n",
       "<text text-anchor=\"middle\" x=\"412\" y=\"-147.8\" font-family=\"Times,serif\" font-size=\"14.00\">b</text>\n",
       "</g>\n",
       "<!-- 7&#45;&gt;5 -->\n",
       "<g id=\"edge19\" class=\"edge\">\n",
       "<title>7-&gt;5</title>\n",
       "<path fill=\"none\" stroke=\"black\" d=\"M533.89,-102.17C508.43,-102.79 468.72,-102.38 435,-96 422.93,-93.72 410.15,-89.8 398.76,-85.74\"/>\n",
       "<polygon fill=\"black\" stroke=\"black\" points=\"399.75,-82.38 389.16,-82.17 397.31,-88.94 399.75,-82.38\"/>\n",
       "<text text-anchor=\"middle\" x=\"462\" y=\"-105.8\" font-family=\"Times,serif\" font-size=\"14.00\">a</text>\n",
       "</g>\n",
       "</g>\n",
       "</svg>"
      ],
      "text/plain": [
       "<IPython.core.display.SVG object>"
      ]
     },
     "metadata": {},
     "output_type": "display_data"
    }
   ],
   "source": [
    "SC = awalipy.load(\"slowcerny\") # Lets us load some automaton\n",
    "SC.display()"
   ]
  },
  {
   "cell_type": "markdown",
   "metadata": {},
   "source": [
    "Awalipy uses the classical state-elimination algorithm to compute an expression from an automaton.\n",
    "\n",
    "To choose which state to eliminate first we use the `min_inout_degree` heuristics that is: at each step, the next eliminated state is the one with the minimal product of its in-degree by its out-degree."
   ]
  },
  {
   "cell_type": "code",
   "execution_count": 26,
   "metadata": {},
   "outputs": [
    {
     "data": {
      "text/plain": [
       "(\\e+(\\e+b*a)b*a+(\\e+b*a)b+(\\e+(\\e+b*a)a)(ab*aa)*(b+ab*ab))(ab*ab*a+b(ab*aa)*(b+ab*ab))*"
      ]
     },
     "execution_count": 26,
     "metadata": {},
     "output_type": "execute_result"
    }
   ],
   "source": [
    "SC_exp1 = SC.aut_to_exp()\n",
    "SC_exp1"
   ]
  },
  {
   "cell_type": "markdown",
   "metadata": {},
   "source": [
    "To disable this heuristics, use the method `\"id_order\"`: states are eliminated in increasing order of identifier."
   ]
  },
  {
   "cell_type": "code",
   "execution_count": 27,
   "metadata": {},
   "outputs": [
    {
     "data": {
      "text/plain": [
       "(\\e+b+b*(ab)+(\\e+a+b*(aa))(ab*(aa))*(b+ab*(ab)))(b(ab*(aa))*(b+ab*(ab)))*+b*(a(b(ab*(aa))*(b+ab*(ab)))*)+(\\e+(\\e+b+b*(ab)+(\\e+a+b*(aa))(ab*(aa))*(b+ab*(ab)))(b(ab*(aa))*(b+ab*(ab)))*a+b*(a(b(ab*(aa))*(b+ab*(ab)))*a))(b+ab*(a(b(ab*(aa))*(b+ab*(ab)))*a))*(ab*(a(b(ab*(aa))*(b+ab*(ab)))*))"
      ]
     },
     "execution_count": 27,
     "metadata": {},
     "output_type": "execute_result"
    }
   ],
   "source": [
    "SC_exp2 = SC.aut_to_exp(method=\"id_order\")\n",
    "SC_exp2"
   ]
  },
  {
   "cell_type": "code",
   "execution_count": null,
   "metadata": {},
   "outputs": [],
   "source": []
  },
  {
   "cell_type": "code",
   "execution_count": null,
   "metadata": {},
   "outputs": [],
   "source": []
  },
  {
   "cell_type": "markdown",
   "metadata": {},
   "source": [
    "## Weighted rational expression"
   ]
  },
  {
   "cell_type": "markdown",
   "metadata": {},
   "source": [
    "Weights must be put between \"<>\" and weights takes precedence over other operators:<br>\n",
    "\n",
    "- `<-1>a*` = `(<-1>a)*` != `<-1>(a*)`\n",
    "- `<-1>ab` = `(<-1>a)b` != `<-1>(ab)`\n",
    "- `<-1>a+b` = `(<-1>a)+b` != `<-1>(a+b)`\n",
    "\n",
    "\n",
    "The weighset must be given as a second argument at construction."
   ]
  },
  {
   "cell_type": "code",
   "execution_count": 20,
   "metadata": {},
   "outputs": [
    {
     "data": {
      "text/plain": [
       "a*+<-1>(b*)"
      ]
     },
     "execution_count": 20,
     "metadata": {},
     "output_type": "execute_result"
    }
   ],
   "source": [
    "h = awalipy.RatExp(\"(<1>a*+<-1>(b*))\",\"Z\")\n",
    "h"
   ]
  },
  {
   "cell_type": "code",
   "execution_count": 21,
   "metadata": {},
   "outputs": [
    {
     "data": {
      "image/svg+xml": [
       "<svg xmlns=\"http://www.w3.org/2000/svg\" xmlns:xlink=\"http://www.w3.org/1999/xlink\" width=\"311pt\" height=\"98pt\" viewBox=\"0.00 0.00 311.00 98.00\">\n",
       "<g id=\"graph0\" class=\"graph\" transform=\"scale(1 1) rotate(0) translate(4 94)\">\n",
       "<title>%3</title>\n",
       "<polygon fill=\"white\" stroke=\"transparent\" points=\"-4,4 -4,-94 307,-94 307,4 -4,4\"/>\n",
       "<!-- I2 -->\n",
       "<g id=\"node1\" class=\"node\">\n",
       "<title>I2</title>\n",
       "<ellipse fill=\"black\" stroke=\"black\" cx=\"0\" cy=\"-45\" rx=\"0\" ry=\"0\"/>\n",
       "</g>\n",
       "<!-- 2 -->\n",
       "<g id=\"node2\" class=\"node\">\n",
       "<title>2</title>\n",
       "<path fill=\"none\" stroke=\"DimGray\" d=\"M79,-63C79,-63 49,-63 49,-63 43,-63 37,-57 37,-51 37,-51 37,-39 37,-39 37,-33 43,-27 49,-27 49,-27 79,-27 79,-27 85,-27 91,-33 91,-39 91,-39 91,-51 91,-51 91,-57 85,-63 79,-63\"/>\n",
       "<text text-anchor=\"middle\" x=\"64\" y=\"-41.3\" font-family=\"Times,serif\" font-size=\"14.00\">[+]</text>\n",
       "</g>\n",
       "<!-- I2&#45;&gt;2 -->\n",
       "<g id=\"edge1\" class=\"edge\">\n",
       "<title>I2-&gt;2</title>\n",
       "<path fill=\"none\" stroke=\"DimGray\" d=\"M1.04,-45C1.86,-45 13.73,-45 26.87,-45\"/>\n",
       "<polygon fill=\"DimGray\" stroke=\"DimGray\" points=\"27,-48.5 37,-45 27,-41.5 27,-48.5\"/>\n",
       "</g>\n",
       "<!-- 4 -->\n",
       "<g id=\"node4\" class=\"node\">\n",
       "<title>4</title>\n",
       "<path fill=\"none\" stroke=\"DimGray\" d=\"M187.5,-90C187.5,-90 157.5,-90 157.5,-90 151.5,-90 145.5,-84 145.5,-78 145.5,-78 145.5,-66 145.5,-66 145.5,-60 151.5,-54 157.5,-54 157.5,-54 187.5,-54 187.5,-54 193.5,-54 199.5,-60 199.5,-66 199.5,-66 199.5,-78 199.5,-78 199.5,-84 193.5,-90 187.5,-90\"/>\n",
       "<text text-anchor=\"middle\" x=\"172.5\" y=\"-68.3\" font-family=\"Times,serif\" font-size=\"14.00\">[*]</text>\n",
       "</g>\n",
       "<!-- 2&#45;&gt;4 -->\n",
       "<g id=\"edge2\" class=\"edge\">\n",
       "<title>2-&gt;4</title>\n",
       "<path fill=\"none\" stroke=\"DimGray\" d=\"M91.05,-51.6C104.46,-55 121.02,-59.2 135.62,-62.9\"/>\n",
       "<polygon fill=\"DimGray\" stroke=\"DimGray\" points=\"134.79,-66.3 145.35,-65.37 136.51,-59.52 134.79,-66.3\"/>\n",
       "<text text-anchor=\"middle\" x=\"114\" y=\"-61.8\" font-family=\"Times,serif\" font-size=\"14.00\">.</text>\n",
       "</g>\n",
       "<!-- 6 -->\n",
       "<g id=\"node6\" class=\"node\">\n",
       "<title>6</title>\n",
       "<path fill=\"none\" stroke=\"DimGray\" d=\"M196,-36C196,-36 149,-36 149,-36 143,-36 137,-30 137,-24 137,-24 137,-12 137,-12 137,-6 143,0 149,0 149,0 196,0 196,0 202,0 208,-6 208,-12 208,-12 208,-24 208,-24 208,-30 202,-36 196,-36\"/>\n",
       "<text text-anchor=\"middle\" x=\"172.5\" y=\"-14.3\" font-family=\"Times,serif\" font-size=\"14.00\">&lt;-1&gt;[*]</text>\n",
       "</g>\n",
       "<!-- 2&#45;&gt;6 -->\n",
       "<g id=\"edge3\" class=\"edge\">\n",
       "<title>2-&gt;6</title>\n",
       "<path fill=\"none\" stroke=\"DimGray\" d=\"M91.05,-38.4C101.83,-35.66 114.64,-32.42 126.83,-29.32\"/>\n",
       "<polygon fill=\"DimGray\" stroke=\"DimGray\" points=\"128.03,-32.63 136.87,-26.78 126.31,-25.84 128.03,-32.63\"/>\n",
       "<text text-anchor=\"middle\" x=\"114\" y=\"-36.8\" font-family=\"Times,serif\" font-size=\"14.00\">..</text>\n",
       "</g>\n",
       "<!-- 3 -->\n",
       "<g id=\"node3\" class=\"node\">\n",
       "<title>3</title>\n",
       "<path fill=\"none\" stroke=\"DimGray\" d=\"M291,-90C291,-90 261,-90 261,-90 255,-90 249,-84 249,-78 249,-78 249,-66 249,-66 249,-60 255,-54 261,-54 261,-54 291,-54 291,-54 297,-54 303,-60 303,-66 303,-66 303,-78 303,-78 303,-84 297,-90 291,-90\"/>\n",
       "<text text-anchor=\"middle\" x=\"276\" y=\"-68.3\" font-family=\"Times,serif\" font-size=\"14.00\">a</text>\n",
       "</g>\n",
       "<!-- 4&#45;&gt;3 -->\n",
       "<g id=\"edge4\" class=\"edge\">\n",
       "<title>4-&gt;3</title>\n",
       "<path fill=\"none\" stroke=\"DimGray\" d=\"M199.64,-72C211.6,-72 225.96,-72 238.92,-72\"/>\n",
       "<polygon fill=\"DimGray\" stroke=\"DimGray\" points=\"238.95,-75.5 248.95,-72 238.95,-68.5 238.95,-75.5\"/>\n",
       "<text text-anchor=\"middle\" x=\"228.5\" y=\"-75.8\" font-family=\"Times,serif\" font-size=\"14.00\"> </text>\n",
       "</g>\n",
       "<!-- 5 -->\n",
       "<g id=\"node5\" class=\"node\">\n",
       "<title>5</title>\n",
       "<path fill=\"none\" stroke=\"DimGray\" d=\"M291,-36C291,-36 261,-36 261,-36 255,-36 249,-30 249,-24 249,-24 249,-12 249,-12 249,-6 255,0 261,0 261,0 291,0 291,0 297,0 303,-6 303,-12 303,-12 303,-24 303,-24 303,-30 297,-36 291,-36\"/>\n",
       "<text text-anchor=\"middle\" x=\"276\" y=\"-14.3\" font-family=\"Times,serif\" font-size=\"14.00\">b</text>\n",
       "</g>\n",
       "<!-- 6&#45;&gt;5 -->\n",
       "<g id=\"edge5\" class=\"edge\">\n",
       "<title>6-&gt;5</title>\n",
       "<path fill=\"none\" stroke=\"DimGray\" d=\"M208.15,-18C218.04,-18 228.83,-18 238.81,-18\"/>\n",
       "<polygon fill=\"DimGray\" stroke=\"DimGray\" points=\"238.84,-21.5 248.84,-18 238.84,-14.5 238.84,-21.5\"/>\n",
       "<text text-anchor=\"middle\" x=\"228.5\" y=\"-21.8\" font-family=\"Times,serif\" font-size=\"14.00\"> </text>\n",
       "</g>\n",
       "</g>\n",
       "</svg>"
      ],
      "text/plain": [
       "<IPython.core.display.SVG object>"
      ]
     },
     "metadata": {},
     "output_type": "display_data"
    }
   ],
   "source": [
    "h.display()"
   ]
  },
  {
   "cell_type": "markdown",
   "metadata": {},
   "source": [
    "<hr>\n",
    "For the sake of convenience, a weight alone (ie. \"< -1>\") is considered as a valid representation of the word epsilon with the given weight (ie. \"< -1>\\e\")."
   ]
  },
  {
   "cell_type": "code",
   "execution_count": 22,
   "metadata": {},
   "outputs": [
    {
     "data": {
      "text/plain": [
       "<-2>\\e"
      ]
     },
     "execution_count": 22,
     "metadata": {},
     "output_type": "execute_result"
    }
   ],
   "source": [
    "awalipy.RatExp(\"<-2>\",\"Z\")"
   ]
  },
  {
   "cell_type": "markdown",
   "metadata": {},
   "source": [
    "<hr>\n",
    "Union, concatenation and star works in the same way for weighted rational expressions."
   ]
  },
  {
   "cell_type": "code",
   "execution_count": 23,
   "metadata": {},
   "outputs": [
    {
     "data": {
      "text/plain": [
       "(a*+<-1>(b*))(a*+<-1>(b*)+<-1>(a*+<-1>(b*))*)"
      ]
     },
     "execution_count": 23,
     "metadata": {},
     "output_type": "execute_result"
    }
   ],
   "source": [
    "i = h ^ h + (\"<-1>\" ^ h).star()\n",
    "i"
   ]
  },
  {
   "cell_type": "markdown",
   "metadata": {},
   "source": [
    "### Weighted expression to weighted automaton"
   ]
  },
  {
   "cell_type": "markdown",
   "metadata": {},
   "source": [
    "For `aut_to_exp` or `standard` to work, the rational expression needs to be *valid*.\n",
    "An expression is *valid* if, in every sub-expression, the weight of $\\epsilon$ is well defined.\n",
    "For instance the expression *(< 2 >\\\\e)\\** is not valid (with weightset $(\\mathbb{Z},+,\\times$))"
   ]
  },
  {
   "cell_type": "code",
   "execution_count": 24,
   "metadata": {},
   "outputs": [
    {
     "data": {
      "text/plain": [
       "True"
      ]
     },
     "execution_count": 24,
     "metadata": {},
     "output_type": "execute_result"
    }
   ],
   "source": [
    "i.is_valid()"
   ]
  },
  {
   "cell_type": "code",
   "execution_count": 25,
   "metadata": {},
   "outputs": [
    {
     "data": {
      "image/svg+xml": [
       "<svg xmlns=\"http://www.w3.org/2000/svg\" xmlns:xlink=\"http://www.w3.org/1999/xlink\" width=\"546pt\" height=\"390pt\" viewBox=\"0.00 0.00 546.00 390.22\">\n",
       "<g id=\"graph0\" class=\"graph\" transform=\"scale(1 1) rotate(0) translate(4 386.22)\">\n",
       "<title>%3</title>\n",
       "<polygon fill=\"white\" stroke=\"transparent\" points=\"-4,4 -4,-386.22 542,-386.22 542,4 -4,4\"/>\n",
       "<!-- I2 -->\n",
       "<g id=\"node1\" class=\"node\">\n",
       "<title>I2</title>\n",
       "<ellipse fill=\"black\" stroke=\"black\" cx=\"0\" cy=\"-155.22\" rx=\"0\" ry=\"0\"/>\n",
       "</g>\n",
       "<!-- 2 -->\n",
       "<g id=\"node8\" class=\"node\">\n",
       "<title>2</title>\n",
       "<path fill=\"none\" stroke=\"black\" d=\"M79,-173.22C79,-173.22 49,-173.22 49,-173.22 43,-173.22 37,-167.22 37,-161.22 37,-161.22 37,-149.22 37,-149.22 37,-143.22 43,-137.22 49,-137.22 49,-137.22 79,-137.22 79,-137.22 85,-137.22 91,-143.22 91,-149.22 91,-149.22 91,-161.22 91,-161.22 91,-167.22 85,-173.22 79,-173.22\"/>\n",
       "<text text-anchor=\"middle\" x=\"64\" y=\"-151.52\" font-family=\"Times,serif\" font-size=\"14.00\">$0</text>\n",
       "</g>\n",
       "<!-- I2&#45;&gt;2 -->\n",
       "<g id=\"edge1\" class=\"edge\">\n",
       "<title>I2-&gt;2</title>\n",
       "<path fill=\"none\" stroke=\"DimGray\" d=\"M1.04,-155.22C1.86,-155.22 13.73,-155.22 26.87,-155.22\"/>\n",
       "<polygon fill=\"DimGray\" stroke=\"DimGray\" points=\"27,-158.72 37,-155.22 27,-151.72 27,-158.72\"/>\n",
       "</g>\n",
       "<!-- F3 -->\n",
       "<g id=\"node2\" class=\"node\">\n",
       "<title>F3</title>\n",
       "<ellipse fill=\"black\" stroke=\"black\" cx=\"474\" cy=\"-226.22\" rx=\"0\" ry=\"0\"/>\n",
       "</g>\n",
       "<!-- F4 -->\n",
       "<g id=\"node3\" class=\"node\">\n",
       "<title>F4</title>\n",
       "<ellipse fill=\"black\" stroke=\"black\" cx=\"474\" cy=\"-313.22\" rx=\"0\" ry=\"0\"/>\n",
       "</g>\n",
       "<!-- F5 -->\n",
       "<g id=\"node4\" class=\"node\">\n",
       "<title>F5</title>\n",
       "<ellipse fill=\"black\" stroke=\"black\" cx=\"338\" cy=\"-382.22\" rx=\"0\" ry=\"0\"/>\n",
       "</g>\n",
       "<!-- F6 -->\n",
       "<g id=\"node5\" class=\"node\">\n",
       "<title>F6</title>\n",
       "<ellipse fill=\"black\" stroke=\"black\" cx=\"338\" cy=\"-0.22\" rx=\"0\" ry=\"0\"/>\n",
       "</g>\n",
       "<!-- F7 -->\n",
       "<g id=\"node6\" class=\"node\">\n",
       "<title>F7</title>\n",
       "<ellipse fill=\"black\" stroke=\"black\" cx=\"474\" cy=\"-137.22\" rx=\"0\" ry=\"0\"/>\n",
       "</g>\n",
       "<!-- F8 -->\n",
       "<g id=\"node7\" class=\"node\">\n",
       "<title>F8</title>\n",
       "<ellipse fill=\"black\" stroke=\"black\" cx=\"538\" cy=\"-85.22\" rx=\"0\" ry=\"0\"/>\n",
       "</g>\n",
       "<!-- 5 -->\n",
       "<g id=\"node11\" class=\"node\">\n",
       "<title>5</title>\n",
       "<path fill=\"none\" stroke=\"black\" d=\"M216,-226.22C216,-226.22 186,-226.22 186,-226.22 180,-226.22 174,-220.22 174,-214.22 174,-214.22 174,-202.22 174,-202.22 174,-196.22 180,-190.22 186,-190.22 186,-190.22 216,-190.22 216,-190.22 222,-190.22 228,-196.22 228,-202.22 228,-202.22 228,-214.22 228,-214.22 228,-220.22 222,-226.22 216,-226.22\"/>\n",
       "<text text-anchor=\"middle\" x=\"201\" y=\"-204.52\" font-family=\"Times,serif\" font-size=\"14.00\">$1</text>\n",
       "</g>\n",
       "<!-- 2&#45;&gt;5 -->\n",
       "<g id=\"edge2\" class=\"edge\">\n",
       "<title>2-&gt;5</title>\n",
       "<path fill=\"none\" stroke=\"black\" d=\"M91.03,-165.44C111.81,-173.6 141.16,-185.12 164.16,-194.15\"/>\n",
       "<polygon fill=\"black\" stroke=\"black\" points=\"163,-197.46 173.59,-197.85 165.56,-190.94 163,-197.46\"/>\n",
       "<text text-anchor=\"middle\" x=\"132.5\" y=\"-193.02\" font-family=\"Times,serif\" font-size=\"14.00\">a</text>\n",
       "</g>\n",
       "<!-- 6 -->\n",
       "<g id=\"node12\" class=\"node\">\n",
       "<title>6</title>\n",
       "<path fill=\"none\" stroke=\"black\" d=\"M216,-130.22C216,-130.22 186,-130.22 186,-130.22 180,-130.22 174,-124.22 174,-118.22 174,-118.22 174,-106.22 174,-106.22 174,-100.22 180,-94.22 186,-94.22 186,-94.22 216,-94.22 216,-94.22 222,-94.22 228,-100.22 228,-106.22 228,-106.22 228,-118.22 228,-118.22 228,-124.22 222,-130.22 216,-130.22\"/>\n",
       "<text text-anchor=\"middle\" x=\"201\" y=\"-108.52\" font-family=\"Times,serif\" font-size=\"14.00\">$3</text>\n",
       "</g>\n",
       "<!-- 2&#45;&gt;6 -->\n",
       "<g id=\"edge3\" class=\"edge\">\n",
       "<title>2-&gt;6</title>\n",
       "<path fill=\"none\" stroke=\"black\" d=\"M91.03,-146.93C111.72,-140.34 140.9,-131.05 163.85,-123.74\"/>\n",
       "<polygon fill=\"black\" stroke=\"black\" points=\"165.12,-127 173.59,-120.63 163,-120.34 165.12,-127\"/>\n",
       "<text text-anchor=\"middle\" x=\"132.5\" y=\"-143.02\" font-family=\"Times,serif\" font-size=\"14.00\">&lt;-1&gt;b</text>\n",
       "</g>\n",
       "<!-- 3 -->\n",
       "<g id=\"node9\" class=\"node\">\n",
       "<title>3</title>\n",
       "<path fill=\"none\" stroke=\"black\" d=\"M353,-244.22C353,-244.22 323,-244.22 323,-244.22 317,-244.22 311,-238.22 311,-232.22 311,-232.22 311,-220.22 311,-220.22 311,-214.22 317,-208.22 323,-208.22 323,-208.22 353,-208.22 353,-208.22 359,-208.22 365,-214.22 365,-220.22 365,-220.22 365,-232.22 365,-232.22 365,-238.22 359,-244.22 353,-244.22\"/>\n",
       "<text text-anchor=\"middle\" x=\"338\" y=\"-222.52\" font-family=\"Times,serif\" font-size=\"14.00\">$6</text>\n",
       "</g>\n",
       "<!-- 3&#45;&gt;F3 -->\n",
       "<g id=\"edge4\" class=\"edge\">\n",
       "<title>3-&gt;F3</title>\n",
       "<path fill=\"none\" stroke=\"DimGray\" d=\"M365.15,-226.22C394.99,-226.22 442.31,-226.22 462.89,-226.22\"/>\n",
       "<polygon fill=\"DimGray\" stroke=\"DimGray\" points=\"462.95,-229.72 472.95,-226.22 462.95,-222.72 462.95,-229.72\"/>\n",
       "</g>\n",
       "<!-- 3&#45;&gt;3 -->\n",
       "<g id=\"edge5\" class=\"edge\">\n",
       "<title>3-&gt;3</title>\n",
       "<path fill=\"none\" stroke=\"black\" d=\"M325.7,-244.38C323.81,-253.76 327.91,-262.22 338,-262.22 344.15,-262.22 348.08,-259.08 349.78,-254.5\"/>\n",
       "<polygon fill=\"black\" stroke=\"black\" points=\"353.28,-254.54 350.3,-244.38 346.29,-254.18 353.28,-254.54\"/>\n",
       "<text text-anchor=\"middle\" x=\"338\" y=\"-266.02\" font-family=\"Times,serif\" font-size=\"14.00\">b</text>\n",
       "</g>\n",
       "<!-- 4 -->\n",
       "<g id=\"node10\" class=\"node\">\n",
       "<title>4</title>\n",
       "<path fill=\"none\" stroke=\"black\" d=\"M353,-331.22C353,-331.22 323,-331.22 323,-331.22 317,-331.22 311,-325.22 311,-319.22 311,-319.22 311,-307.22 311,-307.22 311,-301.22 317,-295.22 323,-295.22 323,-295.22 353,-295.22 353,-295.22 359,-295.22 365,-301.22 365,-307.22 365,-307.22 365,-319.22 365,-319.22 365,-325.22 359,-331.22 353,-331.22\"/>\n",
       "<text text-anchor=\"middle\" x=\"338\" y=\"-309.52\" font-family=\"Times,serif\" font-size=\"14.00\">$4</text>\n",
       "</g>\n",
       "<!-- 4&#45;&gt;F4 -->\n",
       "<g id=\"edge6\" class=\"edge\">\n",
       "<title>4-&gt;F4</title>\n",
       "<path fill=\"none\" stroke=\"DimGray\" d=\"M365.15,-313.22C394.99,-313.22 442.31,-313.22 462.89,-313.22\"/>\n",
       "<polygon fill=\"DimGray\" stroke=\"DimGray\" points=\"462.95,-316.72 472.95,-313.22 462.95,-309.72 462.95,-316.72\"/>\n",
       "</g>\n",
       "<!-- 4&#45;&gt;4 -->\n",
       "<g id=\"edge7\" class=\"edge\">\n",
       "<title>4-&gt;4</title>\n",
       "<path fill=\"none\" stroke=\"black\" d=\"M325.7,-331.38C323.81,-340.76 327.91,-349.22 338,-349.22 344.15,-349.22 348.08,-346.08 349.78,-341.5\"/>\n",
       "<polygon fill=\"black\" stroke=\"black\" points=\"353.28,-341.54 350.3,-331.38 346.29,-341.18 353.28,-341.54\"/>\n",
       "<text text-anchor=\"middle\" x=\"338\" y=\"-353.02\" font-family=\"Times,serif\" font-size=\"14.00\">a</text>\n",
       "</g>\n",
       "<!-- 5&#45;&gt;F5 -->\n",
       "<g id=\"edge8\" class=\"edge\">\n",
       "<title>5-&gt;F5</title>\n",
       "<path fill=\"none\" stroke=\"DimGray\" d=\"M208.87,-226.31C216.55,-245.46 230.02,-276.19 246,-300.22 270.05,-336.4 274.86,-349.12 311,-373.22 315.77,-376.41 321.79,-378.58 326.84,-380\"/>\n",
       "<polygon fill=\"DimGray\" stroke=\"DimGray\" points=\"326.44,-383.49 336.95,-382.22 327.94,-376.66 326.44,-383.49\"/>\n",
       "</g>\n",
       "<!-- 5&#45;&gt;3 -->\n",
       "<g id=\"edge9\" class=\"edge\">\n",
       "<title>5-&gt;3</title>\n",
       "<path fill=\"none\" stroke=\"black\" d=\"M228.13,-219.3C233.92,-221.31 240.09,-223.11 246,-224.22 263.71,-227.54 283.7,-228.3 300.42,-228.12\"/>\n",
       "<polygon fill=\"black\" stroke=\"black\" points=\"300.96,-231.61 310.88,-227.89 300.8,-224.61 300.96,-231.61\"/>\n",
       "<text text-anchor=\"middle\" x=\"269.5\" y=\"-231.02\" font-family=\"Times,serif\" font-size=\"14.00\">&lt;-1&gt;b</text>\n",
       "</g>\n",
       "<!-- 5&#45;&gt;4 -->\n",
       "<g id=\"edge10\" class=\"edge\">\n",
       "<title>5-&gt;4</title>\n",
       "<path fill=\"none\" stroke=\"black\" d=\"M222.31,-226.34C229.67,-232.75 238.11,-239.93 246,-246.22 264.45,-260.95 285.66,-276.63 302.96,-289.12\"/>\n",
       "<polygon fill=\"black\" stroke=\"black\" points=\"300.94,-291.98 311.1,-294.97 305.03,-286.29 300.94,-291.98\"/>\n",
       "<text text-anchor=\"middle\" x=\"269.5\" y=\"-285.02\" font-family=\"Times,serif\" font-size=\"14.00\">a</text>\n",
       "</g>\n",
       "<!-- 5&#45;&gt;5 -->\n",
       "<g id=\"edge11\" class=\"edge\">\n",
       "<title>5-&gt;5</title>\n",
       "<path fill=\"none\" stroke=\"black\" d=\"M188.7,-226.38C186.81,-235.76 190.91,-244.22 201,-244.22 207.15,-244.22 211.08,-241.08 212.78,-236.5\"/>\n",
       "<polygon fill=\"black\" stroke=\"black\" points=\"216.28,-236.54 213.3,-226.38 209.29,-236.18 216.28,-236.54\"/>\n",
       "<text text-anchor=\"middle\" x=\"201\" y=\"-248.02\" font-family=\"Times,serif\" font-size=\"14.00\">a</text>\n",
       "</g>\n",
       "<!-- 7 -->\n",
       "<g id=\"node13\" class=\"node\">\n",
       "<title>7</title>\n",
       "<path fill=\"none\" stroke=\"black\" d=\"M353,-106.22C353,-106.22 323,-106.22 323,-106.22 317,-106.22 311,-100.22 311,-94.22 311,-94.22 311,-82.22 311,-82.22 311,-76.22 317,-70.22 323,-70.22 323,-70.22 353,-70.22 353,-70.22 359,-70.22 365,-76.22 365,-82.22 365,-82.22 365,-94.22 365,-94.22 365,-100.22 359,-106.22 353,-106.22\"/>\n",
       "<text text-anchor=\"middle\" x=\"338\" y=\"-84.52\" font-family=\"Times,serif\" font-size=\"14.00\">$9</text>\n",
       "</g>\n",
       "<!-- 5&#45;&gt;7 -->\n",
       "<g id=\"edge12\" class=\"edge\">\n",
       "<title>5-&gt;7</title>\n",
       "<path fill=\"none\" stroke=\"black\" d=\"M216.9,-189.86C220.87,-184.4 224.91,-178.26 228,-172.22 239.54,-149.71 228.08,-136.08 246,-118.22 260.61,-103.66 282.43,-96.16 301.03,-92.31\"/>\n",
       "<polygon fill=\"black\" stroke=\"black\" points=\"301.75,-95.74 310.98,-90.52 300.51,-88.85 301.75,-95.74\"/>\n",
       "<text text-anchor=\"middle\" x=\"269.5\" y=\"-122.02\" font-family=\"Times,serif\" font-size=\"14.00\">b</text>\n",
       "</g>\n",
       "<!-- 8 -->\n",
       "<g id=\"node14\" class=\"node\">\n",
       "<title>8</title>\n",
       "<path fill=\"none\" stroke=\"black\" d=\"M489,-103.22C489,-103.22 459,-103.22 459,-103.22 453,-103.22 447,-97.22 447,-91.22 447,-91.22 447,-79.22 447,-79.22 447,-73.22 453,-67.22 459,-67.22 459,-67.22 489,-67.22 489,-67.22 495,-67.22 501,-73.22 501,-79.22 501,-79.22 501,-91.22 501,-91.22 501,-97.22 495,-103.22 489,-103.22\"/>\n",
       "<text text-anchor=\"middle\" x=\"474\" y=\"-81.52\" font-family=\"Times,serif\" font-size=\"14.00\">$7</text>\n",
       "</g>\n",
       "<!-- 5&#45;&gt;8 -->\n",
       "<g id=\"edge13\" class=\"edge\">\n",
       "<title>5-&gt;8</title>\n",
       "<path fill=\"none\" stroke=\"black\" d=\"M228.39,-196.44C234.16,-193.97 240.26,-191.45 246,-189.22 298.16,-169.01 314.15,-171.54 365,-148.22 390.27,-136.64 417.28,-120.88 437.97,-108.02\"/>\n",
       "<polygon fill=\"black\" stroke=\"black\" points=\"440.11,-110.81 446.71,-102.53 436.38,-104.88 440.11,-110.81\"/>\n",
       "<text text-anchor=\"middle\" x=\"338\" y=\"-172.02\" font-family=\"Times,serif\" font-size=\"14.00\">&lt;-1&gt;a</text>\n",
       "</g>\n",
       "<!-- 6&#45;&gt;F6 -->\n",
       "<g id=\"edge14\" class=\"edge\">\n",
       "<title>6-&gt;F6</title>\n",
       "<path fill=\"none\" stroke=\"DimGray\" d=\"M205.95,-94.12C211.39,-73.56 223.22,-40.52 246,-22.22 270.06,-2.9 308.49,-0.14 326.74,0\"/>\n",
       "<polygon fill=\"DimGray\" stroke=\"DimGray\" points=\"326.76,-3.5 336.83,-0.21 326.91,3.5 326.76,-3.5\"/>\n",
       "</g>\n",
       "<!-- 6&#45;&gt;3 -->\n",
       "<g id=\"edge15\" class=\"edge\">\n",
       "<title>6-&gt;3</title>\n",
       "<path fill=\"none\" stroke=\"black\" d=\"M228.33,-126.17C247.43,-137 273.27,-153.18 293,-171.22 302.58,-179.98 302.91,-184.07 311,-194.22 312.45,-196.04 313.95,-197.91 315.47,-199.8\"/>\n",
       "<polygon fill=\"black\" stroke=\"black\" points=\"313.08,-202.42 322.09,-207.99 318.53,-198.02 313.08,-202.42\"/>\n",
       "<text text-anchor=\"middle\" x=\"269.5\" y=\"-175.02\" font-family=\"Times,serif\" font-size=\"14.00\">&lt;-1&gt;b</text>\n",
       "</g>\n",
       "<!-- 6&#45;&gt;4 -->\n",
       "<g id=\"edge16\" class=\"edge\">\n",
       "<title>6-&gt;4</title>\n",
       "<path fill=\"none\" stroke=\"black\" d=\"M208.8,-130.32C215.84,-146.88 228.31,-171.04 246,-186.22 263.1,-200.9 278.44,-188.03 293,-205.22 316.83,-233.37 293.56,-253.73 311,-286.22 311.1,-286.42 311.21,-286.61 311.32,-286.8\"/>\n",
       "<polygon fill=\"black\" stroke=\"black\" points=\"308.51,-288.89 317.09,-295.1 314.25,-284.89 308.51,-288.89\"/>\n",
       "<text text-anchor=\"middle\" x=\"269.5\" y=\"-209.02\" font-family=\"Times,serif\" font-size=\"14.00\">a</text>\n",
       "</g>\n",
       "<!-- 6&#45;&gt;6 -->\n",
       "<g id=\"edge17\" class=\"edge\">\n",
       "<title>6-&gt;6</title>\n",
       "<path fill=\"none\" stroke=\"black\" d=\"M188.7,-130.38C186.81,-139.76 190.91,-148.22 201,-148.22 207.15,-148.22 211.08,-145.08 212.78,-140.5\"/>\n",
       "<polygon fill=\"black\" stroke=\"black\" points=\"216.28,-140.54 213.3,-130.38 209.29,-140.18 216.28,-140.54\"/>\n",
       "<text text-anchor=\"middle\" x=\"201\" y=\"-152.02\" font-family=\"Times,serif\" font-size=\"14.00\">b</text>\n",
       "</g>\n",
       "<!-- 6&#45;&gt;7 -->\n",
       "<g id=\"edge18\" class=\"edge\">\n",
       "<title>6-&gt;7</title>\n",
       "<path fill=\"none\" stroke=\"black\" d=\"M215.34,-94.12C223.14,-85.1 233.84,-75.09 246,-70.22 263.5,-63.21 284.01,-66.37 301.13,-71.87\"/>\n",
       "<polygon fill=\"black\" stroke=\"black\" points=\"300.18,-75.25 310.77,-75.32 302.53,-68.66 300.18,-75.25\"/>\n",
       "<text text-anchor=\"middle\" x=\"269.5\" y=\"-74.02\" font-family=\"Times,serif\" font-size=\"14.00\">b</text>\n",
       "</g>\n",
       "<!-- 6&#45;&gt;8 -->\n",
       "<g id=\"edge19\" class=\"edge\">\n",
       "<title>6-&gt;8</title>\n",
       "<path fill=\"none\" stroke=\"black\" d=\"M213.78,-93.97C221.66,-83.18 232.95,-70.14 246,-62.22 271.44,-46.79 281.47,-49.8 311,-46.22 363.48,-39.86 379.61,-42.36 429,-61.22 431.83,-62.31 434.71,-63.54 437.57,-64.86\"/>\n",
       "<polygon fill=\"black\" stroke=\"black\" points=\"436.04,-68.01 446.55,-69.31 439.15,-61.74 436.04,-68.01\"/>\n",
       "<text text-anchor=\"middle\" x=\"338\" y=\"-50.02\" font-family=\"Times,serif\" font-size=\"14.00\">&lt;-1&gt;a</text>\n",
       "</g>\n",
       "<!-- 7&#45;&gt;F7 -->\n",
       "<g id=\"edge20\" class=\"edge\">\n",
       "<title>7-&gt;F7</title>\n",
       "<path fill=\"none\" stroke=\"DimGray\" d=\"M365.43,-99.32C371.2,-101.66 377.28,-104.07 383,-106.22 411.92,-117.11 446.6,-128.63 463.2,-134.05\"/>\n",
       "<polygon fill=\"DimGray\" stroke=\"DimGray\" points=\"462.26,-137.42 472.85,-137.18 464.42,-130.76 462.26,-137.42\"/>\n",
       "</g>\n",
       "<!-- 7&#45;&gt;7 -->\n",
       "<g id=\"edge21\" class=\"edge\">\n",
       "<title>7-&gt;7</title>\n",
       "<path fill=\"none\" stroke=\"black\" d=\"M325.7,-106.38C323.81,-115.76 327.91,-124.22 338,-124.22 344.15,-124.22 348.08,-121.08 349.78,-116.5\"/>\n",
       "<polygon fill=\"black\" stroke=\"black\" points=\"353.28,-116.54 350.3,-106.38 346.29,-116.18 353.28,-116.54\"/>\n",
       "<text text-anchor=\"middle\" x=\"338\" y=\"-128.02\" font-family=\"Times,serif\" font-size=\"14.00\">&lt;2&gt;b</text>\n",
       "</g>\n",
       "<!-- 7&#45;&gt;8 -->\n",
       "<g id=\"edge22\" class=\"edge\">\n",
       "<title>7-&gt;8</title>\n",
       "<path fill=\"none\" stroke=\"black\" d=\"M365.15,-87.64C385.54,-87.18 414.08,-86.54 436.68,-86.04\"/>\n",
       "<polygon fill=\"black\" stroke=\"black\" points=\"436.99,-89.53 446.91,-85.81 436.84,-82.53 436.99,-89.53\"/>\n",
       "<text text-anchor=\"middle\" x=\"406\" y=\"-91.02\" font-family=\"Times,serif\" font-size=\"14.00\">&lt;-1&gt;a</text>\n",
       "</g>\n",
       "<!-- 8&#45;&gt;F8 -->\n",
       "<g id=\"edge23\" class=\"edge\">\n",
       "<title>8-&gt;F8</title>\n",
       "<path fill=\"none\" stroke=\"DimGray\" d=\"M501.29,-85.22C510.25,-85.22 519.73,-85.22 526.68,-85.22\"/>\n",
       "<polygon fill=\"DimGray\" stroke=\"DimGray\" points=\"526.95,-88.72 536.95,-85.22 526.95,-81.72 526.95,-88.72\"/>\n",
       "</g>\n",
       "<!-- 8&#45;&gt;7 -->\n",
       "<g id=\"edge24\" class=\"edge\">\n",
       "<title>8-&gt;7</title>\n",
       "<path fill=\"none\" stroke=\"black\" d=\"M446.94,-73.35C441.15,-71.22 434.96,-69.33 429,-68.22 408.9,-64.48 402.98,-63.89 383,-68.22 380.32,-68.8 377.62,-69.56 374.93,-70.44\"/>\n",
       "<polygon fill=\"black\" stroke=\"black\" points=\"373.48,-67.25 365.37,-74.06 375.96,-73.79 373.48,-67.25\"/>\n",
       "<text text-anchor=\"middle\" x=\"406\" y=\"-72.02\" font-family=\"Times,serif\" font-size=\"14.00\">b</text>\n",
       "</g>\n",
       "</g>\n",
       "</svg>"
      ],
      "text/plain": [
       "<IPython.core.display.SVG object>"
      ]
     },
     "metadata": {},
     "output_type": "display_data"
    }
   ],
   "source": [
    "i.exp_to_aut().display()"
   ]
  },
  {
   "cell_type": "markdown",
   "metadata": {},
   "source": [
    "---\n",
    "The method `thompson()` is not suitable for weighted expressions.\n",
    "\n",
    "Indeed, let us consider the following **valid** expression `g`: "
   ]
  },
  {
   "cell_type": "code",
   "execution_count": 26,
   "metadata": {},
   "outputs": [
    {
     "data": {
      "text/plain": [
       "True"
      ]
     },
     "execution_count": 26,
     "metadata": {},
     "output_type": "execute_result"
    }
   ],
   "source": [
    "g = awalipy.RatExp(\"(<1>(a*)+<-1>(b*))*\",\"Z\")\n",
    "g.is_valid()"
   ]
  },
  {
   "cell_type": "code",
   "execution_count": 27,
   "metadata": {},
   "outputs": [
    {
     "data": {
      "image/svg+xml": [
       "<svg xmlns=\"http://www.w3.org/2000/svg\" xmlns:xlink=\"http://www.w3.org/1999/xlink\" width=\"325pt\" height=\"727pt\" viewBox=\"0.00 0.00 325.00 727.00\">\n",
       "<g id=\"graph0\" class=\"graph\" transform=\"scale(1 1) rotate(0) translate(4 723)\">\n",
       "<title>%3</title>\n",
       "<polygon fill=\"white\" stroke=\"transparent\" points=\"-4,4 -4,-723 321,-723 321,4 -4,4\"/>\n",
       "<!-- I12 -->\n",
       "<g id=\"node1\" class=\"node\">\n",
       "<title>I12</title>\n",
       "<ellipse fill=\"black\" stroke=\"black\" cx=\"277\" cy=\"-719\" rx=\"0\" ry=\"0\"/>\n",
       "</g>\n",
       "<!-- 12 -->\n",
       "<g id=\"node13\" class=\"node\">\n",
       "<title>12</title>\n",
       "<path fill=\"none\" stroke=\"black\" d=\"M292,-682C292,-682 262,-682 262,-682 256,-682 250,-676 250,-670 250,-670 250,-658 250,-658 250,-652 256,-646 262,-646 262,-646 292,-646 292,-646 298,-646 304,-652 304,-658 304,-658 304,-670 304,-670 304,-676 298,-682 292,-682\"/>\n",
       "<text text-anchor=\"middle\" x=\"277\" y=\"-660.3\" font-family=\"Times,serif\" font-size=\"14.00\">s5</text>\n",
       "</g>\n",
       "<!-- I12&#45;&gt;12 -->\n",
       "<g id=\"edge1\" class=\"edge\">\n",
       "<title>I12-&gt;12</title>\n",
       "<path fill=\"none\" stroke=\"DimGray\" d=\"M277,-717.85C277,-716.37 277,-704.32 277,-692.1\"/>\n",
       "<polygon fill=\"DimGray\" stroke=\"DimGray\" points=\"280.5,-692.02 277,-682.02 273.5,-692.02 280.5,-692.02\"/>\n",
       "</g>\n",
       "<!-- F13 -->\n",
       "<g id=\"node2\" class=\"node\">\n",
       "<title>F13</title>\n",
       "<ellipse fill=\"black\" stroke=\"black\" cx=\"277\" cy=\"0\" rx=\"0\" ry=\"0\"/>\n",
       "</g>\n",
       "<!-- 2 -->\n",
       "<g id=\"node3\" class=\"node\">\n",
       "<title>2</title>\n",
       "<path fill=\"none\" stroke=\"black\" d=\"M259,-595C259,-595 229,-595 229,-595 223,-595 217,-589 217,-583 217,-583 217,-571 217,-571 217,-565 223,-559 229,-559 229,-559 259,-559 259,-559 265,-559 271,-565 271,-571 271,-571 271,-583 271,-583 271,-589 265,-595 259,-595\"/>\n",
       "<text text-anchor=\"middle\" x=\"244\" y=\"-573.3\" font-family=\"Times,serif\" font-size=\"14.00\">s4</text>\n",
       "</g>\n",
       "<!-- 6 -->\n",
       "<g id=\"node7\" class=\"node\">\n",
       "<title>6</title>\n",
       "<path fill=\"none\" stroke=\"black\" d=\"M97,-508C97,-508 67,-508 67,-508 61,-508 55,-502 55,-496 55,-496 55,-484 55,-484 55,-478 61,-472 67,-472 67,-472 97,-472 97,-472 103,-472 109,-478 109,-484 109,-484 109,-496 109,-496 109,-502 103,-508 97,-508\"/>\n",
       "<text text-anchor=\"middle\" x=\"82\" y=\"-486.3\" font-family=\"Times,serif\" font-size=\"14.00\">s1</text>\n",
       "</g>\n",
       "<!-- 2&#45;&gt;6 -->\n",
       "<g id=\"edge2\" class=\"edge\">\n",
       "<title>2-&gt;6</title>\n",
       "<path fill=\"none\" stroke=\"black\" d=\"M216.88,-561.77C189.78,-547.55 147.96,-525.61 118.07,-509.92\"/>\n",
       "<polygon fill=\"black\" stroke=\"black\" points=\"119.68,-506.82 109.2,-505.27 116.43,-513.02 119.68,-506.82\"/>\n",
       "<text text-anchor=\"middle\" x=\"178.5\" y=\"-529.8\" font-family=\"Times,serif\" font-size=\"14.00\">\\e</text>\n",
       "</g>\n",
       "<!-- 10 -->\n",
       "<g id=\"node11\" class=\"node\">\n",
       "<title>10</title>\n",
       "<path fill=\"none\" stroke=\"black\" d=\"M207,-508C207,-508 177,-508 177,-508 171,-508 165,-502 165,-496 165,-496 165,-484 165,-484 165,-478 171,-472 177,-472 177,-472 207,-472 207,-472 213,-472 219,-478 219,-484 219,-484 219,-496 219,-496 219,-502 213,-508 207,-508\"/>\n",
       "<text text-anchor=\"middle\" x=\"192\" y=\"-486.3\" font-family=\"Times,serif\" font-size=\"14.00\">s3</text>\n",
       "</g>\n",
       "<!-- 2&#45;&gt;10 -->\n",
       "<g id=\"edge3\" class=\"edge\">\n",
       "<title>2-&gt;10</title>\n",
       "<path fill=\"none\" stroke=\"black\" d=\"M233.48,-558.8C226.15,-546.82 216.24,-530.62 207.94,-517.06\"/>\n",
       "<polygon fill=\"black\" stroke=\"black\" points=\"210.71,-514.88 202.51,-508.18 204.74,-518.53 210.71,-514.88\"/>\n",
       "<text text-anchor=\"middle\" x=\"227.5\" y=\"-529.8\" font-family=\"Times,serif\" font-size=\"14.00\">\\e</text>\n",
       "</g>\n",
       "<!-- 3 -->\n",
       "<g id=\"node4\" class=\"node\">\n",
       "<title>3</title>\n",
       "<path fill=\"none\" stroke=\"black\" d=\"M259,-160C259,-160 229,-160 229,-160 223,-160 217,-154 217,-148 217,-148 217,-136 217,-136 217,-130 223,-124 229,-124 229,-124 259,-124 259,-124 265,-124 271,-130 271,-136 271,-136 271,-148 271,-148 271,-154 265,-160 259,-160\"/>\n",
       "<text text-anchor=\"middle\" x=\"244\" y=\"-138.3\" font-family=\"Times,serif\" font-size=\"14.00\">t4</text>\n",
       "</g>\n",
       "<!-- 3&#45;&gt;2 -->\n",
       "<g id=\"edge4\" class=\"edge\">\n",
       "<title>3-&gt;2</title>\n",
       "<path fill=\"none\" stroke=\"black\" d=\"M251.2,-160.24C257.62,-177.18 266,-203.92 266,-228 266,-491 266,-491 266,-491 266,-510.94 260.25,-532.71 254.63,-549.22\"/>\n",
       "<polygon fill=\"black\" stroke=\"black\" points=\"251.29,-548.16 251.2,-558.76 257.88,-550.53 251.29,-548.16\"/>\n",
       "<text text-anchor=\"middle\" x=\"272.5\" y=\"-355.8\" font-family=\"Times,serif\" font-size=\"14.00\">\\e</text>\n",
       "</g>\n",
       "<!-- 13 -->\n",
       "<g id=\"node14\" class=\"node\">\n",
       "<title>13</title>\n",
       "<path fill=\"none\" stroke=\"black\" d=\"M292,-73C292,-73 262,-73 262,-73 256,-73 250,-67 250,-61 250,-61 250,-49 250,-49 250,-43 256,-37 262,-37 262,-37 292,-37 292,-37 298,-37 304,-43 304,-49 304,-49 304,-61 304,-61 304,-67 298,-73 292,-73\"/>\n",
       "<text text-anchor=\"middle\" x=\"277\" y=\"-51.3\" font-family=\"Times,serif\" font-size=\"14.00\">t5</text>\n",
       "</g>\n",
       "<!-- 3&#45;&gt;13 -->\n",
       "<g id=\"edge5\" class=\"edge\">\n",
       "<title>3-&gt;13</title>\n",
       "<path fill=\"none\" stroke=\"black\" d=\"M250.68,-123.8C255.24,-112.05 261.38,-96.24 266.58,-82.84\"/>\n",
       "<polygon fill=\"black\" stroke=\"black\" points=\"269.98,-83.76 270.33,-73.18 263.45,-81.23 269.98,-83.76\"/>\n",
       "<text text-anchor=\"middle\" x=\"268.5\" y=\"-94.8\" font-family=\"Times,serif\" font-size=\"14.00\">\\e</text>\n",
       "</g>\n",
       "<!-- 4 -->\n",
       "<g id=\"node5\" class=\"node\">\n",
       "<title>4</title>\n",
       "<path fill=\"none\" stroke=\"black\" d=\"M42,-421C42,-421 12,-421 12,-421 6,-421 0,-415 0,-409 0,-409 0,-397 0,-397 0,-391 6,-385 12,-385 12,-385 42,-385 42,-385 48,-385 54,-391 54,-397 54,-397 54,-409 54,-409 54,-415 48,-421 42,-421\"/>\n",
       "<text text-anchor=\"middle\" x=\"27\" y=\"-399.3\" font-family=\"Times,serif\" font-size=\"14.00\">s0</text>\n",
       "</g>\n",
       "<!-- 5 -->\n",
       "<g id=\"node6\" class=\"node\">\n",
       "<title>5</title>\n",
       "<path fill=\"none\" stroke=\"black\" d=\"M42,-334C42,-334 12,-334 12,-334 6,-334 0,-328 0,-322 0,-322 0,-310 0,-310 0,-304 6,-298 12,-298 12,-298 42,-298 42,-298 48,-298 54,-304 54,-310 54,-310 54,-322 54,-322 54,-328 48,-334 42,-334\"/>\n",
       "<text text-anchor=\"middle\" x=\"27\" y=\"-312.3\" font-family=\"Times,serif\" font-size=\"14.00\">t0</text>\n",
       "</g>\n",
       "<!-- 4&#45;&gt;5 -->\n",
       "<g id=\"edge6\" class=\"edge\">\n",
       "<title>4-&gt;5</title>\n",
       "<path fill=\"none\" stroke=\"black\" d=\"M13.52,-384.8C7.71,-375.33 2.88,-363.25 6,-352 6.82,-349.02 7.98,-346.04 9.32,-343.15\"/>\n",
       "<polygon fill=\"black\" stroke=\"black\" points=\"12.43,-344.77 14.11,-334.31 6.27,-341.44 12.43,-344.77\"/>\n",
       "<text text-anchor=\"middle\" x=\"10.5\" y=\"-355.8\" font-family=\"Times,serif\" font-size=\"14.00\">a</text>\n",
       "</g>\n",
       "<!-- 5&#45;&gt;4 -->\n",
       "<g id=\"edge7\" class=\"edge\">\n",
       "<title>5-&gt;4</title>\n",
       "<path fill=\"none\" stroke=\"black\" d=\"M27,-334.18C27,-345.81 27,-361.42 27,-374.73\"/>\n",
       "<polygon fill=\"black\" stroke=\"black\" points=\"23.5,-374.8 27,-384.8 30.5,-374.8 23.5,-374.8\"/>\n",
       "<text text-anchor=\"middle\" x=\"33.5\" y=\"-355.8\" font-family=\"Times,serif\" font-size=\"14.00\">\\e</text>\n",
       "</g>\n",
       "<!-- 7 -->\n",
       "<g id=\"node8\" class=\"node\">\n",
       "<title>7</title>\n",
       "<path fill=\"none\" stroke=\"black\" d=\"M97,-247C97,-247 67,-247 67,-247 61,-247 55,-241 55,-235 55,-235 55,-223 55,-223 55,-217 61,-211 67,-211 67,-211 97,-211 97,-211 103,-211 109,-217 109,-223 109,-223 109,-235 109,-235 109,-241 103,-247 97,-247\"/>\n",
       "<text text-anchor=\"middle\" x=\"82\" y=\"-225.3\" font-family=\"Times,serif\" font-size=\"14.00\">t1</text>\n",
       "</g>\n",
       "<!-- 5&#45;&gt;7 -->\n",
       "<g id=\"edge8\" class=\"edge\">\n",
       "<title>5-&gt;7</title>\n",
       "<path fill=\"none\" stroke=\"black\" d=\"M35.74,-297.97C40.98,-288.13 47.98,-275.63 55,-265 57.11,-261.8 59.43,-258.52 61.79,-255.31\"/>\n",
       "<polygon fill=\"black\" stroke=\"black\" points=\"64.77,-257.16 68.02,-247.08 59.2,-252.93 64.77,-257.16\"/>\n",
       "<text text-anchor=\"middle\" x=\"61.5\" y=\"-268.8\" font-family=\"Times,serif\" font-size=\"14.00\">\\e</text>\n",
       "</g>\n",
       "<!-- 6&#45;&gt;4 -->\n",
       "<g id=\"edge9\" class=\"edge\">\n",
       "<title>6-&gt;4</title>\n",
       "<path fill=\"none\" stroke=\"black\" d=\"M68.02,-471.92C63.67,-466.34 58.98,-460.02 55,-454 49.95,-446.36 44.92,-437.76 40.54,-429.87\"/>\n",
       "<polygon fill=\"black\" stroke=\"black\" points=\"43.59,-428.14 35.74,-421.03 37.44,-431.49 43.59,-428.14\"/>\n",
       "<text text-anchor=\"middle\" x=\"61.5\" y=\"-442.8\" font-family=\"Times,serif\" font-size=\"14.00\">\\e</text>\n",
       "</g>\n",
       "<!-- 6&#45;&gt;7 -->\n",
       "<g id=\"edge10\" class=\"edge\">\n",
       "<title>6-&gt;7</title>\n",
       "<path fill=\"none\" stroke=\"black\" d=\"M82,-471.6C82,-427.46 82,-310.83 82,-257.42\"/>\n",
       "<polygon fill=\"black\" stroke=\"black\" points=\"85.5,-257.32 82,-247.32 78.5,-257.32 85.5,-257.32\"/>\n",
       "<text text-anchor=\"middle\" x=\"88.5\" y=\"-355.8\" font-family=\"Times,serif\" font-size=\"14.00\">\\e</text>\n",
       "</g>\n",
       "<!-- 7&#45;&gt;3 -->\n",
       "<g id=\"edge11\" class=\"edge\">\n",
       "<title>7-&gt;3</title>\n",
       "<path fill=\"none\" stroke=\"black\" d=\"M109.12,-213.77C136.22,-199.55 178.04,-177.61 207.93,-161.92\"/>\n",
       "<polygon fill=\"black\" stroke=\"black\" points=\"209.57,-165.02 216.8,-157.27 206.32,-158.82 209.57,-165.02\"/>\n",
       "<text text-anchor=\"middle\" x=\"178.5\" y=\"-181.8\" font-family=\"Times,serif\" font-size=\"14.00\">\\e</text>\n",
       "</g>\n",
       "<!-- 8 -->\n",
       "<g id=\"node9\" class=\"node\">\n",
       "<title>8</title>\n",
       "<path fill=\"none\" stroke=\"black\" d=\"M152,-421C152,-421 122,-421 122,-421 116,-421 110,-415 110,-409 110,-409 110,-397 110,-397 110,-391 116,-385 122,-385 122,-385 152,-385 152,-385 158,-385 164,-391 164,-397 164,-397 164,-409 164,-409 164,-415 158,-421 152,-421\"/>\n",
       "<text text-anchor=\"middle\" x=\"137\" y=\"-399.3\" font-family=\"Times,serif\" font-size=\"14.00\">s2</text>\n",
       "</g>\n",
       "<!-- 9 -->\n",
       "<g id=\"node10\" class=\"node\">\n",
       "<title>9</title>\n",
       "<path fill=\"none\" stroke=\"black\" d=\"M152,-334C152,-334 122,-334 122,-334 116,-334 110,-328 110,-322 110,-322 110,-310 110,-310 110,-304 116,-298 122,-298 122,-298 152,-298 152,-298 158,-298 164,-304 164,-310 164,-310 164,-322 164,-322 164,-328 158,-334 152,-334\"/>\n",
       "<text text-anchor=\"middle\" x=\"137\" y=\"-312.3\" font-family=\"Times,serif\" font-size=\"14.00\">t2</text>\n",
       "</g>\n",
       "<!-- 8&#45;&gt;9 -->\n",
       "<g id=\"edge12\" class=\"edge\">\n",
       "<title>8-&gt;9</title>\n",
       "<path fill=\"none\" stroke=\"black\" d=\"M127.92,-384.65C125.5,-379.15 123.22,-372.96 122,-367 120.45,-359.43 121.59,-351.36 123.81,-343.96\"/>\n",
       "<polygon fill=\"black\" stroke=\"black\" points=\"127.16,-344.98 127.35,-334.39 120.6,-342.56 127.16,-344.98\"/>\n",
       "<text text-anchor=\"middle\" x=\"127\" y=\"-355.8\" font-family=\"Times,serif\" font-size=\"14.00\">b</text>\n",
       "</g>\n",
       "<!-- 9&#45;&gt;8 -->\n",
       "<g id=\"edge13\" class=\"edge\">\n",
       "<title>9-&gt;8</title>\n",
       "<path fill=\"none\" stroke=\"black\" d=\"M137,-334.18C137,-345.81 137,-361.42 137,-374.73\"/>\n",
       "<polygon fill=\"black\" stroke=\"black\" points=\"133.5,-374.8 137,-384.8 140.5,-374.8 133.5,-374.8\"/>\n",
       "<text text-anchor=\"middle\" x=\"143.5\" y=\"-355.8\" font-family=\"Times,serif\" font-size=\"14.00\">\\e</text>\n",
       "</g>\n",
       "<!-- 11 -->\n",
       "<g id=\"node12\" class=\"node\">\n",
       "<title>11</title>\n",
       "<path fill=\"none\" stroke=\"black\" d=\"M207,-247C207,-247 177,-247 177,-247 171,-247 165,-241 165,-235 165,-235 165,-223 165,-223 165,-217 171,-211 177,-211 177,-211 207,-211 207,-211 213,-211 219,-217 219,-223 219,-223 219,-235 219,-235 219,-241 213,-247 207,-247\"/>\n",
       "<text text-anchor=\"middle\" x=\"192\" y=\"-225.3\" font-family=\"Times,serif\" font-size=\"14.00\">t3</text>\n",
       "</g>\n",
       "<!-- 9&#45;&gt;11 -->\n",
       "<g id=\"edge14\" class=\"edge\">\n",
       "<title>9-&gt;11</title>\n",
       "<path fill=\"none\" stroke=\"black\" d=\"M145.74,-297.97C150.98,-288.13 157.98,-275.63 165,-265 167.11,-261.8 169.43,-258.52 171.79,-255.31\"/>\n",
       "<polygon fill=\"black\" stroke=\"black\" points=\"174.77,-257.16 178.02,-247.08 169.2,-252.93 174.77,-257.16\"/>\n",
       "<text text-anchor=\"middle\" x=\"171.5\" y=\"-268.8\" font-family=\"Times,serif\" font-size=\"14.00\">\\e</text>\n",
       "</g>\n",
       "<!-- 10&#45;&gt;8 -->\n",
       "<g id=\"edge15\" class=\"edge\">\n",
       "<title>10-&gt;8</title>\n",
       "<path fill=\"none\" stroke=\"black\" d=\"M164.81,-481.69C150.91,-476.42 135.22,-467.75 127,-454 122.85,-447.05 122.94,-438.69 124.77,-430.81\"/>\n",
       "<polygon fill=\"black\" stroke=\"black\" points=\"128.12,-431.82 127.83,-421.23 121.45,-429.69 128.12,-431.82\"/>\n",
       "<text text-anchor=\"middle\" x=\"152.5\" y=\"-442.8\" font-family=\"Times,serif\" font-size=\"14.00\">&lt;-1&gt;\\e</text>\n",
       "</g>\n",
       "<!-- 10&#45;&gt;11 -->\n",
       "<g id=\"edge16\" class=\"edge\">\n",
       "<title>10-&gt;11</title>\n",
       "<path fill=\"none\" stroke=\"black\" d=\"M192,-471.6C192,-427.46 192,-310.83 192,-257.42\"/>\n",
       "<polygon fill=\"black\" stroke=\"black\" points=\"195.5,-257.32 192,-247.32 188.5,-257.32 195.5,-257.32\"/>\n",
       "<text text-anchor=\"middle\" x=\"217.5\" y=\"-355.8\" font-family=\"Times,serif\" font-size=\"14.00\">&lt;-1&gt;\\e</text>\n",
       "</g>\n",
       "<!-- 11&#45;&gt;3 -->\n",
       "<g id=\"edge17\" class=\"edge\">\n",
       "<title>11-&gt;3</title>\n",
       "<path fill=\"none\" stroke=\"black\" d=\"M202.52,-210.8C209.85,-198.82 219.76,-182.62 228.06,-169.06\"/>\n",
       "<polygon fill=\"black\" stroke=\"black\" points=\"231.26,-170.53 233.49,-160.18 225.29,-166.88 231.26,-170.53\"/>\n",
       "<text text-anchor=\"middle\" x=\"227.5\" y=\"-181.8\" font-family=\"Times,serif\" font-size=\"14.00\">\\e</text>\n",
       "</g>\n",
       "<!-- 12&#45;&gt;2 -->\n",
       "<g id=\"edge18\" class=\"edge\">\n",
       "<title>12-&gt;2</title>\n",
       "<path fill=\"none\" stroke=\"black\" d=\"M270.32,-645.8C265.76,-634.05 259.62,-618.24 254.42,-604.84\"/>\n",
       "<polygon fill=\"black\" stroke=\"black\" points=\"257.55,-603.23 250.67,-595.18 251.02,-605.76 257.55,-603.23\"/>\n",
       "<text text-anchor=\"middle\" x=\"268.5\" y=\"-616.8\" font-family=\"Times,serif\" font-size=\"14.00\">\\e</text>\n",
       "</g>\n",
       "<!-- 12&#45;&gt;13 -->\n",
       "<g id=\"edge19\" class=\"edge\">\n",
       "<title>12-&gt;13</title>\n",
       "<path fill=\"none\" stroke=\"black\" d=\"M285.84,-645.92C293.72,-629.11 304,-602.46 304,-578 304,-578 304,-578 304,-141 304,-120.74 296.95,-98.99 290.05,-82.56\"/>\n",
       "<polygon fill=\"black\" stroke=\"black\" points=\"293.1,-80.8 285.84,-73.08 286.7,-83.64 293.1,-80.8\"/>\n",
       "<text text-anchor=\"middle\" x=\"310.5\" y=\"-355.8\" font-family=\"Times,serif\" font-size=\"14.00\">\\e</text>\n",
       "</g>\n",
       "<!-- 13&#45;&gt;F13 -->\n",
       "<g id=\"edge20\" class=\"edge\">\n",
       "<title>13-&gt;F13</title>\n",
       "<path fill=\"none\" stroke=\"DimGray\" d=\"M277,-36.94C277,-28.5 277,-18.58 277,-11.31\"/>\n",
       "<polygon fill=\"DimGray\" stroke=\"DimGray\" points=\"280.5,-11.06 277,-1.06 273.5,-11.06 280.5,-11.06\"/>\n",
       "</g>\n",
       "</g>\n",
       "</svg>"
      ],
      "text/plain": [
       "<IPython.core.display.SVG object>"
      ]
     },
     "metadata": {},
     "output_type": "display_data"
    }
   ],
   "source": [
    "G = g.exp_to_aut(method=\"thompson\")\n",
    "G.display(horizontal=False)\n"
   ]
  },
  {
   "cell_type": "markdown",
   "metadata": {},
   "source": [
    "In this case, `thompson` produces an automaton that **is not valid**."
   ]
  },
  {
   "cell_type": "code",
   "execution_count": 28,
   "metadata": {},
   "outputs": [
    {
     "data": {
      "text/plain": [
       "False"
      ]
     },
     "execution_count": 28,
     "metadata": {},
     "output_type": "execute_result"
    }
   ],
   "source": [
    "G.is_valid()"
   ]
  },
  {
   "cell_type": "markdown",
   "metadata": {},
   "source": [
    "## Other functions"
   ]
  },
  {
   "cell_type": "markdown",
   "metadata": {},
   "source": [
    "The method `constant_term` gives the weight of epsilon"
   ]
  },
  {
   "cell_type": "code",
   "execution_count": 29,
   "metadata": {},
   "outputs": [
    {
     "data": {
      "text/plain": [
       "<3>((<1/4>(a*)+<1/4>(b*))*)<2>"
      ]
     },
     "execution_count": 29,
     "metadata": {},
     "output_type": "execute_result"
    }
   ],
   "source": [
    "j = awalipy.RatExp(\"<3>((<1/4>(a*)+<1/4>(b*))*)<2>\",\"Q\")\n",
    "j"
   ]
  },
  {
   "cell_type": "code",
   "execution_count": 30,
   "metadata": {},
   "outputs": [
    {
     "data": {
      "text/plain": [
       "'12'"
      ]
     },
     "execution_count": 30,
     "metadata": {},
     "output_type": "execute_result"
    }
   ],
   "source": [
    "j.constant_term()"
   ]
  },
  {
   "cell_type": "markdown",
   "metadata": {},
   "source": [
    "<hr>\n"
   ]
  },
  {
   "cell_type": "code",
   "execution_count": 31,
   "metadata": {},
   "outputs": [
    {
     "data": {
      "text/plain": [
       "Q"
      ]
     },
     "execution_count": 31,
     "metadata": {},
     "output_type": "execute_result"
    }
   ],
   "source": [
    "j.get_weightset()"
   ]
  },
  {
   "cell_type": "markdown",
   "metadata": {},
   "source": [
    "## Decomposing RatExp's\n",
    "### Kind of RatExp's"
   ]
  },
  {
   "cell_type": "markdown",
   "metadata": {},
   "source": [
    "The method `exp.get_kind()` gives the top level kind of a RatExp `exp`. \n",
    "(For instance, below, the top level operator of expression `j` is the Kleene star.)"
   ]
  },
  {
   "cell_type": "code",
   "execution_count": 32,
   "metadata": {},
   "outputs": [
    {
     "data": {
      "text/plain": [
       "STAR~5"
      ]
     },
     "execution_count": 32,
     "metadata": {},
     "output_type": "execute_result"
    }
   ],
   "source": [
    "j.get_kind()"
   ]
  },
  {
   "cell_type": "markdown",
   "metadata": {},
   "source": [
    "The method `get_kind()` returns an object of `RatExpKind`, which is a sort of enum. The different instances are accessible as follows."
   ]
  },
  {
   "cell_type": "code",
   "execution_count": 33,
   "metadata": {},
   "outputs": [
    {
     "data": {
      "text/plain": [
       "ZERO~0"
      ]
     },
     "execution_count": 33,
     "metadata": {},
     "output_type": "execute_result"
    }
   ],
   "source": [
    "awalipy.RatExp.ZERO"
   ]
  },
  {
   "cell_type": "code",
   "execution_count": 34,
   "metadata": {},
   "outputs": [
    {
     "data": {
      "text/plain": [
       "ONE~1"
      ]
     },
     "execution_count": 34,
     "metadata": {},
     "output_type": "execute_result"
    }
   ],
   "source": [
    "awalipy.RatExp.ONE"
   ]
  },
  {
   "cell_type": "code",
   "execution_count": 35,
   "metadata": {},
   "outputs": [
    {
     "data": {
      "text/plain": [
       "ATOM~2"
      ]
     },
     "execution_count": 35,
     "metadata": {},
     "output_type": "execute_result"
    }
   ],
   "source": [
    "awalipy.RatExp.ATOM"
   ]
  },
  {
   "cell_type": "code",
   "execution_count": 36,
   "metadata": {},
   "outputs": [
    {
     "data": {
      "text/plain": [
       "SUM~3"
      ]
     },
     "execution_count": 36,
     "metadata": {},
     "output_type": "execute_result"
    }
   ],
   "source": [
    "awalipy.RatExp.SUM"
   ]
  },
  {
   "cell_type": "code",
   "execution_count": 37,
   "metadata": {},
   "outputs": [
    {
     "data": {
      "text/plain": [
       "PROD~4"
      ]
     },
     "execution_count": 37,
     "metadata": {},
     "output_type": "execute_result"
    }
   ],
   "source": [
    "awalipy.RatExp.PROD"
   ]
  },
  {
   "cell_type": "code",
   "execution_count": 38,
   "metadata": {},
   "outputs": [
    {
     "data": {
      "text/plain": [
       "STAR~5"
      ]
     },
     "execution_count": 38,
     "metadata": {},
     "output_type": "execute_result"
    }
   ],
   "source": [
    "awalipy.RatExp.STAR"
   ]
  },
  {
   "cell_type": "markdown",
   "metadata": {},
   "source": [
    "The list of all possible instances of `RatExpKind` can be accessed via `RatExpKind.instance`."
   ]
  },
  {
   "cell_type": "code",
   "execution_count": 39,
   "metadata": {},
   "outputs": [
    {
     "data": {
      "text/plain": [
       "[ZERO~0, ONE~1, ATOM~2, SUM~3, PROD~4, STAR~5]"
      ]
     },
     "execution_count": 39,
     "metadata": {},
     "output_type": "execute_result"
    }
   ],
   "source": [
    "awalipy.RatExpKind.instances"
   ]
  },
  {
   "cell_type": "markdown",
   "metadata": {},
   "source": [
    "Object of type `RatExpKind` can be converted to or built from their integer value or their string value as follows."
   ]
  },
  {
   "cell_type": "code",
   "execution_count": 40,
   "metadata": {},
   "outputs": [
    {
     "data": {
      "text/plain": [
       "STAR~5"
      ]
     },
     "execution_count": 40,
     "metadata": {},
     "output_type": "execute_result"
    }
   ],
   "source": [
    "awalipy.RatExpKind.of[\"STAR\"]"
   ]
  },
  {
   "cell_type": "code",
   "execution_count": 41,
   "metadata": {},
   "outputs": [
    {
     "data": {
      "text/plain": [
       "'PROD'"
      ]
     },
     "execution_count": 41,
     "metadata": {},
     "output_type": "execute_result"
    }
   ],
   "source": [
    "str(awalipy.RatExp.PROD)"
   ]
  },
  {
   "cell_type": "code",
   "execution_count": 42,
   "metadata": {},
   "outputs": [
    {
     "data": {
      "text/plain": [
       "ATOM~2"
      ]
     },
     "execution_count": 42,
     "metadata": {},
     "output_type": "execute_result"
    }
   ],
   "source": [
    "awalipy.RatExpKind.of[2]"
   ]
  },
  {
   "cell_type": "code",
   "execution_count": 43,
   "metadata": {},
   "outputs": [
    {
     "data": {
      "text/plain": [
       "2"
      ]
     },
     "execution_count": 43,
     "metadata": {},
     "output_type": "execute_result"
    }
   ],
   "source": [
    "int(awalipy.RatExp.ATOM)"
   ]
  },
  {
   "cell_type": "markdown",
   "metadata": {},
   "source": [
    "### Sub-expression"
   ]
  },
  {
   "cell_type": "markdown",
   "metadata": {},
   "source": [
    "The method `ratexp.children()` gives the sub-expressions of a `RatExp` `ratexp`."
   ]
  },
  {
   "cell_type": "code",
   "execution_count": 44,
   "metadata": {},
   "outputs": [
    {
     "data": {
      "text/plain": [
       "[<1/4>(a*)+<1/4>(b*)]"
      ]
     },
     "execution_count": 44,
     "metadata": {},
     "output_type": "execute_result"
    }
   ],
   "source": [
    "j.children()"
   ]
  },
  {
   "cell_type": "markdown",
   "metadata": {},
   "source": [
    "In the case where the expression is a `RatExp.ATOM`, then `children()` gives the held label as string."
   ]
  },
  {
   "cell_type": "code",
   "execution_count": 45,
   "metadata": {},
   "outputs": [
    {
     "data": {
      "text/plain": [
       "ATOM~2"
      ]
     },
     "execution_count": 45,
     "metadata": {},
     "output_type": "execute_result"
    }
   ],
   "source": [
    "k = awalipy.RatExp('a')\n",
    "k.get_kind()"
   ]
  },
  {
   "cell_type": "code",
   "execution_count": 46,
   "metadata": {},
   "outputs": [
    {
     "data": {
      "text/plain": [
       "['a']"
      ]
     },
     "execution_count": 46,
     "metadata": {},
     "output_type": "execute_result"
    }
   ],
   "source": [
    "k.children()"
   ]
  },
  {
   "cell_type": "markdown",
   "metadata": {},
   "source": [
    "\n"
   ]
  },
  {
   "cell_type": "code",
   "execution_count": 47,
   "metadata": {},
   "outputs": [
    {
     "data": {
      "text/plain": [
       "ATOM~2"
      ]
     },
     "execution_count": 47,
     "metadata": {},
     "output_type": "execute_result"
    }
   ],
   "source": [
    "l = awalipy.RatExp('<2>a','Z')\n",
    "l.get_kind()"
   ]
  },
  {
   "cell_type": "code",
   "execution_count": 48,
   "metadata": {},
   "outputs": [
    {
     "data": {
      "text/plain": [
       "['a']"
      ]
     },
     "execution_count": 48,
     "metadata": {},
     "output_type": "execute_result"
    }
   ],
   "source": [
    "l.children()"
   ]
  },
  {
   "cell_type": "markdown",
   "metadata": {},
   "source": [
    "### Weights"
   ]
  },
  {
   "cell_type": "markdown",
   "metadata": {},
   "source": [
    "The method `ratexp.weight()` gives the left and right weights of a `RatExp` `ratexp`."
   ]
  },
  {
   "cell_type": "code",
   "execution_count": 49,
   "metadata": {},
   "outputs": [
    {
     "data": {
      "image/svg+xml": [
       "<svg xmlns=\"http://www.w3.org/2000/svg\" xmlns:xlink=\"http://www.w3.org/1999/xlink\" width=\"461pt\" height=\"98pt\" viewBox=\"0.00 0.00 461.00 98.00\">\n",
       "<g id=\"graph0\" class=\"graph\" transform=\"scale(1 1) rotate(0) translate(4 94)\">\n",
       "<title>%3</title>\n",
       "<polygon fill=\"white\" stroke=\"transparent\" points=\"-4,4 -4,-94 457,-94 457,4 -4,4\"/>\n",
       "<!-- I7 -->\n",
       "<g id=\"node1\" class=\"node\">\n",
       "<title>I7</title>\n",
       "<ellipse fill=\"black\" stroke=\"black\" cx=\"0\" cy=\"-45\" rx=\"0\" ry=\"0\"/>\n",
       "</g>\n",
       "<!-- 7 -->\n",
       "<g id=\"node7\" class=\"node\">\n",
       "<title>7</title>\n",
       "<path fill=\"none\" stroke=\"DimGray\" d=\"M125,-63C125,-63 49,-63 49,-63 43,-63 37,-57 37,-51 37,-51 37,-39 37,-39 37,-33 43,-27 49,-27 49,-27 125,-27 125,-27 131,-27 137,-33 137,-39 137,-39 137,-51 137,-51 137,-57 131,-63 125,-63\"/>\n",
       "<text text-anchor=\"middle\" x=\"87\" y=\"-41.3\" font-family=\"Times,serif\" font-size=\"14.00\">&lt;3&gt;[*]&lt;2&gt;</text>\n",
       "</g>\n",
       "<!-- I7&#45;&gt;7 -->\n",
       "<g id=\"edge1\" class=\"edge\">\n",
       "<title>I7-&gt;7</title>\n",
       "<path fill=\"none\" stroke=\"DimGray\" d=\"M1.06,-45C1.97,-45 12.76,-45 26.37,-45\"/>\n",
       "<polygon fill=\"DimGray\" stroke=\"DimGray\" points=\"26.68,-48.5 36.68,-45 26.68,-41.5 26.68,-48.5\"/>\n",
       "</g>\n",
       "<!-- 2 -->\n",
       "<g id=\"node2\" class=\"node\">\n",
       "<title>2</title>\n",
       "<path fill=\"none\" stroke=\"DimGray\" d=\"M220,-63C220,-63 190,-63 190,-63 184,-63 178,-57 178,-51 178,-51 178,-39 178,-39 178,-33 184,-27 190,-27 190,-27 220,-27 220,-27 226,-27 232,-33 232,-39 232,-39 232,-51 232,-51 232,-57 226,-63 220,-63\"/>\n",
       "<text text-anchor=\"middle\" x=\"205\" y=\"-41.3\" font-family=\"Times,serif\" font-size=\"14.00\">[+]</text>\n",
       "</g>\n",
       "<!-- 4 -->\n",
       "<g id=\"node4\" class=\"node\">\n",
       "<title>4</title>\n",
       "<path fill=\"none\" stroke=\"DimGray\" d=\"M346,-90C346,-90 290,-90 290,-90 284,-90 278,-84 278,-78 278,-78 278,-66 278,-66 278,-60 284,-54 290,-54 290,-54 346,-54 346,-54 352,-54 358,-60 358,-66 358,-66 358,-78 358,-78 358,-84 352,-90 346,-90\"/>\n",
       "<text text-anchor=\"middle\" x=\"318\" y=\"-68.3\" font-family=\"Times,serif\" font-size=\"14.00\">&lt;1/4&gt;[*]</text>\n",
       "</g>\n",
       "<!-- 2&#45;&gt;4 -->\n",
       "<g id=\"edge2\" class=\"edge\">\n",
       "<title>2-&gt;4</title>\n",
       "<path fill=\"none\" stroke=\"DimGray\" d=\"M232.02,-51.33C242.74,-53.94 255.53,-57.05 267.89,-60.05\"/>\n",
       "<polygon fill=\"DimGray\" stroke=\"DimGray\" points=\"267.11,-63.47 277.66,-62.43 268.77,-56.67 267.11,-63.47\"/>\n",
       "<text text-anchor=\"middle\" x=\"255\" y=\"-60.8\" font-family=\"Times,serif\" font-size=\"14.00\">.</text>\n",
       "</g>\n",
       "<!-- 6 -->\n",
       "<g id=\"node6\" class=\"node\">\n",
       "<title>6</title>\n",
       "<path fill=\"none\" stroke=\"DimGray\" d=\"M346,-36C346,-36 290,-36 290,-36 284,-36 278,-30 278,-24 278,-24 278,-12 278,-12 278,-6 284,0 290,0 290,0 346,0 346,0 352,0 358,-6 358,-12 358,-12 358,-24 358,-24 358,-30 352,-36 346,-36\"/>\n",
       "<text text-anchor=\"middle\" x=\"318\" y=\"-14.3\" font-family=\"Times,serif\" font-size=\"14.00\">&lt;1/4&gt;[*]</text>\n",
       "</g>\n",
       "<!-- 2&#45;&gt;6 -->\n",
       "<g id=\"edge3\" class=\"edge\">\n",
       "<title>2-&gt;6</title>\n",
       "<path fill=\"none\" stroke=\"DimGray\" d=\"M232.02,-38.67C242.74,-36.06 255.53,-32.95 267.89,-29.95\"/>\n",
       "<polygon fill=\"DimGray\" stroke=\"DimGray\" points=\"268.77,-33.33 277.66,-27.57 267.11,-26.53 268.77,-33.33\"/>\n",
       "<text text-anchor=\"middle\" x=\"255\" y=\"-36.8\" font-family=\"Times,serif\" font-size=\"14.00\">..</text>\n",
       "</g>\n",
       "<!-- 3 -->\n",
       "<g id=\"node3\" class=\"node\">\n",
       "<title>3</title>\n",
       "<path fill=\"none\" stroke=\"DimGray\" d=\"M441,-90C441,-90 411,-90 411,-90 405,-90 399,-84 399,-78 399,-78 399,-66 399,-66 399,-60 405,-54 411,-54 411,-54 441,-54 441,-54 447,-54 453,-60 453,-66 453,-66 453,-78 453,-78 453,-84 447,-90 441,-90\"/>\n",
       "<text text-anchor=\"middle\" x=\"426\" y=\"-68.3\" font-family=\"Times,serif\" font-size=\"14.00\">a</text>\n",
       "</g>\n",
       "<!-- 4&#45;&gt;3 -->\n",
       "<g id=\"edge4\" class=\"edge\">\n",
       "<title>4-&gt;3</title>\n",
       "<path fill=\"none\" stroke=\"DimGray\" d=\"M358.17,-72C368.13,-72 378.79,-72 388.61,-72\"/>\n",
       "<polygon fill=\"DimGray\" stroke=\"DimGray\" points=\"388.86,-75.5 398.86,-72 388.86,-68.5 388.86,-75.5\"/>\n",
       "<text text-anchor=\"middle\" x=\"378.5\" y=\"-75.8\" font-family=\"Times,serif\" font-size=\"14.00\"> </text>\n",
       "</g>\n",
       "<!-- 5 -->\n",
       "<g id=\"node5\" class=\"node\">\n",
       "<title>5</title>\n",
       "<path fill=\"none\" stroke=\"DimGray\" d=\"M441,-36C441,-36 411,-36 411,-36 405,-36 399,-30 399,-24 399,-24 399,-12 399,-12 399,-6 405,0 411,0 411,0 441,0 441,0 447,0 453,-6 453,-12 453,-12 453,-24 453,-24 453,-30 447,-36 441,-36\"/>\n",
       "<text text-anchor=\"middle\" x=\"426\" y=\"-14.3\" font-family=\"Times,serif\" font-size=\"14.00\">b</text>\n",
       "</g>\n",
       "<!-- 6&#45;&gt;5 -->\n",
       "<g id=\"edge5\" class=\"edge\">\n",
       "<title>6-&gt;5</title>\n",
       "<path fill=\"none\" stroke=\"DimGray\" d=\"M358.17,-18C368.13,-18 378.79,-18 388.61,-18\"/>\n",
       "<polygon fill=\"DimGray\" stroke=\"DimGray\" points=\"388.86,-21.5 398.86,-18 388.86,-14.5 388.86,-21.5\"/>\n",
       "<text text-anchor=\"middle\" x=\"378.5\" y=\"-21.8\" font-family=\"Times,serif\" font-size=\"14.00\"> </text>\n",
       "</g>\n",
       "<!-- 7&#45;&gt;2 -->\n",
       "<g id=\"edge6\" class=\"edge\">\n",
       "<title>7-&gt;2</title>\n",
       "<path fill=\"none\" stroke=\"DimGray\" d=\"M137.19,-45C147.44,-45 158.07,-45 167.75,-45\"/>\n",
       "<polygon fill=\"DimGray\" stroke=\"DimGray\" points=\"167.82,-48.5 177.82,-45 167.82,-41.5 167.82,-48.5\"/>\n",
       "<text text-anchor=\"middle\" x=\"157.5\" y=\"-48.8\" font-family=\"Times,serif\" font-size=\"14.00\"> </text>\n",
       "</g>\n",
       "</g>\n",
       "</svg>"
      ],
      "text/plain": [
       "<IPython.core.display.SVG object>"
      ]
     },
     "metadata": {},
     "output_type": "display_data"
    }
   ],
   "source": [
    "j.display()"
   ]
  },
  {
   "cell_type": "code",
   "execution_count": 50,
   "metadata": {},
   "outputs": [
    {
     "data": {
      "text/plain": [
       "['3', '2']"
      ]
     },
     "execution_count": 50,
     "metadata": {},
     "output_type": "execute_result"
    }
   ],
   "source": [
    "j.weight()"
   ]
  },
  {
   "cell_type": "markdown",
   "metadata": {},
   "source": [
    "\n"
   ]
  },
  {
   "cell_type": "code",
   "execution_count": 51,
   "metadata": {},
   "outputs": [
    {
     "data": {
      "image/svg+xml": [
       "<svg xmlns=\"http://www.w3.org/2000/svg\" xmlns:xlink=\"http://www.w3.org/1999/xlink\" width=\"98pt\" height=\"44pt\" viewBox=\"0.00 0.00 98.00 44.00\">\n",
       "<g id=\"graph0\" class=\"graph\" transform=\"scale(1 1) rotate(0) translate(4 40)\">\n",
       "<title>%3</title>\n",
       "<polygon fill=\"white\" stroke=\"transparent\" points=\"-4,4 -4,-40 94,-40 94,4 -4,4\"/>\n",
       "<!-- I2 -->\n",
       "<g id=\"node1\" class=\"node\">\n",
       "<title>I2</title>\n",
       "<ellipse fill=\"black\" stroke=\"black\" cx=\"0\" cy=\"-18\" rx=\"0\" ry=\"0\"/>\n",
       "</g>\n",
       "<!-- 2 -->\n",
       "<g id=\"node2\" class=\"node\">\n",
       "<title>2</title>\n",
       "<path fill=\"none\" stroke=\"DimGray\" d=\"M78,-36C78,-36 48,-36 48,-36 42,-36 36,-30 36,-24 36,-24 36,-12 36,-12 36,-6 42,0 48,0 48,0 78,0 78,0 84,0 90,-6 90,-12 90,-12 90,-24 90,-24 90,-30 84,-36 78,-36\"/>\n",
       "<text text-anchor=\"middle\" x=\"63\" y=\"-14.3\" font-family=\"Times,serif\" font-size=\"14.00\">a</text>\n",
       "</g>\n",
       "<!-- I2&#45;&gt;2 -->\n",
       "<g id=\"edge1\" class=\"edge\">\n",
       "<title>I2-&gt;2</title>\n",
       "<path fill=\"none\" stroke=\"DimGray\" d=\"M1.04,-18C1.83,-18 12.98,-18 25.53,-18\"/>\n",
       "<polygon fill=\"DimGray\" stroke=\"DimGray\" points=\"25.72,-21.5 35.72,-18 25.72,-14.5 25.72,-21.5\"/>\n",
       "</g>\n",
       "</g>\n",
       "</svg>"
      ],
      "text/plain": [
       "<IPython.core.display.SVG object>"
      ]
     },
     "metadata": {},
     "output_type": "display_data"
    }
   ],
   "source": [
    "k.display()"
   ]
  },
  {
   "cell_type": "code",
   "execution_count": 52,
   "metadata": {},
   "outputs": [
    {
     "data": {
      "text/plain": [
       "['true', 'true']"
      ]
     },
     "execution_count": 52,
     "metadata": {},
     "output_type": "execute_result"
    }
   ],
   "source": [
    "k.weight()"
   ]
  },
  {
   "cell_type": "markdown",
   "metadata": {},
   "source": [
    "\n"
   ]
  },
  {
   "cell_type": "code",
   "execution_count": 53,
   "metadata": {},
   "outputs": [
    {
     "data": {
      "image/svg+xml": [
       "<svg xmlns=\"http://www.w3.org/2000/svg\" xmlns:xlink=\"http://www.w3.org/1999/xlink\" width=\"102pt\" height=\"44pt\" viewBox=\"0.00 0.00 102.00 44.00\">\n",
       "<g id=\"graph0\" class=\"graph\" transform=\"scale(1 1) rotate(0) translate(4 40)\">\n",
       "<title>%3</title>\n",
       "<polygon fill=\"white\" stroke=\"transparent\" points=\"-4,4 -4,-40 98,-40 98,4 -4,4\"/>\n",
       "<!-- I2 -->\n",
       "<g id=\"node1\" class=\"node\">\n",
       "<title>I2</title>\n",
       "<ellipse fill=\"black\" stroke=\"black\" cx=\"0\" cy=\"-18\" rx=\"0\" ry=\"0\"/>\n",
       "</g>\n",
       "<!-- 2 -->\n",
       "<g id=\"node2\" class=\"node\">\n",
       "<title>2</title>\n",
       "<path fill=\"none\" stroke=\"DimGray\" d=\"M82,-36C82,-36 48,-36 48,-36 42,-36 36,-30 36,-24 36,-24 36,-12 36,-12 36,-6 42,0 48,0 48,0 82,0 82,0 88,0 94,-6 94,-12 94,-12 94,-24 94,-24 94,-30 88,-36 82,-36\"/>\n",
       "<text text-anchor=\"middle\" x=\"65\" y=\"-14.3\" font-family=\"Times,serif\" font-size=\"14.00\">&lt;2&gt;a</text>\n",
       "</g>\n",
       "<!-- I2&#45;&gt;2 -->\n",
       "<g id=\"edge1\" class=\"edge\">\n",
       "<title>I2-&gt;2</title>\n",
       "<path fill=\"none\" stroke=\"DimGray\" d=\"M1.05,-18C1.84,-18 12.87,-18 25.49,-18\"/>\n",
       "<polygon fill=\"DimGray\" stroke=\"DimGray\" points=\"25.78,-21.5 35.78,-18 25.78,-14.5 25.78,-21.5\"/>\n",
       "</g>\n",
       "</g>\n",
       "</svg>"
      ],
      "text/plain": [
       "<IPython.core.display.SVG object>"
      ]
     },
     "metadata": {},
     "output_type": "display_data"
    }
   ],
   "source": [
    "l.display()"
   ]
  },
  {
   "cell_type": "code",
   "execution_count": 54,
   "metadata": {},
   "outputs": [
    {
     "data": {
      "text/plain": [
       "['2', '1']"
      ]
     },
     "execution_count": 54,
     "metadata": {},
     "output_type": "execute_result"
    }
   ],
   "source": [
    "l.weight()"
   ]
  },
  {
   "cell_type": "markdown",
   "metadata": {},
   "source": [
    "### Unpack a RatExp"
   ]
  },
  {
   "cell_type": "markdown",
   "metadata": {},
   "source": [
    "The method `ratexp.content()` gives the full top-level content of a `RatExp` `exp`."
   ]
  },
  {
   "cell_type": "code",
   "execution_count": 55,
   "metadata": {},
   "outputs": [
    {
     "data": {
      "image/svg+xml": [
       "<svg xmlns=\"http://www.w3.org/2000/svg\" xmlns:xlink=\"http://www.w3.org/1999/xlink\" width=\"461pt\" height=\"98pt\" viewBox=\"0.00 0.00 461.00 98.00\">\n",
       "<g id=\"graph0\" class=\"graph\" transform=\"scale(1 1) rotate(0) translate(4 94)\">\n",
       "<title>%3</title>\n",
       "<polygon fill=\"white\" stroke=\"transparent\" points=\"-4,4 -4,-94 457,-94 457,4 -4,4\"/>\n",
       "<!-- I7 -->\n",
       "<g id=\"node1\" class=\"node\">\n",
       "<title>I7</title>\n",
       "<ellipse fill=\"black\" stroke=\"black\" cx=\"0\" cy=\"-45\" rx=\"0\" ry=\"0\"/>\n",
       "</g>\n",
       "<!-- 7 -->\n",
       "<g id=\"node7\" class=\"node\">\n",
       "<title>7</title>\n",
       "<path fill=\"none\" stroke=\"DimGray\" d=\"M125,-63C125,-63 49,-63 49,-63 43,-63 37,-57 37,-51 37,-51 37,-39 37,-39 37,-33 43,-27 49,-27 49,-27 125,-27 125,-27 131,-27 137,-33 137,-39 137,-39 137,-51 137,-51 137,-57 131,-63 125,-63\"/>\n",
       "<text text-anchor=\"middle\" x=\"87\" y=\"-41.3\" font-family=\"Times,serif\" font-size=\"14.00\">&lt;3&gt;[*]&lt;2&gt;</text>\n",
       "</g>\n",
       "<!-- I7&#45;&gt;7 -->\n",
       "<g id=\"edge1\" class=\"edge\">\n",
       "<title>I7-&gt;7</title>\n",
       "<path fill=\"none\" stroke=\"DimGray\" d=\"M1.06,-45C1.97,-45 12.76,-45 26.37,-45\"/>\n",
       "<polygon fill=\"DimGray\" stroke=\"DimGray\" points=\"26.68,-48.5 36.68,-45 26.68,-41.5 26.68,-48.5\"/>\n",
       "</g>\n",
       "<!-- 2 -->\n",
       "<g id=\"node2\" class=\"node\">\n",
       "<title>2</title>\n",
       "<path fill=\"none\" stroke=\"DimGray\" d=\"M220,-63C220,-63 190,-63 190,-63 184,-63 178,-57 178,-51 178,-51 178,-39 178,-39 178,-33 184,-27 190,-27 190,-27 220,-27 220,-27 226,-27 232,-33 232,-39 232,-39 232,-51 232,-51 232,-57 226,-63 220,-63\"/>\n",
       "<text text-anchor=\"middle\" x=\"205\" y=\"-41.3\" font-family=\"Times,serif\" font-size=\"14.00\">[+]</text>\n",
       "</g>\n",
       "<!-- 4 -->\n",
       "<g id=\"node4\" class=\"node\">\n",
       "<title>4</title>\n",
       "<path fill=\"none\" stroke=\"DimGray\" d=\"M346,-90C346,-90 290,-90 290,-90 284,-90 278,-84 278,-78 278,-78 278,-66 278,-66 278,-60 284,-54 290,-54 290,-54 346,-54 346,-54 352,-54 358,-60 358,-66 358,-66 358,-78 358,-78 358,-84 352,-90 346,-90\"/>\n",
       "<text text-anchor=\"middle\" x=\"318\" y=\"-68.3\" font-family=\"Times,serif\" font-size=\"14.00\">&lt;1/4&gt;[*]</text>\n",
       "</g>\n",
       "<!-- 2&#45;&gt;4 -->\n",
       "<g id=\"edge2\" class=\"edge\">\n",
       "<title>2-&gt;4</title>\n",
       "<path fill=\"none\" stroke=\"DimGray\" d=\"M232.02,-51.33C242.74,-53.94 255.53,-57.05 267.89,-60.05\"/>\n",
       "<polygon fill=\"DimGray\" stroke=\"DimGray\" points=\"267.11,-63.47 277.66,-62.43 268.77,-56.67 267.11,-63.47\"/>\n",
       "<text text-anchor=\"middle\" x=\"255\" y=\"-60.8\" font-family=\"Times,serif\" font-size=\"14.00\">.</text>\n",
       "</g>\n",
       "<!-- 6 -->\n",
       "<g id=\"node6\" class=\"node\">\n",
       "<title>6</title>\n",
       "<path fill=\"none\" stroke=\"DimGray\" d=\"M346,-36C346,-36 290,-36 290,-36 284,-36 278,-30 278,-24 278,-24 278,-12 278,-12 278,-6 284,0 290,0 290,0 346,0 346,0 352,0 358,-6 358,-12 358,-12 358,-24 358,-24 358,-30 352,-36 346,-36\"/>\n",
       "<text text-anchor=\"middle\" x=\"318\" y=\"-14.3\" font-family=\"Times,serif\" font-size=\"14.00\">&lt;1/4&gt;[*]</text>\n",
       "</g>\n",
       "<!-- 2&#45;&gt;6 -->\n",
       "<g id=\"edge3\" class=\"edge\">\n",
       "<title>2-&gt;6</title>\n",
       "<path fill=\"none\" stroke=\"DimGray\" d=\"M232.02,-38.67C242.74,-36.06 255.53,-32.95 267.89,-29.95\"/>\n",
       "<polygon fill=\"DimGray\" stroke=\"DimGray\" points=\"268.77,-33.33 277.66,-27.57 267.11,-26.53 268.77,-33.33\"/>\n",
       "<text text-anchor=\"middle\" x=\"255\" y=\"-36.8\" font-family=\"Times,serif\" font-size=\"14.00\">..</text>\n",
       "</g>\n",
       "<!-- 3 -->\n",
       "<g id=\"node3\" class=\"node\">\n",
       "<title>3</title>\n",
       "<path fill=\"none\" stroke=\"DimGray\" d=\"M441,-90C441,-90 411,-90 411,-90 405,-90 399,-84 399,-78 399,-78 399,-66 399,-66 399,-60 405,-54 411,-54 411,-54 441,-54 441,-54 447,-54 453,-60 453,-66 453,-66 453,-78 453,-78 453,-84 447,-90 441,-90\"/>\n",
       "<text text-anchor=\"middle\" x=\"426\" y=\"-68.3\" font-family=\"Times,serif\" font-size=\"14.00\">a</text>\n",
       "</g>\n",
       "<!-- 4&#45;&gt;3 -->\n",
       "<g id=\"edge4\" class=\"edge\">\n",
       "<title>4-&gt;3</title>\n",
       "<path fill=\"none\" stroke=\"DimGray\" d=\"M358.17,-72C368.13,-72 378.79,-72 388.61,-72\"/>\n",
       "<polygon fill=\"DimGray\" stroke=\"DimGray\" points=\"388.86,-75.5 398.86,-72 388.86,-68.5 388.86,-75.5\"/>\n",
       "<text text-anchor=\"middle\" x=\"378.5\" y=\"-75.8\" font-family=\"Times,serif\" font-size=\"14.00\"> </text>\n",
       "</g>\n",
       "<!-- 5 -->\n",
       "<g id=\"node5\" class=\"node\">\n",
       "<title>5</title>\n",
       "<path fill=\"none\" stroke=\"DimGray\" d=\"M441,-36C441,-36 411,-36 411,-36 405,-36 399,-30 399,-24 399,-24 399,-12 399,-12 399,-6 405,0 411,0 411,0 441,0 441,0 447,0 453,-6 453,-12 453,-12 453,-24 453,-24 453,-30 447,-36 441,-36\"/>\n",
       "<text text-anchor=\"middle\" x=\"426\" y=\"-14.3\" font-family=\"Times,serif\" font-size=\"14.00\">b</text>\n",
       "</g>\n",
       "<!-- 6&#45;&gt;5 -->\n",
       "<g id=\"edge5\" class=\"edge\">\n",
       "<title>6-&gt;5</title>\n",
       "<path fill=\"none\" stroke=\"DimGray\" d=\"M358.17,-18C368.13,-18 378.79,-18 388.61,-18\"/>\n",
       "<polygon fill=\"DimGray\" stroke=\"DimGray\" points=\"388.86,-21.5 398.86,-18 388.86,-14.5 388.86,-21.5\"/>\n",
       "<text text-anchor=\"middle\" x=\"378.5\" y=\"-21.8\" font-family=\"Times,serif\" font-size=\"14.00\"> </text>\n",
       "</g>\n",
       "<!-- 7&#45;&gt;2 -->\n",
       "<g id=\"edge6\" class=\"edge\">\n",
       "<title>7-&gt;2</title>\n",
       "<path fill=\"none\" stroke=\"DimGray\" d=\"M137.19,-45C147.44,-45 158.07,-45 167.75,-45\"/>\n",
       "<polygon fill=\"DimGray\" stroke=\"DimGray\" points=\"167.82,-48.5 177.82,-45 167.82,-41.5 167.82,-48.5\"/>\n",
       "<text text-anchor=\"middle\" x=\"157.5\" y=\"-48.8\" font-family=\"Times,serif\" font-size=\"14.00\"> </text>\n",
       "</g>\n",
       "</g>\n",
       "</svg>"
      ],
      "text/plain": [
       "<IPython.core.display.SVG object>"
      ]
     },
     "metadata": {},
     "output_type": "display_data"
    },
    {
     "data": {
      "text/plain": [
       "<3>((<1/4>(a*)+<1/4>(b*))*)<2>"
      ]
     },
     "execution_count": 55,
     "metadata": {},
     "output_type": "execute_result"
    }
   ],
   "source": [
    "j.display()\n",
    "j"
   ]
  },
  {
   "cell_type": "code",
   "execution_count": 56,
   "metadata": {},
   "outputs": [
    {
     "data": {
      "text/plain": [
       "[STAR~5, '3', <1/4>(a*)+<1/4>(b*), '2']"
      ]
     },
     "execution_count": 56,
     "metadata": {},
     "output_type": "execute_result"
    }
   ],
   "source": [
    "j.content()"
   ]
  },
  {
   "cell_type": "code",
   "execution_count": null,
   "metadata": {},
   "outputs": [],
   "source": []
  },
  {
   "cell_type": "code",
   "execution_count": null,
   "metadata": {},
   "outputs": [],
   "source": []
  },
  {
   "cell_type": "code",
   "execution_count": null,
   "metadata": {},
   "outputs": [],
   "source": []
  },
  {
   "cell_type": "code",
   "execution_count": null,
   "metadata": {},
   "outputs": [],
   "source": []
  },
  {
   "cell_type": "code",
   "execution_count": null,
   "metadata": {},
   "outputs": [],
   "source": []
  }
 ],
 "metadata": {
  "kernelspec": {
   "display_name": "Python 3",
   "language": "python",
   "name": "python3"
  },
  "language_info": {
   "codemirror_mode": {
    "name": "ipython",
    "version": 3
   },
   "file_extension": ".py",
   "mimetype": "text/x-python",
   "name": "python",
   "nbconvert_exporter": "python",
   "pygments_lexer": "ipython3",
   "version": "3.9.2"
  }
 },
 "nbformat": 4,
 "nbformat_minor": 1
}
