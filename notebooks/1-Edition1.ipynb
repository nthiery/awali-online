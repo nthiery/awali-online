{
 "cells": [
  {
   "cell_type": "markdown",
   "metadata": {},
   "source": [
    "# Edition, visualisation, traversal\n",
    "## Boolean automata\n"
   ]
  },
  {
   "cell_type": "code",
   "execution_count": 2,
   "metadata": {},
   "outputs": [
    {
     "name": "stdout",
     "output_type": "stream",
     "text": [
      "[Warning] The python module awalipy relies on compilation executed \"on-the-fly\" depending on the context (type of weights, of labels, etc.). As a result, the very first call to a given function in a given context may take up to one minute. \n"
     ]
    }
   ],
   "source": [
    "import awalipy # If import fails, check that \n",
    "               # Python version used as Jupyter\n",
    "               # kernel matches the one\n",
    "               # Awalipy was compiled with."
   ]
  },
  {
   "cell_type": "markdown",
   "metadata": {},
   "source": [
    "(The above warning is displayed every time awalipy is imported.)"
   ]
  },
  {
   "cell_type": "markdown",
   "metadata": {},
   "source": [
    "## Creating an automaton"
   ]
  },
  {
   "cell_type": "markdown",
   "metadata": {},
   "source": [
    "Alphabets we use are Python `str`\n",
    "- each `char` of the `str` is a letter the alphabet\n",
    "- order does not matter (`\"abc\"` and `\"bac\"` represent the same alphabet)"
   ]
  },
  {
   "cell_type": "code",
   "execution_count": 3,
   "metadata": {},
   "outputs": [],
   "source": [
    "alph1 = \"abc\"  # represents {a,b,c}\n",
    "alph2 = \"01\"   # represents {0,1}"
   ]
  },
  {
   "cell_type": "markdown",
   "metadata": {},
   "source": [
    "An **automaton** is built from an alphabet"
   ]
  },
  {
   "cell_type": "code",
   "execution_count": 4,
   "metadata": {},
   "outputs": [],
   "source": [
    "A = awalipy.Automaton(alph1)\n",
    "# or directly  `awalipy.Automaton(\"abc\")`"
   ]
  },
  {
   "cell_type": "markdown",
   "metadata": {},
   "source": [
    "`A` is an automaton with no states and no transitions over the alphabet {a,b,c}"
   ]
  },
  {
   "cell_type": "markdown",
   "metadata": {},
   "source": [
    "---\n",
    "Adding states\n",
    "\n",
    "By default the displayed name of the state is given by its index: the first state is named `\"s0\"`, the second `\"s1\"`, etc."
   ]
  },
  {
   "cell_type": "code",
   "execution_count": 5,
   "metadata": {},
   "outputs": [],
   "source": [
    "stt_0 = A.add_state()\n",
    "stt_1 = A.add_state()"
   ]
  },
  {
   "cell_type": "markdown",
   "metadata": {},
   "source": [
    "---\n",
    "Adding transitions"
   ]
  },
  {
   "cell_type": "code",
   "execution_count": 6,
   "metadata": {},
   "outputs": [],
   "source": [
    "tr_0 = A.set_transition(stt_0,stt_1,'a')\n",
    "tr_1 = A.set_transition(stt_1,stt_0,'b')\n",
    "tr_2 = A.set_transition(stt_0,stt_0,'b')"
   ]
  },
  {
   "cell_type": "markdown",
   "metadata": {},
   "source": [
    "<hr>\n",
    "There is no Python class for transitions or states. We manipulate only their identifiers."
   ]
  },
  {
   "cell_type": "code",
   "execution_count": 7,
   "metadata": {},
   "outputs": [
    {
     "name": "stdout",
     "output_type": "stream",
     "text": [
      "0\n",
      "2\n"
     ]
    }
   ],
   "source": [
    "print (stt_0)\n",
    "print (tr_2)"
   ]
  },
  {
   "cell_type": "markdown",
   "metadata": {},
   "source": [
    "---\n",
    "Making states initial or final"
   ]
  },
  {
   "cell_type": "code",
   "execution_count": 8,
   "metadata": {},
   "outputs": [],
   "source": [
    "A.set_initial(stt_0)\n",
    "A.set_final(stt_1)"
   ]
  },
  {
   "cell_type": "markdown",
   "metadata": {},
   "source": [
    "# Displaying an automaton"
   ]
  },
  {
   "cell_type": "markdown",
   "metadata": {},
   "source": [
    "Displaying an automaton graphically, using dot for state placement.<br>\n",
    "(Works well for small automata only.)"
   ]
  },
  {
   "cell_type": "code",
   "execution_count": 9,
   "metadata": {},
   "outputs": [
    {
     "data": {
      "image/svg+xml": [
       "<svg xmlns=\"http://www.w3.org/2000/svg\" xmlns:xlink=\"http://www.w3.org/1999/xlink\" width=\"236pt\" height=\"79pt\" viewBox=\"0.00 0.00 236.00 78.96\">\n",
       "<g id=\"graph0\" class=\"graph\" transform=\"scale(1 1) rotate(0) translate(4 74.96)\">\n",
       "<title>%3</title>\n",
       "<polygon fill=\"white\" stroke=\"transparent\" points=\"-4,4 -4,-74.96 232,-74.96 232,4 -4,4\"/>\n",
       "<!-- I2 -->\n",
       "<g id=\"node1\" class=\"node\">\n",
       "<title>I2</title>\n",
       "<ellipse fill=\"black\" stroke=\"black\" cx=\"0\" cy=\"-19.96\" rx=\"0\" ry=\"0\"/>\n",
       "</g>\n",
       "<!-- 2 -->\n",
       "<g id=\"node3\" class=\"node\">\n",
       "<title>2</title>\n",
       "<path fill=\"none\" stroke=\"black\" d=\"M79,-37.96C79,-37.96 49,-37.96 49,-37.96 43,-37.96 37,-31.96 37,-25.96 37,-25.96 37,-13.96 37,-13.96 37,-7.96 43,-1.96 49,-1.96 49,-1.96 79,-1.96 79,-1.96 85,-1.96 91,-7.96 91,-13.96 91,-13.96 91,-25.96 91,-25.96 91,-31.96 85,-37.96 79,-37.96\"/>\n",
       "<text text-anchor=\"middle\" x=\"64\" y=\"-16.26\" font-family=\"Times,serif\" font-size=\"14.00\">$0</text>\n",
       "</g>\n",
       "<!-- I2&#45;&gt;2 -->\n",
       "<g id=\"edge1\" class=\"edge\">\n",
       "<title>I2-&gt;2</title>\n",
       "<path fill=\"none\" stroke=\"DimGray\" d=\"M1.04,-19.96C1.86,-19.96 13.73,-19.96 26.87,-19.96\"/>\n",
       "<polygon fill=\"DimGray\" stroke=\"DimGray\" points=\"27,-23.46 37,-19.96 27,-16.46 27,-23.46\"/>\n",
       "</g>\n",
       "<!-- F3 -->\n",
       "<g id=\"node2\" class=\"node\">\n",
       "<title>F3</title>\n",
       "<ellipse fill=\"black\" stroke=\"black\" cx=\"228\" cy=\"-19.96\" rx=\"0\" ry=\"0\"/>\n",
       "</g>\n",
       "<!-- 2&#45;&gt;2 -->\n",
       "<g id=\"edge2\" class=\"edge\">\n",
       "<title>2-&gt;2</title>\n",
       "<path fill=\"none\" stroke=\"black\" d=\"M56.04,-38.11C54.82,-47.49 57.47,-55.96 64,-55.96 67.98,-55.96 70.52,-52.81 71.62,-48.24\"/>\n",
       "<polygon fill=\"black\" stroke=\"black\" points=\"75.12,-48.22 71.96,-38.11 68.13,-47.99 75.12,-48.22\"/>\n",
       "<text text-anchor=\"middle\" x=\"64\" y=\"-59.76\" font-family=\"Times,serif\" font-size=\"14.00\">b</text>\n",
       "</g>\n",
       "<!-- 3 -->\n",
       "<g id=\"node4\" class=\"node\">\n",
       "<title>3</title>\n",
       "<path fill=\"none\" stroke=\"black\" d=\"M179,-37.96C179,-37.96 149,-37.96 149,-37.96 143,-37.96 137,-31.96 137,-25.96 137,-25.96 137,-13.96 137,-13.96 137,-7.96 143,-1.96 149,-1.96 149,-1.96 179,-1.96 179,-1.96 185,-1.96 191,-7.96 191,-13.96 191,-13.96 191,-25.96 191,-25.96 191,-31.96 185,-37.96 179,-37.96\"/>\n",
       "<text text-anchor=\"middle\" x=\"164\" y=\"-16.26\" font-family=\"Times,serif\" font-size=\"14.00\">$1</text>\n",
       "</g>\n",
       "<!-- 2&#45;&gt;3 -->\n",
       "<g id=\"edge3\" class=\"edge\">\n",
       "<title>2-&gt;3</title>\n",
       "<path fill=\"none\" stroke=\"black\" d=\"M91,-19.96C101.97,-19.96 114.92,-19.96 126.79,-19.96\"/>\n",
       "<polygon fill=\"black\" stroke=\"black\" points=\"126.87,-23.46 136.87,-19.96 126.87,-16.46 126.87,-23.46\"/>\n",
       "<text text-anchor=\"middle\" x=\"114\" y=\"-23.76\" font-family=\"Times,serif\" font-size=\"14.00\">a</text>\n",
       "</g>\n",
       "<!-- 3&#45;&gt;F3 -->\n",
       "<g id=\"edge4\" class=\"edge\">\n",
       "<title>3-&gt;F3</title>\n",
       "<path fill=\"none\" stroke=\"DimGray\" d=\"M191.29,-19.96C200.25,-19.96 209.73,-19.96 216.68,-19.96\"/>\n",
       "<polygon fill=\"DimGray\" stroke=\"DimGray\" points=\"216.95,-23.46 226.95,-19.96 216.95,-16.46 216.95,-23.46\"/>\n",
       "</g>\n",
       "<!-- 3&#45;&gt;2 -->\n",
       "<g id=\"edge5\" class=\"edge\">\n",
       "<title>3-&gt;2</title>\n",
       "<path fill=\"none\" stroke=\"black\" d=\"M136.76,-4.6C128.07,-1.17 118.25,0.96 109,-0.96 106.34,-1.5 103.65,-2.22 100.97,-3.06\"/>\n",
       "<polygon fill=\"black\" stroke=\"black\" points=\"99.64,0.19 91.42,-6.5 102.02,-6.4 99.64,0.19\"/>\n",
       "<text text-anchor=\"middle\" x=\"114\" y=\"-4.76\" font-family=\"Times,serif\" font-size=\"14.00\">b</text>\n",
       "</g>\n",
       "</g>\n",
       "</svg>"
      ],
      "text/plain": [
       "<IPython.core.display.SVG object>"
      ]
     },
     "metadata": {},
     "output_type": "display_data"
    }
   ],
   "source": [
    "A.display()"
   ]
  },
  {
   "cell_type": "markdown",
   "metadata": {},
   "source": [
    "---\n",
    "Displayin an automaton in text format."
   ]
  },
  {
   "cell_type": "code",
   "execution_count": 10,
   "metadata": {},
   "outputs": [
    {
     "data": {
      "text/plain": [
       "Automaton (static context: lal_char_b)\n",
       "Weightset: B\tAlphabet: abc\tEpsilon-transitions: Disallowed\n",
       "- States:{\t0(i)\t1(f)\t}\n",
       "- Transitions:{\t0-a->1\t1-b->0\t0-b->0\t\t}"
      ]
     },
     "execution_count": 10,
     "metadata": {},
     "output_type": "execute_result"
    }
   ],
   "source": [
    "A"
   ]
  },
  {
   "cell_type": "markdown",
   "metadata": {},
   "source": [
    "NB: the mention `(i)` following a state means that the state is *initial*.  Similarly, `(f)` means *final* and `(i,f)` means *initial and final*."
   ]
  },
  {
   "cell_type": "markdown",
   "metadata": {},
   "source": [
    "## Epsilon transitions\n",
    "By default, automata do not allow epsilon transitions.  \n",
    "Moreover, automata with/without epsilon transitions are not represented by the same data structure. Allowing epsilon transition hence provokes a complete copy of the automaton."
   ]
  },
  {
   "cell_type": "code",
   "execution_count": 11,
   "metadata": {},
   "outputs": [
    {
     "data": {
      "image/svg+xml": [
       "<svg xmlns=\"http://www.w3.org/2000/svg\" xmlns:xlink=\"http://www.w3.org/1999/xlink\" width=\"236pt\" height=\"79pt\" viewBox=\"0.00 0.00 236.00 78.96\">\n",
       "<g id=\"graph0\" class=\"graph\" transform=\"scale(1 1) rotate(0) translate(4 74.96)\">\n",
       "<title>%3</title>\n",
       "<polygon fill=\"white\" stroke=\"transparent\" points=\"-4,4 -4,-74.96 232,-74.96 232,4 -4,4\"/>\n",
       "<!-- I2 -->\n",
       "<g id=\"node1\" class=\"node\">\n",
       "<title>I2</title>\n",
       "<ellipse fill=\"black\" stroke=\"black\" cx=\"0\" cy=\"-19.96\" rx=\"0\" ry=\"0\"/>\n",
       "</g>\n",
       "<!-- 2 -->\n",
       "<g id=\"node3\" class=\"node\">\n",
       "<title>2</title>\n",
       "<path fill=\"none\" stroke=\"black\" d=\"M79,-37.96C79,-37.96 49,-37.96 49,-37.96 43,-37.96 37,-31.96 37,-25.96 37,-25.96 37,-13.96 37,-13.96 37,-7.96 43,-1.96 49,-1.96 49,-1.96 79,-1.96 79,-1.96 85,-1.96 91,-7.96 91,-13.96 91,-13.96 91,-25.96 91,-25.96 91,-31.96 85,-37.96 79,-37.96\"/>\n",
       "<text text-anchor=\"middle\" x=\"64\" y=\"-16.26\" font-family=\"Times,serif\" font-size=\"14.00\">$0</text>\n",
       "</g>\n",
       "<!-- I2&#45;&gt;2 -->\n",
       "<g id=\"edge1\" class=\"edge\">\n",
       "<title>I2-&gt;2</title>\n",
       "<path fill=\"none\" stroke=\"DimGray\" d=\"M1.04,-19.96C1.86,-19.96 13.73,-19.96 26.87,-19.96\"/>\n",
       "<polygon fill=\"DimGray\" stroke=\"DimGray\" points=\"27,-23.46 37,-19.96 27,-16.46 27,-23.46\"/>\n",
       "</g>\n",
       "<!-- F3 -->\n",
       "<g id=\"node2\" class=\"node\">\n",
       "<title>F3</title>\n",
       "<ellipse fill=\"black\" stroke=\"black\" cx=\"228\" cy=\"-19.96\" rx=\"0\" ry=\"0\"/>\n",
       "</g>\n",
       "<!-- 2&#45;&gt;2 -->\n",
       "<g id=\"edge2\" class=\"edge\">\n",
       "<title>2-&gt;2</title>\n",
       "<path fill=\"none\" stroke=\"black\" d=\"M56.04,-38.11C54.82,-47.49 57.47,-55.96 64,-55.96 67.98,-55.96 70.52,-52.81 71.62,-48.24\"/>\n",
       "<polygon fill=\"black\" stroke=\"black\" points=\"75.12,-48.22 71.96,-38.11 68.13,-47.99 75.12,-48.22\"/>\n",
       "<text text-anchor=\"middle\" x=\"64\" y=\"-59.76\" font-family=\"Times,serif\" font-size=\"14.00\">b</text>\n",
       "</g>\n",
       "<!-- 3 -->\n",
       "<g id=\"node4\" class=\"node\">\n",
       "<title>3</title>\n",
       "<path fill=\"none\" stroke=\"black\" d=\"M179,-37.96C179,-37.96 149,-37.96 149,-37.96 143,-37.96 137,-31.96 137,-25.96 137,-25.96 137,-13.96 137,-13.96 137,-7.96 143,-1.96 149,-1.96 149,-1.96 179,-1.96 179,-1.96 185,-1.96 191,-7.96 191,-13.96 191,-13.96 191,-25.96 191,-25.96 191,-31.96 185,-37.96 179,-37.96\"/>\n",
       "<text text-anchor=\"middle\" x=\"164\" y=\"-16.26\" font-family=\"Times,serif\" font-size=\"14.00\">$1</text>\n",
       "</g>\n",
       "<!-- 2&#45;&gt;3 -->\n",
       "<g id=\"edge3\" class=\"edge\">\n",
       "<title>2-&gt;3</title>\n",
       "<path fill=\"none\" stroke=\"black\" d=\"M91,-19.96C101.97,-19.96 114.92,-19.96 126.79,-19.96\"/>\n",
       "<polygon fill=\"black\" stroke=\"black\" points=\"126.87,-23.46 136.87,-19.96 126.87,-16.46 126.87,-23.46\"/>\n",
       "<text text-anchor=\"middle\" x=\"114\" y=\"-23.76\" font-family=\"Times,serif\" font-size=\"14.00\">a</text>\n",
       "</g>\n",
       "<!-- 3&#45;&gt;F3 -->\n",
       "<g id=\"edge4\" class=\"edge\">\n",
       "<title>3-&gt;F3</title>\n",
       "<path fill=\"none\" stroke=\"DimGray\" d=\"M191.29,-19.96C200.25,-19.96 209.73,-19.96 216.68,-19.96\"/>\n",
       "<polygon fill=\"DimGray\" stroke=\"DimGray\" points=\"216.95,-23.46 226.95,-19.96 216.95,-16.46 216.95,-23.46\"/>\n",
       "</g>\n",
       "<!-- 3&#45;&gt;2 -->\n",
       "<g id=\"edge5\" class=\"edge\">\n",
       "<title>3-&gt;2</title>\n",
       "<path fill=\"none\" stroke=\"black\" d=\"M136.76,-4.6C128.07,-1.17 118.25,0.96 109,-0.96 106.34,-1.5 103.65,-2.22 100.97,-3.06\"/>\n",
       "<polygon fill=\"black\" stroke=\"black\" points=\"99.64,0.19 91.42,-6.5 102.02,-6.4 99.64,0.19\"/>\n",
       "<text text-anchor=\"middle\" x=\"114\" y=\"-4.76\" font-family=\"Times,serif\" font-size=\"14.00\">b</text>\n",
       "</g>\n",
       "</g>\n",
       "</svg>"
      ],
      "text/plain": [
       "<IPython.core.display.SVG object>"
      ]
     },
     "metadata": {},
     "output_type": "display_data"
    }
   ],
   "source": [
    "Ae = A.allow_eps_transition()\n",
    "Ae.display()"
   ]
  },
  {
   "cell_type": "markdown",
   "metadata": {},
   "source": [
    "---\n",
    "Adding an epsilon transition using the specific function."
   ]
  },
  {
   "cell_type": "code",
   "execution_count": 12,
   "metadata": {},
   "outputs": [
    {
     "data": {
      "image/svg+xml": [
       "<svg xmlns=\"http://www.w3.org/2000/svg\" xmlns:xlink=\"http://www.w3.org/1999/xlink\" width=\"257pt\" height=\"80pt\" viewBox=\"0.00 0.00 257.00 80.09\">\n",
       "<g id=\"graph0\" class=\"graph\" transform=\"scale(1 1) rotate(0) translate(4 76.09)\">\n",
       "<title>%3</title>\n",
       "<polygon fill=\"white\" stroke=\"transparent\" points=\"-4,4 -4,-76.09 253,-76.09 253,4 -4,4\"/>\n",
       "<!-- I2 -->\n",
       "<g id=\"node1\" class=\"node\">\n",
       "<title>I2</title>\n",
       "<ellipse fill=\"black\" stroke=\"black\" cx=\"0\" cy=\"-21.09\" rx=\"0\" ry=\"0\"/>\n",
       "</g>\n",
       "<!-- 2 -->\n",
       "<g id=\"node3\" class=\"node\">\n",
       "<title>2</title>\n",
       "<path fill=\"none\" stroke=\"black\" d=\"M79,-39.09C79,-39.09 49,-39.09 49,-39.09 43,-39.09 37,-33.09 37,-27.09 37,-27.09 37,-15.09 37,-15.09 37,-9.09 43,-3.09 49,-3.09 49,-3.09 79,-3.09 79,-3.09 85,-3.09 91,-9.09 91,-15.09 91,-15.09 91,-27.09 91,-27.09 91,-33.09 85,-39.09 79,-39.09\"/>\n",
       "<text text-anchor=\"middle\" x=\"64\" y=\"-17.39\" font-family=\"Times,serif\" font-size=\"14.00\">$0</text>\n",
       "</g>\n",
       "<!-- I2&#45;&gt;2 -->\n",
       "<g id=\"edge1\" class=\"edge\">\n",
       "<title>I2-&gt;2</title>\n",
       "<path fill=\"none\" stroke=\"DimGray\" d=\"M1.04,-21.09C1.86,-21.09 13.73,-21.09 26.87,-21.09\"/>\n",
       "<polygon fill=\"DimGray\" stroke=\"DimGray\" points=\"27,-24.59 37,-21.09 27,-17.59 27,-24.59\"/>\n",
       "</g>\n",
       "<!-- F3 -->\n",
       "<g id=\"node2\" class=\"node\">\n",
       "<title>F3</title>\n",
       "<ellipse fill=\"black\" stroke=\"black\" cx=\"249\" cy=\"-21.09\" rx=\"0\" ry=\"0\"/>\n",
       "</g>\n",
       "<!-- 2&#45;&gt;2 -->\n",
       "<g id=\"edge2\" class=\"edge\">\n",
       "<title>2-&gt;2</title>\n",
       "<path fill=\"none\" stroke=\"black\" d=\"M56.04,-39.24C54.82,-48.63 57.47,-57.09 64,-57.09 67.98,-57.09 70.52,-53.95 71.62,-49.37\"/>\n",
       "<polygon fill=\"black\" stroke=\"black\" points=\"75.12,-49.36 71.96,-39.24 68.13,-49.12 75.12,-49.36\"/>\n",
       "<text text-anchor=\"middle\" x=\"64\" y=\"-60.89\" font-family=\"Times,serif\" font-size=\"14.00\">b</text>\n",
       "</g>\n",
       "<!-- 3 -->\n",
       "<g id=\"node4\" class=\"node\">\n",
       "<title>3</title>\n",
       "<path fill=\"none\" stroke=\"black\" d=\"M200,-39.09C200,-39.09 170,-39.09 170,-39.09 164,-39.09 158,-33.09 158,-27.09 158,-27.09 158,-15.09 158,-15.09 158,-9.09 164,-3.09 170,-3.09 170,-3.09 200,-3.09 200,-3.09 206,-3.09 212,-9.09 212,-15.09 212,-15.09 212,-27.09 212,-27.09 212,-33.09 206,-39.09 200,-39.09\"/>\n",
       "<text text-anchor=\"middle\" x=\"185\" y=\"-17.39\" font-family=\"Times,serif\" font-size=\"14.00\">$1</text>\n",
       "</g>\n",
       "<!-- 2&#45;&gt;3 -->\n",
       "<g id=\"edge3\" class=\"edge\">\n",
       "<title>2-&gt;3</title>\n",
       "<path fill=\"none\" stroke=\"black\" d=\"M91.12,-21.09C107.78,-21.09 129.61,-21.09 147.92,-21.09\"/>\n",
       "<polygon fill=\"black\" stroke=\"black\" points=\"147.95,-24.59 157.95,-21.09 147.95,-17.59 147.95,-24.59\"/>\n",
       "<text text-anchor=\"middle\" x=\"124.5\" y=\"-24.89\" font-family=\"Times,serif\" font-size=\"14.00\">a</text>\n",
       "</g>\n",
       "<!-- 3&#45;&gt;F3 -->\n",
       "<g id=\"edge4\" class=\"edge\">\n",
       "<title>3-&gt;F3</title>\n",
       "<path fill=\"none\" stroke=\"DimGray\" d=\"M212.29,-21.09C221.25,-21.09 230.73,-21.09 237.68,-21.09\"/>\n",
       "<polygon fill=\"DimGray\" stroke=\"DimGray\" points=\"237.95,-24.59 247.95,-21.09 237.95,-17.59 237.95,-24.59\"/>\n",
       "</g>\n",
       "<!-- 3&#45;&gt;2 -->\n",
       "<g id=\"edge5\" class=\"edge\">\n",
       "<title>3-&gt;2</title>\n",
       "<path fill=\"none\" stroke=\"black\" d=\"M157.58,-7.63C151.91,-5.34 145.87,-3.3 140,-2.09 126.51,0.7 122.49,0.7 109,-2.09 106.34,-2.64 103.65,-3.36 100.97,-4.19\"/>\n",
       "<polygon fill=\"black\" stroke=\"black\" points=\"99.64,-0.95 91.42,-7.63 102.02,-7.53 99.64,-0.95\"/>\n",
       "<text text-anchor=\"middle\" x=\"124.5\" y=\"-5.89\" font-family=\"Times,serif\" font-size=\"14.00\">\\e, b</text>\n",
       "</g>\n",
       "</g>\n",
       "</svg>"
      ],
      "text/plain": [
       "<IPython.core.display.SVG object>"
      ]
     },
     "metadata": {},
     "output_type": "display_data"
    }
   ],
   "source": [
    "tr_3 = Ae.set_eps_transition(stt_1,stt_0)\n",
    "Ae.display()"
   ]
  },
  {
   "cell_type": "markdown",
   "metadata": {},
   "source": [
    "Epsilon transition is represented by the string `\"\\e\"`.\n",
    "\n",
    "(*NB: the `'\\'` must be escaped by a preceding `'\\'`*)\n",
    "\n",
    "---\n",
    "Adding an epsilon-transition using the general function."
   ]
  },
  {
   "cell_type": "code",
   "execution_count": 13,
   "metadata": {},
   "outputs": [
    {
     "data": {
      "text/plain": [
       "6"
      ]
     },
     "execution_count": 13,
     "metadata": {},
     "output_type": "execute_result"
    }
   ],
   "source": [
    "Ae.set_transition(stt_1,stt_1,\"\\\\e\")"
   ]
  },
  {
   "cell_type": "markdown",
   "metadata": {},
   "source": [
    "For convenience we also allow `\"\"` as input to mean epsilon."
   ]
  },
  {
   "cell_type": "code",
   "execution_count": 14,
   "metadata": {},
   "outputs": [
    {
     "data": {
      "text/plain": [
       "7"
      ]
     },
     "execution_count": 14,
     "metadata": {},
     "output_type": "execute_result"
    }
   ],
   "source": [
    "Ae.set_transition(stt_0,stt_0,\"\")"
   ]
  },
  {
   "cell_type": "markdown",
   "metadata": {},
   "source": [
    "---\n",
    "Resulting automaton:"
   ]
  },
  {
   "cell_type": "code",
   "execution_count": 15,
   "metadata": {},
   "outputs": [
    {
     "data": {
      "image/svg+xml": [
       "<svg xmlns=\"http://www.w3.org/2000/svg\" xmlns:xlink=\"http://www.w3.org/1999/xlink\" width=\"257pt\" height=\"80pt\" viewBox=\"0.00 0.00 257.00 80.09\">\n",
       "<g id=\"graph0\" class=\"graph\" transform=\"scale(1 1) rotate(0) translate(4 76.09)\">\n",
       "<title>%3</title>\n",
       "<polygon fill=\"white\" stroke=\"transparent\" points=\"-4,4 -4,-76.09 253,-76.09 253,4 -4,4\"/>\n",
       "<!-- I2 -->\n",
       "<g id=\"node1\" class=\"node\">\n",
       "<title>I2</title>\n",
       "<ellipse fill=\"black\" stroke=\"black\" cx=\"0\" cy=\"-21.09\" rx=\"0\" ry=\"0\"/>\n",
       "</g>\n",
       "<!-- 2 -->\n",
       "<g id=\"node3\" class=\"node\">\n",
       "<title>2</title>\n",
       "<path fill=\"none\" stroke=\"black\" d=\"M79,-39.09C79,-39.09 49,-39.09 49,-39.09 43,-39.09 37,-33.09 37,-27.09 37,-27.09 37,-15.09 37,-15.09 37,-9.09 43,-3.09 49,-3.09 49,-3.09 79,-3.09 79,-3.09 85,-3.09 91,-9.09 91,-15.09 91,-15.09 91,-27.09 91,-27.09 91,-33.09 85,-39.09 79,-39.09\"/>\n",
       "<text text-anchor=\"middle\" x=\"64\" y=\"-17.39\" font-family=\"Times,serif\" font-size=\"14.00\">$0</text>\n",
       "</g>\n",
       "<!-- I2&#45;&gt;2 -->\n",
       "<g id=\"edge1\" class=\"edge\">\n",
       "<title>I2-&gt;2</title>\n",
       "<path fill=\"none\" stroke=\"DimGray\" d=\"M1.04,-21.09C1.86,-21.09 13.73,-21.09 26.87,-21.09\"/>\n",
       "<polygon fill=\"DimGray\" stroke=\"DimGray\" points=\"27,-24.59 37,-21.09 27,-17.59 27,-24.59\"/>\n",
       "</g>\n",
       "<!-- F3 -->\n",
       "<g id=\"node2\" class=\"node\">\n",
       "<title>F3</title>\n",
       "<ellipse fill=\"black\" stroke=\"black\" cx=\"249\" cy=\"-21.09\" rx=\"0\" ry=\"0\"/>\n",
       "</g>\n",
       "<!-- 2&#45;&gt;2 -->\n",
       "<g id=\"edge2\" class=\"edge\">\n",
       "<title>2-&gt;2</title>\n",
       "<path fill=\"none\" stroke=\"black\" d=\"M56.04,-39.24C54.82,-48.63 57.47,-57.09 64,-57.09 67.98,-57.09 70.52,-53.95 71.62,-49.37\"/>\n",
       "<polygon fill=\"black\" stroke=\"black\" points=\"75.12,-49.36 71.96,-39.24 68.13,-49.12 75.12,-49.36\"/>\n",
       "<text text-anchor=\"middle\" x=\"64\" y=\"-60.89\" font-family=\"Times,serif\" font-size=\"14.00\">\\e, b</text>\n",
       "</g>\n",
       "<!-- 3 -->\n",
       "<g id=\"node4\" class=\"node\">\n",
       "<title>3</title>\n",
       "<path fill=\"none\" stroke=\"black\" d=\"M200,-39.09C200,-39.09 170,-39.09 170,-39.09 164,-39.09 158,-33.09 158,-27.09 158,-27.09 158,-15.09 158,-15.09 158,-9.09 164,-3.09 170,-3.09 170,-3.09 200,-3.09 200,-3.09 206,-3.09 212,-9.09 212,-15.09 212,-15.09 212,-27.09 212,-27.09 212,-33.09 206,-39.09 200,-39.09\"/>\n",
       "<text text-anchor=\"middle\" x=\"185\" y=\"-17.39\" font-family=\"Times,serif\" font-size=\"14.00\">$1</text>\n",
       "</g>\n",
       "<!-- 2&#45;&gt;3 -->\n",
       "<g id=\"edge3\" class=\"edge\">\n",
       "<title>2-&gt;3</title>\n",
       "<path fill=\"none\" stroke=\"black\" d=\"M91.12,-21.09C107.78,-21.09 129.61,-21.09 147.92,-21.09\"/>\n",
       "<polygon fill=\"black\" stroke=\"black\" points=\"147.95,-24.59 157.95,-21.09 147.95,-17.59 147.95,-24.59\"/>\n",
       "<text text-anchor=\"middle\" x=\"124.5\" y=\"-24.89\" font-family=\"Times,serif\" font-size=\"14.00\">a</text>\n",
       "</g>\n",
       "<!-- 3&#45;&gt;F3 -->\n",
       "<g id=\"edge4\" class=\"edge\">\n",
       "<title>3-&gt;F3</title>\n",
       "<path fill=\"none\" stroke=\"DimGray\" d=\"M212.29,-21.09C221.25,-21.09 230.73,-21.09 237.68,-21.09\"/>\n",
       "<polygon fill=\"DimGray\" stroke=\"DimGray\" points=\"237.95,-24.59 247.95,-21.09 237.95,-17.59 237.95,-24.59\"/>\n",
       "</g>\n",
       "<!-- 3&#45;&gt;2 -->\n",
       "<g id=\"edge5\" class=\"edge\">\n",
       "<title>3-&gt;2</title>\n",
       "<path fill=\"none\" stroke=\"black\" d=\"M157.58,-7.63C151.91,-5.34 145.87,-3.3 140,-2.09 126.51,0.7 122.49,0.7 109,-2.09 106.34,-2.64 103.65,-3.36 100.97,-4.19\"/>\n",
       "<polygon fill=\"black\" stroke=\"black\" points=\"99.64,-0.95 91.42,-7.63 102.02,-7.53 99.64,-0.95\"/>\n",
       "<text text-anchor=\"middle\" x=\"124.5\" y=\"-5.89\" font-family=\"Times,serif\" font-size=\"14.00\">\\e, b</text>\n",
       "</g>\n",
       "<!-- 3&#45;&gt;3 -->\n",
       "<g id=\"edge6\" class=\"edge\">\n",
       "<title>3-&gt;3</title>\n",
       "<path fill=\"none\" stroke=\"black\" d=\"M177.04,-39.24C175.82,-48.63 178.47,-57.09 185,-57.09 188.98,-57.09 191.52,-53.95 192.62,-49.37\"/>\n",
       "<polygon fill=\"black\" stroke=\"black\" points=\"196.12,-49.36 192.96,-39.24 189.13,-49.12 196.12,-49.36\"/>\n",
       "<text text-anchor=\"middle\" x=\"185\" y=\"-60.89\" font-family=\"Times,serif\" font-size=\"14.00\">\\e</text>\n",
       "</g>\n",
       "</g>\n",
       "</svg>"
      ],
      "text/plain": [
       "<IPython.core.display.SVG object>"
      ]
     },
     "metadata": {},
     "output_type": "display_data"
    }
   ],
   "source": [
    "Ae.display()"
   ]
  },
  {
   "cell_type": "markdown",
   "metadata": {},
   "source": [
    "## Deleting edges and states"
   ]
  },
  {
   "cell_type": "markdown",
   "metadata": {},
   "source": [
    "Let us consider the automaton `A`."
   ]
  },
  {
   "cell_type": "code",
   "execution_count": 16,
   "metadata": {},
   "outputs": [
    {
     "data": {
      "image/svg+xml": [
       "<svg xmlns=\"http://www.w3.org/2000/svg\" xmlns:xlink=\"http://www.w3.org/1999/xlink\" width=\"236pt\" height=\"79pt\" viewBox=\"0.00 0.00 236.00 78.96\">\n",
       "<g id=\"graph0\" class=\"graph\" transform=\"scale(1 1) rotate(0) translate(4 74.96)\">\n",
       "<title>%3</title>\n",
       "<polygon fill=\"white\" stroke=\"transparent\" points=\"-4,4 -4,-74.96 232,-74.96 232,4 -4,4\"/>\n",
       "<!-- I2 -->\n",
       "<g id=\"node1\" class=\"node\">\n",
       "<title>I2</title>\n",
       "<ellipse fill=\"black\" stroke=\"black\" cx=\"0\" cy=\"-19.96\" rx=\"0\" ry=\"0\"/>\n",
       "</g>\n",
       "<!-- 2 -->\n",
       "<g id=\"node3\" class=\"node\">\n",
       "<title>2</title>\n",
       "<path fill=\"none\" stroke=\"black\" d=\"M79,-37.96C79,-37.96 49,-37.96 49,-37.96 43,-37.96 37,-31.96 37,-25.96 37,-25.96 37,-13.96 37,-13.96 37,-7.96 43,-1.96 49,-1.96 49,-1.96 79,-1.96 79,-1.96 85,-1.96 91,-7.96 91,-13.96 91,-13.96 91,-25.96 91,-25.96 91,-31.96 85,-37.96 79,-37.96\"/>\n",
       "<text text-anchor=\"middle\" x=\"64\" y=\"-16.26\" font-family=\"Times,serif\" font-size=\"14.00\">$0</text>\n",
       "</g>\n",
       "<!-- I2&#45;&gt;2 -->\n",
       "<g id=\"edge1\" class=\"edge\">\n",
       "<title>I2-&gt;2</title>\n",
       "<path fill=\"none\" stroke=\"DimGray\" d=\"M1.04,-19.96C1.86,-19.96 13.73,-19.96 26.87,-19.96\"/>\n",
       "<polygon fill=\"DimGray\" stroke=\"DimGray\" points=\"27,-23.46 37,-19.96 27,-16.46 27,-23.46\"/>\n",
       "</g>\n",
       "<!-- F3 -->\n",
       "<g id=\"node2\" class=\"node\">\n",
       "<title>F3</title>\n",
       "<ellipse fill=\"black\" stroke=\"black\" cx=\"228\" cy=\"-19.96\" rx=\"0\" ry=\"0\"/>\n",
       "</g>\n",
       "<!-- 2&#45;&gt;2 -->\n",
       "<g id=\"edge2\" class=\"edge\">\n",
       "<title>2-&gt;2</title>\n",
       "<path fill=\"none\" stroke=\"black\" d=\"M56.04,-38.11C54.82,-47.49 57.47,-55.96 64,-55.96 67.98,-55.96 70.52,-52.81 71.62,-48.24\"/>\n",
       "<polygon fill=\"black\" stroke=\"black\" points=\"75.12,-48.22 71.96,-38.11 68.13,-47.99 75.12,-48.22\"/>\n",
       "<text text-anchor=\"middle\" x=\"64\" y=\"-59.76\" font-family=\"Times,serif\" font-size=\"14.00\">b</text>\n",
       "</g>\n",
       "<!-- 3 -->\n",
       "<g id=\"node4\" class=\"node\">\n",
       "<title>3</title>\n",
       "<path fill=\"none\" stroke=\"black\" d=\"M179,-37.96C179,-37.96 149,-37.96 149,-37.96 143,-37.96 137,-31.96 137,-25.96 137,-25.96 137,-13.96 137,-13.96 137,-7.96 143,-1.96 149,-1.96 149,-1.96 179,-1.96 179,-1.96 185,-1.96 191,-7.96 191,-13.96 191,-13.96 191,-25.96 191,-25.96 191,-31.96 185,-37.96 179,-37.96\"/>\n",
       "<text text-anchor=\"middle\" x=\"164\" y=\"-16.26\" font-family=\"Times,serif\" font-size=\"14.00\">$1</text>\n",
       "</g>\n",
       "<!-- 2&#45;&gt;3 -->\n",
       "<g id=\"edge3\" class=\"edge\">\n",
       "<title>2-&gt;3</title>\n",
       "<path fill=\"none\" stroke=\"black\" d=\"M91,-19.96C101.97,-19.96 114.92,-19.96 126.79,-19.96\"/>\n",
       "<polygon fill=\"black\" stroke=\"black\" points=\"126.87,-23.46 136.87,-19.96 126.87,-16.46 126.87,-23.46\"/>\n",
       "<text text-anchor=\"middle\" x=\"114\" y=\"-23.76\" font-family=\"Times,serif\" font-size=\"14.00\">a</text>\n",
       "</g>\n",
       "<!-- 3&#45;&gt;F3 -->\n",
       "<g id=\"edge4\" class=\"edge\">\n",
       "<title>3-&gt;F3</title>\n",
       "<path fill=\"none\" stroke=\"DimGray\" d=\"M191.29,-19.96C200.25,-19.96 209.73,-19.96 216.68,-19.96\"/>\n",
       "<polygon fill=\"DimGray\" stroke=\"DimGray\" points=\"216.95,-23.46 226.95,-19.96 216.95,-16.46 216.95,-23.46\"/>\n",
       "</g>\n",
       "<!-- 3&#45;&gt;2 -->\n",
       "<g id=\"edge5\" class=\"edge\">\n",
       "<title>3-&gt;2</title>\n",
       "<path fill=\"none\" stroke=\"black\" d=\"M136.76,-4.6C128.07,-1.17 118.25,0.96 109,-0.96 106.34,-1.5 103.65,-2.22 100.97,-3.06\"/>\n",
       "<polygon fill=\"black\" stroke=\"black\" points=\"99.64,0.19 91.42,-6.5 102.02,-6.4 99.64,0.19\"/>\n",
       "<text text-anchor=\"middle\" x=\"114\" y=\"-4.76\" font-family=\"Times,serif\" font-size=\"14.00\">b</text>\n",
       "</g>\n",
       "</g>\n",
       "</svg>"
      ],
      "text/plain": [
       "<IPython.core.display.SVG object>"
      ]
     },
     "metadata": {},
     "output_type": "display_data"
    }
   ],
   "source": [
    "A.display()"
   ]
  },
  {
   "cell_type": "markdown",
   "metadata": {},
   "source": [
    "---\n",
    "First we add a bunch of states and transitions"
   ]
  },
  {
   "cell_type": "code",
   "execution_count": 17,
   "metadata": {},
   "outputs": [
    {
     "data": {
      "image/svg+xml": [
       "<svg xmlns=\"http://www.w3.org/2000/svg\" xmlns:xlink=\"http://www.w3.org/1999/xlink\" width=\"316pt\" height=\"135pt\" viewBox=\"0.00 0.00 316.00 134.73\">\n",
       "<g id=\"graph0\" class=\"graph\" transform=\"scale(1 1) rotate(0) translate(4 130.73)\">\n",
       "<title>%3</title>\n",
       "<polygon fill=\"white\" stroke=\"transparent\" points=\"-4,4 -4,-130.73 312,-130.73 312,4 -4,4\"/>\n",
       "<!-- I2 -->\n",
       "<g id=\"node1\" class=\"node\">\n",
       "<title>I2</title>\n",
       "<ellipse fill=\"black\" stroke=\"black\" cx=\"0\" cy=\"-20.73\" rx=\"0\" ry=\"0\"/>\n",
       "</g>\n",
       "<!-- 2 -->\n",
       "<g id=\"node3\" class=\"node\">\n",
       "<title>2</title>\n",
       "<path fill=\"none\" stroke=\"black\" d=\"M79,-38.73C79,-38.73 49,-38.73 49,-38.73 43,-38.73 37,-32.73 37,-26.73 37,-26.73 37,-14.73 37,-14.73 37,-8.73 43,-2.73 49,-2.73 49,-2.73 79,-2.73 79,-2.73 85,-2.73 91,-8.73 91,-14.73 91,-14.73 91,-26.73 91,-26.73 91,-32.73 85,-38.73 79,-38.73\"/>\n",
       "<text text-anchor=\"middle\" x=\"64\" y=\"-17.03\" font-family=\"Times,serif\" font-size=\"14.00\">$0</text>\n",
       "</g>\n",
       "<!-- I2&#45;&gt;2 -->\n",
       "<g id=\"edge1\" class=\"edge\">\n",
       "<title>I2-&gt;2</title>\n",
       "<path fill=\"none\" stroke=\"DimGray\" d=\"M1.04,-20.73C1.86,-20.73 13.73,-20.73 26.87,-20.73\"/>\n",
       "<polygon fill=\"DimGray\" stroke=\"DimGray\" points=\"27,-24.23 37,-20.73 27,-17.23 27,-24.23\"/>\n",
       "</g>\n",
       "<!-- F3 -->\n",
       "<g id=\"node2\" class=\"node\">\n",
       "<title>F3</title>\n",
       "<ellipse fill=\"black\" stroke=\"black\" cx=\"281\" cy=\"-105.73\" rx=\"0\" ry=\"0\"/>\n",
       "</g>\n",
       "<!-- 2&#45;&gt;2 -->\n",
       "<g id=\"edge2\" class=\"edge\">\n",
       "<title>2-&gt;2</title>\n",
       "<path fill=\"none\" stroke=\"black\" d=\"M56.04,-38.89C54.82,-48.27 57.47,-56.73 64,-56.73 67.98,-56.73 70.52,-53.59 71.62,-49.01\"/>\n",
       "<polygon fill=\"black\" stroke=\"black\" points=\"75.12,-49 71.96,-38.89 68.13,-48.76 75.12,-49\"/>\n",
       "<text text-anchor=\"middle\" x=\"64\" y=\"-60.53\" font-family=\"Times,serif\" font-size=\"14.00\">b</text>\n",
       "</g>\n",
       "<!-- 3 -->\n",
       "<g id=\"node4\" class=\"node\">\n",
       "<title>3</title>\n",
       "<path fill=\"none\" stroke=\"black\" d=\"M179,-93.73C179,-93.73 149,-93.73 149,-93.73 143,-93.73 137,-87.73 137,-81.73 137,-81.73 137,-69.73 137,-69.73 137,-63.73 143,-57.73 149,-57.73 149,-57.73 179,-57.73 179,-57.73 185,-57.73 191,-63.73 191,-69.73 191,-69.73 191,-81.73 191,-81.73 191,-87.73 185,-93.73 179,-93.73\"/>\n",
       "<text text-anchor=\"middle\" x=\"164\" y=\"-72.03\" font-family=\"Times,serif\" font-size=\"14.00\">$1</text>\n",
       "</g>\n",
       "<!-- 2&#45;&gt;3 -->\n",
       "<g id=\"edge3\" class=\"edge\">\n",
       "<title>2-&gt;3</title>\n",
       "<path fill=\"none\" stroke=\"black\" d=\"M87.08,-39.02C93.86,-44.16 101.52,-49.5 109,-53.73 114.72,-56.97 121.02,-59.99 127.23,-62.68\"/>\n",
       "<polygon fill=\"black\" stroke=\"black\" points=\"126.24,-66.06 136.82,-66.63 128.91,-59.59 126.24,-66.06\"/>\n",
       "<text text-anchor=\"middle\" x=\"114\" y=\"-62.53\" font-family=\"Times,serif\" font-size=\"14.00\">a</text>\n",
       "</g>\n",
       "<!-- 4 -->\n",
       "<g id=\"node5\" class=\"node\">\n",
       "<title>4</title>\n",
       "<path fill=\"none\" stroke=\"black\" d=\"M296,-38.73C296,-38.73 266,-38.73 266,-38.73 260,-38.73 254,-32.73 254,-26.73 254,-26.73 254,-14.73 254,-14.73 254,-8.73 260,-2.73 266,-2.73 266,-2.73 296,-2.73 296,-2.73 302,-2.73 308,-8.73 308,-14.73 308,-14.73 308,-26.73 308,-26.73 308,-32.73 302,-38.73 296,-38.73\"/>\n",
       "<text text-anchor=\"middle\" x=\"281\" y=\"-17.03\" font-family=\"Times,serif\" font-size=\"14.00\">$2</text>\n",
       "</g>\n",
       "<!-- 2&#45;&gt;4 -->\n",
       "<g id=\"edge4\" class=\"edge\">\n",
       "<title>2-&gt;4</title>\n",
       "<path fill=\"none\" stroke=\"black\" d=\"M91.36,-20.73C129.59,-20.73 200.53,-20.73 243.68,-20.73\"/>\n",
       "<polygon fill=\"black\" stroke=\"black\" points=\"243.76,-24.23 253.76,-20.73 243.76,-17.23 243.76,-24.23\"/>\n",
       "<text text-anchor=\"middle\" x=\"164\" y=\"-24.53\" font-family=\"Times,serif\" font-size=\"14.00\">a</text>\n",
       "</g>\n",
       "<!-- 3&#45;&gt;F3 -->\n",
       "<g id=\"edge5\" class=\"edge\">\n",
       "<title>3-&gt;F3</title>\n",
       "<path fill=\"none\" stroke=\"DimGray\" d=\"M191.31,-86.05C197.08,-88.1 203.21,-90.12 209,-91.73 230.34,-97.68 255.96,-102.08 269.85,-104.24\"/>\n",
       "<polygon fill=\"DimGray\" stroke=\"DimGray\" points=\"269.48,-107.72 279.88,-105.72 270.5,-100.8 269.48,-107.72\"/>\n",
       "</g>\n",
       "<!-- 3&#45;&gt;2 -->\n",
       "<g id=\"edge6\" class=\"edge\">\n",
       "<title>3-&gt;2</title>\n",
       "<path fill=\"none\" stroke=\"black\" d=\"M147.44,-57.59C139.65,-49.53 129.62,-40.56 119,-34.73 113.43,-31.68 107.16,-29.27 100.93,-27.37\"/>\n",
       "<polygon fill=\"black\" stroke=\"black\" points=\"101.82,-23.99 91.26,-24.8 100.03,-30.75 101.82,-23.99\"/>\n",
       "<text text-anchor=\"middle\" x=\"114\" y=\"-38.53\" font-family=\"Times,serif\" font-size=\"14.00\">b</text>\n",
       "</g>\n",
       "<!-- 3&#45;&gt;3 -->\n",
       "<g id=\"edge7\" class=\"edge\">\n",
       "<title>3-&gt;3</title>\n",
       "<path fill=\"none\" stroke=\"black\" d=\"M154.95,-93.89C153.56,-103.27 156.58,-111.73 164,-111.73 168.52,-111.73 171.41,-108.59 172.66,-104.01\"/>\n",
       "<polygon fill=\"black\" stroke=\"black\" points=\"176.16,-104.01 173.05,-93.89 169.17,-103.75 176.16,-104.01\"/>\n",
       "<text text-anchor=\"middle\" x=\"164\" y=\"-115.53\" font-family=\"Times,serif\" font-size=\"14.00\">a</text>\n",
       "</g>\n",
       "<!-- 3&#45;&gt;4 -->\n",
       "<g id=\"edge8\" class=\"edge\">\n",
       "<title>3-&gt;4</title>\n",
       "<path fill=\"none\" stroke=\"black\" d=\"M191.13,-69.93C204.92,-66.31 221.86,-60.95 236,-53.73 241,-51.18 246.02,-48.07 250.79,-44.78\"/>\n",
       "<polygon fill=\"black\" stroke=\"black\" points=\"253.03,-47.47 259.04,-38.75 248.9,-41.82 253.03,-47.47\"/>\n",
       "<text text-anchor=\"middle\" x=\"222.5\" y=\"-67.53\" font-family=\"Times,serif\" font-size=\"14.00\">a, b</text>\n",
       "</g>\n",
       "<!-- 4&#45;&gt;2 -->\n",
       "<g id=\"edge9\" class=\"edge\">\n",
       "<title>4-&gt;2</title>\n",
       "<path fill=\"none\" stroke=\"black\" d=\"M253.91,-13.16C225.25,-5.79 177.86,3.57 137,-1.73 125,-3.29 112.15,-6.25 100.68,-9.37\"/>\n",
       "<polygon fill=\"black\" stroke=\"black\" points=\"99.66,-6.02 91.01,-12.13 101.58,-12.76 99.66,-6.02\"/>\n",
       "<text text-anchor=\"middle\" x=\"164\" y=\"-5.53\" font-family=\"Times,serif\" font-size=\"14.00\">b</text>\n",
       "</g>\n",
       "<!-- 4&#45;&gt;3 -->\n",
       "<g id=\"edge10\" class=\"edge\">\n",
       "<title>4-&gt;3</title>\n",
       "<path fill=\"none\" stroke=\"black\" d=\"M253.9,-22.41C239.96,-24.14 222.87,-27.65 209,-34.73 201.11,-38.76 193.62,-44.62 187.13,-50.66\"/>\n",
       "<polygon fill=\"black\" stroke=\"black\" points=\"184.64,-48.2 180.01,-57.72 189.57,-53.17 184.64,-48.2\"/>\n",
       "<text text-anchor=\"middle\" x=\"222.5\" y=\"-38.53\" font-family=\"Times,serif\" font-size=\"14.00\">a</text>\n",
       "</g>\n",
       "<!-- 4&#45;&gt;4 -->\n",
       "<g id=\"edge11\" class=\"edge\">\n",
       "<title>4-&gt;4</title>\n",
       "<path fill=\"none\" stroke=\"black\" d=\"M270.51,-38.89C268.89,-48.27 272.39,-56.73 281,-56.73 286.25,-56.73 289.59,-53.59 291.04,-49.01\"/>\n",
       "<polygon fill=\"black\" stroke=\"black\" points=\"294.55,-49.03 291.49,-38.89 287.55,-48.72 294.55,-49.03\"/>\n",
       "<text text-anchor=\"middle\" x=\"281\" y=\"-60.53\" font-family=\"Times,serif\" font-size=\"14.00\">b</text>\n",
       "</g>\n",
       "</g>\n",
       "</svg>"
      ],
      "text/plain": [
       "<IPython.core.display.SVG object>"
      ]
     },
     "metadata": {},
     "output_type": "display_data"
    }
   ],
   "source": [
    "stt_2 = A.add_state()\n",
    "tr_3 = A.set_transition(stt_1,stt_1,'a')\n",
    "# Not recording ids of transitions any further\n",
    "A.set_transition(stt_2,stt_2,'b')\n",
    "A.set_transition(stt_0,stt_2,'a')\n",
    "A.set_transition(stt_2,stt_0,'b')\n",
    "A.set_transition(stt_1,stt_2,'b')\n",
    "A.set_transition(stt_1,stt_2,'a')\n",
    "A.set_transition(stt_2,stt_1,'a')\n",
    "A.display()"
   ]
  },
  {
   "cell_type": "markdown",
   "metadata": {},
   "source": [
    "---\n",
    "Deleting a transition by id"
   ]
  },
  {
   "cell_type": "code",
   "execution_count": 18,
   "metadata": {},
   "outputs": [
    {
     "data": {
      "image/svg+xml": [
       "<svg xmlns=\"http://www.w3.org/2000/svg\" xmlns:xlink=\"http://www.w3.org/1999/xlink\" width=\"316pt\" height=\"114pt\" viewBox=\"0.00 0.00 316.00 113.73\">\n",
       "<g id=\"graph0\" class=\"graph\" transform=\"scale(1 1) rotate(0) translate(4 109.73)\">\n",
       "<title>%3</title>\n",
       "<polygon fill=\"white\" stroke=\"transparent\" points=\"-4,4 -4,-109.73 312,-109.73 312,4 -4,4\"/>\n",
       "<!-- I2 -->\n",
       "<g id=\"node1\" class=\"node\">\n",
       "<title>I2</title>\n",
       "<ellipse fill=\"black\" stroke=\"black\" cx=\"0\" cy=\"-20.73\" rx=\"0\" ry=\"0\"/>\n",
       "</g>\n",
       "<!-- 2 -->\n",
       "<g id=\"node3\" class=\"node\">\n",
       "<title>2</title>\n",
       "<path fill=\"none\" stroke=\"black\" d=\"M79,-38.73C79,-38.73 49,-38.73 49,-38.73 43,-38.73 37,-32.73 37,-26.73 37,-26.73 37,-14.73 37,-14.73 37,-8.73 43,-2.73 49,-2.73 49,-2.73 79,-2.73 79,-2.73 85,-2.73 91,-8.73 91,-14.73 91,-14.73 91,-26.73 91,-26.73 91,-32.73 85,-38.73 79,-38.73\"/>\n",
       "<text text-anchor=\"middle\" x=\"64\" y=\"-17.03\" font-family=\"Times,serif\" font-size=\"14.00\">$0</text>\n",
       "</g>\n",
       "<!-- I2&#45;&gt;2 -->\n",
       "<g id=\"edge1\" class=\"edge\">\n",
       "<title>I2-&gt;2</title>\n",
       "<path fill=\"none\" stroke=\"DimGray\" d=\"M1.04,-20.73C1.86,-20.73 13.73,-20.73 26.87,-20.73\"/>\n",
       "<polygon fill=\"DimGray\" stroke=\"DimGray\" points=\"27,-24.23 37,-20.73 27,-17.23 27,-24.23\"/>\n",
       "</g>\n",
       "<!-- F3 -->\n",
       "<g id=\"node2\" class=\"node\">\n",
       "<title>F3</title>\n",
       "<ellipse fill=\"black\" stroke=\"black\" cx=\"281\" cy=\"-105.73\" rx=\"0\" ry=\"0\"/>\n",
       "</g>\n",
       "<!-- 2&#45;&gt;2 -->\n",
       "<g id=\"edge2\" class=\"edge\">\n",
       "<title>2-&gt;2</title>\n",
       "<path fill=\"none\" stroke=\"black\" d=\"M56.04,-38.89C54.82,-48.27 57.47,-56.73 64,-56.73 67.98,-56.73 70.52,-53.59 71.62,-49.01\"/>\n",
       "<polygon fill=\"black\" stroke=\"black\" points=\"75.12,-49 71.96,-38.89 68.13,-48.76 75.12,-49\"/>\n",
       "<text text-anchor=\"middle\" x=\"64\" y=\"-60.53\" font-family=\"Times,serif\" font-size=\"14.00\">b</text>\n",
       "</g>\n",
       "<!-- 3 -->\n",
       "<g id=\"node4\" class=\"node\">\n",
       "<title>3</title>\n",
       "<path fill=\"none\" stroke=\"black\" d=\"M179,-93.73C179,-93.73 149,-93.73 149,-93.73 143,-93.73 137,-87.73 137,-81.73 137,-81.73 137,-69.73 137,-69.73 137,-63.73 143,-57.73 149,-57.73 149,-57.73 179,-57.73 179,-57.73 185,-57.73 191,-63.73 191,-69.73 191,-69.73 191,-81.73 191,-81.73 191,-87.73 185,-93.73 179,-93.73\"/>\n",
       "<text text-anchor=\"middle\" x=\"164\" y=\"-72.03\" font-family=\"Times,serif\" font-size=\"14.00\">$1</text>\n",
       "</g>\n",
       "<!-- 2&#45;&gt;3 -->\n",
       "<g id=\"edge3\" class=\"edge\">\n",
       "<title>2-&gt;3</title>\n",
       "<path fill=\"none\" stroke=\"black\" d=\"M87.08,-39.02C93.86,-44.16 101.52,-49.5 109,-53.73 114.72,-56.97 121.02,-59.99 127.23,-62.68\"/>\n",
       "<polygon fill=\"black\" stroke=\"black\" points=\"126.24,-66.06 136.82,-66.63 128.91,-59.59 126.24,-66.06\"/>\n",
       "<text text-anchor=\"middle\" x=\"114\" y=\"-62.53\" font-family=\"Times,serif\" font-size=\"14.00\">a</text>\n",
       "</g>\n",
       "<!-- 4 -->\n",
       "<g id=\"node5\" class=\"node\">\n",
       "<title>4</title>\n",
       "<path fill=\"none\" stroke=\"black\" d=\"M296,-38.73C296,-38.73 266,-38.73 266,-38.73 260,-38.73 254,-32.73 254,-26.73 254,-26.73 254,-14.73 254,-14.73 254,-8.73 260,-2.73 266,-2.73 266,-2.73 296,-2.73 296,-2.73 302,-2.73 308,-8.73 308,-14.73 308,-14.73 308,-26.73 308,-26.73 308,-32.73 302,-38.73 296,-38.73\"/>\n",
       "<text text-anchor=\"middle\" x=\"281\" y=\"-17.03\" font-family=\"Times,serif\" font-size=\"14.00\">$2</text>\n",
       "</g>\n",
       "<!-- 2&#45;&gt;4 -->\n",
       "<g id=\"edge4\" class=\"edge\">\n",
       "<title>2-&gt;4</title>\n",
       "<path fill=\"none\" stroke=\"black\" d=\"M91.36,-20.73C129.59,-20.73 200.53,-20.73 243.68,-20.73\"/>\n",
       "<polygon fill=\"black\" stroke=\"black\" points=\"243.76,-24.23 253.76,-20.73 243.76,-17.23 243.76,-24.23\"/>\n",
       "<text text-anchor=\"middle\" x=\"164\" y=\"-24.53\" font-family=\"Times,serif\" font-size=\"14.00\">a</text>\n",
       "</g>\n",
       "<!-- 3&#45;&gt;F3 -->\n",
       "<g id=\"edge5\" class=\"edge\">\n",
       "<title>3-&gt;F3</title>\n",
       "<path fill=\"none\" stroke=\"DimGray\" d=\"M191.31,-86.05C197.08,-88.1 203.21,-90.12 209,-91.73 230.34,-97.68 255.96,-102.08 269.85,-104.24\"/>\n",
       "<polygon fill=\"DimGray\" stroke=\"DimGray\" points=\"269.48,-107.72 279.88,-105.72 270.5,-100.8 269.48,-107.72\"/>\n",
       "</g>\n",
       "<!-- 3&#45;&gt;2 -->\n",
       "<g id=\"edge6\" class=\"edge\">\n",
       "<title>3-&gt;2</title>\n",
       "<path fill=\"none\" stroke=\"black\" d=\"M147.44,-57.59C139.65,-49.53 129.62,-40.56 119,-34.73 113.43,-31.68 107.16,-29.27 100.93,-27.37\"/>\n",
       "<polygon fill=\"black\" stroke=\"black\" points=\"101.82,-23.99 91.26,-24.8 100.03,-30.75 101.82,-23.99\"/>\n",
       "<text text-anchor=\"middle\" x=\"114\" y=\"-38.53\" font-family=\"Times,serif\" font-size=\"14.00\">b</text>\n",
       "</g>\n",
       "<!-- 3&#45;&gt;4 -->\n",
       "<g id=\"edge7\" class=\"edge\">\n",
       "<title>3-&gt;4</title>\n",
       "<path fill=\"none\" stroke=\"black\" d=\"M191.13,-69.93C204.92,-66.31 221.86,-60.95 236,-53.73 241,-51.18 246.02,-48.07 250.79,-44.78\"/>\n",
       "<polygon fill=\"black\" stroke=\"black\" points=\"253.03,-47.47 259.04,-38.75 248.9,-41.82 253.03,-47.47\"/>\n",
       "<text text-anchor=\"middle\" x=\"222.5\" y=\"-67.53\" font-family=\"Times,serif\" font-size=\"14.00\">a, b</text>\n",
       "</g>\n",
       "<!-- 4&#45;&gt;2 -->\n",
       "<g id=\"edge8\" class=\"edge\">\n",
       "<title>4-&gt;2</title>\n",
       "<path fill=\"none\" stroke=\"black\" d=\"M253.91,-13.16C225.25,-5.79 177.86,3.57 137,-1.73 125,-3.29 112.15,-6.25 100.68,-9.37\"/>\n",
       "<polygon fill=\"black\" stroke=\"black\" points=\"99.66,-6.02 91.01,-12.13 101.58,-12.76 99.66,-6.02\"/>\n",
       "<text text-anchor=\"middle\" x=\"164\" y=\"-5.53\" font-family=\"Times,serif\" font-size=\"14.00\">b</text>\n",
       "</g>\n",
       "<!-- 4&#45;&gt;3 -->\n",
       "<g id=\"edge9\" class=\"edge\">\n",
       "<title>4-&gt;3</title>\n",
       "<path fill=\"none\" stroke=\"black\" d=\"M253.9,-22.41C239.96,-24.14 222.87,-27.65 209,-34.73 201.11,-38.76 193.62,-44.62 187.13,-50.66\"/>\n",
       "<polygon fill=\"black\" stroke=\"black\" points=\"184.64,-48.2 180.01,-57.72 189.57,-53.17 184.64,-48.2\"/>\n",
       "<text text-anchor=\"middle\" x=\"222.5\" y=\"-38.53\" font-family=\"Times,serif\" font-size=\"14.00\">a</text>\n",
       "</g>\n",
       "<!-- 4&#45;&gt;4 -->\n",
       "<g id=\"edge10\" class=\"edge\">\n",
       "<title>4-&gt;4</title>\n",
       "<path fill=\"none\" stroke=\"black\" d=\"M270.51,-38.89C268.89,-48.27 272.39,-56.73 281,-56.73 286.25,-56.73 289.59,-53.59 291.04,-49.01\"/>\n",
       "<polygon fill=\"black\" stroke=\"black\" points=\"294.55,-49.03 291.49,-38.89 287.55,-48.72 294.55,-49.03\"/>\n",
       "<text text-anchor=\"middle\" x=\"281\" y=\"-60.53\" font-family=\"Times,serif\" font-size=\"14.00\">b</text>\n",
       "</g>\n",
       "</g>\n",
       "</svg>"
      ],
      "text/plain": [
       "<IPython.core.display.SVG object>"
      ]
     },
     "metadata": {},
     "output_type": "display_data"
    }
   ],
   "source": [
    "A.del_transition(tr_3) # tr_3 is the transition: s2 --a--> s2\n",
    "A.display()"
   ]
  },
  {
   "cell_type": "markdown",
   "metadata": {},
   "source": [
    "---\n",
    "Deleting a transition by triplet (origin, destination, label)  "
   ]
  },
  {
   "cell_type": "code",
   "execution_count": 19,
   "metadata": {},
   "outputs": [
    {
     "data": {
      "image/svg+xml": [
       "<svg xmlns=\"http://www.w3.org/2000/svg\" xmlns:xlink=\"http://www.w3.org/1999/xlink\" width=\"316pt\" height=\"114pt\" viewBox=\"0.00 0.00 316.00 114.21\">\n",
       "<g id=\"graph0\" class=\"graph\" transform=\"scale(1 1) rotate(0) translate(4 110.21)\">\n",
       "<title>%3</title>\n",
       "<polygon fill=\"white\" stroke=\"transparent\" points=\"-4,4 -4,-110.21 312,-110.21 312,4 -4,4\"/>\n",
       "<!-- I2 -->\n",
       "<g id=\"node1\" class=\"node\">\n",
       "<title>I2</title>\n",
       "<ellipse fill=\"black\" stroke=\"black\" cx=\"0\" cy=\"-21.21\" rx=\"0\" ry=\"0\"/>\n",
       "</g>\n",
       "<!-- 2 -->\n",
       "<g id=\"node3\" class=\"node\">\n",
       "<title>2</title>\n",
       "<path fill=\"none\" stroke=\"black\" d=\"M79,-39.21C79,-39.21 49,-39.21 49,-39.21 43,-39.21 37,-33.21 37,-27.21 37,-27.21 37,-15.21 37,-15.21 37,-9.21 43,-3.21 49,-3.21 49,-3.21 79,-3.21 79,-3.21 85,-3.21 91,-9.21 91,-15.21 91,-15.21 91,-27.21 91,-27.21 91,-33.21 85,-39.21 79,-39.21\"/>\n",
       "<text text-anchor=\"middle\" x=\"64\" y=\"-17.51\" font-family=\"Times,serif\" font-size=\"14.00\">$0</text>\n",
       "</g>\n",
       "<!-- I2&#45;&gt;2 -->\n",
       "<g id=\"edge1\" class=\"edge\">\n",
       "<title>I2-&gt;2</title>\n",
       "<path fill=\"none\" stroke=\"DimGray\" d=\"M1.04,-21.21C1.86,-21.21 13.73,-21.21 26.87,-21.21\"/>\n",
       "<polygon fill=\"DimGray\" stroke=\"DimGray\" points=\"27,-24.71 37,-21.21 27,-17.71 27,-24.71\"/>\n",
       "</g>\n",
       "<!-- F3 -->\n",
       "<g id=\"node2\" class=\"node\">\n",
       "<title>F3</title>\n",
       "<ellipse fill=\"black\" stroke=\"black\" cx=\"281\" cy=\"-106.21\" rx=\"0\" ry=\"0\"/>\n",
       "</g>\n",
       "<!-- 2&#45;&gt;2 -->\n",
       "<g id=\"edge2\" class=\"edge\">\n",
       "<title>2-&gt;2</title>\n",
       "<path fill=\"none\" stroke=\"black\" d=\"M56.04,-39.36C54.82,-48.74 57.47,-57.21 64,-57.21 67.98,-57.21 70.52,-54.06 71.62,-49.49\"/>\n",
       "<polygon fill=\"black\" stroke=\"black\" points=\"75.12,-49.47 71.96,-39.36 68.13,-49.24 75.12,-49.47\"/>\n",
       "<text text-anchor=\"middle\" x=\"64\" y=\"-61.01\" font-family=\"Times,serif\" font-size=\"14.00\">b</text>\n",
       "</g>\n",
       "<!-- 3 -->\n",
       "<g id=\"node4\" class=\"node\">\n",
       "<title>3</title>\n",
       "<path fill=\"none\" stroke=\"black\" d=\"M179,-94.21C179,-94.21 149,-94.21 149,-94.21 143,-94.21 137,-88.21 137,-82.21 137,-82.21 137,-70.21 137,-70.21 137,-64.21 143,-58.21 149,-58.21 149,-58.21 179,-58.21 179,-58.21 185,-58.21 191,-64.21 191,-70.21 191,-70.21 191,-82.21 191,-82.21 191,-88.21 185,-94.21 179,-94.21\"/>\n",
       "<text text-anchor=\"middle\" x=\"164\" y=\"-72.51\" font-family=\"Times,serif\" font-size=\"14.00\">$1</text>\n",
       "</g>\n",
       "<!-- 2&#45;&gt;3 -->\n",
       "<g id=\"edge3\" class=\"edge\">\n",
       "<title>2-&gt;3</title>\n",
       "<path fill=\"none\" stroke=\"black\" d=\"M87.08,-39.5C93.86,-44.64 101.52,-49.97 109,-54.21 114.72,-57.45 121.02,-60.46 127.23,-63.15\"/>\n",
       "<polygon fill=\"black\" stroke=\"black\" points=\"126.24,-66.53 136.82,-67.1 128.91,-60.06 126.24,-66.53\"/>\n",
       "<text text-anchor=\"middle\" x=\"114\" y=\"-63.01\" font-family=\"Times,serif\" font-size=\"14.00\">a</text>\n",
       "</g>\n",
       "<!-- 4 -->\n",
       "<g id=\"node5\" class=\"node\">\n",
       "<title>4</title>\n",
       "<path fill=\"none\" stroke=\"black\" d=\"M296,-40.21C296,-40.21 266,-40.21 266,-40.21 260,-40.21 254,-34.21 254,-28.21 254,-28.21 254,-16.21 254,-16.21 254,-10.21 260,-4.21 266,-4.21 266,-4.21 296,-4.21 296,-4.21 302,-4.21 308,-10.21 308,-16.21 308,-16.21 308,-28.21 308,-28.21 308,-34.21 302,-40.21 296,-40.21\"/>\n",
       "<text text-anchor=\"middle\" x=\"281\" y=\"-18.51\" font-family=\"Times,serif\" font-size=\"14.00\">$2</text>\n",
       "</g>\n",
       "<!-- 2&#45;&gt;4 -->\n",
       "<g id=\"edge4\" class=\"edge\">\n",
       "<title>2-&gt;4</title>\n",
       "<path fill=\"none\" stroke=\"black\" d=\"M91.36,-21.33C129.59,-21.51 200.53,-21.84 243.68,-22.04\"/>\n",
       "<polygon fill=\"black\" stroke=\"black\" points=\"243.74,-25.54 253.76,-22.08 243.77,-18.54 243.74,-25.54\"/>\n",
       "<text text-anchor=\"middle\" x=\"164\" y=\"-25.01\" font-family=\"Times,serif\" font-size=\"14.00\">a</text>\n",
       "</g>\n",
       "<!-- 3&#45;&gt;F3 -->\n",
       "<g id=\"edge5\" class=\"edge\">\n",
       "<title>3-&gt;F3</title>\n",
       "<path fill=\"none\" stroke=\"DimGray\" d=\"M191.31,-86.52C197.08,-88.57 203.21,-90.59 209,-92.21 230.34,-98.15 255.96,-102.55 269.85,-104.71\"/>\n",
       "<polygon fill=\"DimGray\" stroke=\"DimGray\" points=\"269.48,-108.19 279.88,-106.19 270.5,-101.27 269.48,-108.19\"/>\n",
       "</g>\n",
       "<!-- 3&#45;&gt;2 -->\n",
       "<g id=\"edge6\" class=\"edge\">\n",
       "<title>3-&gt;2</title>\n",
       "<path fill=\"none\" stroke=\"black\" d=\"M147.44,-58.06C139.65,-50 129.62,-41.03 119,-35.21 113.43,-32.15 107.16,-29.74 100.93,-27.84\"/>\n",
       "<polygon fill=\"black\" stroke=\"black\" points=\"101.82,-24.46 91.26,-25.28 100.03,-31.23 101.82,-24.46\"/>\n",
       "<text text-anchor=\"middle\" x=\"114\" y=\"-39.01\" font-family=\"Times,serif\" font-size=\"14.00\">b</text>\n",
       "</g>\n",
       "<!-- 3&#45;&gt;4 -->\n",
       "<g id=\"edge7\" class=\"edge\">\n",
       "<title>3-&gt;4</title>\n",
       "<path fill=\"none\" stroke=\"black\" d=\"M191.09,-70.32C204.87,-66.67 221.81,-61.32 236,-54.21 240.63,-51.88 245.3,-49.09 249.77,-46.13\"/>\n",
       "<polygon fill=\"black\" stroke=\"black\" points=\"251.89,-48.92 258.08,-40.32 247.88,-43.18 251.89,-48.92\"/>\n",
       "<text text-anchor=\"middle\" x=\"222.5\" y=\"-68.01\" font-family=\"Times,serif\" font-size=\"14.00\">a, b</text>\n",
       "</g>\n",
       "<!-- 4&#45;&gt;2 -->\n",
       "<g id=\"edge8\" class=\"edge\">\n",
       "<title>4-&gt;2</title>\n",
       "<path fill=\"none\" stroke=\"black\" d=\"M253.78,-14.71C236.19,-10.08 212.41,-4.58 191,-2.21 167.15,0.44 160.8,0.88 137,-2.21 125,-3.76 112.15,-6.72 100.68,-9.85\"/>\n",
       "<polygon fill=\"black\" stroke=\"black\" points=\"99.66,-6.5 91.01,-12.61 101.58,-13.23 99.66,-6.5\"/>\n",
       "<text text-anchor=\"middle\" x=\"164\" y=\"-6.01\" font-family=\"Times,serif\" font-size=\"14.00\">b</text>\n",
       "</g>\n",
       "<!-- 4&#45;&gt;3 -->\n",
       "<g id=\"edge9\" class=\"edge\">\n",
       "<title>4-&gt;3</title>\n",
       "<path fill=\"none\" stroke=\"black\" d=\"M253.91,-23.45C239.98,-24.96 222.88,-28.23 209,-35.21 201.09,-39.18 193.59,-45.02 187.1,-51.06\"/>\n",
       "<polygon fill=\"black\" stroke=\"black\" points=\"184.6,-48.6 179.98,-58.13 189.54,-53.57 184.6,-48.6\"/>\n",
       "<text text-anchor=\"middle\" x=\"222.5\" y=\"-39.01\" font-family=\"Times,serif\" font-size=\"14.00\">a</text>\n",
       "</g>\n",
       "</g>\n",
       "</svg>"
      ],
      "text/plain": [
       "<IPython.core.display.SVG object>"
      ]
     },
     "metadata": {},
     "output_type": "display_data"
    }
   ],
   "source": [
    "A.del_transition(stt_2,stt_2,'b')\n",
    "A.display()"
   ]
  },
  {
   "cell_type": "markdown",
   "metadata": {},
   "source": [
    "---\n",
    "Deleting all transitions from a state to another (order matters)."
   ]
  },
  {
   "cell_type": "code",
   "execution_count": 20,
   "metadata": {},
   "outputs": [
    {
     "data": {
      "image/svg+xml": [
       "<svg xmlns=\"http://www.w3.org/2000/svg\" xmlns:xlink=\"http://www.w3.org/1999/xlink\" width=\"335pt\" height=\"109pt\" viewBox=\"0.00 0.00 335.00 108.89\">\n",
       "<g id=\"graph0\" class=\"graph\" transform=\"scale(1 1) rotate(0) translate(4 104.89)\">\n",
       "<title>%3</title>\n",
       "<polygon fill=\"white\" stroke=\"transparent\" points=\"-4,4 -4,-104.89 331,-104.89 331,4 -4,4\"/>\n",
       "<!-- I2 -->\n",
       "<g id=\"node1\" class=\"node\">\n",
       "<title>I2</title>\n",
       "<ellipse fill=\"black\" stroke=\"black\" cx=\"0\" cy=\"-49.89\" rx=\"0\" ry=\"0\"/>\n",
       "</g>\n",
       "<!-- 2 -->\n",
       "<g id=\"node3\" class=\"node\">\n",
       "<title>2</title>\n",
       "<path fill=\"none\" stroke=\"black\" d=\"M79,-67.89C79,-67.89 49,-67.89 49,-67.89 43,-67.89 37,-61.89 37,-55.89 37,-55.89 37,-43.89 37,-43.89 37,-37.89 43,-31.89 49,-31.89 49,-31.89 79,-31.89 79,-31.89 85,-31.89 91,-37.89 91,-43.89 91,-43.89 91,-55.89 91,-55.89 91,-61.89 85,-67.89 79,-67.89\"/>\n",
       "<text text-anchor=\"middle\" x=\"64\" y=\"-46.19\" font-family=\"Times,serif\" font-size=\"14.00\">$0</text>\n",
       "</g>\n",
       "<!-- I2&#45;&gt;2 -->\n",
       "<g id=\"edge1\" class=\"edge\">\n",
       "<title>I2-&gt;2</title>\n",
       "<path fill=\"none\" stroke=\"DimGray\" d=\"M1.04,-49.89C1.86,-49.89 13.73,-49.89 26.87,-49.89\"/>\n",
       "<polygon fill=\"DimGray\" stroke=\"DimGray\" points=\"27,-53.39 37,-49.89 27,-46.39 27,-53.39\"/>\n",
       "</g>\n",
       "<!-- F3 -->\n",
       "<g id=\"node2\" class=\"node\">\n",
       "<title>F3</title>\n",
       "<ellipse fill=\"black\" stroke=\"black\" cx=\"327\" cy=\"-46.89\" rx=\"0\" ry=\"0\"/>\n",
       "</g>\n",
       "<!-- 2&#45;&gt;2 -->\n",
       "<g id=\"edge2\" class=\"edge\">\n",
       "<title>2-&gt;2</title>\n",
       "<path fill=\"none\" stroke=\"black\" d=\"M56.04,-68.04C54.82,-77.43 57.47,-85.89 64,-85.89 67.98,-85.89 70.52,-82.75 71.62,-78.17\"/>\n",
       "<polygon fill=\"black\" stroke=\"black\" points=\"75.12,-78.16 71.96,-68.04 68.13,-77.92 75.12,-78.16\"/>\n",
       "<text text-anchor=\"middle\" x=\"64\" y=\"-89.69\" font-family=\"Times,serif\" font-size=\"14.00\">b</text>\n",
       "</g>\n",
       "<!-- 3 -->\n",
       "<g id=\"node4\" class=\"node\">\n",
       "<title>3</title>\n",
       "<path fill=\"none\" stroke=\"black\" d=\"M278,-64.89C278,-64.89 248,-64.89 248,-64.89 242,-64.89 236,-58.89 236,-52.89 236,-52.89 236,-40.89 236,-40.89 236,-34.89 242,-28.89 248,-28.89 248,-28.89 278,-28.89 278,-28.89 284,-28.89 290,-34.89 290,-40.89 290,-40.89 290,-52.89 290,-52.89 290,-58.89 284,-64.89 278,-64.89\"/>\n",
       "<text text-anchor=\"middle\" x=\"263\" y=\"-43.19\" font-family=\"Times,serif\" font-size=\"14.00\">$1</text>\n",
       "</g>\n",
       "<!-- 2&#45;&gt;3 -->\n",
       "<g id=\"edge3\" class=\"edge\">\n",
       "<title>2-&gt;3</title>\n",
       "<path fill=\"none\" stroke=\"black\" d=\"M91.34,-60.68C97.11,-62.87 103.22,-65.06 109,-66.89 143.87,-77.94 154.8,-79.14 191,-73.89 202.91,-72.16 215.35,-68.24 226.43,-63.9\"/>\n",
       "<polygon fill=\"black\" stroke=\"black\" points=\"227.88,-67.09 235.77,-60.02 225.2,-60.62 227.88,-67.09\"/>\n",
       "<text text-anchor=\"middle\" x=\"164\" y=\"-80.69\" font-family=\"Times,serif\" font-size=\"14.00\">a</text>\n",
       "</g>\n",
       "<!-- 4 -->\n",
       "<g id=\"node5\" class=\"node\">\n",
       "<title>4</title>\n",
       "<path fill=\"none\" stroke=\"black\" d=\"M179,-64.89C179,-64.89 149,-64.89 149,-64.89 143,-64.89 137,-58.89 137,-52.89 137,-52.89 137,-40.89 137,-40.89 137,-34.89 143,-28.89 149,-28.89 149,-28.89 179,-28.89 179,-28.89 185,-28.89 191,-34.89 191,-40.89 191,-40.89 191,-52.89 191,-52.89 191,-58.89 185,-64.89 179,-64.89\"/>\n",
       "<text text-anchor=\"middle\" x=\"164\" y=\"-43.19\" font-family=\"Times,serif\" font-size=\"14.00\">$2</text>\n",
       "</g>\n",
       "<!-- 2&#45;&gt;4 -->\n",
       "<g id=\"edge4\" class=\"edge\">\n",
       "<title>2-&gt;4</title>\n",
       "<path fill=\"none\" stroke=\"black\" d=\"M91,-49.1C101.97,-48.76 114.92,-48.36 126.79,-48\"/>\n",
       "<polygon fill=\"black\" stroke=\"black\" points=\"126.99,-51.5 136.87,-47.69 126.77,-44.5 126.99,-51.5\"/>\n",
       "<text text-anchor=\"middle\" x=\"114\" y=\"-51.69\" font-family=\"Times,serif\" font-size=\"14.00\">a</text>\n",
       "</g>\n",
       "<!-- 3&#45;&gt;F3 -->\n",
       "<g id=\"edge5\" class=\"edge\">\n",
       "<title>3-&gt;F3</title>\n",
       "<path fill=\"none\" stroke=\"DimGray\" d=\"M290.29,-46.89C299.25,-46.89 308.73,-46.89 315.68,-46.89\"/>\n",
       "<polygon fill=\"DimGray\" stroke=\"DimGray\" points=\"315.95,-50.39 325.95,-46.89 315.95,-43.39 315.95,-50.39\"/>\n",
       "</g>\n",
       "<!-- 3&#45;&gt;2 -->\n",
       "<g id=\"edge6\" class=\"edge\">\n",
       "<title>3-&gt;2</title>\n",
       "<path fill=\"none\" stroke=\"black\" d=\"M238.82,-28.87C225.6,-19.74 208.27,-9.62 191,-4.89 167.85,1.44 160.07,1.72 137,-4.89 122.18,-9.14 107.45,-17.43 95.21,-25.75\"/>\n",
       "<polygon fill=\"black\" stroke=\"black\" points=\"92.89,-23.11 86.77,-31.76 96.95,-28.81 92.89,-23.11\"/>\n",
       "<text text-anchor=\"middle\" x=\"164\" y=\"-8.69\" font-family=\"Times,serif\" font-size=\"14.00\">b</text>\n",
       "</g>\n",
       "<!-- 4&#45;&gt;2 -->\n",
       "<g id=\"edge7\" class=\"edge\">\n",
       "<title>4-&gt;2</title>\n",
       "<path fill=\"none\" stroke=\"black\" d=\"M136.93,-32.13C128.16,-28.8 118.25,-26.8 109,-28.89 106.21,-29.52 103.4,-30.35 100.61,-31.32\"/>\n",
       "<polygon fill=\"black\" stroke=\"black\" points=\"99.3,-28.07 91.3,-35.03 101.89,-34.57 99.3,-28.07\"/>\n",
       "<text text-anchor=\"middle\" x=\"114\" y=\"-32.69\" font-family=\"Times,serif\" font-size=\"14.00\">b</text>\n",
       "</g>\n",
       "<!-- 4&#45;&gt;3 -->\n",
       "<g id=\"edge8\" class=\"edge\">\n",
       "<title>4-&gt;3</title>\n",
       "<path fill=\"none\" stroke=\"black\" d=\"M191.25,-46.89C201.82,-46.89 214.18,-46.89 225.6,-46.89\"/>\n",
       "<polygon fill=\"black\" stroke=\"black\" points=\"225.73,-50.39 235.73,-46.89 225.73,-43.39 225.73,-50.39\"/>\n",
       "<text text-anchor=\"middle\" x=\"213.5\" y=\"-50.69\" font-family=\"Times,serif\" font-size=\"14.00\">a</text>\n",
       "</g>\n",
       "</g>\n",
       "</svg>"
      ],
      "text/plain": [
       "<IPython.core.display.SVG object>"
      ]
     },
     "metadata": {},
     "output_type": "display_data"
    }
   ],
   "source": [
    "A.del_transition(stt_1,stt_2)\n",
    "A.display()"
   ]
  },
  {
   "cell_type": "markdown",
   "metadata": {},
   "source": [
    "---\n",
    "Deleting a state (and all its outgoing and incoming transitions) "
   ]
  },
  {
   "cell_type": "code",
   "execution_count": 21,
   "metadata": {},
   "outputs": [
    {
     "data": {
      "image/svg+xml": [
       "<svg xmlns=\"http://www.w3.org/2000/svg\" xmlns:xlink=\"http://www.w3.org/1999/xlink\" width=\"236pt\" height=\"79pt\" viewBox=\"0.00 0.00 236.00 78.96\">\n",
       "<g id=\"graph0\" class=\"graph\" transform=\"scale(1 1) rotate(0) translate(4 74.96)\">\n",
       "<title>%3</title>\n",
       "<polygon fill=\"white\" stroke=\"transparent\" points=\"-4,4 -4,-74.96 232,-74.96 232,4 -4,4\"/>\n",
       "<!-- I2 -->\n",
       "<g id=\"node1\" class=\"node\">\n",
       "<title>I2</title>\n",
       "<ellipse fill=\"black\" stroke=\"black\" cx=\"0\" cy=\"-19.96\" rx=\"0\" ry=\"0\"/>\n",
       "</g>\n",
       "<!-- 2 -->\n",
       "<g id=\"node3\" class=\"node\">\n",
       "<title>2</title>\n",
       "<path fill=\"none\" stroke=\"black\" d=\"M79,-37.96C79,-37.96 49,-37.96 49,-37.96 43,-37.96 37,-31.96 37,-25.96 37,-25.96 37,-13.96 37,-13.96 37,-7.96 43,-1.96 49,-1.96 49,-1.96 79,-1.96 79,-1.96 85,-1.96 91,-7.96 91,-13.96 91,-13.96 91,-25.96 91,-25.96 91,-31.96 85,-37.96 79,-37.96\"/>\n",
       "<text text-anchor=\"middle\" x=\"64\" y=\"-16.26\" font-family=\"Times,serif\" font-size=\"14.00\">$0</text>\n",
       "</g>\n",
       "<!-- I2&#45;&gt;2 -->\n",
       "<g id=\"edge1\" class=\"edge\">\n",
       "<title>I2-&gt;2</title>\n",
       "<path fill=\"none\" stroke=\"DimGray\" d=\"M1.04,-19.96C1.86,-19.96 13.73,-19.96 26.87,-19.96\"/>\n",
       "<polygon fill=\"DimGray\" stroke=\"DimGray\" points=\"27,-23.46 37,-19.96 27,-16.46 27,-23.46\"/>\n",
       "</g>\n",
       "<!-- F3 -->\n",
       "<g id=\"node2\" class=\"node\">\n",
       "<title>F3</title>\n",
       "<ellipse fill=\"black\" stroke=\"black\" cx=\"228\" cy=\"-19.96\" rx=\"0\" ry=\"0\"/>\n",
       "</g>\n",
       "<!-- 2&#45;&gt;2 -->\n",
       "<g id=\"edge2\" class=\"edge\">\n",
       "<title>2-&gt;2</title>\n",
       "<path fill=\"none\" stroke=\"black\" d=\"M56.04,-38.11C54.82,-47.49 57.47,-55.96 64,-55.96 67.98,-55.96 70.52,-52.81 71.62,-48.24\"/>\n",
       "<polygon fill=\"black\" stroke=\"black\" points=\"75.12,-48.22 71.96,-38.11 68.13,-47.99 75.12,-48.22\"/>\n",
       "<text text-anchor=\"middle\" x=\"64\" y=\"-59.76\" font-family=\"Times,serif\" font-size=\"14.00\">b</text>\n",
       "</g>\n",
       "<!-- 3 -->\n",
       "<g id=\"node4\" class=\"node\">\n",
       "<title>3</title>\n",
       "<path fill=\"none\" stroke=\"black\" d=\"M179,-37.96C179,-37.96 149,-37.96 149,-37.96 143,-37.96 137,-31.96 137,-25.96 137,-25.96 137,-13.96 137,-13.96 137,-7.96 143,-1.96 149,-1.96 149,-1.96 179,-1.96 179,-1.96 185,-1.96 191,-7.96 191,-13.96 191,-13.96 191,-25.96 191,-25.96 191,-31.96 185,-37.96 179,-37.96\"/>\n",
       "<text text-anchor=\"middle\" x=\"164\" y=\"-16.26\" font-family=\"Times,serif\" font-size=\"14.00\">$1</text>\n",
       "</g>\n",
       "<!-- 2&#45;&gt;3 -->\n",
       "<g id=\"edge3\" class=\"edge\">\n",
       "<title>2-&gt;3</title>\n",
       "<path fill=\"none\" stroke=\"black\" d=\"M91,-19.96C101.97,-19.96 114.92,-19.96 126.79,-19.96\"/>\n",
       "<polygon fill=\"black\" stroke=\"black\" points=\"126.87,-23.46 136.87,-19.96 126.87,-16.46 126.87,-23.46\"/>\n",
       "<text text-anchor=\"middle\" x=\"114\" y=\"-23.76\" font-family=\"Times,serif\" font-size=\"14.00\">a</text>\n",
       "</g>\n",
       "<!-- 3&#45;&gt;F3 -->\n",
       "<g id=\"edge4\" class=\"edge\">\n",
       "<title>3-&gt;F3</title>\n",
       "<path fill=\"none\" stroke=\"DimGray\" d=\"M191.29,-19.96C200.25,-19.96 209.73,-19.96 216.68,-19.96\"/>\n",
       "<polygon fill=\"DimGray\" stroke=\"DimGray\" points=\"216.95,-23.46 226.95,-19.96 216.95,-16.46 216.95,-23.46\"/>\n",
       "</g>\n",
       "<!-- 3&#45;&gt;2 -->\n",
       "<g id=\"edge5\" class=\"edge\">\n",
       "<title>3-&gt;2</title>\n",
       "<path fill=\"none\" stroke=\"black\" d=\"M136.76,-4.6C128.07,-1.17 118.25,0.96 109,-0.96 106.34,-1.5 103.65,-2.22 100.97,-3.06\"/>\n",
       "<polygon fill=\"black\" stroke=\"black\" points=\"99.64,0.19 91.42,-6.5 102.02,-6.4 99.64,0.19\"/>\n",
       "<text text-anchor=\"middle\" x=\"114\" y=\"-4.76\" font-family=\"Times,serif\" font-size=\"14.00\">b</text>\n",
       "</g>\n",
       "</g>\n",
       "</svg>"
      ],
      "text/plain": [
       "<IPython.core.display.SVG object>"
      ]
     },
     "metadata": {},
     "output_type": "display_data"
    }
   ],
   "source": [
    "A.del_state(stt_2)\n",
    "A.display()"
   ]
  },
  {
   "cell_type": "markdown",
   "metadata": {},
   "source": [
    "## Loading & saving automata"
   ]
  },
  {
   "cell_type": "markdown",
   "metadata": {},
   "source": [
    "Saving an automaton to file.  The format used is JavaScript Object Notation (JSON) hence the extension \".json\" ."
   ]
  },
  {
   "cell_type": "code",
   "execution_count": 22,
   "metadata": {},
   "outputs": [],
   "source": [
    "A.save(\"fibo.json\")"
   ]
  },
  {
   "cell_type": "code",
   "execution_count": 23,
   "metadata": {},
   "outputs": [],
   "source": [
    "# This created a new file on the disk called fibo.json in the current directory"
   ]
  },
  {
   "cell_type": "markdown",
   "metadata": {},
   "source": [
    "---\n",
    "Loading an automaton."
   ]
  },
  {
   "cell_type": "code",
   "execution_count": 24,
   "metadata": {},
   "outputs": [
    {
     "data": {
      "image/svg+xml": [
       "<svg xmlns=\"http://www.w3.org/2000/svg\" xmlns:xlink=\"http://www.w3.org/1999/xlink\" width=\"236pt\" height=\"79pt\" viewBox=\"0.00 0.00 236.00 78.96\">\n",
       "<g id=\"graph0\" class=\"graph\" transform=\"scale(1 1) rotate(0) translate(4 74.96)\">\n",
       "<title>%3</title>\n",
       "<polygon fill=\"white\" stroke=\"transparent\" points=\"-4,4 -4,-74.96 232,-74.96 232,4 -4,4\"/>\n",
       "<!-- I2 -->\n",
       "<g id=\"node1\" class=\"node\">\n",
       "<title>I2</title>\n",
       "<ellipse fill=\"black\" stroke=\"black\" cx=\"0\" cy=\"-19.96\" rx=\"0\" ry=\"0\"/>\n",
       "</g>\n",
       "<!-- 2 -->\n",
       "<g id=\"node3\" class=\"node\">\n",
       "<title>2</title>\n",
       "<path fill=\"none\" stroke=\"black\" d=\"M79,-37.96C79,-37.96 49,-37.96 49,-37.96 43,-37.96 37,-31.96 37,-25.96 37,-25.96 37,-13.96 37,-13.96 37,-7.96 43,-1.96 49,-1.96 49,-1.96 79,-1.96 79,-1.96 85,-1.96 91,-7.96 91,-13.96 91,-13.96 91,-25.96 91,-25.96 91,-31.96 85,-37.96 79,-37.96\"/>\n",
       "<text text-anchor=\"middle\" x=\"64\" y=\"-16.26\" font-family=\"Times,serif\" font-size=\"14.00\">$0</text>\n",
       "</g>\n",
       "<!-- I2&#45;&gt;2 -->\n",
       "<g id=\"edge1\" class=\"edge\">\n",
       "<title>I2-&gt;2</title>\n",
       "<path fill=\"none\" stroke=\"DimGray\" d=\"M1.04,-19.96C1.86,-19.96 13.73,-19.96 26.87,-19.96\"/>\n",
       "<polygon fill=\"DimGray\" stroke=\"DimGray\" points=\"27,-23.46 37,-19.96 27,-16.46 27,-23.46\"/>\n",
       "</g>\n",
       "<!-- F3 -->\n",
       "<g id=\"node2\" class=\"node\">\n",
       "<title>F3</title>\n",
       "<ellipse fill=\"black\" stroke=\"black\" cx=\"228\" cy=\"-19.96\" rx=\"0\" ry=\"0\"/>\n",
       "</g>\n",
       "<!-- 2&#45;&gt;2 -->\n",
       "<g id=\"edge2\" class=\"edge\">\n",
       "<title>2-&gt;2</title>\n",
       "<path fill=\"none\" stroke=\"black\" d=\"M56.04,-38.11C54.82,-47.49 57.47,-55.96 64,-55.96 67.98,-55.96 70.52,-52.81 71.62,-48.24\"/>\n",
       "<polygon fill=\"black\" stroke=\"black\" points=\"75.12,-48.22 71.96,-38.11 68.13,-47.99 75.12,-48.22\"/>\n",
       "<text text-anchor=\"middle\" x=\"64\" y=\"-59.76\" font-family=\"Times,serif\" font-size=\"14.00\">b</text>\n",
       "</g>\n",
       "<!-- 3 -->\n",
       "<g id=\"node4\" class=\"node\">\n",
       "<title>3</title>\n",
       "<path fill=\"none\" stroke=\"black\" d=\"M179,-37.96C179,-37.96 149,-37.96 149,-37.96 143,-37.96 137,-31.96 137,-25.96 137,-25.96 137,-13.96 137,-13.96 137,-7.96 143,-1.96 149,-1.96 149,-1.96 179,-1.96 179,-1.96 185,-1.96 191,-7.96 191,-13.96 191,-13.96 191,-25.96 191,-25.96 191,-31.96 185,-37.96 179,-37.96\"/>\n",
       "<text text-anchor=\"middle\" x=\"164\" y=\"-16.26\" font-family=\"Times,serif\" font-size=\"14.00\">$1</text>\n",
       "</g>\n",
       "<!-- 2&#45;&gt;3 -->\n",
       "<g id=\"edge3\" class=\"edge\">\n",
       "<title>2-&gt;3</title>\n",
       "<path fill=\"none\" stroke=\"black\" d=\"M91,-19.96C101.97,-19.96 114.92,-19.96 126.79,-19.96\"/>\n",
       "<polygon fill=\"black\" stroke=\"black\" points=\"126.87,-23.46 136.87,-19.96 126.87,-16.46 126.87,-23.46\"/>\n",
       "<text text-anchor=\"middle\" x=\"114\" y=\"-23.76\" font-family=\"Times,serif\" font-size=\"14.00\">a</text>\n",
       "</g>\n",
       "<!-- 3&#45;&gt;F3 -->\n",
       "<g id=\"edge4\" class=\"edge\">\n",
       "<title>3-&gt;F3</title>\n",
       "<path fill=\"none\" stroke=\"DimGray\" d=\"M191.29,-19.96C200.25,-19.96 209.73,-19.96 216.68,-19.96\"/>\n",
       "<polygon fill=\"DimGray\" stroke=\"DimGray\" points=\"216.95,-23.46 226.95,-19.96 216.95,-16.46 216.95,-23.46\"/>\n",
       "</g>\n",
       "<!-- 3&#45;&gt;2 -->\n",
       "<g id=\"edge5\" class=\"edge\">\n",
       "<title>3-&gt;2</title>\n",
       "<path fill=\"none\" stroke=\"black\" d=\"M136.76,-4.6C128.07,-1.17 118.25,0.96 109,-0.96 106.34,-1.5 103.65,-2.22 100.97,-3.06\"/>\n",
       "<polygon fill=\"black\" stroke=\"black\" points=\"99.64,0.19 91.42,-6.5 102.02,-6.4 99.64,0.19\"/>\n",
       "<text text-anchor=\"middle\" x=\"114\" y=\"-4.76\" font-family=\"Times,serif\" font-size=\"14.00\">b</text>\n",
       "</g>\n",
       "</g>\n",
       "</svg>"
      ],
      "text/plain": [
       "<IPython.core.display.SVG object>"
      ]
     },
     "metadata": {},
     "output_type": "display_data"
    }
   ],
   "source": [
    "B = awalipy.load(\"fibo.json\")\n",
    "B.display()"
   ]
  },
  {
   "cell_type": "markdown",
   "metadata": {},
   "source": [
    "---\n",
    "A few example are given as part of the library.  The examples are listed by the following function."
   ]
  },
  {
   "cell_type": "code",
   "execution_count": 25,
   "metadata": {},
   "outputs": [
    {
     "name": "stdout",
     "output_type": "stream",
     "text": [
      "======== automata ==========\n",
      "- a1\tNFA that accepts words with at least one factor 'ab'\n",
      "- astar-bstar\tNFA with epsilon transition which recognizes words in 'a*b*'\n",
      "- b1\tZ-FA that counts the number of 'b' in words of {a,b}*\n",
      "- binary\tZ-FA that converts words of {0,1}^* into their binary values\n",
      "- binary-int\tZ-FA whose labels are integers and that converts words of {0,1}^* into their binary values\n",
      "- c1\tZ-FA that converts words of {a,b}^* into their binary values\n",
      "- d1\tZ-FA computes the difference between the numbers of 'a' and 'b'\n",
      "- e1\tQ-FA that converts words of {a,b}^* into their binary values after the radix point\n",
      "- evena\tDFA which recognizes words with an even number of 'a'\n",
      "- fibotdc-lr\tSequential transducer which tries to replace 'abb' by 'baa'\n",
      "- flipper\tTransducer that mimics a flipper game\n",
      "- gray\tGray code increment\n",
      "- heapmodel\tZ-max-plus automaton, heap model with 2 pieces\n",
      "- lamplighter\tGroup automaton which realizes the Lamplighter group\n",
      "- minab\tZ-min-plus-automaton which computes the minimum among the numbers of 'a' and 'b' in every word\n",
      "- minblocka\tZ-min-plus-automaton which computes the length of the shortest block of 'a' in every word\n",
      "- oddb\tDFA which recognizes words with an odd number of 'b'\n",
      "- prob-rabin\tR-automaton (probabilistic automaton) that accepts w with prob. expansion(w)\n",
      "- rotation\tC-automaton realizing a rotation\n",
      "- slowcerny\tSynchronisable NFA which meets Cerny bound\n",
      "- slowgrow\tZ-min-plus-automaton with a slow growing length function\n",
      "- url-validator\tAutomaton with epsilon transition that validates url\n",
      "\n",
      "======== ratexps ==========\n",
      "- conway-exp\tRunning example of an expression in Conway's book Regular Algebra and Finite Machines\n",
      "- div3b2-exp\tWriting in base 2 of the integers divisible by 3\n",
      "\n"
     ]
    }
   ],
   "source": [
    "examples_dict = awalipy.list_examples()\n",
    "for kind in [\"automata\",\"ratexps\"]:\n",
    "    print(\"======== {} ==========\".format(kind))\n",
    "    for name in examples_dict[kind]:\n",
    "        print(\"- {}\\t{}\".format(name, examples_dict[kind][name]))\n",
    "    print (\"\")"
   ]
  },
  {
   "cell_type": "markdown",
   "metadata": {},
   "source": [
    "---\n",
    "Example automata can be loaded with the function `load` with their name"
   ]
  },
  {
   "cell_type": "code",
   "execution_count": 26,
   "metadata": {
    "scrolled": true
   },
   "outputs": [
    {
     "data": {
      "image/svg+xml": [
       "<svg xmlns=\"http://www.w3.org/2000/svg\" xmlns:xlink=\"http://www.w3.org/1999/xlink\" width=\"335pt\" height=\"77pt\" viewBox=\"0.00 0.00 335.00 77.00\">\n",
       "<g id=\"graph0\" class=\"graph\" transform=\"scale(1 1) rotate(0) translate(4 73)\">\n",
       "<title>%3</title>\n",
       "<polygon fill=\"white\" stroke=\"transparent\" points=\"-4,4 -4,-73 331,-73 331,4 -4,4\"/>\n",
       "<!-- I2 -->\n",
       "<g id=\"node1\" class=\"node\">\n",
       "<title>I2</title>\n",
       "<ellipse fill=\"black\" stroke=\"black\" cx=\"0\" cy=\"-18\" rx=\"0\" ry=\"0\"/>\n",
       "</g>\n",
       "<!-- 2 -->\n",
       "<g id=\"node3\" class=\"node\">\n",
       "<title>2</title>\n",
       "<path fill=\"none\" stroke=\"black\" d=\"M79,-36C79,-36 49,-36 49,-36 43,-36 37,-30 37,-24 37,-24 37,-12 37,-12 37,-6 43,0 49,0 49,0 79,0 79,0 85,0 91,-6 91,-12 91,-12 91,-24 91,-24 91,-30 85,-36 79,-36\"/>\n",
       "<text text-anchor=\"middle\" x=\"64\" y=\"-14.3\" font-family=\"Times,serif\" font-size=\"14.00\">p</text>\n",
       "</g>\n",
       "<!-- I2&#45;&gt;2 -->\n",
       "<g id=\"edge1\" class=\"edge\">\n",
       "<title>I2-&gt;2</title>\n",
       "<path fill=\"none\" stroke=\"DimGray\" d=\"M1.04,-18C1.86,-18 13.73,-18 26.87,-18\"/>\n",
       "<polygon fill=\"DimGray\" stroke=\"DimGray\" points=\"27,-21.5 37,-18 27,-14.5 27,-21.5\"/>\n",
       "</g>\n",
       "<!-- F4 -->\n",
       "<g id=\"node2\" class=\"node\">\n",
       "<title>F4</title>\n",
       "<ellipse fill=\"black\" stroke=\"black\" cx=\"327\" cy=\"-18\" rx=\"0\" ry=\"0\"/>\n",
       "</g>\n",
       "<!-- 2&#45;&gt;2 -->\n",
       "<g id=\"edge2\" class=\"edge\">\n",
       "<title>2-&gt;2</title>\n",
       "<path fill=\"none\" stroke=\"black\" d=\"M56.04,-36.15C54.82,-45.54 57.47,-54 64,-54 67.98,-54 70.52,-50.86 71.62,-46.28\"/>\n",
       "<polygon fill=\"black\" stroke=\"black\" points=\"75.12,-46.26 71.96,-36.15 68.13,-46.03 75.12,-46.26\"/>\n",
       "<text text-anchor=\"middle\" x=\"64\" y=\"-57.8\" font-family=\"Times,serif\" font-size=\"14.00\">a, b</text>\n",
       "</g>\n",
       "<!-- 3 -->\n",
       "<g id=\"node4\" class=\"node\">\n",
       "<title>3</title>\n",
       "<path fill=\"none\" stroke=\"black\" d=\"M178,-36C178,-36 148,-36 148,-36 142,-36 136,-30 136,-24 136,-24 136,-12 136,-12 136,-6 142,0 148,0 148,0 178,0 178,0 184,0 190,-6 190,-12 190,-12 190,-24 190,-24 190,-30 184,-36 178,-36\"/>\n",
       "<text text-anchor=\"middle\" x=\"163\" y=\"-14.3\" font-family=\"Times,serif\" font-size=\"14.00\">q</text>\n",
       "</g>\n",
       "<!-- 2&#45;&gt;3 -->\n",
       "<g id=\"edge3\" class=\"edge\">\n",
       "<title>2-&gt;3</title>\n",
       "<path fill=\"none\" stroke=\"black\" d=\"M91.25,-18C101.82,-18 114.18,-18 125.6,-18\"/>\n",
       "<polygon fill=\"black\" stroke=\"black\" points=\"125.73,-21.5 135.73,-18 125.73,-14.5 125.73,-21.5\"/>\n",
       "<text text-anchor=\"middle\" x=\"113.5\" y=\"-21.8\" font-family=\"Times,serif\" font-size=\"14.00\">a</text>\n",
       "</g>\n",
       "<!-- 4 -->\n",
       "<g id=\"node5\" class=\"node\">\n",
       "<title>4</title>\n",
       "<path fill=\"none\" stroke=\"black\" d=\"M278,-36C278,-36 248,-36 248,-36 242,-36 236,-30 236,-24 236,-24 236,-12 236,-12 236,-6 242,0 248,0 248,0 278,0 278,0 284,0 290,-6 290,-12 290,-12 290,-24 290,-24 290,-30 284,-36 278,-36\"/>\n",
       "<text text-anchor=\"middle\" x=\"263\" y=\"-14.3\" font-family=\"Times,serif\" font-size=\"14.00\">r</text>\n",
       "</g>\n",
       "<!-- 3&#45;&gt;4 -->\n",
       "<g id=\"edge4\" class=\"edge\">\n",
       "<title>3-&gt;4</title>\n",
       "<path fill=\"none\" stroke=\"black\" d=\"M190,-18C200.97,-18 213.92,-18 225.79,-18\"/>\n",
       "<polygon fill=\"black\" stroke=\"black\" points=\"225.87,-21.5 235.87,-18 225.87,-14.5 225.87,-21.5\"/>\n",
       "<text text-anchor=\"middle\" x=\"213\" y=\"-21.8\" font-family=\"Times,serif\" font-size=\"14.00\">b</text>\n",
       "</g>\n",
       "<!-- 4&#45;&gt;F4 -->\n",
       "<g id=\"edge5\" class=\"edge\">\n",
       "<title>4-&gt;F4</title>\n",
       "<path fill=\"none\" stroke=\"DimGray\" d=\"M290.29,-18C299.25,-18 308.73,-18 315.68,-18\"/>\n",
       "<polygon fill=\"DimGray\" stroke=\"DimGray\" points=\"315.95,-21.5 325.95,-18 315.95,-14.5 315.95,-21.5\"/>\n",
       "</g>\n",
       "<!-- 4&#45;&gt;4 -->\n",
       "<g id=\"edge6\" class=\"edge\">\n",
       "<title>4-&gt;4</title>\n",
       "<path fill=\"none\" stroke=\"black\" d=\"M255.04,-36.15C253.82,-45.54 256.47,-54 263,-54 266.98,-54 269.52,-50.86 270.62,-46.28\"/>\n",
       "<polygon fill=\"black\" stroke=\"black\" points=\"274.12,-46.26 270.96,-36.15 267.13,-46.03 274.12,-46.26\"/>\n",
       "<text text-anchor=\"middle\" x=\"263\" y=\"-57.8\" font-family=\"Times,serif\" font-size=\"14.00\">a, b</text>\n",
       "</g>\n",
       "</g>\n",
       "</svg>"
      ],
      "text/plain": [
       "<IPython.core.display.SVG object>"
      ]
     },
     "metadata": {},
     "output_type": "display_data"
    }
   ],
   "source": [
    "C = awalipy.load(\"a1\")\n",
    "C.display()"
   ]
  },
  {
   "cell_type": "markdown",
   "metadata": {},
   "source": [
    "## A few factories\n"
   ]
  },
  {
   "cell_type": "markdown",
   "metadata": {},
   "source": [
    "`make_cerny(n)` returns an `n`-states DFA whose smallest synchronising word is of length `(n-1)**2`. This automaton attains the upper bound for the Cerny conjecture."
   ]
  },
  {
   "cell_type": "code",
   "execution_count": 27,
   "metadata": {},
   "outputs": [
    {
     "data": {
      "image/svg+xml": [
       "<svg xmlns=\"http://www.w3.org/2000/svg\" xmlns:xlink=\"http://www.w3.org/1999/xlink\" width=\"495pt\" height=\"126pt\" viewBox=\"0.00 0.00 495.00 126.00\">\n",
       "<g id=\"graph0\" class=\"graph\" transform=\"scale(1 1) rotate(0) translate(4 122)\">\n",
       "<title>%3</title>\n",
       "<polygon fill=\"white\" stroke=\"transparent\" points=\"-4,4 -4,-122 491,-122 491,4 -4,4\"/>\n",
       "<!-- I2 -->\n",
       "<g id=\"node1\" class=\"node\">\n",
       "<title>I2</title>\n",
       "<ellipse fill=\"black\" stroke=\"black\" cx=\"0\" cy=\"-49\" rx=\"0\" ry=\"0\"/>\n",
       "</g>\n",
       "<!-- 2 -->\n",
       "<g id=\"node3\" class=\"node\">\n",
       "<title>2</title>\n",
       "<path fill=\"none\" stroke=\"black\" d=\"M79,-67C79,-67 49,-67 49,-67 43,-67 37,-61 37,-55 37,-55 37,-43 37,-43 37,-37 43,-31 49,-31 49,-31 79,-31 79,-31 85,-31 91,-37 91,-43 91,-43 91,-55 91,-55 91,-61 85,-67 79,-67\"/>\n",
       "<text text-anchor=\"middle\" x=\"64\" y=\"-45.3\" font-family=\"Times,serif\" font-size=\"14.00\">$0</text>\n",
       "</g>\n",
       "<!-- I2&#45;&gt;2 -->\n",
       "<g id=\"edge1\" class=\"edge\">\n",
       "<title>I2-&gt;2</title>\n",
       "<path fill=\"none\" stroke=\"DimGray\" d=\"M1.04,-49C1.86,-49 13.73,-49 26.87,-49\"/>\n",
       "<polygon fill=\"DimGray\" stroke=\"DimGray\" points=\"27,-52.5 37,-49 27,-45.5 27,-52.5\"/>\n",
       "</g>\n",
       "<!-- F2 -->\n",
       "<g id=\"node2\" class=\"node\">\n",
       "<title>F2</title>\n",
       "<ellipse fill=\"black\" stroke=\"black\" cx=\"163\" cy=\"-118\" rx=\"0\" ry=\"0\"/>\n",
       "</g>\n",
       "<!-- 2&#45;&gt;F2 -->\n",
       "<g id=\"edge2\" class=\"edge\">\n",
       "<title>2-&gt;F2</title>\n",
       "<path fill=\"none\" stroke=\"DimGray\" d=\"M82.56,-67.08C96.14,-80.2 115.94,-97.58 136,-109 140.99,-111.84 147.02,-113.99 152.02,-115.48\"/>\n",
       "<polygon fill=\"DimGray\" stroke=\"DimGray\" points=\"151.4,-118.94 161.96,-117.99 153.12,-112.15 151.4,-118.94\"/>\n",
       "</g>\n",
       "<!-- 2&#45;&gt;2 -->\n",
       "<g id=\"edge3\" class=\"edge\">\n",
       "<title>2-&gt;2</title>\n",
       "<path fill=\"none\" stroke=\"black\" d=\"M56.04,-67.15C54.82,-76.54 57.47,-85 64,-85 67.98,-85 70.52,-81.86 71.62,-77.28\"/>\n",
       "<polygon fill=\"black\" stroke=\"black\" points=\"75.12,-77.26 71.96,-67.15 68.13,-77.03 75.12,-77.26\"/>\n",
       "<text text-anchor=\"middle\" x=\"64\" y=\"-88.8\" font-family=\"Times,serif\" font-size=\"14.00\">b</text>\n",
       "</g>\n",
       "<!-- 3 -->\n",
       "<g id=\"node4\" class=\"node\">\n",
       "<title>3</title>\n",
       "<path fill=\"none\" stroke=\"black\" d=\"M178,-67C178,-67 148,-67 148,-67 142,-67 136,-61 136,-55 136,-55 136,-43 136,-43 136,-37 142,-31 148,-31 148,-31 178,-31 178,-31 184,-31 190,-37 190,-43 190,-43 190,-55 190,-55 190,-61 184,-67 178,-67\"/>\n",
       "<text text-anchor=\"middle\" x=\"163\" y=\"-45.3\" font-family=\"Times,serif\" font-size=\"14.00\">$1</text>\n",
       "</g>\n",
       "<!-- 2&#45;&gt;3 -->\n",
       "<g id=\"edge4\" class=\"edge\">\n",
       "<title>2-&gt;3</title>\n",
       "<path fill=\"none\" stroke=\"black\" d=\"M91.25,-49C101.82,-49 114.18,-49 125.6,-49\"/>\n",
       "<polygon fill=\"black\" stroke=\"black\" points=\"125.73,-52.5 135.73,-49 125.73,-45.5 125.73,-52.5\"/>\n",
       "<text text-anchor=\"middle\" x=\"113.5\" y=\"-52.8\" font-family=\"Times,serif\" font-size=\"14.00\">a</text>\n",
       "</g>\n",
       "<!-- 3&#45;&gt;3 -->\n",
       "<g id=\"edge5\" class=\"edge\">\n",
       "<title>3-&gt;3</title>\n",
       "<path fill=\"none\" stroke=\"black\" d=\"M154.32,-67.15C152.98,-76.54 155.88,-85 163,-85 167.34,-85 170.11,-81.86 171.31,-77.28\"/>\n",
       "<polygon fill=\"black\" stroke=\"black\" points=\"174.82,-77.27 171.68,-67.15 167.82,-77.02 174.82,-77.27\"/>\n",
       "<text text-anchor=\"middle\" x=\"163\" y=\"-88.8\" font-family=\"Times,serif\" font-size=\"14.00\">b</text>\n",
       "</g>\n",
       "<!-- 4 -->\n",
       "<g id=\"node5\" class=\"node\">\n",
       "<title>4</title>\n",
       "<path fill=\"none\" stroke=\"black\" d=\"M277,-71C277,-71 247,-71 247,-71 241,-71 235,-65 235,-59 235,-59 235,-47 235,-47 235,-41 241,-35 247,-35 247,-35 277,-35 277,-35 283,-35 289,-41 289,-47 289,-47 289,-59 289,-59 289,-65 283,-71 277,-71\"/>\n",
       "<text text-anchor=\"middle\" x=\"262\" y=\"-49.3\" font-family=\"Times,serif\" font-size=\"14.00\">$2</text>\n",
       "</g>\n",
       "<!-- 3&#45;&gt;4 -->\n",
       "<g id=\"edge6\" class=\"edge\">\n",
       "<title>3-&gt;4</title>\n",
       "<path fill=\"none\" stroke=\"black\" d=\"M190.25,-50.08C200.82,-50.52 213.18,-51.03 224.6,-51.5\"/>\n",
       "<polygon fill=\"black\" stroke=\"black\" points=\"224.59,-55 234.73,-51.92 224.88,-48.01 224.59,-55\"/>\n",
       "<text text-anchor=\"middle\" x=\"212.5\" y=\"-54.8\" font-family=\"Times,serif\" font-size=\"14.00\">a</text>\n",
       "</g>\n",
       "<!-- 4&#45;&gt;4 -->\n",
       "<g id=\"edge7\" class=\"edge\">\n",
       "<title>4-&gt;4</title>\n",
       "<path fill=\"none\" stroke=\"black\" d=\"M253.32,-71.15C251.98,-80.54 254.88,-89 262,-89 266.34,-89 269.11,-85.86 270.31,-81.28\"/>\n",
       "<polygon fill=\"black\" stroke=\"black\" points=\"273.82,-81.27 270.68,-71.15 266.82,-81.02 273.82,-81.27\"/>\n",
       "<text text-anchor=\"middle\" x=\"262\" y=\"-92.8\" font-family=\"Times,serif\" font-size=\"14.00\">b</text>\n",
       "</g>\n",
       "<!-- 5 -->\n",
       "<g id=\"node6\" class=\"node\">\n",
       "<title>5</title>\n",
       "<path fill=\"none\" stroke=\"black\" d=\"M376,-68C376,-68 346,-68 346,-68 340,-68 334,-62 334,-56 334,-56 334,-44 334,-44 334,-38 340,-32 346,-32 346,-32 376,-32 376,-32 382,-32 388,-38 388,-44 388,-44 388,-56 388,-56 388,-62 382,-68 376,-68\"/>\n",
       "<text text-anchor=\"middle\" x=\"361\" y=\"-46.3\" font-family=\"Times,serif\" font-size=\"14.00\">$3</text>\n",
       "</g>\n",
       "<!-- 4&#45;&gt;5 -->\n",
       "<g id=\"edge8\" class=\"edge\">\n",
       "<title>4-&gt;5</title>\n",
       "<path fill=\"none\" stroke=\"black\" d=\"M289.25,-52.19C299.82,-51.86 312.18,-51.48 323.6,-51.13\"/>\n",
       "<polygon fill=\"black\" stroke=\"black\" points=\"323.84,-54.62 333.73,-50.81 323.63,-47.62 323.84,-54.62\"/>\n",
       "<text text-anchor=\"middle\" x=\"311.5\" y=\"-54.8\" font-family=\"Times,serif\" font-size=\"14.00\">a</text>\n",
       "</g>\n",
       "<!-- 5&#45;&gt;5 -->\n",
       "<g id=\"edge9\" class=\"edge\">\n",
       "<title>5-&gt;5</title>\n",
       "<path fill=\"none\" stroke=\"black\" d=\"M352.32,-68.15C350.98,-77.54 353.88,-86 361,-86 365.34,-86 368.11,-82.86 369.31,-78.28\"/>\n",
       "<polygon fill=\"black\" stroke=\"black\" points=\"372.82,-78.27 369.68,-68.15 365.82,-78.02 372.82,-78.27\"/>\n",
       "<text text-anchor=\"middle\" x=\"361\" y=\"-89.8\" font-family=\"Times,serif\" font-size=\"14.00\">b</text>\n",
       "</g>\n",
       "<!-- 6 -->\n",
       "<g id=\"node7\" class=\"node\">\n",
       "<title>6</title>\n",
       "<path fill=\"none\" stroke=\"black\" d=\"M475,-36C475,-36 445,-36 445,-36 439,-36 433,-30 433,-24 433,-24 433,-12 433,-12 433,-6 439,0 445,0 445,0 475,0 475,0 481,0 487,-6 487,-12 487,-12 487,-24 487,-24 487,-30 481,-36 475,-36\"/>\n",
       "<text text-anchor=\"middle\" x=\"460\" y=\"-14.3\" font-family=\"Times,serif\" font-size=\"14.00\">$4</text>\n",
       "</g>\n",
       "<!-- 5&#45;&gt;6 -->\n",
       "<g id=\"edge10\" class=\"edge\">\n",
       "<title>5-&gt;6</title>\n",
       "<path fill=\"none\" stroke=\"black\" d=\"M388.25,-41.34C398.92,-37.82 411.44,-33.69 422.95,-29.89\"/>\n",
       "<polygon fill=\"black\" stroke=\"black\" points=\"424.33,-33.12 432.73,-26.67 422.14,-26.48 424.33,-33.12\"/>\n",
       "<text text-anchor=\"middle\" x=\"410.5\" y=\"-37.8\" font-family=\"Times,serif\" font-size=\"14.00\">a</text>\n",
       "</g>\n",
       "<!-- 6&#45;&gt;2 -->\n",
       "<g id=\"edge11\" class=\"edge\">\n",
       "<title>6-&gt;2</title>\n",
       "<path fill=\"none\" stroke=\"black\" d=\"M432.84,-11.31C413.43,-6.92 386.24,-2 362,-2 162,-2 162,-2 162,-2 138.2,-2 114.11,-13.6 95.88,-25.28\"/>\n",
       "<polygon fill=\"black\" stroke=\"black\" points=\"93.78,-22.47 87.44,-30.96 97.69,-28.28 93.78,-22.47\"/>\n",
       "<text text-anchor=\"middle\" x=\"262\" y=\"-5.8\" font-family=\"Times,serif\" font-size=\"14.00\">a, b</text>\n",
       "</g>\n",
       "</g>\n",
       "</svg>"
      ],
      "text/plain": [
       "<IPython.core.display.SVG object>"
      ]
     },
     "metadata": {},
     "output_type": "display_data"
    }
   ],
   "source": [
    "awalipy.make_cerny(5).display()"
   ]
  },
  {
   "cell_type": "markdown",
   "metadata": {},
   "source": [
    "---\n",
    "`make_divkbaseb(k,b)` returns an automaton accepting integers divisible by `k`, written in base `b`."
   ]
  },
  {
   "cell_type": "code",
   "execution_count": 28,
   "metadata": {},
   "outputs": [
    {
     "data": {
      "image/svg+xml": [
       "<svg xmlns=\"http://www.w3.org/2000/svg\" xmlns:xlink=\"http://www.w3.org/1999/xlink\" width=\"299pt\" height=\"101pt\" viewBox=\"0.00 0.00 299.00 100.96\">\n",
       "<g id=\"graph0\" class=\"graph\" transform=\"scale(1 1) rotate(0) translate(4 96.96)\">\n",
       "<title>%3</title>\n",
       "<polygon fill=\"white\" stroke=\"transparent\" points=\"-4,4 -4,-96.96 295,-96.96 295,4 -4,4\"/>\n",
       "<!-- I2 -->\n",
       "<g id=\"node1\" class=\"node\">\n",
       "<title>I2</title>\n",
       "<ellipse fill=\"black\" stroke=\"black\" cx=\"0\" cy=\"-41.96\" rx=\"0\" ry=\"0\"/>\n",
       "</g>\n",
       "<!-- 2 -->\n",
       "<g id=\"node3\" class=\"node\">\n",
       "<title>2</title>\n",
       "<path fill=\"none\" stroke=\"black\" d=\"M79,-59.96C79,-59.96 49,-59.96 49,-59.96 43,-59.96 37,-53.96 37,-47.96 37,-47.96 37,-35.96 37,-35.96 37,-29.96 43,-23.96 49,-23.96 49,-23.96 79,-23.96 79,-23.96 85,-23.96 91,-29.96 91,-35.96 91,-35.96 91,-47.96 91,-47.96 91,-53.96 85,-59.96 79,-59.96\"/>\n",
       "<text text-anchor=\"middle\" x=\"64\" y=\"-38.26\" font-family=\"Times,serif\" font-size=\"14.00\">$0</text>\n",
       "</g>\n",
       "<!-- I2&#45;&gt;2 -->\n",
       "<g id=\"edge1\" class=\"edge\">\n",
       "<title>I2-&gt;2</title>\n",
       "<path fill=\"none\" stroke=\"DimGray\" d=\"M1.04,-41.96C1.86,-41.96 13.73,-41.96 26.87,-41.96\"/>\n",
       "<polygon fill=\"DimGray\" stroke=\"DimGray\" points=\"27,-45.46 37,-41.96 27,-38.46 27,-45.46\"/>\n",
       "</g>\n",
       "<!-- F2 -->\n",
       "<g id=\"node2\" class=\"node\">\n",
       "<title>F2</title>\n",
       "<ellipse fill=\"black\" stroke=\"black\" cx=\"164\" cy=\"-71.96\" rx=\"0\" ry=\"0\"/>\n",
       "</g>\n",
       "<!-- 2&#45;&gt;F2 -->\n",
       "<g id=\"edge2\" class=\"edge\">\n",
       "<title>2-&gt;F2</title>\n",
       "<path fill=\"none\" stroke=\"DimGray\" d=\"M91,-49.92C111.44,-56.17 138.78,-64.54 153.17,-68.95\"/>\n",
       "<polygon fill=\"DimGray\" stroke=\"DimGray\" points=\"152.29,-72.34 162.88,-71.92 154.34,-65.64 152.29,-72.34\"/>\n",
       "</g>\n",
       "<!-- 2&#45;&gt;2 -->\n",
       "<g id=\"edge3\" class=\"edge\">\n",
       "<title>2-&gt;2</title>\n",
       "<path fill=\"none\" stroke=\"black\" d=\"M56.04,-60.11C54.82,-69.49 57.47,-77.96 64,-77.96 67.98,-77.96 70.52,-74.81 71.62,-70.24\"/>\n",
       "<polygon fill=\"black\" stroke=\"black\" points=\"75.12,-70.22 71.96,-60.11 68.13,-69.99 75.12,-70.22\"/>\n",
       "<text text-anchor=\"middle\" x=\"64\" y=\"-81.76\" font-family=\"Times,serif\" font-size=\"14.00\">0</text>\n",
       "</g>\n",
       "<!-- 3 -->\n",
       "<g id=\"node4\" class=\"node\">\n",
       "<title>3</title>\n",
       "<path fill=\"none\" stroke=\"black\" d=\"M179,-37.96C179,-37.96 149,-37.96 149,-37.96 143,-37.96 137,-31.96 137,-25.96 137,-25.96 137,-13.96 137,-13.96 137,-7.96 143,-1.96 149,-1.96 149,-1.96 179,-1.96 179,-1.96 185,-1.96 191,-7.96 191,-13.96 191,-13.96 191,-25.96 191,-25.96 191,-31.96 185,-37.96 179,-37.96\"/>\n",
       "<text text-anchor=\"middle\" x=\"164\" y=\"-16.26\" font-family=\"Times,serif\" font-size=\"14.00\">$1</text>\n",
       "</g>\n",
       "<!-- 2&#45;&gt;3 -->\n",
       "<g id=\"edge4\" class=\"edge\">\n",
       "<title>2-&gt;3</title>\n",
       "<path fill=\"none\" stroke=\"black\" d=\"M91,-36.12C101.97,-33.66 114.92,-30.75 126.79,-28.08\"/>\n",
       "<polygon fill=\"black\" stroke=\"black\" points=\"127.88,-31.43 136.87,-25.82 126.35,-24.6 127.88,-31.43\"/>\n",
       "<text text-anchor=\"middle\" x=\"114\" y=\"-34.76\" font-family=\"Times,serif\" font-size=\"14.00\">1</text>\n",
       "</g>\n",
       "<!-- 3&#45;&gt;2 -->\n",
       "<g id=\"edge5\" class=\"edge\">\n",
       "<title>3-&gt;2</title>\n",
       "<path fill=\"none\" stroke=\"black\" d=\"M136.83,-10.69C127.87,-8.8 117.88,-8.14 109,-10.96 103.66,-12.65 98.4,-15.25 93.48,-18.24\"/>\n",
       "<polygon fill=\"black\" stroke=\"black\" points=\"91.38,-15.44 85.06,-23.94 95.3,-21.24 91.38,-15.44\"/>\n",
       "<text text-anchor=\"middle\" x=\"114\" y=\"-14.76\" font-family=\"Times,serif\" font-size=\"14.00\">1</text>\n",
       "</g>\n",
       "<!-- 4 -->\n",
       "<g id=\"node5\" class=\"node\">\n",
       "<title>4</title>\n",
       "<path fill=\"none\" stroke=\"black\" d=\"M279,-37.96C279,-37.96 249,-37.96 249,-37.96 243,-37.96 237,-31.96 237,-25.96 237,-25.96 237,-13.96 237,-13.96 237,-7.96 243,-1.96 249,-1.96 249,-1.96 279,-1.96 279,-1.96 285,-1.96 291,-7.96 291,-13.96 291,-13.96 291,-25.96 291,-25.96 291,-31.96 285,-37.96 279,-37.96\"/>\n",
       "<text text-anchor=\"middle\" x=\"264\" y=\"-16.26\" font-family=\"Times,serif\" font-size=\"14.00\">$2</text>\n",
       "</g>\n",
       "<!-- 3&#45;&gt;4 -->\n",
       "<g id=\"edge6\" class=\"edge\">\n",
       "<title>3-&gt;4</title>\n",
       "<path fill=\"none\" stroke=\"black\" d=\"M191,-19.96C201.97,-19.96 214.92,-19.96 226.79,-19.96\"/>\n",
       "<polygon fill=\"black\" stroke=\"black\" points=\"226.87,-23.46 236.87,-19.96 226.87,-16.46 226.87,-23.46\"/>\n",
       "<text text-anchor=\"middle\" x=\"214\" y=\"-23.76\" font-family=\"Times,serif\" font-size=\"14.00\">0</text>\n",
       "</g>\n",
       "<!-- 4&#45;&gt;3 -->\n",
       "<g id=\"edge7\" class=\"edge\">\n",
       "<title>4-&gt;3</title>\n",
       "<path fill=\"none\" stroke=\"black\" d=\"M236.76,-4.6C228.07,-1.17 218.25,0.96 209,-0.96 206.34,-1.5 203.65,-2.22 200.97,-3.06\"/>\n",
       "<polygon fill=\"black\" stroke=\"black\" points=\"199.64,0.19 191.42,-6.5 202.02,-6.4 199.64,0.19\"/>\n",
       "<text text-anchor=\"middle\" x=\"214\" y=\"-4.76\" font-family=\"Times,serif\" font-size=\"14.00\">0</text>\n",
       "</g>\n",
       "<!-- 4&#45;&gt;4 -->\n",
       "<g id=\"edge8\" class=\"edge\">\n",
       "<title>4-&gt;4</title>\n",
       "<path fill=\"none\" stroke=\"black\" d=\"M254.95,-38.11C253.56,-47.49 256.58,-55.96 264,-55.96 268.52,-55.96 271.41,-52.81 272.66,-48.24\"/>\n",
       "<polygon fill=\"black\" stroke=\"black\" points=\"276.16,-48.23 273.05,-38.11 269.17,-47.97 276.16,-48.23\"/>\n",
       "<text text-anchor=\"middle\" x=\"264\" y=\"-59.76\" font-family=\"Times,serif\" font-size=\"14.00\">1</text>\n",
       "</g>\n",
       "</g>\n",
       "</svg>"
      ],
      "text/plain": [
       "<IPython.core.display.SVG object>"
      ]
     },
     "metadata": {},
     "output_type": "display_data"
    }
   ],
   "source": [
    "awalipy.make_divkbaseb(3,2).display()"
   ]
  },
  {
   "cell_type": "markdown",
   "metadata": {},
   "source": [
    "---\n",
    "`make_ladybird(n)` returns an automaton with `n`-states, whose equivalent minimal DFA has `2**n` states."
   ]
  },
  {
   "cell_type": "code",
   "execution_count": 29,
   "metadata": {},
   "outputs": [
    {
     "data": {
      "image/svg+xml": [
       "<svg xmlns=\"http://www.w3.org/2000/svg\" xmlns:xlink=\"http://www.w3.org/1999/xlink\" width=\"495pt\" height=\"219pt\" viewBox=\"0.00 0.00 495.00 219.00\">\n",
       "<g id=\"graph0\" class=\"graph\" transform=\"scale(1 1) rotate(0) translate(4 215)\">\n",
       "<title>%3</title>\n",
       "<polygon fill=\"white\" stroke=\"transparent\" points=\"-4,4 -4,-215 491,-215 491,4 -4,4\"/>\n",
       "<!-- I2 -->\n",
       "<g id=\"node1\" class=\"node\">\n",
       "<title>I2</title>\n",
       "<ellipse fill=\"black\" stroke=\"black\" cx=\"0\" cy=\"-107\" rx=\"0\" ry=\"0\"/>\n",
       "</g>\n",
       "<!-- 2 -->\n",
       "<g id=\"node3\" class=\"node\">\n",
       "<title>2</title>\n",
       "<path fill=\"none\" stroke=\"black\" d=\"M79,-125C79,-125 49,-125 49,-125 43,-125 37,-119 37,-113 37,-113 37,-101 37,-101 37,-95 43,-89 49,-89 49,-89 79,-89 79,-89 85,-89 91,-95 91,-101 91,-101 91,-113 91,-113 91,-119 85,-125 79,-125\"/>\n",
       "<text text-anchor=\"middle\" x=\"64\" y=\"-103.3\" font-family=\"Times,serif\" font-size=\"14.00\">$0</text>\n",
       "</g>\n",
       "<!-- I2&#45;&gt;2 -->\n",
       "<g id=\"edge1\" class=\"edge\">\n",
       "<title>I2-&gt;2</title>\n",
       "<path fill=\"none\" stroke=\"DimGray\" d=\"M1.04,-107C1.86,-107 13.73,-107 26.87,-107\"/>\n",
       "<polygon fill=\"DimGray\" stroke=\"DimGray\" points=\"27,-110.5 37,-107 27,-103.5 27,-110.5\"/>\n",
       "</g>\n",
       "<!-- F2 -->\n",
       "<g id=\"node2\" class=\"node\">\n",
       "<title>F2</title>\n",
       "<ellipse fill=\"black\" stroke=\"black\" cx=\"163\" cy=\"-211\" rx=\"0\" ry=\"0\"/>\n",
       "</g>\n",
       "<!-- 2&#45;&gt;F2 -->\n",
       "<g id=\"edge2\" class=\"edge\">\n",
       "<title>2-&gt;F2</title>\n",
       "<path fill=\"none\" stroke=\"DimGray\" d=\"M74.29,-125.34C85.96,-146.64 107.91,-181.47 136,-202 140.63,-205.39 146.64,-207.58 151.72,-208.95\"/>\n",
       "<polygon fill=\"DimGray\" stroke=\"DimGray\" points=\"151.46,-212.46 161.95,-210.99 152.83,-205.6 151.46,-212.46\"/>\n",
       "</g>\n",
       "<!-- 3 -->\n",
       "<g id=\"node4\" class=\"node\">\n",
       "<title>3</title>\n",
       "<path fill=\"none\" stroke=\"black\" d=\"M178,-160C178,-160 148,-160 148,-160 142,-160 136,-154 136,-148 136,-148 136,-136 136,-136 136,-130 142,-124 148,-124 148,-124 178,-124 178,-124 184,-124 190,-130 190,-136 190,-136 190,-148 190,-148 190,-154 184,-160 178,-160\"/>\n",
       "<text text-anchor=\"middle\" x=\"163\" y=\"-138.3\" font-family=\"Times,serif\" font-size=\"14.00\">$1</text>\n",
       "</g>\n",
       "<!-- 2&#45;&gt;3 -->\n",
       "<g id=\"edge3\" class=\"edge\">\n",
       "<title>2-&gt;3</title>\n",
       "<path fill=\"none\" stroke=\"black\" d=\"M84.08,-125.27C91.32,-131.08 100,-136.81 109,-140 114.26,-141.86 120,-142.96 125.7,-143.54\"/>\n",
       "<polygon fill=\"black\" stroke=\"black\" points=\"125.63,-147.04 135.8,-144.1 126.01,-140.05 125.63,-147.04\"/>\n",
       "<text text-anchor=\"middle\" x=\"113.5\" y=\"-145.8\" font-family=\"Times,serif\" font-size=\"14.00\">a</text>\n",
       "</g>\n",
       "<!-- 3&#45;&gt;2 -->\n",
       "<g id=\"edge4\" class=\"edge\">\n",
       "<title>3-&gt;2</title>\n",
       "<path fill=\"none\" stroke=\"black\" d=\"M135.82,-128.52C130.04,-125.82 123.88,-123.16 118,-121 112.64,-119.03 106.88,-117.22 101.2,-115.59\"/>\n",
       "<polygon fill=\"black\" stroke=\"black\" points=\"101.75,-112.11 91.18,-112.88 99.92,-118.87 101.75,-112.11\"/>\n",
       "<text text-anchor=\"middle\" x=\"113.5\" y=\"-124.8\" font-family=\"Times,serif\" font-size=\"14.00\">c</text>\n",
       "</g>\n",
       "<!-- 3&#45;&gt;3 -->\n",
       "<g id=\"edge5\" class=\"edge\">\n",
       "<title>3-&gt;3</title>\n",
       "<path fill=\"none\" stroke=\"black\" d=\"M154.32,-160.15C152.98,-169.54 155.88,-178 163,-178 167.34,-178 170.11,-174.86 171.31,-170.28\"/>\n",
       "<polygon fill=\"black\" stroke=\"black\" points=\"174.82,-170.27 171.68,-160.15 167.82,-170.02 174.82,-170.27\"/>\n",
       "<text text-anchor=\"middle\" x=\"163\" y=\"-181.8\" font-family=\"Times,serif\" font-size=\"14.00\">b, c</text>\n",
       "</g>\n",
       "<!-- 4 -->\n",
       "<g id=\"node5\" class=\"node\">\n",
       "<title>4</title>\n",
       "<path fill=\"none\" stroke=\"black\" d=\"M277,-109C277,-109 247,-109 247,-109 241,-109 235,-103 235,-97 235,-97 235,-85 235,-85 235,-79 241,-73 247,-73 247,-73 277,-73 277,-73 283,-73 289,-79 289,-85 289,-85 289,-97 289,-97 289,-103 283,-109 277,-109\"/>\n",
       "<text text-anchor=\"middle\" x=\"262\" y=\"-87.3\" font-family=\"Times,serif\" font-size=\"14.00\">$2</text>\n",
       "</g>\n",
       "<!-- 3&#45;&gt;4 -->\n",
       "<g id=\"edge6\" class=\"edge\">\n",
       "<title>3-&gt;4</title>\n",
       "<path fill=\"none\" stroke=\"black\" d=\"M190.25,-128.2C201.14,-122.47 213.94,-115.74 225.64,-109.59\"/>\n",
       "<polygon fill=\"black\" stroke=\"black\" points=\"227.51,-112.56 234.73,-104.81 224.25,-106.37 227.51,-112.56\"/>\n",
       "<text text-anchor=\"middle\" x=\"212.5\" y=\"-121.8\" font-family=\"Times,serif\" font-size=\"14.00\">a</text>\n",
       "</g>\n",
       "<!-- 4&#45;&gt;2 -->\n",
       "<g id=\"edge7\" class=\"edge\">\n",
       "<title>4-&gt;2</title>\n",
       "<path fill=\"none\" stroke=\"black\" d=\"M234.65,-92.69C209.34,-94.37 170.04,-97.1 136,-100 124.78,-100.96 112.57,-102.12 101.49,-103.22\"/>\n",
       "<polygon fill=\"black\" stroke=\"black\" points=\"100.88,-99.76 91.28,-104.24 101.58,-106.72 100.88,-99.76\"/>\n",
       "<text text-anchor=\"middle\" x=\"163\" y=\"-103.8\" font-family=\"Times,serif\" font-size=\"14.00\">c</text>\n",
       "</g>\n",
       "<!-- 4&#45;&gt;4 -->\n",
       "<g id=\"edge8\" class=\"edge\">\n",
       "<title>4-&gt;4</title>\n",
       "<path fill=\"none\" stroke=\"black\" d=\"M253.32,-109.15C251.98,-118.54 254.88,-127 262,-127 266.34,-127 269.11,-123.86 270.31,-119.28\"/>\n",
       "<polygon fill=\"black\" stroke=\"black\" points=\"273.82,-119.27 270.68,-109.15 266.82,-119.02 273.82,-119.27\"/>\n",
       "<text text-anchor=\"middle\" x=\"262\" y=\"-130.8\" font-family=\"Times,serif\" font-size=\"14.00\">b, c</text>\n",
       "</g>\n",
       "<!-- 5 -->\n",
       "<g id=\"node6\" class=\"node\">\n",
       "<title>5</title>\n",
       "<path fill=\"none\" stroke=\"black\" d=\"M376,-66C376,-66 346,-66 346,-66 340,-66 334,-60 334,-54 334,-54 334,-42 334,-42 334,-36 340,-30 346,-30 346,-30 376,-30 376,-30 382,-30 388,-36 388,-42 388,-42 388,-54 388,-54 388,-60 382,-66 376,-66\"/>\n",
       "<text text-anchor=\"middle\" x=\"361\" y=\"-44.3\" font-family=\"Times,serif\" font-size=\"14.00\">$3</text>\n",
       "</g>\n",
       "<!-- 4&#45;&gt;5 -->\n",
       "<g id=\"edge9\" class=\"edge\">\n",
       "<title>4-&gt;5</title>\n",
       "<path fill=\"none\" stroke=\"black\" d=\"M289.25,-79.36C300.03,-74.58 312.69,-68.97 324.29,-63.83\"/>\n",
       "<polygon fill=\"black\" stroke=\"black\" points=\"326.01,-66.9 333.73,-59.65 323.17,-60.5 326.01,-66.9\"/>\n",
       "<text text-anchor=\"middle\" x=\"311.5\" y=\"-73.8\" font-family=\"Times,serif\" font-size=\"14.00\">a</text>\n",
       "</g>\n",
       "<!-- 5&#45;&gt;2 -->\n",
       "<g id=\"edge10\" class=\"edge\">\n",
       "<title>5-&gt;2</title>\n",
       "<path fill=\"none\" stroke=\"black\" d=\"M333.52,-50.45C308.12,-53.03 268.75,-57.6 235,-64 188.38,-72.85 135.5,-86.86 101.28,-96.47\"/>\n",
       "<polygon fill=\"black\" stroke=\"black\" points=\"99.95,-93.21 91.28,-99.3 101.86,-99.95 99.95,-93.21\"/>\n",
       "<text text-anchor=\"middle\" x=\"212.5\" y=\"-72.8\" font-family=\"Times,serif\" font-size=\"14.00\">c</text>\n",
       "</g>\n",
       "<!-- 5&#45;&gt;5 -->\n",
       "<g id=\"edge11\" class=\"edge\">\n",
       "<title>5-&gt;5</title>\n",
       "<path fill=\"none\" stroke=\"black\" d=\"M352.32,-66.15C350.98,-75.54 353.88,-84 361,-84 365.34,-84 368.11,-80.86 369.31,-76.28\"/>\n",
       "<polygon fill=\"black\" stroke=\"black\" points=\"372.82,-76.27 369.68,-66.15 365.82,-76.02 372.82,-76.27\"/>\n",
       "<text text-anchor=\"middle\" x=\"361\" y=\"-87.8\" font-family=\"Times,serif\" font-size=\"14.00\">b, c</text>\n",
       "</g>\n",
       "<!-- 6 -->\n",
       "<g id=\"node7\" class=\"node\">\n",
       "<title>6</title>\n",
       "<path fill=\"none\" stroke=\"black\" d=\"M475,-36C475,-36 445,-36 445,-36 439,-36 433,-30 433,-24 433,-24 433,-12 433,-12 433,-6 439,0 445,0 445,0 475,0 475,0 481,0 487,-6 487,-12 487,-12 487,-24 487,-24 487,-30 481,-36 475,-36\"/>\n",
       "<text text-anchor=\"middle\" x=\"460\" y=\"-14.3\" font-family=\"Times,serif\" font-size=\"14.00\">$4</text>\n",
       "</g>\n",
       "<!-- 5&#45;&gt;6 -->\n",
       "<g id=\"edge12\" class=\"edge\">\n",
       "<title>5-&gt;6</title>\n",
       "<path fill=\"none\" stroke=\"black\" d=\"M388.25,-39.88C398.92,-36.58 411.44,-32.71 422.95,-29.15\"/>\n",
       "<polygon fill=\"black\" stroke=\"black\" points=\"424.21,-32.42 432.73,-26.12 422.14,-25.74 424.21,-32.42\"/>\n",
       "<text text-anchor=\"middle\" x=\"410.5\" y=\"-37.8\" font-family=\"Times,serif\" font-size=\"14.00\">a</text>\n",
       "</g>\n",
       "<!-- 6&#45;&gt;2 -->\n",
       "<g id=\"edge13\" class=\"edge\">\n",
       "<title>6-&gt;2</title>\n",
       "<path fill=\"none\" stroke=\"black\" d=\"M432.84,-11.31C413.43,-6.92 386.24,-2 362,-2 162,-2 162,-2 162,-2 119.9,-2 91,-48.11 76.3,-79.21\"/>\n",
       "<polygon fill=\"black\" stroke=\"black\" points=\"72.93,-78.16 72.02,-88.71 79.32,-81.03 72.93,-78.16\"/>\n",
       "<text text-anchor=\"middle\" x=\"262\" y=\"-5.8\" font-family=\"Times,serif\" font-size=\"14.00\">a, c</text>\n",
       "</g>\n",
       "<!-- 6&#45;&gt;6 -->\n",
       "<g id=\"edge14\" class=\"edge\">\n",
       "<title>6-&gt;6</title>\n",
       "<path fill=\"none\" stroke=\"black\" d=\"M451.32,-36.15C449.98,-45.54 452.88,-54 460,-54 464.34,-54 467.11,-50.86 468.31,-46.28\"/>\n",
       "<polygon fill=\"black\" stroke=\"black\" points=\"471.82,-46.27 468.68,-36.15 464.82,-46.02 471.82,-46.27\"/>\n",
       "<text text-anchor=\"middle\" x=\"460\" y=\"-57.8\" font-family=\"Times,serif\" font-size=\"14.00\">b, c</text>\n",
       "</g>\n",
       "</g>\n",
       "</svg>"
      ],
      "text/plain": [
       "<IPython.core.display.SVG object>"
      ]
     },
     "metadata": {},
     "output_type": "display_data"
    }
   ],
   "source": [
    "awalipy.make_ladybird(5).display()"
   ]
  },
  {
   "cell_type": "markdown",
   "metadata": {},
   "source": [
    "---\n",
    "See also `make_de_bruijn` ,  `make_double_ring` , `make_witness`"
   ]
  },
  {
   "cell_type": "markdown",
   "metadata": {},
   "source": [
    "## Generate a random accessible DFA"
   ]
  },
  {
   "cell_type": "code",
   "execution_count": 30,
   "metadata": {},
   "outputs": [
    {
     "data": {
      "image/svg+xml": [
       "<svg xmlns=\"http://www.w3.org/2000/svg\" xmlns:xlink=\"http://www.w3.org/1999/xlink\" width=\"552pt\" height=\"120pt\" viewBox=\"0.00 0.00 552.00 119.82\">\n",
       "<g id=\"graph0\" class=\"graph\" transform=\"scale(1 1) rotate(0) translate(4 115.82)\">\n",
       "<title>%3</title>\n",
       "<polygon fill=\"white\" stroke=\"transparent\" points=\"-4,4 -4,-115.82 548,-115.82 548,4 -4,4\"/>\n",
       "<!-- I2 -->\n",
       "<g id=\"node1\" class=\"node\">\n",
       "<title>I2</title>\n",
       "<ellipse fill=\"black\" stroke=\"black\" cx=\"0\" cy=\"-60.82\" rx=\"0\" ry=\"0\"/>\n",
       "</g>\n",
       "<!-- 2 -->\n",
       "<g id=\"node5\" class=\"node\">\n",
       "<title>2</title>\n",
       "<path fill=\"none\" stroke=\"black\" d=\"M79,-78.82C79,-78.82 49,-78.82 49,-78.82 43,-78.82 37,-72.82 37,-66.82 37,-66.82 37,-54.82 37,-54.82 37,-48.82 43,-42.82 49,-42.82 49,-42.82 79,-42.82 79,-42.82 85,-42.82 91,-48.82 91,-54.82 91,-54.82 91,-66.82 91,-66.82 91,-72.82 85,-78.82 79,-78.82\"/>\n",
       "<text text-anchor=\"middle\" x=\"64\" y=\"-57.12\" font-family=\"Times,serif\" font-size=\"14.00\">$0</text>\n",
       "</g>\n",
       "<!-- I2&#45;&gt;2 -->\n",
       "<g id=\"edge1\" class=\"edge\">\n",
       "<title>I2-&gt;2</title>\n",
       "<path fill=\"none\" stroke=\"DimGray\" d=\"M1.04,-60.82C1.86,-60.82 13.73,-60.82 26.87,-60.82\"/>\n",
       "<polygon fill=\"DimGray\" stroke=\"DimGray\" points=\"27,-64.32 37,-60.82 27,-57.32 27,-64.32\"/>\n",
       "</g>\n",
       "<!-- F2 -->\n",
       "<g id=\"node2\" class=\"node\">\n",
       "<title>F2</title>\n",
       "<ellipse fill=\"black\" stroke=\"black\" cx=\"164\" cy=\"-90.82\" rx=\"0\" ry=\"0\"/>\n",
       "</g>\n",
       "<!-- F4 -->\n",
       "<g id=\"node3\" class=\"node\">\n",
       "<title>F4</title>\n",
       "<ellipse fill=\"black\" stroke=\"black\" cx=\"363\" cy=\"-56.82\" rx=\"0\" ry=\"0\"/>\n",
       "</g>\n",
       "<!-- F6 -->\n",
       "<g id=\"node4\" class=\"node\">\n",
       "<title>F6</title>\n",
       "<ellipse fill=\"black\" stroke=\"black\" cx=\"544\" cy=\"-20.82\" rx=\"0\" ry=\"0\"/>\n",
       "</g>\n",
       "<!-- 2&#45;&gt;F2 -->\n",
       "<g id=\"edge2\" class=\"edge\">\n",
       "<title>2-&gt;F2</title>\n",
       "<path fill=\"none\" stroke=\"DimGray\" d=\"M91,-68.78C111.44,-75.04 138.78,-83.41 153.17,-87.81\"/>\n",
       "<polygon fill=\"DimGray\" stroke=\"DimGray\" points=\"152.29,-91.2 162.88,-90.78 154.34,-84.51 152.29,-91.2\"/>\n",
       "</g>\n",
       "<!-- 2&#45;&gt;2 -->\n",
       "<g id=\"edge3\" class=\"edge\">\n",
       "<title>2-&gt;2</title>\n",
       "<path fill=\"none\" stroke=\"black\" d=\"M56.04,-78.97C54.82,-88.36 57.47,-96.82 64,-96.82 67.98,-96.82 70.52,-93.68 71.62,-89.1\"/>\n",
       "<polygon fill=\"black\" stroke=\"black\" points=\"75.12,-89.09 71.96,-78.97 68.13,-88.85 75.12,-89.09\"/>\n",
       "<text text-anchor=\"middle\" x=\"64\" y=\"-100.62\" font-family=\"Times,serif\" font-size=\"14.00\">b</text>\n",
       "</g>\n",
       "<!-- 3 -->\n",
       "<g id=\"node6\" class=\"node\">\n",
       "<title>3</title>\n",
       "<path fill=\"none\" stroke=\"black\" d=\"M179,-56.82C179,-56.82 149,-56.82 149,-56.82 143,-56.82 137,-50.82 137,-44.82 137,-44.82 137,-32.82 137,-32.82 137,-26.82 143,-20.82 149,-20.82 149,-20.82 179,-20.82 179,-20.82 185,-20.82 191,-26.82 191,-32.82 191,-32.82 191,-44.82 191,-44.82 191,-50.82 185,-56.82 179,-56.82\"/>\n",
       "<text text-anchor=\"middle\" x=\"164\" y=\"-35.12\" font-family=\"Times,serif\" font-size=\"14.00\">$1</text>\n",
       "</g>\n",
       "<!-- 2&#45;&gt;3 -->\n",
       "<g id=\"edge4\" class=\"edge\">\n",
       "<title>2-&gt;3</title>\n",
       "<path fill=\"none\" stroke=\"black\" d=\"M91,-54.98C101.97,-52.52 114.92,-49.62 126.79,-46.95\"/>\n",
       "<polygon fill=\"black\" stroke=\"black\" points=\"127.88,-50.29 136.87,-44.69 126.35,-43.46 127.88,-50.29\"/>\n",
       "<text text-anchor=\"middle\" x=\"114\" y=\"-53.62\" font-family=\"Times,serif\" font-size=\"14.00\">a</text>\n",
       "</g>\n",
       "<!-- 3&#45;&gt;2 -->\n",
       "<g id=\"edge5\" class=\"edge\">\n",
       "<title>3-&gt;2</title>\n",
       "<path fill=\"none\" stroke=\"black\" d=\"M136.83,-29.55C127.87,-27.67 117.88,-27.01 109,-29.82 103.66,-31.52 98.4,-34.12 93.48,-37.11\"/>\n",
       "<polygon fill=\"black\" stroke=\"black\" points=\"91.38,-34.31 85.06,-42.81 95.3,-40.11 91.38,-34.31\"/>\n",
       "<text text-anchor=\"middle\" x=\"114\" y=\"-33.62\" font-family=\"Times,serif\" font-size=\"14.00\">b</text>\n",
       "</g>\n",
       "<!-- 4 -->\n",
       "<g id=\"node7\" class=\"node\">\n",
       "<title>4</title>\n",
       "<path fill=\"none\" stroke=\"black\" d=\"M278,-56.82C278,-56.82 248,-56.82 248,-56.82 242,-56.82 236,-50.82 236,-44.82 236,-44.82 236,-32.82 236,-32.82 236,-26.82 242,-20.82 248,-20.82 248,-20.82 278,-20.82 278,-20.82 284,-20.82 290,-26.82 290,-32.82 290,-32.82 290,-44.82 290,-44.82 290,-50.82 284,-56.82 278,-56.82\"/>\n",
       "<text text-anchor=\"middle\" x=\"263\" y=\"-35.12\" font-family=\"Times,serif\" font-size=\"14.00\">$2</text>\n",
       "</g>\n",
       "<!-- 3&#45;&gt;4 -->\n",
       "<g id=\"edge6\" class=\"edge\">\n",
       "<title>3-&gt;4</title>\n",
       "<path fill=\"none\" stroke=\"black\" d=\"M191.25,-38.82C201.82,-38.82 214.18,-38.82 225.6,-38.82\"/>\n",
       "<polygon fill=\"black\" stroke=\"black\" points=\"225.73,-42.32 235.73,-38.82 225.73,-35.32 225.73,-42.32\"/>\n",
       "<text text-anchor=\"middle\" x=\"213.5\" y=\"-42.62\" font-family=\"Times,serif\" font-size=\"14.00\">a</text>\n",
       "</g>\n",
       "<!-- 4&#45;&gt;F4 -->\n",
       "<g id=\"edge7\" class=\"edge\">\n",
       "<title>4-&gt;F4</title>\n",
       "<path fill=\"none\" stroke=\"DimGray\" d=\"M290,-43.6C310.22,-47.31 337.19,-52.26 351.71,-54.93\"/>\n",
       "<polygon fill=\"DimGray\" stroke=\"DimGray\" points=\"351.41,-58.43 361.88,-56.8 352.67,-51.55 351.41,-58.43\"/>\n",
       "</g>\n",
       "<!-- 4&#45;&gt;4 -->\n",
       "<g id=\"edge8\" class=\"edge\">\n",
       "<title>4-&gt;4</title>\n",
       "<path fill=\"none\" stroke=\"black\" d=\"M254.32,-56.97C252.98,-66.36 255.88,-74.82 263,-74.82 267.34,-74.82 270.11,-71.68 271.31,-67.1\"/>\n",
       "<polygon fill=\"black\" stroke=\"black\" points=\"274.82,-67.1 271.68,-56.97 267.82,-66.84 274.82,-67.1\"/>\n",
       "<text text-anchor=\"middle\" x=\"263\" y=\"-78.62\" font-family=\"Times,serif\" font-size=\"14.00\">a</text>\n",
       "</g>\n",
       "<!-- 5 -->\n",
       "<g id=\"node8\" class=\"node\">\n",
       "<title>5</title>\n",
       "<path fill=\"none\" stroke=\"black\" d=\"M378,-38.82C378,-38.82 348,-38.82 348,-38.82 342,-38.82 336,-32.82 336,-26.82 336,-26.82 336,-14.82 336,-14.82 336,-8.82 342,-2.82 348,-2.82 348,-2.82 378,-2.82 378,-2.82 384,-2.82 390,-8.82 390,-14.82 390,-14.82 390,-26.82 390,-26.82 390,-32.82 384,-38.82 378,-38.82\"/>\n",
       "<text text-anchor=\"middle\" x=\"363\" y=\"-17.12\" font-family=\"Times,serif\" font-size=\"14.00\">$3</text>\n",
       "</g>\n",
       "<!-- 4&#45;&gt;5 -->\n",
       "<g id=\"edge9\" class=\"edge\">\n",
       "<title>4-&gt;5</title>\n",
       "<path fill=\"none\" stroke=\"black\" d=\"M290.41,-31.69C296.18,-30.28 302.27,-28.9 308,-27.82 313.63,-26.76 319.62,-25.8 325.49,-24.97\"/>\n",
       "<polygon fill=\"black\" stroke=\"black\" points=\"326.36,-28.38 335.81,-23.6 325.44,-21.45 326.36,-28.38\"/>\n",
       "<text text-anchor=\"middle\" x=\"313\" y=\"-31.62\" font-family=\"Times,serif\" font-size=\"14.00\">b</text>\n",
       "</g>\n",
       "<!-- 6 -->\n",
       "<g id=\"node9\" class=\"node\">\n",
       "<title>6</title>\n",
       "<path fill=\"none\" stroke=\"black\" d=\"M495,-38.82C495,-38.82 465,-38.82 465,-38.82 459,-38.82 453,-32.82 453,-26.82 453,-26.82 453,-14.82 453,-14.82 453,-8.82 459,-2.82 465,-2.82 465,-2.82 495,-2.82 495,-2.82 501,-2.82 507,-8.82 507,-14.82 507,-14.82 507,-26.82 507,-26.82 507,-32.82 501,-38.82 495,-38.82\"/>\n",
       "<text text-anchor=\"middle\" x=\"480\" y=\"-17.12\" font-family=\"Times,serif\" font-size=\"14.00\">$4</text>\n",
       "</g>\n",
       "<!-- 5&#45;&gt;6 -->\n",
       "<g id=\"edge10\" class=\"edge\">\n",
       "<title>5-&gt;6</title>\n",
       "<path fill=\"none\" stroke=\"black\" d=\"M390.1,-20.82C405.57,-20.82 425.43,-20.82 442.44,-20.82\"/>\n",
       "<polygon fill=\"black\" stroke=\"black\" points=\"442.61,-24.32 452.61,-20.82 442.61,-17.32 442.61,-24.32\"/>\n",
       "<text text-anchor=\"middle\" x=\"421.5\" y=\"-24.62\" font-family=\"Times,serif\" font-size=\"14.00\">a, b</text>\n",
       "</g>\n",
       "<!-- 6&#45;&gt;F6 -->\n",
       "<g id=\"edge11\" class=\"edge\">\n",
       "<title>6-&gt;F6</title>\n",
       "<path fill=\"none\" stroke=\"DimGray\" d=\"M507.29,-20.82C516.25,-20.82 525.73,-20.82 532.68,-20.82\"/>\n",
       "<polygon fill=\"DimGray\" stroke=\"DimGray\" points=\"532.95,-24.32 542.95,-20.82 532.95,-17.32 532.95,-24.32\"/>\n",
       "</g>\n",
       "<!-- 6&#45;&gt;5 -->\n",
       "<g id=\"edge12\" class=\"edge\">\n",
       "<title>6-&gt;5</title>\n",
       "<path fill=\"none\" stroke=\"black\" d=\"M452.58,-7.36C446.91,-5.07 440.87,-3.03 435,-1.82 423.25,0.61 419.75,0.61 408,-1.82 405.34,-2.37 402.65,-3.09 399.97,-3.92\"/>\n",
       "<polygon fill=\"black\" stroke=\"black\" points=\"398.64,-0.68 390.42,-7.36 401.02,-7.26 398.64,-0.68\"/>\n",
       "<text text-anchor=\"middle\" x=\"421.5\" y=\"-5.62\" font-family=\"Times,serif\" font-size=\"14.00\">a</text>\n",
       "</g>\n",
       "<!-- 6&#45;&gt;6 -->\n",
       "<g id=\"edge13\" class=\"edge\">\n",
       "<title>6-&gt;6</title>\n",
       "<path fill=\"none\" stroke=\"black\" d=\"M472.04,-38.97C470.82,-48.36 473.47,-56.82 480,-56.82 483.98,-56.82 486.52,-53.68 487.62,-49.1\"/>\n",
       "<polygon fill=\"black\" stroke=\"black\" points=\"491.12,-49.09 487.96,-38.97 484.13,-48.85 491.12,-49.09\"/>\n",
       "<text text-anchor=\"middle\" x=\"480\" y=\"-60.62\" font-family=\"Times,serif\" font-size=\"14.00\">b</text>\n",
       "</g>\n",
       "</g>\n",
       "</svg>"
      ],
      "text/plain": [
       "<IPython.core.display.SVG object>"
      ]
     },
     "metadata": {},
     "output_type": "display_data"
    }
   ],
   "source": [
    "awalipy.make_random_DFA(5,\"ab\").display()"
   ]
  },
  {
   "cell_type": "markdown",
   "metadata": {},
   "source": [
    "## Access and browsing"
   ]
  },
  {
   "cell_type": "code",
   "execution_count": 31,
   "metadata": {},
   "outputs": [
    {
     "data": {
      "image/svg+xml": [
       "<svg xmlns=\"http://www.w3.org/2000/svg\" xmlns:xlink=\"http://www.w3.org/1999/xlink\" width=\"236pt\" height=\"79pt\" viewBox=\"0.00 0.00 236.00 78.96\">\n",
       "<g id=\"graph0\" class=\"graph\" transform=\"scale(1 1) rotate(0) translate(4 74.96)\">\n",
       "<title>%3</title>\n",
       "<polygon fill=\"white\" stroke=\"transparent\" points=\"-4,4 -4,-74.96 232,-74.96 232,4 -4,4\"/>\n",
       "<!-- I2 -->\n",
       "<g id=\"node1\" class=\"node\">\n",
       "<title>I2</title>\n",
       "<ellipse fill=\"black\" stroke=\"black\" cx=\"0\" cy=\"-19.96\" rx=\"0\" ry=\"0\"/>\n",
       "</g>\n",
       "<!-- 2 -->\n",
       "<g id=\"node3\" class=\"node\">\n",
       "<title>2</title>\n",
       "<path fill=\"none\" stroke=\"black\" d=\"M79,-37.96C79,-37.96 49,-37.96 49,-37.96 43,-37.96 37,-31.96 37,-25.96 37,-25.96 37,-13.96 37,-13.96 37,-7.96 43,-1.96 49,-1.96 49,-1.96 79,-1.96 79,-1.96 85,-1.96 91,-7.96 91,-13.96 91,-13.96 91,-25.96 91,-25.96 91,-31.96 85,-37.96 79,-37.96\"/>\n",
       "<text text-anchor=\"middle\" x=\"64\" y=\"-16.26\" font-family=\"Times,serif\" font-size=\"14.00\">$0</text>\n",
       "</g>\n",
       "<!-- I2&#45;&gt;2 -->\n",
       "<g id=\"edge1\" class=\"edge\">\n",
       "<title>I2-&gt;2</title>\n",
       "<path fill=\"none\" stroke=\"DimGray\" d=\"M1.04,-19.96C1.86,-19.96 13.73,-19.96 26.87,-19.96\"/>\n",
       "<polygon fill=\"DimGray\" stroke=\"DimGray\" points=\"27,-23.46 37,-19.96 27,-16.46 27,-23.46\"/>\n",
       "</g>\n",
       "<!-- F3 -->\n",
       "<g id=\"node2\" class=\"node\">\n",
       "<title>F3</title>\n",
       "<ellipse fill=\"black\" stroke=\"black\" cx=\"228\" cy=\"-19.96\" rx=\"0\" ry=\"0\"/>\n",
       "</g>\n",
       "<!-- 2&#45;&gt;2 -->\n",
       "<g id=\"edge2\" class=\"edge\">\n",
       "<title>2-&gt;2</title>\n",
       "<path fill=\"none\" stroke=\"black\" d=\"M56.04,-38.11C54.82,-47.49 57.47,-55.96 64,-55.96 67.98,-55.96 70.52,-52.81 71.62,-48.24\"/>\n",
       "<polygon fill=\"black\" stroke=\"black\" points=\"75.12,-48.22 71.96,-38.11 68.13,-47.99 75.12,-48.22\"/>\n",
       "<text text-anchor=\"middle\" x=\"64\" y=\"-59.76\" font-family=\"Times,serif\" font-size=\"14.00\">b</text>\n",
       "</g>\n",
       "<!-- 3 -->\n",
       "<g id=\"node4\" class=\"node\">\n",
       "<title>3</title>\n",
       "<path fill=\"none\" stroke=\"black\" d=\"M179,-37.96C179,-37.96 149,-37.96 149,-37.96 143,-37.96 137,-31.96 137,-25.96 137,-25.96 137,-13.96 137,-13.96 137,-7.96 143,-1.96 149,-1.96 149,-1.96 179,-1.96 179,-1.96 185,-1.96 191,-7.96 191,-13.96 191,-13.96 191,-25.96 191,-25.96 191,-31.96 185,-37.96 179,-37.96\"/>\n",
       "<text text-anchor=\"middle\" x=\"164\" y=\"-16.26\" font-family=\"Times,serif\" font-size=\"14.00\">$1</text>\n",
       "</g>\n",
       "<!-- 2&#45;&gt;3 -->\n",
       "<g id=\"edge3\" class=\"edge\">\n",
       "<title>2-&gt;3</title>\n",
       "<path fill=\"none\" stroke=\"black\" d=\"M91,-19.96C101.97,-19.96 114.92,-19.96 126.79,-19.96\"/>\n",
       "<polygon fill=\"black\" stroke=\"black\" points=\"126.87,-23.46 136.87,-19.96 126.87,-16.46 126.87,-23.46\"/>\n",
       "<text text-anchor=\"middle\" x=\"114\" y=\"-23.76\" font-family=\"Times,serif\" font-size=\"14.00\">a</text>\n",
       "</g>\n",
       "<!-- 3&#45;&gt;F3 -->\n",
       "<g id=\"edge4\" class=\"edge\">\n",
       "<title>3-&gt;F3</title>\n",
       "<path fill=\"none\" stroke=\"DimGray\" d=\"M191.29,-19.96C200.25,-19.96 209.73,-19.96 216.68,-19.96\"/>\n",
       "<polygon fill=\"DimGray\" stroke=\"DimGray\" points=\"216.95,-23.46 226.95,-19.96 216.95,-16.46 216.95,-23.46\"/>\n",
       "</g>\n",
       "<!-- 3&#45;&gt;2 -->\n",
       "<g id=\"edge5\" class=\"edge\">\n",
       "<title>3-&gt;2</title>\n",
       "<path fill=\"none\" stroke=\"black\" d=\"M136.76,-4.6C128.07,-1.17 118.25,0.96 109,-0.96 106.34,-1.5 103.65,-2.22 100.97,-3.06\"/>\n",
       "<polygon fill=\"black\" stroke=\"black\" points=\"99.64,0.19 91.42,-6.5 102.02,-6.4 99.64,0.19\"/>\n",
       "<text text-anchor=\"middle\" x=\"114\" y=\"-4.76\" font-family=\"Times,serif\" font-size=\"14.00\">b</text>\n",
       "</g>\n",
       "</g>\n",
       "</svg>"
      ],
      "text/plain": [
       "<IPython.core.display.SVG object>"
      ]
     },
     "metadata": {},
     "output_type": "display_data"
    }
   ],
   "source": [
    "A.display()"
   ]
  },
  {
   "cell_type": "markdown",
   "metadata": {},
   "source": [
    "---\n",
    "Getting the list of states, of transitions.\n",
    "\n",
    "(It cannot be assumed that the ids of states are `[0,1,...,n]` for some n)"
   ]
  },
  {
   "cell_type": "code",
   "execution_count": 32,
   "metadata": {},
   "outputs": [
    {
     "data": {
      "text/plain": [
       "([0, 1], [0, 1, 2])"
      ]
     },
     "execution_count": 32,
     "metadata": {},
     "output_type": "execute_result"
    }
   ],
   "source": [
    "A.states(), A.transitions()"
   ]
  },
  {
   "cell_type": "markdown",
   "metadata": {},
   "source": [
    "---\n",
    "Getting the list of initial states, of final states."
   ]
  },
  {
   "cell_type": "code",
   "execution_count": 33,
   "metadata": {},
   "outputs": [
    {
     "data": {
      "text/plain": [
       "([0], [1])"
      ]
     },
     "execution_count": 33,
     "metadata": {},
     "output_type": "execute_result"
    }
   ],
   "source": [
    "A.initial_states(), A.final_states()"
   ]
  },
  {
   "cell_type": "markdown",
   "metadata": {
    "collapsed": true
   },
   "source": [
    "---\n",
    "Listing the transitions adjacent to a state."
   ]
  },
  {
   "cell_type": "code",
   "execution_count": 34,
   "metadata": {},
   "outputs": [
    {
     "data": {
      "text/plain": [
       "([1], [0])"
      ]
     },
     "execution_count": 34,
     "metadata": {},
     "output_type": "execute_result"
    }
   ],
   "source": [
    "A.outgoing(stt_1), A.incoming(stt_1)"
   ]
  },
  {
   "cell_type": "markdown",
   "metadata": {},
   "source": [
    "---\n",
    "Listing the transitions from a state to another."
   ]
  },
  {
   "cell_type": "code",
   "execution_count": 35,
   "metadata": {},
   "outputs": [
    {
     "data": {
      "text/plain": [
       "[0]"
      ]
     },
     "execution_count": 35,
     "metadata": {},
     "output_type": "execute_result"
    }
   ],
   "source": [
    "A.outin(stt_0,stt_1)"
   ]
  },
  {
   "cell_type": "markdown",
   "metadata": {},
   "source": [
    "---\n",
    "Getting information from a transition identifier."
   ]
  },
  {
   "cell_type": "code",
   "execution_count": 36,
   "metadata": {},
   "outputs": [
    {
     "name": "stdout",
     "output_type": "stream",
     "text": [
      "1\n",
      "b\n",
      "0\n",
      "(1, 'b', 'true', 0)\n"
     ]
    }
   ],
   "source": [
    "# NB: tr_1 is a transition s1 --b--> s0\n",
    "print (A.src_of(tr_1))   ## Source of transition tr_2\n",
    "print (A.label_of(tr_1)) ## Label of tr_2\n",
    "print (A.dst_of(tr_1))   ## Destination of tr_2\n",
    "print (A.unpack_transition(tr_1)) ## All the above. (Third component \n",
    "                                ## is the weight and may be ignored.)"
   ]
  },
  {
   "cell_type": "markdown",
   "metadata": {},
   "source": [
    "---\n",
    "List of states reachable from a state in one transition."
   ]
  },
  {
   "cell_type": "code",
   "execution_count": 37,
   "metadata": {},
   "outputs": [
    {
     "data": {
      "text/plain": [
       "([1, 0], [1])"
      ]
     },
     "execution_count": 37,
     "metadata": {},
     "output_type": "execute_result"
    }
   ],
   "source": [
    "A.successors(stt_0), A.successors(stt_0, 'a')"
   ]
  },
  {
   "cell_type": "markdown",
   "metadata": {},
   "source": [
    "---\n",
    "List of states that may reach a state in one transition."
   ]
  },
  {
   "cell_type": "code",
   "execution_count": 38,
   "metadata": {},
   "outputs": [
    {
     "data": {
      "text/plain": [
       "([1, 0], [])"
      ]
     },
     "execution_count": 38,
     "metadata": {},
     "output_type": "execute_result"
    }
   ],
   "source": [
    "A.predecessors(stt_0), A.predecessors(stt_0, 'a')"
   ]
  },
  {
   "cell_type": "markdown",
   "metadata": {},
   "source": [
    "## Exercice: breadth-first traversal of **A**"
   ]
  },
  {
   "cell_type": "code",
   "execution_count": 39,
   "metadata": {},
   "outputs": [],
   "source": [
    "def bf_traversal(A):\n",
    "    visited = {}\n",
    "    for i in A.states():\n",
    "        visited[i] = False\n",
    "\n",
    "    to_treat = A.initial_states()\n",
    "    while len(to_treat) > 0 :\n",
    "        stt = to_treat.pop()\n",
    "        if not (visited[stt]):\n",
    "            visited[stt] = True\n",
    "            out_trs = A.outgoing(stt)\n",
    "            for tr in out_trs:\n",
    "                print (A.unpack_transition(tr))\n",
    "                to_treat.append(A.dst_of(tr))"
   ]
  },
  {
   "cell_type": "code",
   "execution_count": 40,
   "metadata": {},
   "outputs": [
    {
     "name": "stdout",
     "output_type": "stream",
     "text": [
      "(0, 'a', 'true', 1)\n",
      "(0, 'b', 'true', 0)\n",
      "(1, 'b', 'true', 0)\n"
     ]
    }
   ],
   "source": [
    "bf_traversal(A)"
   ]
  },
  {
   "cell_type": "code",
   "execution_count": 41,
   "metadata": {},
   "outputs": [
    {
     "name": "stdout",
     "output_type": "stream",
     "text": [
      "(0, 'a', 'true', 1)\n",
      "(1, 'b', 'true', 1)\n",
      "(1, 'c', 'true', 1)\n",
      "(1, 'c', 'true', 0)\n",
      "(1, 'a', 'true', 2)\n",
      "(2, 'b', 'true', 2)\n",
      "(2, 'c', 'true', 2)\n",
      "(2, 'c', 'true', 0)\n",
      "(2, 'a', 'true', 0)\n"
     ]
    }
   ],
   "source": [
    "bf_traversal(awalipy.make_ladybird(3))"
   ]
  },
  {
   "cell_type": "code",
   "execution_count": null,
   "metadata": {},
   "outputs": [],
   "source": []
  },
  {
   "cell_type": "code",
   "execution_count": null,
   "metadata": {},
   "outputs": [],
   "source": []
  },
  {
   "cell_type": "code",
   "execution_count": null,
   "metadata": {},
   "outputs": [],
   "source": []
  }
 ],
 "metadata": {
  "kernelspec": {
   "display_name": "Python 3",
   "language": "python",
   "name": "python3"
  },
  "language_info": {
   "codemirror_mode": {
    "name": "ipython",
    "version": 3
   },
   "file_extension": ".py",
   "mimetype": "text/x-python",
   "name": "python",
   "nbconvert_exporter": "python",
   "pygments_lexer": "ipython3",
   "version": "3.9.2"
  }
 },
 "nbformat": 4,
 "nbformat_minor": 1
}
