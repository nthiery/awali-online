{
 "cells": [
  {
   "cell_type": "markdown",
   "metadata": {},
   "source": [
    "# Edition, visualisation, traversal\n",
    "## Boolean transducers\n",
    "<br>\n"
   ]
  },
  {
   "cell_type": "code",
   "execution_count": 2,
   "metadata": {},
   "outputs": [
    {
     "name": "stdout",
     "output_type": "stream",
     "text": [
      "[Warning] The python module awalipy relies on compilation executed \"on-the-fly\" depending on the context (type of weights, of labels, etc.). As a result, the very first call to a given function in a given context may take up to one minute. \n"
     ]
    }
   ],
   "source": [
    "import awalipy # If import fails, check that \n",
    "               # Python version used as Jupyter\n",
    "               # kernel matches the one\n",
    "               # Awalipy was compiled with."
   ]
  },
  {
   "cell_type": "markdown",
   "metadata": {},
   "source": [
    "## Creating a transducer"
   ]
  },
  {
   "cell_type": "markdown",
   "metadata": {},
   "source": [
    "A **Transducer** is an automaton with multiple tapes.  It is built from a list of alphabets."
   ]
  },
  {
   "cell_type": "code",
   "execution_count": 3,
   "metadata": {},
   "outputs": [],
   "source": [
    "T = awalipy.Transducer([\"012\",\"01\"])"
   ]
  },
  {
   "cell_type": "markdown",
   "metadata": {},
   "source": [
    "---\n",
    "Adding states is the same as for automata"
   ]
  },
  {
   "cell_type": "code",
   "execution_count": 4,
   "metadata": {},
   "outputs": [],
   "source": [
    "stt_0 = T.add_state()\n",
    "stt_1 = T.add_state()\n",
    "T.set_initial(stt_0)\n",
    "T.set_final(stt_0)"
   ]
  },
  {
   "cell_type": "markdown",
   "metadata": {},
   "source": [
    "---\n",
    "Transitions of transducer bear multiple labels (in the example, two). The third argument of `set_transition ` is now a list of labels."
   ]
  },
  {
   "cell_type": "code",
   "execution_count": 5,
   "metadata": {},
   "outputs": [],
   "source": [
    "tr_0 = T.set_transition(stt_0,stt_0,['0','0'])\n",
    "tr_1 = T.set_transition(stt_0,stt_0,['1','1'])\n",
    "tr_2 = T.set_transition(stt_0,stt_1,['2','0'])\n",
    "tr_3 = T.set_transition(stt_1,stt_0,['0','1'])\n",
    "tr_4 = T.set_transition(stt_1,stt_1,['2','1'])\n",
    "tr_5 = T.set_transition(stt_1,stt_1,['1','0'])"
   ]
  },
  {
   "cell_type": "markdown",
   "metadata": {},
   "source": [
    "# Displaying a Transducer"
   ]
  },
  {
   "cell_type": "markdown",
   "metadata": {},
   "source": [
    "---\n",
    "Displaying a Transducer is the same as for automata."
   ]
  },
  {
   "cell_type": "code",
   "execution_count": 6,
   "metadata": {},
   "outputs": [
    {
     "data": {
      "image/svg+xml": [
       "<svg xmlns=\"http://www.w3.org/2000/svg\" xmlns:xlink=\"http://www.w3.org/1999/xlink\" width=\"234pt\" height=\"115pt\" viewBox=\"0.00 0.00 234.00 115.00\">\n",
       "<g id=\"graph0\" class=\"graph\" transform=\"scale(1 1) rotate(0) translate(4 111)\">\n",
       "<title>%3</title>\n",
       "<polygon fill=\"white\" stroke=\"transparent\" points=\"-4,4 -4,-111 230,-111 230,4 -4,4\"/>\n",
       "<!-- I2 -->\n",
       "<g id=\"node1\" class=\"node\">\n",
       "<title>I2</title>\n",
       "<ellipse fill=\"black\" stroke=\"black\" cx=\"0\" cy=\"-56\" rx=\"0\" ry=\"0\"/>\n",
       "</g>\n",
       "<!-- 2 -->\n",
       "<g id=\"node3\" class=\"node\">\n",
       "<title>2</title>\n",
       "<path fill=\"none\" stroke=\"black\" d=\"M79,-74C79,-74 49,-74 49,-74 43,-74 37,-68 37,-62 37,-62 37,-50 37,-50 37,-44 43,-38 49,-38 49,-38 79,-38 79,-38 85,-38 91,-44 91,-50 91,-50 91,-62 91,-62 91,-68 85,-74 79,-74\"/>\n",
       "<text text-anchor=\"middle\" x=\"64\" y=\"-52.3\" font-family=\"Times,serif\" font-size=\"14.00\">$0</text>\n",
       "</g>\n",
       "<!-- I2&#45;&gt;2 -->\n",
       "<g id=\"edge1\" class=\"edge\">\n",
       "<title>I2-&gt;2</title>\n",
       "<path fill=\"none\" stroke=\"DimGray\" d=\"M1.04,-56C1.86,-56 13.73,-56 26.87,-56\"/>\n",
       "<polygon fill=\"DimGray\" stroke=\"DimGray\" points=\"27,-59.5 37,-56 27,-52.5 27,-59.5\"/>\n",
       "</g>\n",
       "<!-- F2 -->\n",
       "<g id=\"node2\" class=\"node\">\n",
       "<title>F2</title>\n",
       "<ellipse fill=\"black\" stroke=\"black\" cx=\"188\" cy=\"-87\" rx=\"0\" ry=\"0\"/>\n",
       "</g>\n",
       "<!-- 2&#45;&gt;F2 -->\n",
       "<g id=\"edge2\" class=\"edge\">\n",
       "<title>2-&gt;F2</title>\n",
       "<path fill=\"none\" stroke=\"DimGray\" d=\"M91.25,-67.08C97.03,-69.26 103.16,-71.37 109,-73 132.87,-79.69 161.78,-83.9 176.81,-85.8\"/>\n",
       "<polygon fill=\"DimGray\" stroke=\"DimGray\" points=\"176.53,-89.29 186.87,-86.99 177.35,-82.34 176.53,-89.29\"/>\n",
       "</g>\n",
       "<!-- 2&#45;&gt;2 -->\n",
       "<g id=\"edge3\" class=\"edge\">\n",
       "<title>2-&gt;2</title>\n",
       "<path fill=\"none\" stroke=\"black\" d=\"M56.04,-74.15C54.82,-83.54 57.47,-92 64,-92 67.98,-92 70.52,-88.86 71.62,-84.28\"/>\n",
       "<polygon fill=\"black\" stroke=\"black\" points=\"75.12,-84.26 71.96,-74.15 68.13,-84.03 75.12,-84.26\"/>\n",
       "<text text-anchor=\"middle\" x=\"64\" y=\"-95.8\" font-family=\"Times,serif\" font-size=\"14.00\">[0,0], [1,1]</text>\n",
       "</g>\n",
       "<!-- 3 -->\n",
       "<g id=\"node4\" class=\"node\">\n",
       "<title>3</title>\n",
       "<path fill=\"none\" stroke=\"black\" d=\"M203,-36C203,-36 173,-36 173,-36 167,-36 161,-30 161,-24 161,-24 161,-12 161,-12 161,-6 167,0 173,0 173,0 203,0 203,0 209,0 215,-6 215,-12 215,-12 215,-24 215,-24 215,-30 209,-36 203,-36\"/>\n",
       "<text text-anchor=\"middle\" x=\"188\" y=\"-14.3\" font-family=\"Times,serif\" font-size=\"14.00\">$1</text>\n",
       "</g>\n",
       "<!-- 2&#45;&gt;3 -->\n",
       "<g id=\"edge4\" class=\"edge\">\n",
       "<title>2-&gt;3</title>\n",
       "<path fill=\"none\" stroke=\"black\" d=\"M91.14,-49.14C106.36,-45.03 125.86,-39.53 143,-34 145.59,-33.16 148.26,-32.27 150.94,-31.35\"/>\n",
       "<polygon fill=\"black\" stroke=\"black\" points=\"152.31,-34.58 160.58,-27.96 149.99,-27.98 152.31,-34.58\"/>\n",
       "<text text-anchor=\"middle\" x=\"126\" y=\"-46.8\" font-family=\"Times,serif\" font-size=\"14.00\">[2,0]</text>\n",
       "</g>\n",
       "<!-- 3&#45;&gt;2 -->\n",
       "<g id=\"edge5\" class=\"edge\">\n",
       "<title>3-&gt;2</title>\n",
       "<path fill=\"none\" stroke=\"black\" d=\"M160.83,-11.84C145.25,-9.42 125.39,-8.55 109,-15 100.48,-18.35 92.64,-24.22 86,-30.49\"/>\n",
       "<polygon fill=\"black\" stroke=\"black\" points=\"83.26,-28.28 78.8,-37.9 88.28,-33.16 83.26,-28.28\"/>\n",
       "<text text-anchor=\"middle\" x=\"126\" y=\"-18.8\" font-family=\"Times,serif\" font-size=\"14.00\">[0,1]</text>\n",
       "</g>\n",
       "<!-- 3&#45;&gt;3 -->\n",
       "<g id=\"edge6\" class=\"edge\">\n",
       "<title>3-&gt;3</title>\n",
       "<path fill=\"none\" stroke=\"black\" d=\"M176.78,-36.15C175.06,-45.54 178.8,-54 188,-54 193.61,-54 197.19,-50.86 198.74,-46.28\"/>\n",
       "<polygon fill=\"black\" stroke=\"black\" points=\"202.24,-46.31 199.22,-36.15 195.25,-45.98 202.24,-46.31\"/>\n",
       "<text text-anchor=\"middle\" x=\"188\" y=\"-57.8\" font-family=\"Times,serif\" font-size=\"14.00\">[1,0], [2,1]</text>\n",
       "</g>\n",
       "</g>\n",
       "</svg>"
      ],
      "text/plain": [
       "<IPython.core.display.SVG object>"
      ]
     },
     "metadata": {},
     "output_type": "display_data"
    }
   ],
   "source": [
    "T.display()"
   ]
  },
  {
   "cell_type": "code",
   "execution_count": 7,
   "metadata": {},
   "outputs": [
    {
     "data": {
      "text/plain": [
       "Transducer (lat<lan<lal_char>,lan<lal_char>>_b):\tWeight Set: B\tAlphabets: ['012', '01']\n",
       "States:{\t0(i,f)\t1\t}\n",
       "Transitions:{\t0--(0,0)-->0\t0--(1,1)-->0\t0--(2,0)-->1\t1--(0,1)-->0\t1--(2,1)-->1\t1--(1,0)-->1\t\t}"
      ]
     },
     "execution_count": 7,
     "metadata": {},
     "output_type": "execute_result"
    }
   ],
   "source": [
    "T"
   ]
  },
  {
   "cell_type": "markdown",
   "metadata": {},
   "source": [
    "NB: the mention \"(i)\" following a state means that the state is *initial*.  Similarly, \"(f)\" means *final* and \"(i,f)\" means *initial and final*."
   ]
  },
  {
   "cell_type": "markdown",
   "metadata": {},
   "source": [
    "## Epsilon transitions\n",
    "By default, transducers allow epsilon on any number of tapes. "
   ]
  },
  {
   "cell_type": "code",
   "execution_count": 8,
   "metadata": {},
   "outputs": [],
   "source": [
    "stt_2 = T.add_state()"
   ]
  },
  {
   "cell_type": "markdown",
   "metadata": {},
   "source": [
    "Adding an epsilon-transition, that is, with epsilon on all tapes."
   ]
  },
  {
   "cell_type": "code",
   "execution_count": 9,
   "metadata": {},
   "outputs": [
    {
     "data": {
      "image/svg+xml": [
       "<svg xmlns=\"http://www.w3.org/2000/svg\" xmlns:xlink=\"http://www.w3.org/1999/xlink\" width=\"354pt\" height=\"119pt\" viewBox=\"0.00 0.00 354.00 118.77\">\n",
       "<g id=\"graph0\" class=\"graph\" transform=\"scale(1 1) rotate(0) translate(4 114.77)\">\n",
       "<title>%3</title>\n",
       "<polygon fill=\"white\" stroke=\"transparent\" points=\"-4,4 -4,-114.77 350,-114.77 350,4 -4,4\"/>\n",
       "<!-- I2 -->\n",
       "<g id=\"node1\" class=\"node\">\n",
       "<title>I2</title>\n",
       "<ellipse fill=\"black\" stroke=\"black\" cx=\"0\" cy=\"-59.77\" rx=\"0\" ry=\"0\"/>\n",
       "</g>\n",
       "<!-- 2 -->\n",
       "<g id=\"node3\" class=\"node\">\n",
       "<title>2</title>\n",
       "<path fill=\"none\" stroke=\"black\" d=\"M79,-77.77C79,-77.77 49,-77.77 49,-77.77 43,-77.77 37,-71.77 37,-65.77 37,-65.77 37,-53.77 37,-53.77 37,-47.77 43,-41.77 49,-41.77 49,-41.77 79,-41.77 79,-41.77 85,-41.77 91,-47.77 91,-53.77 91,-53.77 91,-65.77 91,-65.77 91,-71.77 85,-77.77 79,-77.77\"/>\n",
       "<text text-anchor=\"middle\" x=\"64\" y=\"-56.07\" font-family=\"Times,serif\" font-size=\"14.00\">$0</text>\n",
       "</g>\n",
       "<!-- I2&#45;&gt;2 -->\n",
       "<g id=\"edge1\" class=\"edge\">\n",
       "<title>I2-&gt;2</title>\n",
       "<path fill=\"none\" stroke=\"DimGray\" d=\"M1.04,-59.77C1.86,-59.77 13.73,-59.77 26.87,-59.77\"/>\n",
       "<polygon fill=\"DimGray\" stroke=\"DimGray\" points=\"27,-63.27 37,-59.77 27,-56.27 27,-63.27\"/>\n",
       "</g>\n",
       "<!-- F2 -->\n",
       "<g id=\"node2\" class=\"node\">\n",
       "<title>F2</title>\n",
       "<ellipse fill=\"black\" stroke=\"black\" cx=\"188\" cy=\"-90.77\" rx=\"0\" ry=\"0\"/>\n",
       "</g>\n",
       "<!-- 2&#45;&gt;F2 -->\n",
       "<g id=\"edge2\" class=\"edge\">\n",
       "<title>2-&gt;F2</title>\n",
       "<path fill=\"none\" stroke=\"DimGray\" d=\"M91.25,-70.85C97.03,-73.02 103.16,-75.13 109,-76.77 132.87,-83.45 161.78,-87.66 176.81,-89.57\"/>\n",
       "<polygon fill=\"DimGray\" stroke=\"DimGray\" points=\"176.53,-93.06 186.87,-90.75 177.35,-86.11 176.53,-93.06\"/>\n",
       "</g>\n",
       "<!-- 2&#45;&gt;2 -->\n",
       "<g id=\"edge3\" class=\"edge\">\n",
       "<title>2-&gt;2</title>\n",
       "<path fill=\"none\" stroke=\"black\" d=\"M56.04,-77.92C54.82,-87.31 57.47,-95.77 64,-95.77 67.98,-95.77 70.52,-92.62 71.62,-88.05\"/>\n",
       "<polygon fill=\"black\" stroke=\"black\" points=\"75.12,-88.03 71.96,-77.92 68.13,-87.8 75.12,-88.03\"/>\n",
       "<text text-anchor=\"middle\" x=\"64\" y=\"-99.57\" font-family=\"Times,serif\" font-size=\"14.00\">[0,0], [1,1]</text>\n",
       "</g>\n",
       "<!-- 3 -->\n",
       "<g id=\"node4\" class=\"node\">\n",
       "<title>3</title>\n",
       "<path fill=\"none\" stroke=\"black\" d=\"M203,-39.77C203,-39.77 173,-39.77 173,-39.77 167,-39.77 161,-33.77 161,-27.77 161,-27.77 161,-15.77 161,-15.77 161,-9.77 167,-3.77 173,-3.77 173,-3.77 203,-3.77 203,-3.77 209,-3.77 215,-9.77 215,-15.77 215,-15.77 215,-27.77 215,-27.77 215,-33.77 209,-39.77 203,-39.77\"/>\n",
       "<text text-anchor=\"middle\" x=\"188\" y=\"-18.07\" font-family=\"Times,serif\" font-size=\"14.00\">$1</text>\n",
       "</g>\n",
       "<!-- 2&#45;&gt;3 -->\n",
       "<g id=\"edge4\" class=\"edge\">\n",
       "<title>2-&gt;3</title>\n",
       "<path fill=\"none\" stroke=\"black\" d=\"M91.14,-52.91C106.36,-48.79 125.86,-43.29 143,-37.77 145.59,-36.93 148.26,-36.04 150.94,-35.12\"/>\n",
       "<polygon fill=\"black\" stroke=\"black\" points=\"152.31,-38.35 160.58,-31.73 149.99,-31.75 152.31,-38.35\"/>\n",
       "<text text-anchor=\"middle\" x=\"126\" y=\"-50.57\" font-family=\"Times,serif\" font-size=\"14.00\">[2,0]</text>\n",
       "</g>\n",
       "<!-- 3&#45;&gt;2 -->\n",
       "<g id=\"edge5\" class=\"edge\">\n",
       "<title>3-&gt;2</title>\n",
       "<path fill=\"none\" stroke=\"black\" d=\"M160.83,-15.61C145.25,-13.19 125.39,-12.31 109,-18.77 100.48,-22.12 92.64,-27.99 86,-34.25\"/>\n",
       "<polygon fill=\"black\" stroke=\"black\" points=\"83.26,-32.05 78.8,-41.66 88.28,-36.93 83.26,-32.05\"/>\n",
       "<text text-anchor=\"middle\" x=\"126\" y=\"-22.57\" font-family=\"Times,serif\" font-size=\"14.00\">[0,1]</text>\n",
       "</g>\n",
       "<!-- 3&#45;&gt;3 -->\n",
       "<g id=\"edge6\" class=\"edge\">\n",
       "<title>3-&gt;3</title>\n",
       "<path fill=\"none\" stroke=\"black\" d=\"M176.78,-39.92C175.06,-49.31 178.8,-57.77 188,-57.77 193.61,-57.77 197.19,-54.62 198.74,-50.05\"/>\n",
       "<polygon fill=\"black\" stroke=\"black\" points=\"202.24,-50.07 199.22,-39.92 195.25,-49.74 202.24,-50.07\"/>\n",
       "<text text-anchor=\"middle\" x=\"188\" y=\"-61.57\" font-family=\"Times,serif\" font-size=\"14.00\">[1,0], [2,1]</text>\n",
       "</g>\n",
       "<!-- 4 -->\n",
       "<g id=\"node5\" class=\"node\">\n",
       "<title>4</title>\n",
       "<path fill=\"none\" stroke=\"black\" d=\"M334,-39.77C334,-39.77 304,-39.77 304,-39.77 298,-39.77 292,-33.77 292,-27.77 292,-27.77 292,-15.77 292,-15.77 292,-9.77 298,-3.77 304,-3.77 304,-3.77 334,-3.77 334,-3.77 340,-3.77 346,-9.77 346,-15.77 346,-15.77 346,-27.77 346,-27.77 346,-33.77 340,-39.77 334,-39.77\"/>\n",
       "<text text-anchor=\"middle\" x=\"319\" y=\"-18.07\" font-family=\"Times,serif\" font-size=\"14.00\">$2</text>\n",
       "</g>\n",
       "<!-- 3&#45;&gt;4 -->\n",
       "<g id=\"edge7\" class=\"edge\">\n",
       "<title>3-&gt;4</title>\n",
       "<path fill=\"none\" stroke=\"black\" d=\"M215.11,-21.77C234.25,-21.77 260.49,-21.77 281.68,-21.77\"/>\n",
       "<polygon fill=\"black\" stroke=\"black\" points=\"281.93,-25.27 291.93,-21.77 281.93,-18.27 281.93,-25.27\"/>\n",
       "<text text-anchor=\"middle\" x=\"253.5\" y=\"-25.57\" font-family=\"Times,serif\" font-size=\"14.00\">[\\e,\\e]</text>\n",
       "</g>\n",
       "<!-- 4&#45;&gt;3 -->\n",
       "<g id=\"edge8\" class=\"edge\">\n",
       "<title>4-&gt;3</title>\n",
       "<path fill=\"none\" stroke=\"black\" d=\"M291.58,-8.31C285.91,-6.01 279.87,-3.98 274,-2.77 256.15,0.92 250.85,0.92 233,-2.77 230.34,-3.32 227.65,-4.03 224.97,-4.87\"/>\n",
       "<polygon fill=\"black\" stroke=\"black\" points=\"223.64,-1.62 215.42,-8.31 226.02,-8.21 223.64,-1.62\"/>\n",
       "<text text-anchor=\"middle\" x=\"253.5\" y=\"-6.57\" font-family=\"Times,serif\" font-size=\"14.00\">[\\e,\\e]</text>\n",
       "</g>\n",
       "</g>\n",
       "</svg>"
      ],
      "text/plain": [
       "<IPython.core.display.SVG object>"
      ]
     },
     "metadata": {},
     "output_type": "display_data"
    }
   ],
   "source": [
    "tr_6 = T.set_eps_transition(stt_2,stt_1)\n",
    "tr_7 = T.set_transition(stt_1,stt_2,[\"\",\"\"])\n",
    "T.display()"
   ]
  },
  {
   "cell_type": "markdown",
   "metadata": {},
   "source": [
    "---\n",
    "Adding a transition with epsilon on only one tape."
   ]
  },
  {
   "cell_type": "code",
   "execution_count": 10,
   "metadata": {},
   "outputs": [
    {
     "data": {
      "image/svg+xml": [
       "<svg xmlns=\"http://www.w3.org/2000/svg\" xmlns:xlink=\"http://www.w3.org/1999/xlink\" width=\"354pt\" height=\"123pt\" viewBox=\"0.00 0.00 354.00 122.53\">\n",
       "<g id=\"graph0\" class=\"graph\" transform=\"scale(1 1) rotate(0) translate(4 118.53)\">\n",
       "<title>%3</title>\n",
       "<polygon fill=\"white\" stroke=\"transparent\" points=\"-4,4 -4,-118.53 350,-118.53 350,4 -4,4\"/>\n",
       "<!-- I2 -->\n",
       "<g id=\"node1\" class=\"node\">\n",
       "<title>I2</title>\n",
       "<ellipse fill=\"black\" stroke=\"black\" cx=\"0\" cy=\"-55.53\" rx=\"0\" ry=\"0\"/>\n",
       "</g>\n",
       "<!-- 2 -->\n",
       "<g id=\"node3\" class=\"node\">\n",
       "<title>2</title>\n",
       "<path fill=\"none\" stroke=\"black\" d=\"M79,-73.53C79,-73.53 49,-73.53 49,-73.53 43,-73.53 37,-67.53 37,-61.53 37,-61.53 37,-49.53 37,-49.53 37,-43.53 43,-37.53 49,-37.53 49,-37.53 79,-37.53 79,-37.53 85,-37.53 91,-43.53 91,-49.53 91,-49.53 91,-61.53 91,-61.53 91,-67.53 85,-73.53 79,-73.53\"/>\n",
       "<text text-anchor=\"middle\" x=\"64\" y=\"-51.83\" font-family=\"Times,serif\" font-size=\"14.00\">$0</text>\n",
       "</g>\n",
       "<!-- I2&#45;&gt;2 -->\n",
       "<g id=\"edge1\" class=\"edge\">\n",
       "<title>I2-&gt;2</title>\n",
       "<path fill=\"none\" stroke=\"DimGray\" d=\"M1.04,-55.53C1.86,-55.53 13.73,-55.53 26.87,-55.53\"/>\n",
       "<polygon fill=\"DimGray\" stroke=\"DimGray\" points=\"27,-59.03 37,-55.53 27,-52.03 27,-59.03\"/>\n",
       "</g>\n",
       "<!-- F2 -->\n",
       "<g id=\"node2\" class=\"node\">\n",
       "<title>F2</title>\n",
       "<ellipse fill=\"black\" stroke=\"black\" cx=\"188\" cy=\"-114.53\" rx=\"0\" ry=\"0\"/>\n",
       "</g>\n",
       "<!-- 2&#45;&gt;F2 -->\n",
       "<g id=\"edge2\" class=\"edge\">\n",
       "<title>2-&gt;F2</title>\n",
       "<path fill=\"none\" stroke=\"DimGray\" d=\"M91.39,-70.61C110.39,-81.14 136.84,-95.12 161,-105.53 166.26,-107.79 172.31,-109.91 177.24,-111.52\"/>\n",
       "<polygon fill=\"DimGray\" stroke=\"DimGray\" points=\"176.24,-114.88 186.83,-114.48 178.3,-108.19 176.24,-114.88\"/>\n",
       "</g>\n",
       "<!-- 2&#45;&gt;2 -->\n",
       "<g id=\"edge3\" class=\"edge\">\n",
       "<title>2-&gt;2</title>\n",
       "<path fill=\"none\" stroke=\"black\" d=\"M56.04,-73.68C54.82,-83.06 57.47,-91.53 64,-91.53 67.98,-91.53 70.52,-88.38 71.62,-83.81\"/>\n",
       "<polygon fill=\"black\" stroke=\"black\" points=\"75.12,-83.79 71.96,-73.68 68.13,-83.56 75.12,-83.79\"/>\n",
       "<text text-anchor=\"middle\" x=\"64\" y=\"-95.33\" font-family=\"Times,serif\" font-size=\"14.00\">[0,0], [1,1]</text>\n",
       "</g>\n",
       "<!-- 3 -->\n",
       "<g id=\"node4\" class=\"node\">\n",
       "<title>3</title>\n",
       "<path fill=\"none\" stroke=\"black\" d=\"M203,-63.53C203,-63.53 173,-63.53 173,-63.53 167,-63.53 161,-57.53 161,-51.53 161,-51.53 161,-39.53 161,-39.53 161,-33.53 167,-27.53 173,-27.53 173,-27.53 203,-27.53 203,-27.53 209,-27.53 215,-33.53 215,-39.53 215,-39.53 215,-51.53 215,-51.53 215,-57.53 209,-63.53 203,-63.53\"/>\n",
       "<text text-anchor=\"middle\" x=\"188\" y=\"-41.83\" font-family=\"Times,serif\" font-size=\"14.00\">$1</text>\n",
       "</g>\n",
       "<!-- 2&#45;&gt;3 -->\n",
       "<g id=\"edge4\" class=\"edge\">\n",
       "<title>2-&gt;3</title>\n",
       "<path fill=\"none\" stroke=\"black\" d=\"M91.05,-55.3C106.24,-54.97 125.74,-54.22 143,-52.53 145.49,-52.28 148.06,-51.99 150.64,-51.66\"/>\n",
       "<polygon fill=\"black\" stroke=\"black\" points=\"151.13,-55.12 160.54,-50.26 150.15,-48.19 151.13,-55.12\"/>\n",
       "<text text-anchor=\"middle\" x=\"126\" y=\"-58.33\" font-family=\"Times,serif\" font-size=\"14.00\">[2,0]</text>\n",
       "</g>\n",
       "<!-- 3&#45;&gt;2 -->\n",
       "<g id=\"edge5\" class=\"edge\">\n",
       "<title>3-&gt;2</title>\n",
       "<path fill=\"none\" stroke=\"black\" d=\"M160.8,-36.5C145.57,-32.5 126.07,-29.5 109,-33.53 106.19,-34.19 103.36,-35.06 100.56,-36.07\"/>\n",
       "<polygon fill=\"black\" stroke=\"black\" points=\"99.12,-32.88 91.24,-39.96 101.82,-39.34 99.12,-32.88\"/>\n",
       "<text text-anchor=\"middle\" x=\"126\" y=\"-37.33\" font-family=\"Times,serif\" font-size=\"14.00\">[0,1]</text>\n",
       "</g>\n",
       "<!-- 3&#45;&gt;3 -->\n",
       "<g id=\"edge6\" class=\"edge\">\n",
       "<title>3-&gt;3</title>\n",
       "<path fill=\"none\" stroke=\"black\" d=\"M176.78,-63.68C175.06,-73.06 178.8,-81.53 188,-81.53 193.61,-81.53 197.19,-78.38 198.74,-73.81\"/>\n",
       "<polygon fill=\"black\" stroke=\"black\" points=\"202.24,-73.83 199.22,-63.68 195.25,-73.5 202.24,-73.83\"/>\n",
       "<text text-anchor=\"middle\" x=\"188\" y=\"-85.33\" font-family=\"Times,serif\" font-size=\"14.00\">[1,0], [2,1]</text>\n",
       "</g>\n",
       "<!-- 4 -->\n",
       "<g id=\"node5\" class=\"node\">\n",
       "<title>4</title>\n",
       "<path fill=\"none\" stroke=\"black\" d=\"M334,-45.53C334,-45.53 304,-45.53 304,-45.53 298,-45.53 292,-39.53 292,-33.53 292,-33.53 292,-21.53 292,-21.53 292,-15.53 298,-9.53 304,-9.53 304,-9.53 334,-9.53 334,-9.53 340,-9.53 346,-15.53 346,-21.53 346,-21.53 346,-33.53 346,-33.53 346,-39.53 340,-45.53 334,-45.53\"/>\n",
       "<text text-anchor=\"middle\" x=\"319\" y=\"-23.83\" font-family=\"Times,serif\" font-size=\"14.00\">$2</text>\n",
       "</g>\n",
       "<!-- 3&#45;&gt;4 -->\n",
       "<g id=\"edge7\" class=\"edge\">\n",
       "<title>3-&gt;4</title>\n",
       "<path fill=\"none\" stroke=\"black\" d=\"M215.27,-47.09C232.18,-47.56 254.56,-47.19 274,-43.53 276.68,-43.02 279.41,-42.37 282.14,-41.63\"/>\n",
       "<polygon fill=\"black\" stroke=\"black\" points=\"283.36,-44.92 291.87,-38.6 281.28,-38.23 283.36,-44.92\"/>\n",
       "<text text-anchor=\"middle\" x=\"253.5\" y=\"-50.33\" font-family=\"Times,serif\" font-size=\"14.00\">[\\e,\\e]</text>\n",
       "</g>\n",
       "<!-- 4&#45;&gt;2 -->\n",
       "<g id=\"edge8\" class=\"edge\">\n",
       "<title>4-&gt;2</title>\n",
       "<path fill=\"none\" stroke=\"black\" d=\"M291.97,-17.72C260.68,-7.27 206.65,6.5 161,-3.53 138.46,-8.48 115.64,-20.48 97.91,-31.71\"/>\n",
       "<polygon fill=\"black\" stroke=\"black\" points=\"95.57,-29.06 89.13,-37.47 99.41,-34.91 95.57,-29.06\"/>\n",
       "<text text-anchor=\"middle\" x=\"188\" y=\"-7.33\" font-family=\"Times,serif\" font-size=\"14.00\">[0,\\e]</text>\n",
       "</g>\n",
       "<!-- 4&#45;&gt;3 -->\n",
       "<g id=\"edge9\" class=\"edge\">\n",
       "<title>4-&gt;3</title>\n",
       "<path fill=\"none\" stroke=\"black\" d=\"M291.63,-23.15C274.68,-21.18 252.3,-20.16 233,-24.53 230.21,-25.16 227.4,-25.99 224.61,-26.95\"/>\n",
       "<polygon fill=\"black\" stroke=\"black\" points=\"223.3,-23.71 215.3,-30.66 225.89,-30.21 223.3,-23.71\"/>\n",
       "<text text-anchor=\"middle\" x=\"253.5\" y=\"-28.33\" font-family=\"Times,serif\" font-size=\"14.00\">[\\e,\\e]</text>\n",
       "</g>\n",
       "<!-- 4&#45;&gt;4 -->\n",
       "<g id=\"edge10\" class=\"edge\">\n",
       "<title>4-&gt;4</title>\n",
       "<path fill=\"none\" stroke=\"black\" d=\"M307.42,-45.68C305.64,-55.06 309.5,-63.53 319,-63.53 324.79,-63.53 328.48,-60.38 330.08,-55.81\"/>\n",
       "<polygon fill=\"black\" stroke=\"black\" points=\"333.59,-55.84 330.58,-45.68 326.59,-55.5 333.59,-55.84\"/>\n",
       "<text text-anchor=\"middle\" x=\"319\" y=\"-67.33\" font-family=\"Times,serif\" font-size=\"14.00\">[\\e,1]</text>\n",
       "</g>\n",
       "</g>\n",
       "</svg>"
      ],
      "text/plain": [
       "<IPython.core.display.SVG object>"
      ]
     },
     "metadata": {},
     "output_type": "display_data"
    }
   ],
   "source": [
    "tr_8 = T.set_transition(stt_2,stt_0,[\"0\",\"\"])\n",
    "tr_9 = T.set_transition(stt_2,stt_2,[\"\",\"1\"])\n",
    "T.display()"
   ]
  },
  {
   "cell_type": "markdown",
   "metadata": {},
   "source": [
    "## Deleting edges and states"
   ]
  },
  {
   "cell_type": "markdown",
   "metadata": {},
   "source": [
    "Let us consider the automaton A"
   ]
  },
  {
   "cell_type": "code",
   "execution_count": 11,
   "metadata": {},
   "outputs": [
    {
     "data": {
      "image/svg+xml": [
       "<svg xmlns=\"http://www.w3.org/2000/svg\" xmlns:xlink=\"http://www.w3.org/1999/xlink\" width=\"354pt\" height=\"123pt\" viewBox=\"0.00 0.00 354.00 122.53\">\n",
       "<g id=\"graph0\" class=\"graph\" transform=\"scale(1 1) rotate(0) translate(4 118.53)\">\n",
       "<title>%3</title>\n",
       "<polygon fill=\"white\" stroke=\"transparent\" points=\"-4,4 -4,-118.53 350,-118.53 350,4 -4,4\"/>\n",
       "<!-- I2 -->\n",
       "<g id=\"node1\" class=\"node\">\n",
       "<title>I2</title>\n",
       "<ellipse fill=\"black\" stroke=\"black\" cx=\"0\" cy=\"-55.53\" rx=\"0\" ry=\"0\"/>\n",
       "</g>\n",
       "<!-- 2 -->\n",
       "<g id=\"node3\" class=\"node\">\n",
       "<title>2</title>\n",
       "<path fill=\"none\" stroke=\"black\" d=\"M79,-73.53C79,-73.53 49,-73.53 49,-73.53 43,-73.53 37,-67.53 37,-61.53 37,-61.53 37,-49.53 37,-49.53 37,-43.53 43,-37.53 49,-37.53 49,-37.53 79,-37.53 79,-37.53 85,-37.53 91,-43.53 91,-49.53 91,-49.53 91,-61.53 91,-61.53 91,-67.53 85,-73.53 79,-73.53\"/>\n",
       "<text text-anchor=\"middle\" x=\"64\" y=\"-51.83\" font-family=\"Times,serif\" font-size=\"14.00\">$0</text>\n",
       "</g>\n",
       "<!-- I2&#45;&gt;2 -->\n",
       "<g id=\"edge1\" class=\"edge\">\n",
       "<title>I2-&gt;2</title>\n",
       "<path fill=\"none\" stroke=\"DimGray\" d=\"M1.04,-55.53C1.86,-55.53 13.73,-55.53 26.87,-55.53\"/>\n",
       "<polygon fill=\"DimGray\" stroke=\"DimGray\" points=\"27,-59.03 37,-55.53 27,-52.03 27,-59.03\"/>\n",
       "</g>\n",
       "<!-- F2 -->\n",
       "<g id=\"node2\" class=\"node\">\n",
       "<title>F2</title>\n",
       "<ellipse fill=\"black\" stroke=\"black\" cx=\"188\" cy=\"-114.53\" rx=\"0\" ry=\"0\"/>\n",
       "</g>\n",
       "<!-- 2&#45;&gt;F2 -->\n",
       "<g id=\"edge2\" class=\"edge\">\n",
       "<title>2-&gt;F2</title>\n",
       "<path fill=\"none\" stroke=\"DimGray\" d=\"M91.39,-70.61C110.39,-81.14 136.84,-95.12 161,-105.53 166.26,-107.79 172.31,-109.91 177.24,-111.52\"/>\n",
       "<polygon fill=\"DimGray\" stroke=\"DimGray\" points=\"176.24,-114.88 186.83,-114.48 178.3,-108.19 176.24,-114.88\"/>\n",
       "</g>\n",
       "<!-- 2&#45;&gt;2 -->\n",
       "<g id=\"edge3\" class=\"edge\">\n",
       "<title>2-&gt;2</title>\n",
       "<path fill=\"none\" stroke=\"black\" d=\"M56.04,-73.68C54.82,-83.06 57.47,-91.53 64,-91.53 67.98,-91.53 70.52,-88.38 71.62,-83.81\"/>\n",
       "<polygon fill=\"black\" stroke=\"black\" points=\"75.12,-83.79 71.96,-73.68 68.13,-83.56 75.12,-83.79\"/>\n",
       "<text text-anchor=\"middle\" x=\"64\" y=\"-95.33\" font-family=\"Times,serif\" font-size=\"14.00\">[0,0], [1,1]</text>\n",
       "</g>\n",
       "<!-- 3 -->\n",
       "<g id=\"node4\" class=\"node\">\n",
       "<title>3</title>\n",
       "<path fill=\"none\" stroke=\"black\" d=\"M203,-63.53C203,-63.53 173,-63.53 173,-63.53 167,-63.53 161,-57.53 161,-51.53 161,-51.53 161,-39.53 161,-39.53 161,-33.53 167,-27.53 173,-27.53 173,-27.53 203,-27.53 203,-27.53 209,-27.53 215,-33.53 215,-39.53 215,-39.53 215,-51.53 215,-51.53 215,-57.53 209,-63.53 203,-63.53\"/>\n",
       "<text text-anchor=\"middle\" x=\"188\" y=\"-41.83\" font-family=\"Times,serif\" font-size=\"14.00\">$1</text>\n",
       "</g>\n",
       "<!-- 2&#45;&gt;3 -->\n",
       "<g id=\"edge4\" class=\"edge\">\n",
       "<title>2-&gt;3</title>\n",
       "<path fill=\"none\" stroke=\"black\" d=\"M91.05,-55.3C106.24,-54.97 125.74,-54.22 143,-52.53 145.49,-52.28 148.06,-51.99 150.64,-51.66\"/>\n",
       "<polygon fill=\"black\" stroke=\"black\" points=\"151.13,-55.12 160.54,-50.26 150.15,-48.19 151.13,-55.12\"/>\n",
       "<text text-anchor=\"middle\" x=\"126\" y=\"-58.33\" font-family=\"Times,serif\" font-size=\"14.00\">[2,0]</text>\n",
       "</g>\n",
       "<!-- 3&#45;&gt;2 -->\n",
       "<g id=\"edge5\" class=\"edge\">\n",
       "<title>3-&gt;2</title>\n",
       "<path fill=\"none\" stroke=\"black\" d=\"M160.8,-36.5C145.57,-32.5 126.07,-29.5 109,-33.53 106.19,-34.19 103.36,-35.06 100.56,-36.07\"/>\n",
       "<polygon fill=\"black\" stroke=\"black\" points=\"99.12,-32.88 91.24,-39.96 101.82,-39.34 99.12,-32.88\"/>\n",
       "<text text-anchor=\"middle\" x=\"126\" y=\"-37.33\" font-family=\"Times,serif\" font-size=\"14.00\">[0,1]</text>\n",
       "</g>\n",
       "<!-- 3&#45;&gt;3 -->\n",
       "<g id=\"edge6\" class=\"edge\">\n",
       "<title>3-&gt;3</title>\n",
       "<path fill=\"none\" stroke=\"black\" d=\"M176.78,-63.68C175.06,-73.06 178.8,-81.53 188,-81.53 193.61,-81.53 197.19,-78.38 198.74,-73.81\"/>\n",
       "<polygon fill=\"black\" stroke=\"black\" points=\"202.24,-73.83 199.22,-63.68 195.25,-73.5 202.24,-73.83\"/>\n",
       "<text text-anchor=\"middle\" x=\"188\" y=\"-85.33\" font-family=\"Times,serif\" font-size=\"14.00\">[1,0], [2,1]</text>\n",
       "</g>\n",
       "<!-- 4 -->\n",
       "<g id=\"node5\" class=\"node\">\n",
       "<title>4</title>\n",
       "<path fill=\"none\" stroke=\"black\" d=\"M334,-45.53C334,-45.53 304,-45.53 304,-45.53 298,-45.53 292,-39.53 292,-33.53 292,-33.53 292,-21.53 292,-21.53 292,-15.53 298,-9.53 304,-9.53 304,-9.53 334,-9.53 334,-9.53 340,-9.53 346,-15.53 346,-21.53 346,-21.53 346,-33.53 346,-33.53 346,-39.53 340,-45.53 334,-45.53\"/>\n",
       "<text text-anchor=\"middle\" x=\"319\" y=\"-23.83\" font-family=\"Times,serif\" font-size=\"14.00\">$2</text>\n",
       "</g>\n",
       "<!-- 3&#45;&gt;4 -->\n",
       "<g id=\"edge7\" class=\"edge\">\n",
       "<title>3-&gt;4</title>\n",
       "<path fill=\"none\" stroke=\"black\" d=\"M215.27,-47.09C232.18,-47.56 254.56,-47.19 274,-43.53 276.68,-43.02 279.41,-42.37 282.14,-41.63\"/>\n",
       "<polygon fill=\"black\" stroke=\"black\" points=\"283.36,-44.92 291.87,-38.6 281.28,-38.23 283.36,-44.92\"/>\n",
       "<text text-anchor=\"middle\" x=\"253.5\" y=\"-50.33\" font-family=\"Times,serif\" font-size=\"14.00\">[\\e,\\e]</text>\n",
       "</g>\n",
       "<!-- 4&#45;&gt;2 -->\n",
       "<g id=\"edge8\" class=\"edge\">\n",
       "<title>4-&gt;2</title>\n",
       "<path fill=\"none\" stroke=\"black\" d=\"M291.97,-17.72C260.68,-7.27 206.65,6.5 161,-3.53 138.46,-8.48 115.64,-20.48 97.91,-31.71\"/>\n",
       "<polygon fill=\"black\" stroke=\"black\" points=\"95.57,-29.06 89.13,-37.47 99.41,-34.91 95.57,-29.06\"/>\n",
       "<text text-anchor=\"middle\" x=\"188\" y=\"-7.33\" font-family=\"Times,serif\" font-size=\"14.00\">[0,\\e]</text>\n",
       "</g>\n",
       "<!-- 4&#45;&gt;3 -->\n",
       "<g id=\"edge9\" class=\"edge\">\n",
       "<title>4-&gt;3</title>\n",
       "<path fill=\"none\" stroke=\"black\" d=\"M291.63,-23.15C274.68,-21.18 252.3,-20.16 233,-24.53 230.21,-25.16 227.4,-25.99 224.61,-26.95\"/>\n",
       "<polygon fill=\"black\" stroke=\"black\" points=\"223.3,-23.71 215.3,-30.66 225.89,-30.21 223.3,-23.71\"/>\n",
       "<text text-anchor=\"middle\" x=\"253.5\" y=\"-28.33\" font-family=\"Times,serif\" font-size=\"14.00\">[\\e,\\e]</text>\n",
       "</g>\n",
       "<!-- 4&#45;&gt;4 -->\n",
       "<g id=\"edge10\" class=\"edge\">\n",
       "<title>4-&gt;4</title>\n",
       "<path fill=\"none\" stroke=\"black\" d=\"M307.42,-45.68C305.64,-55.06 309.5,-63.53 319,-63.53 324.79,-63.53 328.48,-60.38 330.08,-55.81\"/>\n",
       "<polygon fill=\"black\" stroke=\"black\" points=\"333.59,-55.84 330.58,-45.68 326.59,-55.5 333.59,-55.84\"/>\n",
       "<text text-anchor=\"middle\" x=\"319\" y=\"-67.33\" font-family=\"Times,serif\" font-size=\"14.00\">[\\e,1]</text>\n",
       "</g>\n",
       "</g>\n",
       "</svg>"
      ],
      "text/plain": [
       "<IPython.core.display.SVG object>"
      ]
     },
     "metadata": {},
     "output_type": "display_data"
    }
   ],
   "source": [
    "T.display()"
   ]
  },
  {
   "cell_type": "markdown",
   "metadata": {},
   "source": [
    "<hr> Let us add a transition."
   ]
  },
  {
   "cell_type": "code",
   "execution_count": 12,
   "metadata": {},
   "outputs": [
    {
     "data": {
      "image/svg+xml": [
       "<svg xmlns=\"http://www.w3.org/2000/svg\" xmlns:xlink=\"http://www.w3.org/1999/xlink\" width=\"354pt\" height=\"144pt\" viewBox=\"0.00 0.00 354.00 143.94\">\n",
       "<g id=\"graph0\" class=\"graph\" transform=\"scale(1 1) rotate(0) translate(4 139.94)\">\n",
       "<title>%3</title>\n",
       "<polygon fill=\"white\" stroke=\"transparent\" points=\"-4,4 -4,-139.94 350,-139.94 350,4 -4,4\"/>\n",
       "<!-- I2 -->\n",
       "<g id=\"node1\" class=\"node\">\n",
       "<title>I2</title>\n",
       "<ellipse fill=\"black\" stroke=\"black\" cx=\"0\" cy=\"-48.94\" rx=\"0\" ry=\"0\"/>\n",
       "</g>\n",
       "<!-- 2 -->\n",
       "<g id=\"node3\" class=\"node\">\n",
       "<title>2</title>\n",
       "<path fill=\"none\" stroke=\"black\" d=\"M79,-66.94C79,-66.94 49,-66.94 49,-66.94 43,-66.94 37,-60.94 37,-54.94 37,-54.94 37,-42.94 37,-42.94 37,-36.94 43,-30.94 49,-30.94 49,-30.94 79,-30.94 79,-30.94 85,-30.94 91,-36.94 91,-42.94 91,-42.94 91,-54.94 91,-54.94 91,-60.94 85,-66.94 79,-66.94\"/>\n",
       "<text text-anchor=\"middle\" x=\"64\" y=\"-45.24\" font-family=\"Times,serif\" font-size=\"14.00\">$0</text>\n",
       "</g>\n",
       "<!-- I2&#45;&gt;2 -->\n",
       "<g id=\"edge1\" class=\"edge\">\n",
       "<title>I2-&gt;2</title>\n",
       "<path fill=\"none\" stroke=\"DimGray\" d=\"M1.04,-48.94C1.86,-48.94 13.73,-48.94 26.87,-48.94\"/>\n",
       "<polygon fill=\"DimGray\" stroke=\"DimGray\" points=\"27,-52.44 37,-48.94 27,-45.44 27,-52.44\"/>\n",
       "</g>\n",
       "<!-- F2 -->\n",
       "<g id=\"node2\" class=\"node\">\n",
       "<title>F2</title>\n",
       "<ellipse fill=\"black\" stroke=\"black\" cx=\"188\" cy=\"-135.94\" rx=\"0\" ry=\"0\"/>\n",
       "</g>\n",
       "<!-- 2&#45;&gt;F2 -->\n",
       "<g id=\"edge2\" class=\"edge\">\n",
       "<title>2-&gt;F2</title>\n",
       "<path fill=\"none\" stroke=\"DimGray\" d=\"M82.96,-67.07C101.19,-84.57 130.95,-110.74 161,-126.94 166.05,-129.66 172.09,-131.81 177.07,-133.33\"/>\n",
       "<polygon fill=\"DimGray\" stroke=\"DimGray\" points=\"176.39,-136.77 186.96,-135.93 178.18,-130 176.39,-136.77\"/>\n",
       "</g>\n",
       "<!-- 2&#45;&gt;2 -->\n",
       "<g id=\"edge3\" class=\"edge\">\n",
       "<title>2-&gt;2</title>\n",
       "<path fill=\"none\" stroke=\"black\" d=\"M56.04,-67.09C54.82,-76.48 57.47,-84.94 64,-84.94 67.98,-84.94 70.52,-81.8 71.62,-77.22\"/>\n",
       "<polygon fill=\"black\" stroke=\"black\" points=\"75.12,-77.2 71.96,-67.09 68.13,-76.97 75.12,-77.2\"/>\n",
       "<text text-anchor=\"middle\" x=\"64\" y=\"-88.74\" font-family=\"Times,serif\" font-size=\"14.00\">[0,0], [1,1]</text>\n",
       "</g>\n",
       "<!-- 3 -->\n",
       "<g id=\"node4\" class=\"node\">\n",
       "<title>3</title>\n",
       "<path fill=\"none\" stroke=\"black\" d=\"M203,-84.94C203,-84.94 173,-84.94 173,-84.94 167,-84.94 161,-78.94 161,-72.94 161,-72.94 161,-60.94 161,-60.94 161,-54.94 167,-48.94 173,-48.94 173,-48.94 203,-48.94 203,-48.94 209,-48.94 215,-54.94 215,-60.94 215,-60.94 215,-72.94 215,-72.94 215,-78.94 209,-84.94 203,-84.94\"/>\n",
       "<text text-anchor=\"middle\" x=\"188\" y=\"-63.24\" font-family=\"Times,serif\" font-size=\"14.00\">$1</text>\n",
       "</g>\n",
       "<!-- 2&#45;&gt;3 -->\n",
       "<g id=\"edge4\" class=\"edge\">\n",
       "<title>2-&gt;3</title>\n",
       "<path fill=\"none\" stroke=\"black\" d=\"M91.13,-60C96.92,-62.01 103.09,-63.82 109,-64.94 122.44,-67.49 137.42,-68.33 150.63,-68.43\"/>\n",
       "<polygon fill=\"black\" stroke=\"black\" points=\"150.8,-71.93 160.78,-68.36 150.75,-64.93 150.8,-71.93\"/>\n",
       "<text text-anchor=\"middle\" x=\"126\" y=\"-71.74\" font-family=\"Times,serif\" font-size=\"14.00\">[2,0]</text>\n",
       "</g>\n",
       "<!-- 4 -->\n",
       "<g id=\"node5\" class=\"node\">\n",
       "<title>4</title>\n",
       "<path fill=\"none\" stroke=\"black\" d=\"M334,-49.94C334,-49.94 304,-49.94 304,-49.94 298,-49.94 292,-43.94 292,-37.94 292,-37.94 292,-25.94 292,-25.94 292,-19.94 298,-13.94 304,-13.94 304,-13.94 334,-13.94 334,-13.94 340,-13.94 346,-19.94 346,-25.94 346,-25.94 346,-37.94 346,-37.94 346,-43.94 340,-49.94 334,-49.94\"/>\n",
       "<text text-anchor=\"middle\" x=\"319\" y=\"-28.24\" font-family=\"Times,serif\" font-size=\"14.00\">$2</text>\n",
       "</g>\n",
       "<!-- 2&#45;&gt;4 -->\n",
       "<g id=\"edge5\" class=\"edge\">\n",
       "<title>2-&gt;4</title>\n",
       "<path fill=\"none\" stroke=\"black\" d=\"M91.16,-40.55C110.28,-34.88 136.96,-27.9 161,-24.94 202.12,-19.88 249.69,-23.28 281.6,-26.89\"/>\n",
       "<polygon fill=\"black\" stroke=\"black\" points=\"281.44,-30.4 291.78,-28.11 282.27,-23.45 281.44,-30.4\"/>\n",
       "<text text-anchor=\"middle\" x=\"188\" y=\"-28.74\" font-family=\"Times,serif\" font-size=\"14.00\">[0,1]</text>\n",
       "</g>\n",
       "<!-- 3&#45;&gt;2 -->\n",
       "<g id=\"edge6\" class=\"edge\">\n",
       "<title>3-&gt;2</title>\n",
       "<path fill=\"none\" stroke=\"black\" d=\"M160.7,-52.07C155.02,-49.54 148.94,-47.29 143,-45.94 129.65,-42.92 114.69,-42.75 101.48,-43.65\"/>\n",
       "<polygon fill=\"black\" stroke=\"black\" points=\"100.96,-40.18 91.31,-44.57 101.59,-47.15 100.96,-40.18\"/>\n",
       "<text text-anchor=\"middle\" x=\"126\" y=\"-49.74\" font-family=\"Times,serif\" font-size=\"14.00\">[0,1]</text>\n",
       "</g>\n",
       "<!-- 3&#45;&gt;3 -->\n",
       "<g id=\"edge7\" class=\"edge\">\n",
       "<title>3-&gt;3</title>\n",
       "<path fill=\"none\" stroke=\"black\" d=\"M176.78,-85.09C175.06,-94.48 178.8,-102.94 188,-102.94 193.61,-102.94 197.19,-99.8 198.74,-95.22\"/>\n",
       "<polygon fill=\"black\" stroke=\"black\" points=\"202.24,-95.25 199.22,-85.09 195.25,-94.92 202.24,-95.25\"/>\n",
       "<text text-anchor=\"middle\" x=\"188\" y=\"-106.74\" font-family=\"Times,serif\" font-size=\"14.00\">[1,0], [2,1]</text>\n",
       "</g>\n",
       "<!-- 3&#45;&gt;4 -->\n",
       "<g id=\"edge8\" class=\"edge\">\n",
       "<title>3-&gt;4</title>\n",
       "<path fill=\"none\" stroke=\"black\" d=\"M215.02,-70.37C232.23,-71.67 255.03,-71.51 274,-64.94 279.78,-62.94 285.42,-59.87 290.63,-56.4\"/>\n",
       "<polygon fill=\"black\" stroke=\"black\" points=\"292.96,-59.03 298.95,-50.29 288.82,-53.39 292.96,-59.03\"/>\n",
       "<text text-anchor=\"middle\" x=\"253.5\" y=\"-74.74\" font-family=\"Times,serif\" font-size=\"14.00\">[\\e,\\e]</text>\n",
       "</g>\n",
       "<!-- 4&#45;&gt;2 -->\n",
       "<g id=\"edge9\" class=\"edge\">\n",
       "<title>4-&gt;2</title>\n",
       "<path fill=\"none\" stroke=\"black\" d=\"M291.86,-21.07C260.68,-9.51 206.98,5.99 161,-2.94 139.53,-7.11 117.39,-17.26 99.79,-26.97\"/>\n",
       "<polygon fill=\"black\" stroke=\"black\" points=\"97.98,-23.97 91.03,-31.97 101.45,-30.05 97.98,-23.97\"/>\n",
       "<text text-anchor=\"middle\" x=\"188\" y=\"-6.74\" font-family=\"Times,serif\" font-size=\"14.00\">[0,\\e]</text>\n",
       "</g>\n",
       "<!-- 4&#45;&gt;3 -->\n",
       "<g id=\"edge10\" class=\"edge\">\n",
       "<title>4-&gt;3</title>\n",
       "<path fill=\"none\" stroke=\"black\" d=\"M291.89,-34.31C274.85,-36.33 252.26,-39.89 233,-45.94 230.11,-46.85 227.16,-47.92 224.23,-49.08\"/>\n",
       "<polygon fill=\"black\" stroke=\"black\" points=\"222.84,-45.87 215.03,-53.04 225.6,-52.3 222.84,-45.87\"/>\n",
       "<text text-anchor=\"middle\" x=\"253.5\" y=\"-49.74\" font-family=\"Times,serif\" font-size=\"14.00\">[\\e,\\e]</text>\n",
       "</g>\n",
       "<!-- 4&#45;&gt;4 -->\n",
       "<g id=\"edge11\" class=\"edge\">\n",
       "<title>4-&gt;4</title>\n",
       "<path fill=\"none\" stroke=\"black\" d=\"M307.42,-50.09C305.64,-59.48 309.5,-67.94 319,-67.94 324.79,-67.94 328.48,-64.8 330.08,-60.22\"/>\n",
       "<polygon fill=\"black\" stroke=\"black\" points=\"333.59,-60.25 330.58,-50.09 326.59,-59.91 333.59,-60.25\"/>\n",
       "<text text-anchor=\"middle\" x=\"319\" y=\"-71.74\" font-family=\"Times,serif\" font-size=\"14.00\">[\\e,1]</text>\n",
       "</g>\n",
       "</g>\n",
       "</svg>"
      ],
      "text/plain": [
       "<IPython.core.display.SVG object>"
      ]
     },
     "metadata": {},
     "output_type": "display_data"
    }
   ],
   "source": [
    "tr_10 = T.set_transition(stt_0,stt_2,[\"0\",\"1\"])\n",
    "T.display()"
   ]
  },
  {
   "cell_type": "markdown",
   "metadata": {},
   "source": [
    "---\n",
    "Deleting the transition we just added by id."
   ]
  },
  {
   "cell_type": "code",
   "execution_count": 13,
   "metadata": {},
   "outputs": [
    {
     "data": {
      "image/svg+xml": [
       "<svg xmlns=\"http://www.w3.org/2000/svg\" xmlns:xlink=\"http://www.w3.org/1999/xlink\" width=\"354pt\" height=\"123pt\" viewBox=\"0.00 0.00 354.00 122.53\">\n",
       "<g id=\"graph0\" class=\"graph\" transform=\"scale(1 1) rotate(0) translate(4 118.53)\">\n",
       "<title>%3</title>\n",
       "<polygon fill=\"white\" stroke=\"transparent\" points=\"-4,4 -4,-118.53 350,-118.53 350,4 -4,4\"/>\n",
       "<!-- I2 -->\n",
       "<g id=\"node1\" class=\"node\">\n",
       "<title>I2</title>\n",
       "<ellipse fill=\"black\" stroke=\"black\" cx=\"0\" cy=\"-55.53\" rx=\"0\" ry=\"0\"/>\n",
       "</g>\n",
       "<!-- 2 -->\n",
       "<g id=\"node3\" class=\"node\">\n",
       "<title>2</title>\n",
       "<path fill=\"none\" stroke=\"black\" d=\"M79,-73.53C79,-73.53 49,-73.53 49,-73.53 43,-73.53 37,-67.53 37,-61.53 37,-61.53 37,-49.53 37,-49.53 37,-43.53 43,-37.53 49,-37.53 49,-37.53 79,-37.53 79,-37.53 85,-37.53 91,-43.53 91,-49.53 91,-49.53 91,-61.53 91,-61.53 91,-67.53 85,-73.53 79,-73.53\"/>\n",
       "<text text-anchor=\"middle\" x=\"64\" y=\"-51.83\" font-family=\"Times,serif\" font-size=\"14.00\">$0</text>\n",
       "</g>\n",
       "<!-- I2&#45;&gt;2 -->\n",
       "<g id=\"edge1\" class=\"edge\">\n",
       "<title>I2-&gt;2</title>\n",
       "<path fill=\"none\" stroke=\"DimGray\" d=\"M1.04,-55.53C1.86,-55.53 13.73,-55.53 26.87,-55.53\"/>\n",
       "<polygon fill=\"DimGray\" stroke=\"DimGray\" points=\"27,-59.03 37,-55.53 27,-52.03 27,-59.03\"/>\n",
       "</g>\n",
       "<!-- F2 -->\n",
       "<g id=\"node2\" class=\"node\">\n",
       "<title>F2</title>\n",
       "<ellipse fill=\"black\" stroke=\"black\" cx=\"188\" cy=\"-114.53\" rx=\"0\" ry=\"0\"/>\n",
       "</g>\n",
       "<!-- 2&#45;&gt;F2 -->\n",
       "<g id=\"edge2\" class=\"edge\">\n",
       "<title>2-&gt;F2</title>\n",
       "<path fill=\"none\" stroke=\"DimGray\" d=\"M91.39,-70.61C110.39,-81.14 136.84,-95.12 161,-105.53 166.26,-107.79 172.31,-109.91 177.24,-111.52\"/>\n",
       "<polygon fill=\"DimGray\" stroke=\"DimGray\" points=\"176.24,-114.88 186.83,-114.48 178.3,-108.19 176.24,-114.88\"/>\n",
       "</g>\n",
       "<!-- 2&#45;&gt;2 -->\n",
       "<g id=\"edge3\" class=\"edge\">\n",
       "<title>2-&gt;2</title>\n",
       "<path fill=\"none\" stroke=\"black\" d=\"M56.04,-73.68C54.82,-83.06 57.47,-91.53 64,-91.53 67.98,-91.53 70.52,-88.38 71.62,-83.81\"/>\n",
       "<polygon fill=\"black\" stroke=\"black\" points=\"75.12,-83.79 71.96,-73.68 68.13,-83.56 75.12,-83.79\"/>\n",
       "<text text-anchor=\"middle\" x=\"64\" y=\"-95.33\" font-family=\"Times,serif\" font-size=\"14.00\">[0,0], [1,1]</text>\n",
       "</g>\n",
       "<!-- 3 -->\n",
       "<g id=\"node4\" class=\"node\">\n",
       "<title>3</title>\n",
       "<path fill=\"none\" stroke=\"black\" d=\"M203,-63.53C203,-63.53 173,-63.53 173,-63.53 167,-63.53 161,-57.53 161,-51.53 161,-51.53 161,-39.53 161,-39.53 161,-33.53 167,-27.53 173,-27.53 173,-27.53 203,-27.53 203,-27.53 209,-27.53 215,-33.53 215,-39.53 215,-39.53 215,-51.53 215,-51.53 215,-57.53 209,-63.53 203,-63.53\"/>\n",
       "<text text-anchor=\"middle\" x=\"188\" y=\"-41.83\" font-family=\"Times,serif\" font-size=\"14.00\">$1</text>\n",
       "</g>\n",
       "<!-- 2&#45;&gt;3 -->\n",
       "<g id=\"edge4\" class=\"edge\">\n",
       "<title>2-&gt;3</title>\n",
       "<path fill=\"none\" stroke=\"black\" d=\"M91.05,-55.3C106.24,-54.97 125.74,-54.22 143,-52.53 145.49,-52.28 148.06,-51.99 150.64,-51.66\"/>\n",
       "<polygon fill=\"black\" stroke=\"black\" points=\"151.13,-55.12 160.54,-50.26 150.15,-48.19 151.13,-55.12\"/>\n",
       "<text text-anchor=\"middle\" x=\"126\" y=\"-58.33\" font-family=\"Times,serif\" font-size=\"14.00\">[2,0]</text>\n",
       "</g>\n",
       "<!-- 3&#45;&gt;2 -->\n",
       "<g id=\"edge5\" class=\"edge\">\n",
       "<title>3-&gt;2</title>\n",
       "<path fill=\"none\" stroke=\"black\" d=\"M160.8,-36.5C145.57,-32.5 126.07,-29.5 109,-33.53 106.19,-34.19 103.36,-35.06 100.56,-36.07\"/>\n",
       "<polygon fill=\"black\" stroke=\"black\" points=\"99.12,-32.88 91.24,-39.96 101.82,-39.34 99.12,-32.88\"/>\n",
       "<text text-anchor=\"middle\" x=\"126\" y=\"-37.33\" font-family=\"Times,serif\" font-size=\"14.00\">[0,1]</text>\n",
       "</g>\n",
       "<!-- 3&#45;&gt;3 -->\n",
       "<g id=\"edge6\" class=\"edge\">\n",
       "<title>3-&gt;3</title>\n",
       "<path fill=\"none\" stroke=\"black\" d=\"M176.78,-63.68C175.06,-73.06 178.8,-81.53 188,-81.53 193.61,-81.53 197.19,-78.38 198.74,-73.81\"/>\n",
       "<polygon fill=\"black\" stroke=\"black\" points=\"202.24,-73.83 199.22,-63.68 195.25,-73.5 202.24,-73.83\"/>\n",
       "<text text-anchor=\"middle\" x=\"188\" y=\"-85.33\" font-family=\"Times,serif\" font-size=\"14.00\">[1,0], [2,1]</text>\n",
       "</g>\n",
       "<!-- 4 -->\n",
       "<g id=\"node5\" class=\"node\">\n",
       "<title>4</title>\n",
       "<path fill=\"none\" stroke=\"black\" d=\"M334,-45.53C334,-45.53 304,-45.53 304,-45.53 298,-45.53 292,-39.53 292,-33.53 292,-33.53 292,-21.53 292,-21.53 292,-15.53 298,-9.53 304,-9.53 304,-9.53 334,-9.53 334,-9.53 340,-9.53 346,-15.53 346,-21.53 346,-21.53 346,-33.53 346,-33.53 346,-39.53 340,-45.53 334,-45.53\"/>\n",
       "<text text-anchor=\"middle\" x=\"319\" y=\"-23.83\" font-family=\"Times,serif\" font-size=\"14.00\">$2</text>\n",
       "</g>\n",
       "<!-- 3&#45;&gt;4 -->\n",
       "<g id=\"edge7\" class=\"edge\">\n",
       "<title>3-&gt;4</title>\n",
       "<path fill=\"none\" stroke=\"black\" d=\"M215.27,-47.09C232.18,-47.56 254.56,-47.19 274,-43.53 276.68,-43.02 279.41,-42.37 282.14,-41.63\"/>\n",
       "<polygon fill=\"black\" stroke=\"black\" points=\"283.36,-44.92 291.87,-38.6 281.28,-38.23 283.36,-44.92\"/>\n",
       "<text text-anchor=\"middle\" x=\"253.5\" y=\"-50.33\" font-family=\"Times,serif\" font-size=\"14.00\">[\\e,\\e]</text>\n",
       "</g>\n",
       "<!-- 4&#45;&gt;2 -->\n",
       "<g id=\"edge8\" class=\"edge\">\n",
       "<title>4-&gt;2</title>\n",
       "<path fill=\"none\" stroke=\"black\" d=\"M291.97,-17.72C260.68,-7.27 206.65,6.5 161,-3.53 138.46,-8.48 115.64,-20.48 97.91,-31.71\"/>\n",
       "<polygon fill=\"black\" stroke=\"black\" points=\"95.57,-29.06 89.13,-37.47 99.41,-34.91 95.57,-29.06\"/>\n",
       "<text text-anchor=\"middle\" x=\"188\" y=\"-7.33\" font-family=\"Times,serif\" font-size=\"14.00\">[0,\\e]</text>\n",
       "</g>\n",
       "<!-- 4&#45;&gt;3 -->\n",
       "<g id=\"edge9\" class=\"edge\">\n",
       "<title>4-&gt;3</title>\n",
       "<path fill=\"none\" stroke=\"black\" d=\"M291.63,-23.15C274.68,-21.18 252.3,-20.16 233,-24.53 230.21,-25.16 227.4,-25.99 224.61,-26.95\"/>\n",
       "<polygon fill=\"black\" stroke=\"black\" points=\"223.3,-23.71 215.3,-30.66 225.89,-30.21 223.3,-23.71\"/>\n",
       "<text text-anchor=\"middle\" x=\"253.5\" y=\"-28.33\" font-family=\"Times,serif\" font-size=\"14.00\">[\\e,\\e]</text>\n",
       "</g>\n",
       "<!-- 4&#45;&gt;4 -->\n",
       "<g id=\"edge10\" class=\"edge\">\n",
       "<title>4-&gt;4</title>\n",
       "<path fill=\"none\" stroke=\"black\" d=\"M307.42,-45.68C305.64,-55.06 309.5,-63.53 319,-63.53 324.79,-63.53 328.48,-60.38 330.08,-55.81\"/>\n",
       "<polygon fill=\"black\" stroke=\"black\" points=\"333.59,-55.84 330.58,-45.68 326.59,-55.5 333.59,-55.84\"/>\n",
       "<text text-anchor=\"middle\" x=\"319\" y=\"-67.33\" font-family=\"Times,serif\" font-size=\"14.00\">[\\e,1]</text>\n",
       "</g>\n",
       "</g>\n",
       "</svg>"
      ],
      "text/plain": [
       "<IPython.core.display.SVG object>"
      ]
     },
     "metadata": {},
     "output_type": "display_data"
    }
   ],
   "source": [
    "T.del_transition(tr_10)\n",
    "T.display()"
   ]
  },
  {
   "cell_type": "markdown",
   "metadata": {},
   "source": [
    "---\n",
    "Deleting a transition by triplet (origin, destination, label list)  "
   ]
  },
  {
   "cell_type": "code",
   "execution_count": 14,
   "metadata": {},
   "outputs": [
    {
     "data": {
      "image/svg+xml": [
       "<svg xmlns=\"http://www.w3.org/2000/svg\" xmlns:xlink=\"http://www.w3.org/1999/xlink\" width=\"354pt\" height=\"123pt\" viewBox=\"0.00 0.00 354.00 122.53\">\n",
       "<g id=\"graph0\" class=\"graph\" transform=\"scale(1 1) rotate(0) translate(4 118.53)\">\n",
       "<title>%3</title>\n",
       "<polygon fill=\"white\" stroke=\"transparent\" points=\"-4,4 -4,-118.53 350,-118.53 350,4 -4,4\"/>\n",
       "<!-- I2 -->\n",
       "<g id=\"node1\" class=\"node\">\n",
       "<title>I2</title>\n",
       "<ellipse fill=\"black\" stroke=\"black\" cx=\"0\" cy=\"-55.53\" rx=\"0\" ry=\"0\"/>\n",
       "</g>\n",
       "<!-- 2 -->\n",
       "<g id=\"node3\" class=\"node\">\n",
       "<title>2</title>\n",
       "<path fill=\"none\" stroke=\"black\" d=\"M79,-73.53C79,-73.53 49,-73.53 49,-73.53 43,-73.53 37,-67.53 37,-61.53 37,-61.53 37,-49.53 37,-49.53 37,-43.53 43,-37.53 49,-37.53 49,-37.53 79,-37.53 79,-37.53 85,-37.53 91,-43.53 91,-49.53 91,-49.53 91,-61.53 91,-61.53 91,-67.53 85,-73.53 79,-73.53\"/>\n",
       "<text text-anchor=\"middle\" x=\"64\" y=\"-51.83\" font-family=\"Times,serif\" font-size=\"14.00\">$0</text>\n",
       "</g>\n",
       "<!-- I2&#45;&gt;2 -->\n",
       "<g id=\"edge1\" class=\"edge\">\n",
       "<title>I2-&gt;2</title>\n",
       "<path fill=\"none\" stroke=\"DimGray\" d=\"M1.04,-55.53C1.86,-55.53 13.73,-55.53 26.87,-55.53\"/>\n",
       "<polygon fill=\"DimGray\" stroke=\"DimGray\" points=\"27,-59.03 37,-55.53 27,-52.03 27,-59.03\"/>\n",
       "</g>\n",
       "<!-- F2 -->\n",
       "<g id=\"node2\" class=\"node\">\n",
       "<title>F2</title>\n",
       "<ellipse fill=\"black\" stroke=\"black\" cx=\"188\" cy=\"-114.53\" rx=\"0\" ry=\"0\"/>\n",
       "</g>\n",
       "<!-- 2&#45;&gt;F2 -->\n",
       "<g id=\"edge2\" class=\"edge\">\n",
       "<title>2-&gt;F2</title>\n",
       "<path fill=\"none\" stroke=\"DimGray\" d=\"M91.39,-70.61C110.39,-81.14 136.84,-95.12 161,-105.53 166.26,-107.79 172.31,-109.91 177.24,-111.52\"/>\n",
       "<polygon fill=\"DimGray\" stroke=\"DimGray\" points=\"176.24,-114.88 186.83,-114.48 178.3,-108.19 176.24,-114.88\"/>\n",
       "</g>\n",
       "<!-- 2&#45;&gt;2 -->\n",
       "<g id=\"edge3\" class=\"edge\">\n",
       "<title>2-&gt;2</title>\n",
       "<path fill=\"none\" stroke=\"black\" d=\"M56.04,-73.68C54.82,-83.06 57.47,-91.53 64,-91.53 67.98,-91.53 70.52,-88.38 71.62,-83.81\"/>\n",
       "<polygon fill=\"black\" stroke=\"black\" points=\"75.12,-83.79 71.96,-73.68 68.13,-83.56 75.12,-83.79\"/>\n",
       "<text text-anchor=\"middle\" x=\"64\" y=\"-95.33\" font-family=\"Times,serif\" font-size=\"14.00\">[0,0], [1,1]</text>\n",
       "</g>\n",
       "<!-- 3 -->\n",
       "<g id=\"node4\" class=\"node\">\n",
       "<title>3</title>\n",
       "<path fill=\"none\" stroke=\"black\" d=\"M203,-63.53C203,-63.53 173,-63.53 173,-63.53 167,-63.53 161,-57.53 161,-51.53 161,-51.53 161,-39.53 161,-39.53 161,-33.53 167,-27.53 173,-27.53 173,-27.53 203,-27.53 203,-27.53 209,-27.53 215,-33.53 215,-39.53 215,-39.53 215,-51.53 215,-51.53 215,-57.53 209,-63.53 203,-63.53\"/>\n",
       "<text text-anchor=\"middle\" x=\"188\" y=\"-41.83\" font-family=\"Times,serif\" font-size=\"14.00\">$1</text>\n",
       "</g>\n",
       "<!-- 2&#45;&gt;3 -->\n",
       "<g id=\"edge4\" class=\"edge\">\n",
       "<title>2-&gt;3</title>\n",
       "<path fill=\"none\" stroke=\"black\" d=\"M91.05,-55.3C106.24,-54.97 125.74,-54.22 143,-52.53 145.49,-52.28 148.06,-51.99 150.64,-51.66\"/>\n",
       "<polygon fill=\"black\" stroke=\"black\" points=\"151.13,-55.12 160.54,-50.26 150.15,-48.19 151.13,-55.12\"/>\n",
       "<text text-anchor=\"middle\" x=\"126\" y=\"-58.33\" font-family=\"Times,serif\" font-size=\"14.00\">[2,0]</text>\n",
       "</g>\n",
       "<!-- 3&#45;&gt;2 -->\n",
       "<g id=\"edge5\" class=\"edge\">\n",
       "<title>3-&gt;2</title>\n",
       "<path fill=\"none\" stroke=\"black\" d=\"M160.8,-36.5C145.57,-32.5 126.07,-29.5 109,-33.53 106.19,-34.19 103.36,-35.06 100.56,-36.07\"/>\n",
       "<polygon fill=\"black\" stroke=\"black\" points=\"99.12,-32.88 91.24,-39.96 101.82,-39.34 99.12,-32.88\"/>\n",
       "<text text-anchor=\"middle\" x=\"126\" y=\"-37.33\" font-family=\"Times,serif\" font-size=\"14.00\">[0,1]</text>\n",
       "</g>\n",
       "<!-- 3&#45;&gt;3 -->\n",
       "<g id=\"edge6\" class=\"edge\">\n",
       "<title>3-&gt;3</title>\n",
       "<path fill=\"none\" stroke=\"black\" d=\"M176.78,-63.68C175.06,-73.06 178.8,-81.53 188,-81.53 193.61,-81.53 197.19,-78.38 198.74,-73.81\"/>\n",
       "<polygon fill=\"black\" stroke=\"black\" points=\"202.24,-73.83 199.22,-63.68 195.25,-73.5 202.24,-73.83\"/>\n",
       "<text text-anchor=\"middle\" x=\"188\" y=\"-85.33\" font-family=\"Times,serif\" font-size=\"14.00\">[1,0], [2,1]</text>\n",
       "</g>\n",
       "<!-- 4 -->\n",
       "<g id=\"node5\" class=\"node\">\n",
       "<title>4</title>\n",
       "<path fill=\"none\" stroke=\"black\" d=\"M334,-45.53C334,-45.53 304,-45.53 304,-45.53 298,-45.53 292,-39.53 292,-33.53 292,-33.53 292,-21.53 292,-21.53 292,-15.53 298,-9.53 304,-9.53 304,-9.53 334,-9.53 334,-9.53 340,-9.53 346,-15.53 346,-21.53 346,-21.53 346,-33.53 346,-33.53 346,-39.53 340,-45.53 334,-45.53\"/>\n",
       "<text text-anchor=\"middle\" x=\"319\" y=\"-23.83\" font-family=\"Times,serif\" font-size=\"14.00\">$2</text>\n",
       "</g>\n",
       "<!-- 3&#45;&gt;4 -->\n",
       "<g id=\"edge7\" class=\"edge\">\n",
       "<title>3-&gt;4</title>\n",
       "<path fill=\"none\" stroke=\"black\" d=\"M215.27,-47.09C232.18,-47.56 254.56,-47.19 274,-43.53 276.68,-43.02 279.41,-42.37 282.14,-41.63\"/>\n",
       "<polygon fill=\"black\" stroke=\"black\" points=\"283.36,-44.92 291.87,-38.6 281.28,-38.23 283.36,-44.92\"/>\n",
       "<text text-anchor=\"middle\" x=\"253.5\" y=\"-50.33\" font-family=\"Times,serif\" font-size=\"14.00\">[\\e,\\e]</text>\n",
       "</g>\n",
       "<!-- 4&#45;&gt;2 -->\n",
       "<g id=\"edge8\" class=\"edge\">\n",
       "<title>4-&gt;2</title>\n",
       "<path fill=\"none\" stroke=\"black\" d=\"M291.97,-17.72C260.68,-7.27 206.65,6.5 161,-3.53 138.46,-8.48 115.64,-20.48 97.91,-31.71\"/>\n",
       "<polygon fill=\"black\" stroke=\"black\" points=\"95.57,-29.06 89.13,-37.47 99.41,-34.91 95.57,-29.06\"/>\n",
       "<text text-anchor=\"middle\" x=\"188\" y=\"-7.33\" font-family=\"Times,serif\" font-size=\"14.00\">[0,\\e]</text>\n",
       "</g>\n",
       "<!-- 4&#45;&gt;3 -->\n",
       "<g id=\"edge9\" class=\"edge\">\n",
       "<title>4-&gt;3</title>\n",
       "<path fill=\"none\" stroke=\"black\" d=\"M291.63,-23.15C274.68,-21.18 252.3,-20.16 233,-24.53 230.21,-25.16 227.4,-25.99 224.61,-26.95\"/>\n",
       "<polygon fill=\"black\" stroke=\"black\" points=\"223.3,-23.71 215.3,-30.66 225.89,-30.21 223.3,-23.71\"/>\n",
       "<text text-anchor=\"middle\" x=\"253.5\" y=\"-28.33\" font-family=\"Times,serif\" font-size=\"14.00\">[\\e,\\e]</text>\n",
       "</g>\n",
       "</g>\n",
       "</svg>"
      ],
      "text/plain": [
       "<IPython.core.display.SVG object>"
      ]
     },
     "metadata": {},
     "output_type": "display_data"
    }
   ],
   "source": [
    "T.del_transition(stt_2,stt_2,[\"\",\"1\"])\n",
    "T.display()"
   ]
  },
  {
   "cell_type": "markdown",
   "metadata": {},
   "source": [
    "---\n",
    "Deleting all transitions from a state to another (order matters)."
   ]
  },
  {
   "cell_type": "code",
   "execution_count": 15,
   "metadata": {},
   "outputs": [
    {
     "data": {
      "image/svg+xml": [
       "<svg xmlns=\"http://www.w3.org/2000/svg\" xmlns:xlink=\"http://www.w3.org/1999/xlink\" width=\"354pt\" height=\"130pt\" viewBox=\"0.00 0.00 354.00 130.00\">\n",
       "<g id=\"graph0\" class=\"graph\" transform=\"scale(1 1) rotate(0) translate(4 126)\">\n",
       "<title>%3</title>\n",
       "<polygon fill=\"white\" stroke=\"transparent\" points=\"-4,4 -4,-126 350,-126 350,4 -4,4\"/>\n",
       "<!-- I2 -->\n",
       "<g id=\"node1\" class=\"node\">\n",
       "<title>I2</title>\n",
       "<ellipse fill=\"black\" stroke=\"black\" cx=\"0\" cy=\"-63\" rx=\"0\" ry=\"0\"/>\n",
       "</g>\n",
       "<!-- 2 -->\n",
       "<g id=\"node3\" class=\"node\">\n",
       "<title>2</title>\n",
       "<path fill=\"none\" stroke=\"black\" d=\"M79,-81C79,-81 49,-81 49,-81 43,-81 37,-75 37,-69 37,-69 37,-57 37,-57 37,-51 43,-45 49,-45 49,-45 79,-45 79,-45 85,-45 91,-51 91,-57 91,-57 91,-69 91,-69 91,-75 85,-81 79,-81\"/>\n",
       "<text text-anchor=\"middle\" x=\"64\" y=\"-59.3\" font-family=\"Times,serif\" font-size=\"14.00\">$0</text>\n",
       "</g>\n",
       "<!-- I2&#45;&gt;2 -->\n",
       "<g id=\"edge1\" class=\"edge\">\n",
       "<title>I2-&gt;2</title>\n",
       "<path fill=\"none\" stroke=\"DimGray\" d=\"M1.04,-63C1.86,-63 13.73,-63 26.87,-63\"/>\n",
       "<polygon fill=\"DimGray\" stroke=\"DimGray\" points=\"27,-66.5 37,-63 27,-59.5 27,-66.5\"/>\n",
       "</g>\n",
       "<!-- F2 -->\n",
       "<g id=\"node2\" class=\"node\">\n",
       "<title>F2</title>\n",
       "<ellipse fill=\"black\" stroke=\"black\" cx=\"188\" cy=\"-122\" rx=\"0\" ry=\"0\"/>\n",
       "</g>\n",
       "<!-- 2&#45;&gt;F2 -->\n",
       "<g id=\"edge2\" class=\"edge\">\n",
       "<title>2-&gt;F2</title>\n",
       "<path fill=\"none\" stroke=\"DimGray\" d=\"M91.39,-78.08C110.39,-88.61 136.84,-102.59 161,-113 166.26,-115.27 172.31,-117.39 177.24,-119\"/>\n",
       "<polygon fill=\"DimGray\" stroke=\"DimGray\" points=\"176.24,-122.35 186.83,-121.95 178.3,-115.66 176.24,-122.35\"/>\n",
       "</g>\n",
       "<!-- 2&#45;&gt;2 -->\n",
       "<g id=\"edge3\" class=\"edge\">\n",
       "<title>2-&gt;2</title>\n",
       "<path fill=\"none\" stroke=\"black\" d=\"M56.04,-81.15C54.82,-90.54 57.47,-99 64,-99 67.98,-99 70.52,-95.86 71.62,-91.28\"/>\n",
       "<polygon fill=\"black\" stroke=\"black\" points=\"75.12,-91.26 71.96,-81.15 68.13,-91.03 75.12,-91.26\"/>\n",
       "<text text-anchor=\"middle\" x=\"64\" y=\"-102.8\" font-family=\"Times,serif\" font-size=\"14.00\">[0,0], [1,1]</text>\n",
       "</g>\n",
       "<!-- 3 -->\n",
       "<g id=\"node4\" class=\"node\">\n",
       "<title>3</title>\n",
       "<path fill=\"none\" stroke=\"black\" d=\"M203,-71C203,-71 173,-71 173,-71 167,-71 161,-65 161,-59 161,-59 161,-47 161,-47 161,-41 167,-35 173,-35 173,-35 203,-35 203,-35 209,-35 215,-41 215,-47 215,-47 215,-59 215,-59 215,-65 209,-71 203,-71\"/>\n",
       "<text text-anchor=\"middle\" x=\"188\" y=\"-49.3\" font-family=\"Times,serif\" font-size=\"14.00\">$1</text>\n",
       "</g>\n",
       "<!-- 2&#45;&gt;3 -->\n",
       "<g id=\"edge4\" class=\"edge\">\n",
       "<title>2-&gt;3</title>\n",
       "<path fill=\"none\" stroke=\"black\" d=\"M91.05,-62.77C106.24,-62.45 125.74,-61.7 143,-60 145.49,-59.75 148.06,-59.46 150.64,-59.13\"/>\n",
       "<polygon fill=\"black\" stroke=\"black\" points=\"151.13,-62.6 160.54,-57.73 150.15,-55.67 151.13,-62.6\"/>\n",
       "<text text-anchor=\"middle\" x=\"126\" y=\"-65.8\" font-family=\"Times,serif\" font-size=\"14.00\">[2,0]</text>\n",
       "</g>\n",
       "<!-- 3&#45;&gt;2 -->\n",
       "<g id=\"edge5\" class=\"edge\">\n",
       "<title>3-&gt;2</title>\n",
       "<path fill=\"none\" stroke=\"black\" d=\"M160.8,-43.98C145.57,-39.97 126.07,-36.97 109,-41 106.19,-41.66 103.36,-42.53 100.56,-43.54\"/>\n",
       "<polygon fill=\"black\" stroke=\"black\" points=\"99.12,-40.35 91.24,-47.43 101.82,-46.81 99.12,-40.35\"/>\n",
       "<text text-anchor=\"middle\" x=\"126\" y=\"-44.8\" font-family=\"Times,serif\" font-size=\"14.00\">[0,1]</text>\n",
       "</g>\n",
       "<!-- 3&#45;&gt;3 -->\n",
       "<g id=\"edge6\" class=\"edge\">\n",
       "<title>3-&gt;3</title>\n",
       "<path fill=\"none\" stroke=\"black\" d=\"M176.78,-71.15C175.06,-80.54 178.8,-89 188,-89 193.61,-89 197.19,-85.86 198.74,-81.28\"/>\n",
       "<polygon fill=\"black\" stroke=\"black\" points=\"202.24,-81.31 199.22,-71.15 195.25,-80.98 202.24,-81.31\"/>\n",
       "<text text-anchor=\"middle\" x=\"188\" y=\"-92.8\" font-family=\"Times,serif\" font-size=\"14.00\">[1,0], [2,1]</text>\n",
       "</g>\n",
       "<!-- 4 -->\n",
       "<g id=\"node5\" class=\"node\">\n",
       "<title>4</title>\n",
       "<path fill=\"none\" stroke=\"black\" d=\"M334,-36C334,-36 304,-36 304,-36 298,-36 292,-30 292,-24 292,-24 292,-12 292,-12 292,-6 298,0 304,0 304,0 334,0 334,0 340,0 346,-6 346,-12 346,-12 346,-24 346,-24 346,-30 340,-36 334,-36\"/>\n",
       "<text text-anchor=\"middle\" x=\"319\" y=\"-14.3\" font-family=\"Times,serif\" font-size=\"14.00\">$2</text>\n",
       "</g>\n",
       "<!-- 3&#45;&gt;4 -->\n",
       "<g id=\"edge7\" class=\"edge\">\n",
       "<title>3-&gt;4</title>\n",
       "<path fill=\"none\" stroke=\"black\" d=\"M215.11,-45.92C234.43,-40.68 260.97,-33.47 282.26,-27.7\"/>\n",
       "<polygon fill=\"black\" stroke=\"black\" points=\"283.2,-31.07 291.93,-25.07 281.37,-24.31 283.2,-31.07\"/>\n",
       "<text text-anchor=\"middle\" x=\"253.5\" y=\"-43.8\" font-family=\"Times,serif\" font-size=\"14.00\">[\\e,\\e]</text>\n",
       "</g>\n",
       "<!-- 4&#45;&gt;2 -->\n",
       "<g id=\"edge8\" class=\"edge\">\n",
       "<title>4-&gt;2</title>\n",
       "<path fill=\"none\" stroke=\"black\" d=\"M291.81,-12.74C260.35,-7.36 206.17,-1.08 161,-11 138.46,-15.95 115.64,-27.96 97.91,-39.19\"/>\n",
       "<polygon fill=\"black\" stroke=\"black\" points=\"95.57,-36.54 89.13,-44.95 99.41,-42.39 95.57,-36.54\"/>\n",
       "<text text-anchor=\"middle\" x=\"188\" y=\"-14.8\" font-family=\"Times,serif\" font-size=\"14.00\">[0,\\e]</text>\n",
       "</g>\n",
       "</g>\n",
       "</svg>"
      ],
      "text/plain": [
       "<IPython.core.display.SVG object>"
      ]
     },
     "metadata": {},
     "output_type": "display_data"
    }
   ],
   "source": [
    "T.del_transition(stt_2,stt_1)\n",
    "T.display()"
   ]
  },
  {
   "cell_type": "markdown",
   "metadata": {},
   "source": [
    "---\n",
    "Deleting a state (and all outgoing and incomings transitions) "
   ]
  },
  {
   "cell_type": "code",
   "execution_count": 16,
   "metadata": {},
   "outputs": [
    {
     "data": {
      "image/svg+xml": [
       "<svg xmlns=\"http://www.w3.org/2000/svg\" xmlns:xlink=\"http://www.w3.org/1999/xlink\" width=\"234pt\" height=\"115pt\" viewBox=\"0.00 0.00 234.00 115.00\">\n",
       "<g id=\"graph0\" class=\"graph\" transform=\"scale(1 1) rotate(0) translate(4 111)\">\n",
       "<title>%3</title>\n",
       "<polygon fill=\"white\" stroke=\"transparent\" points=\"-4,4 -4,-111 230,-111 230,4 -4,4\"/>\n",
       "<!-- I2 -->\n",
       "<g id=\"node1\" class=\"node\">\n",
       "<title>I2</title>\n",
       "<ellipse fill=\"black\" stroke=\"black\" cx=\"0\" cy=\"-56\" rx=\"0\" ry=\"0\"/>\n",
       "</g>\n",
       "<!-- 2 -->\n",
       "<g id=\"node3\" class=\"node\">\n",
       "<title>2</title>\n",
       "<path fill=\"none\" stroke=\"black\" d=\"M79,-74C79,-74 49,-74 49,-74 43,-74 37,-68 37,-62 37,-62 37,-50 37,-50 37,-44 43,-38 49,-38 49,-38 79,-38 79,-38 85,-38 91,-44 91,-50 91,-50 91,-62 91,-62 91,-68 85,-74 79,-74\"/>\n",
       "<text text-anchor=\"middle\" x=\"64\" y=\"-52.3\" font-family=\"Times,serif\" font-size=\"14.00\">$0</text>\n",
       "</g>\n",
       "<!-- I2&#45;&gt;2 -->\n",
       "<g id=\"edge1\" class=\"edge\">\n",
       "<title>I2-&gt;2</title>\n",
       "<path fill=\"none\" stroke=\"DimGray\" d=\"M1.04,-56C1.86,-56 13.73,-56 26.87,-56\"/>\n",
       "<polygon fill=\"DimGray\" stroke=\"DimGray\" points=\"27,-59.5 37,-56 27,-52.5 27,-59.5\"/>\n",
       "</g>\n",
       "<!-- F2 -->\n",
       "<g id=\"node2\" class=\"node\">\n",
       "<title>F2</title>\n",
       "<ellipse fill=\"black\" stroke=\"black\" cx=\"188\" cy=\"-87\" rx=\"0\" ry=\"0\"/>\n",
       "</g>\n",
       "<!-- 2&#45;&gt;F2 -->\n",
       "<g id=\"edge2\" class=\"edge\">\n",
       "<title>2-&gt;F2</title>\n",
       "<path fill=\"none\" stroke=\"DimGray\" d=\"M91.25,-67.08C97.03,-69.26 103.16,-71.37 109,-73 132.87,-79.69 161.78,-83.9 176.81,-85.8\"/>\n",
       "<polygon fill=\"DimGray\" stroke=\"DimGray\" points=\"176.53,-89.29 186.87,-86.99 177.35,-82.34 176.53,-89.29\"/>\n",
       "</g>\n",
       "<!-- 2&#45;&gt;2 -->\n",
       "<g id=\"edge3\" class=\"edge\">\n",
       "<title>2-&gt;2</title>\n",
       "<path fill=\"none\" stroke=\"black\" d=\"M56.04,-74.15C54.82,-83.54 57.47,-92 64,-92 67.98,-92 70.52,-88.86 71.62,-84.28\"/>\n",
       "<polygon fill=\"black\" stroke=\"black\" points=\"75.12,-84.26 71.96,-74.15 68.13,-84.03 75.12,-84.26\"/>\n",
       "<text text-anchor=\"middle\" x=\"64\" y=\"-95.8\" font-family=\"Times,serif\" font-size=\"14.00\">[0,0], [1,1]</text>\n",
       "</g>\n",
       "<!-- 3 -->\n",
       "<g id=\"node4\" class=\"node\">\n",
       "<title>3</title>\n",
       "<path fill=\"none\" stroke=\"black\" d=\"M203,-36C203,-36 173,-36 173,-36 167,-36 161,-30 161,-24 161,-24 161,-12 161,-12 161,-6 167,0 173,0 173,0 203,0 203,0 209,0 215,-6 215,-12 215,-12 215,-24 215,-24 215,-30 209,-36 203,-36\"/>\n",
       "<text text-anchor=\"middle\" x=\"188\" y=\"-14.3\" font-family=\"Times,serif\" font-size=\"14.00\">$1</text>\n",
       "</g>\n",
       "<!-- 2&#45;&gt;3 -->\n",
       "<g id=\"edge4\" class=\"edge\">\n",
       "<title>2-&gt;3</title>\n",
       "<path fill=\"none\" stroke=\"black\" d=\"M91.14,-49.14C106.36,-45.03 125.86,-39.53 143,-34 145.59,-33.16 148.26,-32.27 150.94,-31.35\"/>\n",
       "<polygon fill=\"black\" stroke=\"black\" points=\"152.31,-34.58 160.58,-27.96 149.99,-27.98 152.31,-34.58\"/>\n",
       "<text text-anchor=\"middle\" x=\"126\" y=\"-46.8\" font-family=\"Times,serif\" font-size=\"14.00\">[2,0]</text>\n",
       "</g>\n",
       "<!-- 3&#45;&gt;2 -->\n",
       "<g id=\"edge5\" class=\"edge\">\n",
       "<title>3-&gt;2</title>\n",
       "<path fill=\"none\" stroke=\"black\" d=\"M160.83,-11.84C145.25,-9.42 125.39,-8.55 109,-15 100.48,-18.35 92.64,-24.22 86,-30.49\"/>\n",
       "<polygon fill=\"black\" stroke=\"black\" points=\"83.26,-28.28 78.8,-37.9 88.28,-33.16 83.26,-28.28\"/>\n",
       "<text text-anchor=\"middle\" x=\"126\" y=\"-18.8\" font-family=\"Times,serif\" font-size=\"14.00\">[0,1]</text>\n",
       "</g>\n",
       "<!-- 3&#45;&gt;3 -->\n",
       "<g id=\"edge6\" class=\"edge\">\n",
       "<title>3-&gt;3</title>\n",
       "<path fill=\"none\" stroke=\"black\" d=\"M176.78,-36.15C175.06,-45.54 178.8,-54 188,-54 193.61,-54 197.19,-50.86 198.74,-46.28\"/>\n",
       "<polygon fill=\"black\" stroke=\"black\" points=\"202.24,-46.31 199.22,-36.15 195.25,-45.98 202.24,-46.31\"/>\n",
       "<text text-anchor=\"middle\" x=\"188\" y=\"-57.8\" font-family=\"Times,serif\" font-size=\"14.00\">[1,0], [2,1]</text>\n",
       "</g>\n",
       "</g>\n",
       "</svg>"
      ],
      "text/plain": [
       "<IPython.core.display.SVG object>"
      ]
     },
     "metadata": {},
     "output_type": "display_data"
    }
   ],
   "source": [
    "T.del_state(stt_2)\n",
    "T.display()"
   ]
  },
  {
   "cell_type": "markdown",
   "metadata": {},
   "source": [
    "## Loading & saving automata"
   ]
  },
  {
   "cell_type": "markdown",
   "metadata": {},
   "source": [
    "Saving an automaton to file.  The format used is JavaScript Object Notation (JSON) hence the extension \".json\" ."
   ]
  },
  {
   "cell_type": "code",
   "execution_count": 17,
   "metadata": {},
   "outputs": [],
   "source": [
    "T.save(\"fibo_LR_additioner.json\")"
   ]
  },
  {
   "cell_type": "code",
   "execution_count": 18,
   "metadata": {},
   "outputs": [
    {
     "name": "stdout",
     "output_type": "stream",
     "text": [
      "fibo.json  fibo_LR_additioner.json\r\n"
     ]
    }
   ],
   "source": [
    "ls *json"
   ]
  },
  {
   "cell_type": "markdown",
   "metadata": {},
   "source": [
    "---\n",
    "Loading an automaton."
   ]
  },
  {
   "cell_type": "code",
   "execution_count": 19,
   "metadata": {},
   "outputs": [
    {
     "data": {
      "image/svg+xml": [
       "<svg xmlns=\"http://www.w3.org/2000/svg\" xmlns:xlink=\"http://www.w3.org/1999/xlink\" width=\"234pt\" height=\"115pt\" viewBox=\"0.00 0.00 234.00 115.00\">\n",
       "<g id=\"graph0\" class=\"graph\" transform=\"scale(1 1) rotate(0) translate(4 111)\">\n",
       "<title>%3</title>\n",
       "<polygon fill=\"white\" stroke=\"transparent\" points=\"-4,4 -4,-111 230,-111 230,4 -4,4\"/>\n",
       "<!-- I2 -->\n",
       "<g id=\"node1\" class=\"node\">\n",
       "<title>I2</title>\n",
       "<ellipse fill=\"black\" stroke=\"black\" cx=\"0\" cy=\"-56\" rx=\"0\" ry=\"0\"/>\n",
       "</g>\n",
       "<!-- 2 -->\n",
       "<g id=\"node3\" class=\"node\">\n",
       "<title>2</title>\n",
       "<path fill=\"none\" stroke=\"black\" d=\"M79,-74C79,-74 49,-74 49,-74 43,-74 37,-68 37,-62 37,-62 37,-50 37,-50 37,-44 43,-38 49,-38 49,-38 79,-38 79,-38 85,-38 91,-44 91,-50 91,-50 91,-62 91,-62 91,-68 85,-74 79,-74\"/>\n",
       "<text text-anchor=\"middle\" x=\"64\" y=\"-52.3\" font-family=\"Times,serif\" font-size=\"14.00\">$0</text>\n",
       "</g>\n",
       "<!-- I2&#45;&gt;2 -->\n",
       "<g id=\"edge1\" class=\"edge\">\n",
       "<title>I2-&gt;2</title>\n",
       "<path fill=\"none\" stroke=\"DimGray\" d=\"M1.04,-56C1.86,-56 13.73,-56 26.87,-56\"/>\n",
       "<polygon fill=\"DimGray\" stroke=\"DimGray\" points=\"27,-59.5 37,-56 27,-52.5 27,-59.5\"/>\n",
       "</g>\n",
       "<!-- F2 -->\n",
       "<g id=\"node2\" class=\"node\">\n",
       "<title>F2</title>\n",
       "<ellipse fill=\"black\" stroke=\"black\" cx=\"188\" cy=\"-87\" rx=\"0\" ry=\"0\"/>\n",
       "</g>\n",
       "<!-- 2&#45;&gt;F2 -->\n",
       "<g id=\"edge2\" class=\"edge\">\n",
       "<title>2-&gt;F2</title>\n",
       "<path fill=\"none\" stroke=\"DimGray\" d=\"M91.25,-67.08C97.03,-69.26 103.16,-71.37 109,-73 132.87,-79.69 161.78,-83.9 176.81,-85.8\"/>\n",
       "<polygon fill=\"DimGray\" stroke=\"DimGray\" points=\"176.53,-89.29 186.87,-86.99 177.35,-82.34 176.53,-89.29\"/>\n",
       "</g>\n",
       "<!-- 2&#45;&gt;2 -->\n",
       "<g id=\"edge3\" class=\"edge\">\n",
       "<title>2-&gt;2</title>\n",
       "<path fill=\"none\" stroke=\"black\" d=\"M56.04,-74.15C54.82,-83.54 57.47,-92 64,-92 67.98,-92 70.52,-88.86 71.62,-84.28\"/>\n",
       "<polygon fill=\"black\" stroke=\"black\" points=\"75.12,-84.26 71.96,-74.15 68.13,-84.03 75.12,-84.26\"/>\n",
       "<text text-anchor=\"middle\" x=\"64\" y=\"-95.8\" font-family=\"Times,serif\" font-size=\"14.00\">[0,0], [1,1]</text>\n",
       "</g>\n",
       "<!-- 3 -->\n",
       "<g id=\"node4\" class=\"node\">\n",
       "<title>3</title>\n",
       "<path fill=\"none\" stroke=\"black\" d=\"M203,-36C203,-36 173,-36 173,-36 167,-36 161,-30 161,-24 161,-24 161,-12 161,-12 161,-6 167,0 173,0 173,0 203,0 203,0 209,0 215,-6 215,-12 215,-12 215,-24 215,-24 215,-30 209,-36 203,-36\"/>\n",
       "<text text-anchor=\"middle\" x=\"188\" y=\"-14.3\" font-family=\"Times,serif\" font-size=\"14.00\">$1</text>\n",
       "</g>\n",
       "<!-- 2&#45;&gt;3 -->\n",
       "<g id=\"edge4\" class=\"edge\">\n",
       "<title>2-&gt;3</title>\n",
       "<path fill=\"none\" stroke=\"black\" d=\"M91.14,-49.14C106.36,-45.03 125.86,-39.53 143,-34 145.59,-33.16 148.26,-32.27 150.94,-31.35\"/>\n",
       "<polygon fill=\"black\" stroke=\"black\" points=\"152.31,-34.58 160.58,-27.96 149.99,-27.98 152.31,-34.58\"/>\n",
       "<text text-anchor=\"middle\" x=\"126\" y=\"-46.8\" font-family=\"Times,serif\" font-size=\"14.00\">[2,0]</text>\n",
       "</g>\n",
       "<!-- 3&#45;&gt;2 -->\n",
       "<g id=\"edge5\" class=\"edge\">\n",
       "<title>3-&gt;2</title>\n",
       "<path fill=\"none\" stroke=\"black\" d=\"M160.83,-11.84C145.25,-9.42 125.39,-8.55 109,-15 100.48,-18.35 92.64,-24.22 86,-30.49\"/>\n",
       "<polygon fill=\"black\" stroke=\"black\" points=\"83.26,-28.28 78.8,-37.9 88.28,-33.16 83.26,-28.28\"/>\n",
       "<text text-anchor=\"middle\" x=\"126\" y=\"-18.8\" font-family=\"Times,serif\" font-size=\"14.00\">[0,1]</text>\n",
       "</g>\n",
       "<!-- 3&#45;&gt;3 -->\n",
       "<g id=\"edge6\" class=\"edge\">\n",
       "<title>3-&gt;3</title>\n",
       "<path fill=\"none\" stroke=\"black\" d=\"M176.78,-36.15C175.06,-45.54 178.8,-54 188,-54 193.61,-54 197.19,-50.86 198.74,-46.28\"/>\n",
       "<polygon fill=\"black\" stroke=\"black\" points=\"202.24,-46.31 199.22,-36.15 195.25,-45.98 202.24,-46.31\"/>\n",
       "<text text-anchor=\"middle\" x=\"188\" y=\"-57.8\" font-family=\"Times,serif\" font-size=\"14.00\">[1,0], [2,1]</text>\n",
       "</g>\n",
       "</g>\n",
       "</svg>"
      ],
      "text/plain": [
       "<IPython.core.display.SVG object>"
      ]
     },
     "metadata": {},
     "output_type": "display_data"
    }
   ],
   "source": [
    "B = awalipy.load(\"fibo_LR_additioner.json\")\n",
    "B.display()"
   ]
  },
  {
   "cell_type": "markdown",
   "metadata": {},
   "source": [
    "---\n",
    "Listing the example automata given with the library.  Some of them are  transducers"
   ]
  },
  {
   "cell_type": "code",
   "execution_count": 20,
   "metadata": {},
   "outputs": [
    {
     "data": {
      "text/plain": [
       "{'a1': \"NFA that accepts words with at least one factor 'ab'\",\n",
       " 'astar-bstar': \"NFA with epsilon transition which recognizes words in 'a*b*'\",\n",
       " 'b1': \"Z-FA that counts the number of 'b' in words of {a,b}*\",\n",
       " 'binary': 'Z-FA that converts words of {0,1}^* into their binary values',\n",
       " 'binary-int': 'Z-FA whose labels are integers and that converts words of {0,1}^* into their binary values',\n",
       " 'c1': 'Z-FA that converts words of {a,b}^* into their binary values',\n",
       " 'd1': \"Z-FA computes the difference between the numbers of 'a' and 'b'\",\n",
       " 'e1': 'Q-FA that converts words of {a,b}^* into their binary values after the radix point',\n",
       " 'evena': \"DFA which recognizes words with an even number of 'a'\",\n",
       " 'fibotdc-lr': \"Sequential transducer which tries to replace 'abb' by 'baa'\",\n",
       " 'flipper': 'Transducer that mimics a flipper game',\n",
       " 'gray': 'Gray code increment',\n",
       " 'heapmodel': 'Z-max-plus automaton, heap model with 2 pieces',\n",
       " 'lamplighter': 'Group automaton which realizes the Lamplighter group',\n",
       " 'minab': \"Z-min-plus-automaton which computes the minimum among the numbers of 'a' and 'b' in every word\",\n",
       " 'minblocka': \"Z-min-plus-automaton which computes the length of the shortest block of 'a' in every word\",\n",
       " 'oddb': \"DFA which recognizes words with an odd number of 'b'\",\n",
       " 'prob-rabin': 'R-automaton (probabilistic automaton) that accepts w with prob. expansion(w)',\n",
       " 'rotation': 'C-automaton realizing a rotation',\n",
       " 'slowcerny': 'Synchronisable NFA which meets Cerny bound',\n",
       " 'slowgrow': 'Z-min-plus-automaton with a slow growing length function',\n",
       " 'url-validator': 'Automaton with epsilon transition that validates url'}"
      ]
     },
     "execution_count": 20,
     "metadata": {},
     "output_type": "execute_result"
    }
   ],
   "source": [
    "awalipy.list_examples()[\"automata\"]"
   ]
  },
  {
   "cell_type": "markdown",
   "metadata": {},
   "source": [
    "---\n",
    "Loading an example automaton (given with the library): just use the name of the automaton given above, without extension."
   ]
  },
  {
   "cell_type": "code",
   "execution_count": 21,
   "metadata": {},
   "outputs": [
    {
     "data": {
      "image/svg+xml": [
       "<svg xmlns=\"http://www.w3.org/2000/svg\" xmlns:xlink=\"http://www.w3.org/1999/xlink\" width=\"474pt\" height=\"192pt\" viewBox=\"0.00 0.00 474.00 192.00\">\n",
       "<g id=\"graph0\" class=\"graph\" transform=\"scale(1 1) rotate(0) translate(4 188)\">\n",
       "<title>%3</title>\n",
       "<polygon fill=\"white\" stroke=\"transparent\" points=\"-4,4 -4,-188 470,-188 470,4 -4,4\"/>\n",
       "<!-- I2 -->\n",
       "<g id=\"node1\" class=\"node\">\n",
       "<title>I2</title>\n",
       "<ellipse fill=\"black\" stroke=\"black\" cx=\"0\" cy=\"-92\" rx=\"0\" ry=\"0\"/>\n",
       "</g>\n",
       "<!-- 2 -->\n",
       "<g id=\"node5\" class=\"node\">\n",
       "<title>2</title>\n",
       "<path fill=\"none\" stroke=\"black\" d=\"M79,-110C79,-110 49,-110 49,-110 43,-110 37,-104 37,-98 37,-98 37,-86 37,-86 37,-80 43,-74 49,-74 49,-74 79,-74 79,-74 85,-74 91,-80 91,-86 91,-86 91,-98 91,-98 91,-104 85,-110 79,-110\"/>\n",
       "<text text-anchor=\"middle\" x=\"64\" y=\"-88.3\" font-family=\"Times,serif\" font-size=\"14.00\">i</text>\n",
       "</g>\n",
       "<!-- I2&#45;&gt;2 -->\n",
       "<g id=\"edge1\" class=\"edge\">\n",
       "<title>I2-&gt;2</title>\n",
       "<path fill=\"none\" stroke=\"DimGray\" d=\"M1.04,-92C1.86,-92 13.73,-92 26.87,-92\"/>\n",
       "<polygon fill=\"DimGray\" stroke=\"DimGray\" points=\"27,-95.5 37,-92 27,-88.5 27,-95.5\"/>\n",
       "</g>\n",
       "<!-- I3 -->\n",
       "<g id=\"node2\" class=\"node\">\n",
       "<title>I3</title>\n",
       "<ellipse fill=\"black\" stroke=\"black\" cx=\"64\" cy=\"-56\" rx=\"0\" ry=\"0\"/>\n",
       "</g>\n",
       "<!-- 3 -->\n",
       "<g id=\"node6\" class=\"node\">\n",
       "<title>3</title>\n",
       "<path fill=\"none\" stroke=\"black\" d=\"M203,-90C203,-90 173,-90 173,-90 167,-90 161,-84 161,-78 161,-78 161,-66 161,-66 161,-60 167,-54 173,-54 173,-54 203,-54 203,-54 209,-54 215,-60 215,-66 215,-66 215,-78 215,-78 215,-84 209,-90 203,-90\"/>\n",
       "<text text-anchor=\"middle\" x=\"188\" y=\"-68.3\" font-family=\"Times,serif\" font-size=\"14.00\">p</text>\n",
       "</g>\n",
       "<!-- I3&#45;&gt;3 -->\n",
       "<g id=\"edge2\" class=\"edge\">\n",
       "<title>I3-&gt;3</title>\n",
       "<path fill=\"none\" stroke=\"DimGray\" d=\"M65.09,-56.01C67.43,-56.32 115.9,-62.68 151.01,-67.28\"/>\n",
       "<polygon fill=\"DimGray\" stroke=\"DimGray\" points=\"150.58,-70.75 160.95,-68.58 151.49,-63.81 150.58,-70.75\"/>\n",
       "</g>\n",
       "<!-- F4 -->\n",
       "<g id=\"node3\" class=\"node\">\n",
       "<title>F4</title>\n",
       "<ellipse fill=\"black\" stroke=\"black\" cx=\"439\" cy=\"-173\" rx=\"0\" ry=\"0\"/>\n",
       "</g>\n",
       "<!-- F6 -->\n",
       "<g id=\"node4\" class=\"node\">\n",
       "<title>F6</title>\n",
       "<ellipse fill=\"black\" stroke=\"black\" cx=\"439\" cy=\"-18\" rx=\"0\" ry=\"0\"/>\n",
       "</g>\n",
       "<!-- 2&#45;&gt;2 -->\n",
       "<g id=\"edge3\" class=\"edge\">\n",
       "<title>2-&gt;2</title>\n",
       "<path fill=\"none\" stroke=\"black\" d=\"M56.04,-110.15C54.82,-119.54 57.47,-128 64,-128 67.98,-128 70.52,-124.86 71.62,-120.28\"/>\n",
       "<polygon fill=\"black\" stroke=\"black\" points=\"75.12,-120.26 71.96,-110.15 68.13,-120.03 75.12,-120.26\"/>\n",
       "<text text-anchor=\"middle\" x=\"64\" y=\"-131.8\" font-family=\"Times,serif\" font-size=\"14.00\">[0,0]</text>\n",
       "</g>\n",
       "<!-- 2&#45;&gt;3 -->\n",
       "<g id=\"edge4\" class=\"edge\">\n",
       "<title>2-&gt;3</title>\n",
       "<path fill=\"none\" stroke=\"black\" d=\"M91.17,-87.71C108.62,-84.85 131.79,-81.05 150.97,-77.91\"/>\n",
       "<polygon fill=\"black\" stroke=\"black\" points=\"151.57,-81.36 160.87,-76.28 150.44,-74.45 151.57,-81.36\"/>\n",
       "<text text-anchor=\"middle\" x=\"126\" y=\"-88.8\" font-family=\"Times,serif\" font-size=\"14.00\">[1,1]</text>\n",
       "</g>\n",
       "<!-- 4 -->\n",
       "<g id=\"node7\" class=\"node\">\n",
       "<title>4</title>\n",
       "<path fill=\"none\" stroke=\"black\" d=\"M330,-151C330,-151 300,-151 300,-151 294,-151 288,-145 288,-139 288,-139 288,-127 288,-127 288,-121 294,-115 300,-115 300,-115 330,-115 330,-115 336,-115 342,-121 342,-127 342,-127 342,-139 342,-139 342,-145 336,-151 330,-151\"/>\n",
       "<text text-anchor=\"middle\" x=\"315\" y=\"-129.3\" font-family=\"Times,serif\" font-size=\"14.00\">q</text>\n",
       "</g>\n",
       "<!-- 3&#45;&gt;4 -->\n",
       "<g id=\"edge5\" class=\"edge\">\n",
       "<title>3-&gt;4</title>\n",
       "<path fill=\"none\" stroke=\"black\" d=\"M215.2,-84.79C233.62,-93.78 258.47,-105.9 278.64,-115.75\"/>\n",
       "<polygon fill=\"black\" stroke=\"black\" points=\"277.31,-118.99 287.83,-120.23 280.38,-112.7 277.31,-118.99\"/>\n",
       "<text text-anchor=\"middle\" x=\"251.5\" y=\"-114.8\" font-family=\"Times,serif\" font-size=\"14.00\">[0,1]</text>\n",
       "</g>\n",
       "<!-- 5 -->\n",
       "<g id=\"node8\" class=\"node\">\n",
       "<title>5</title>\n",
       "<path fill=\"none\" stroke=\"black\" d=\"M454,-122C454,-122 424,-122 424,-122 418,-122 412,-116 412,-110 412,-110 412,-98 412,-98 412,-92 418,-86 424,-86 424,-86 454,-86 454,-86 460,-86 466,-92 466,-98 466,-98 466,-110 466,-110 466,-116 460,-122 454,-122\"/>\n",
       "<text text-anchor=\"middle\" x=\"439\" y=\"-100.3\" font-family=\"Times,serif\" font-size=\"14.00\">r</text>\n",
       "</g>\n",
       "<!-- 3&#45;&gt;5 -->\n",
       "<g id=\"edge6\" class=\"edge\">\n",
       "<title>3-&gt;5</title>\n",
       "<path fill=\"none\" stroke=\"black\" d=\"M215.05,-73.47C254.15,-75.95 330.22,-81.82 394,-93 396.51,-93.44 399.09,-93.94 401.68,-94.49\"/>\n",
       "<polygon fill=\"black\" stroke=\"black\" points=\"401.08,-97.94 411.61,-96.75 402.63,-91.12 401.08,-97.94\"/>\n",
       "<text text-anchor=\"middle\" x=\"315\" y=\"-89.8\" font-family=\"Times,serif\" font-size=\"14.00\">[1,0]</text>\n",
       "</g>\n",
       "<!-- 6 -->\n",
       "<g id=\"node9\" class=\"node\">\n",
       "<title>6</title>\n",
       "<path fill=\"none\" stroke=\"black\" d=\"M330,-36C330,-36 300,-36 300,-36 294,-36 288,-30 288,-24 288,-24 288,-12 288,-12 288,-6 294,0 300,0 300,0 330,0 330,0 336,0 342,-6 342,-12 342,-12 342,-24 342,-24 342,-30 336,-36 330,-36\"/>\n",
       "<text text-anchor=\"middle\" x=\"315\" y=\"-14.3\" font-family=\"Times,serif\" font-size=\"14.00\">t</text>\n",
       "</g>\n",
       "<!-- 3&#45;&gt;6 -->\n",
       "<g id=\"edge7\" class=\"edge\">\n",
       "<title>3-&gt;6</title>\n",
       "<path fill=\"none\" stroke=\"black\" d=\"M213.88,-53.85C219.94,-49.93 226.55,-46.05 233,-43 247.14,-36.33 263.49,-30.89 277.78,-26.81\"/>\n",
       "<polygon fill=\"black\" stroke=\"black\" points=\"279.04,-30.09 287.76,-24.08 277.19,-23.34 279.04,-30.09\"/>\n",
       "<text text-anchor=\"middle\" x=\"251.5\" y=\"-46.8\" font-family=\"Times,serif\" font-size=\"14.00\">[\\e,1]</text>\n",
       "</g>\n",
       "<!-- 4&#45;&gt;F4 -->\n",
       "<g id=\"edge8\" class=\"edge\">\n",
       "<title>4-&gt;F4</title>\n",
       "<path fill=\"none\" stroke=\"DimGray\" d=\"M342.17,-141.58C369.19,-150.44 409.91,-163.79 428.34,-169.83\"/>\n",
       "<polygon fill=\"DimGray\" stroke=\"DimGray\" points=\"427.36,-173.2 437.96,-172.99 429.54,-166.54 427.36,-173.2\"/>\n",
       "</g>\n",
       "<!-- 4&#45;&gt;4 -->\n",
       "<g id=\"edge9\" class=\"edge\">\n",
       "<title>4-&gt;4</title>\n",
       "<path fill=\"none\" stroke=\"black\" d=\"M303.78,-151.15C302.06,-160.54 305.8,-169 315,-169 320.61,-169 324.19,-165.86 325.74,-161.28\"/>\n",
       "<polygon fill=\"black\" stroke=\"black\" points=\"329.24,-161.31 326.22,-151.15 322.25,-160.98 329.24,-161.31\"/>\n",
       "<text text-anchor=\"middle\" x=\"315\" y=\"-172.8\" font-family=\"Times,serif\" font-size=\"14.00\">[0,0]</text>\n",
       "</g>\n",
       "<!-- 4&#45;&gt;5 -->\n",
       "<g id=\"edge10\" class=\"edge\">\n",
       "<title>4-&gt;5</title>\n",
       "<path fill=\"none\" stroke=\"black\" d=\"M342.29,-130.39C357.56,-128.52 377.06,-125.52 394,-121 396.65,-120.29 399.37,-119.48 402.08,-118.6\"/>\n",
       "<polygon fill=\"black\" stroke=\"black\" points=\"403.51,-121.81 411.78,-115.19 401.19,-115.2 403.51,-121.81\"/>\n",
       "<text text-anchor=\"middle\" x=\"377\" y=\"-130.8\" font-family=\"Times,serif\" font-size=\"14.00\">[1,1]</text>\n",
       "</g>\n",
       "<!-- 5&#45;&gt;4 -->\n",
       "<g id=\"edge11\" class=\"edge\">\n",
       "<title>5-&gt;4</title>\n",
       "<path fill=\"none\" stroke=\"black\" d=\"M411.76,-99.11C396.33,-97.27 376.66,-96.72 360,-102 354.66,-103.69 349.4,-106.3 344.48,-109.29\"/>\n",
       "<polygon fill=\"black\" stroke=\"black\" points=\"342.38,-106.48 336.06,-114.98 346.3,-112.28 342.38,-106.48\"/>\n",
       "<text text-anchor=\"middle\" x=\"377\" y=\"-105.8\" font-family=\"Times,serif\" font-size=\"14.00\">[1,1]</text>\n",
       "</g>\n",
       "<!-- 5&#45;&gt;5 -->\n",
       "<g id=\"edge12\" class=\"edge\">\n",
       "<title>5-&gt;5</title>\n",
       "<path fill=\"none\" stroke=\"black\" d=\"M427.78,-122.15C426.06,-131.54 429.8,-140 439,-140 444.61,-140 448.19,-136.86 449.74,-132.28\"/>\n",
       "<polygon fill=\"black\" stroke=\"black\" points=\"453.24,-132.31 450.22,-122.15 446.25,-131.98 453.24,-132.31\"/>\n",
       "<text text-anchor=\"middle\" x=\"439\" y=\"-143.8\" font-family=\"Times,serif\" font-size=\"14.00\">[0,0]</text>\n",
       "</g>\n",
       "<!-- 6&#45;&gt;F6 -->\n",
       "<g id=\"edge13\" class=\"edge\">\n",
       "<title>6-&gt;F6</title>\n",
       "<path fill=\"none\" stroke=\"DimGray\" d=\"M342.17,-18C368.91,-18 409.08,-18 427.77,-18\"/>\n",
       "<polygon fill=\"DimGray\" stroke=\"DimGray\" points=\"427.96,-21.5 437.96,-18 427.96,-14.5 427.96,-21.5\"/>\n",
       "</g>\n",
       "</g>\n",
       "</svg>"
      ],
      "text/plain": [
       "<IPython.core.display.SVG object>"
      ]
     },
     "metadata": {},
     "output_type": "display_data"
    }
   ],
   "source": [
    "L = awalipy.load(\"gray\")\n",
    "L.display()"
   ]
  },
  {
   "cell_type": "code",
   "execution_count": 22,
   "metadata": {},
   "outputs": [
    {
     "name": "stdout",
     "output_type": "stream",
     "text": [
      "0 is represented as 0\n",
      "1 is represented as 1\n",
      "2 is represented as 11\n",
      "3 is represented as 01\n",
      "4 is represented as 011\n",
      "5 is represented as 111\n",
      "6 is represented as 101\n",
      "7 is represented as 001\n",
      "8 is represented as 0011\n",
      "9 is represented as 1011\n",
      "10 is represented as 1111\n",
      "11 is represented as 0111\n",
      "12 is represented as 0101\n",
      "13 is represented as 1101\n",
      "14 is represented as 1001\n",
      "15 is represented as 0001\n",
      "16 is represented as 00011\n",
      "17 is represented as 10011\n",
      "18 is represented as 11011\n",
      "19 is represented as 01011\n"
     ]
    }
   ],
   "source": [
    "s = awalipy.RatExp(\"0\")\n",
    "for i in range(20):\n",
    "    print (str(i) + \" is represented as \" + str(s))\n",
    "    s = L(s)"
   ]
  },
  {
   "cell_type": "markdown",
   "metadata": {},
   "source": [
    "## Access and browsing\n",
    "Accessing and browsing is essentially the same for transducers and automata. "
   ]
  },
  {
   "cell_type": "code",
   "execution_count": 23,
   "metadata": {},
   "outputs": [
    {
     "data": {
      "image/svg+xml": [
       "<svg xmlns=\"http://www.w3.org/2000/svg\" xmlns:xlink=\"http://www.w3.org/1999/xlink\" width=\"234pt\" height=\"115pt\" viewBox=\"0.00 0.00 234.00 115.00\">\n",
       "<g id=\"graph0\" class=\"graph\" transform=\"scale(1 1) rotate(0) translate(4 111)\">\n",
       "<title>%3</title>\n",
       "<polygon fill=\"white\" stroke=\"transparent\" points=\"-4,4 -4,-111 230,-111 230,4 -4,4\"/>\n",
       "<!-- I2 -->\n",
       "<g id=\"node1\" class=\"node\">\n",
       "<title>I2</title>\n",
       "<ellipse fill=\"black\" stroke=\"black\" cx=\"0\" cy=\"-56\" rx=\"0\" ry=\"0\"/>\n",
       "</g>\n",
       "<!-- 2 -->\n",
       "<g id=\"node3\" class=\"node\">\n",
       "<title>2</title>\n",
       "<path fill=\"none\" stroke=\"black\" d=\"M79,-74C79,-74 49,-74 49,-74 43,-74 37,-68 37,-62 37,-62 37,-50 37,-50 37,-44 43,-38 49,-38 49,-38 79,-38 79,-38 85,-38 91,-44 91,-50 91,-50 91,-62 91,-62 91,-68 85,-74 79,-74\"/>\n",
       "<text text-anchor=\"middle\" x=\"64\" y=\"-52.3\" font-family=\"Times,serif\" font-size=\"14.00\">$0</text>\n",
       "</g>\n",
       "<!-- I2&#45;&gt;2 -->\n",
       "<g id=\"edge1\" class=\"edge\">\n",
       "<title>I2-&gt;2</title>\n",
       "<path fill=\"none\" stroke=\"DimGray\" d=\"M1.04,-56C1.86,-56 13.73,-56 26.87,-56\"/>\n",
       "<polygon fill=\"DimGray\" stroke=\"DimGray\" points=\"27,-59.5 37,-56 27,-52.5 27,-59.5\"/>\n",
       "</g>\n",
       "<!-- F2 -->\n",
       "<g id=\"node2\" class=\"node\">\n",
       "<title>F2</title>\n",
       "<ellipse fill=\"black\" stroke=\"black\" cx=\"188\" cy=\"-87\" rx=\"0\" ry=\"0\"/>\n",
       "</g>\n",
       "<!-- 2&#45;&gt;F2 -->\n",
       "<g id=\"edge2\" class=\"edge\">\n",
       "<title>2-&gt;F2</title>\n",
       "<path fill=\"none\" stroke=\"DimGray\" d=\"M91.25,-67.08C97.03,-69.26 103.16,-71.37 109,-73 132.87,-79.69 161.78,-83.9 176.81,-85.8\"/>\n",
       "<polygon fill=\"DimGray\" stroke=\"DimGray\" points=\"176.53,-89.29 186.87,-86.99 177.35,-82.34 176.53,-89.29\"/>\n",
       "</g>\n",
       "<!-- 2&#45;&gt;2 -->\n",
       "<g id=\"edge3\" class=\"edge\">\n",
       "<title>2-&gt;2</title>\n",
       "<path fill=\"none\" stroke=\"black\" d=\"M56.04,-74.15C54.82,-83.54 57.47,-92 64,-92 67.98,-92 70.52,-88.86 71.62,-84.28\"/>\n",
       "<polygon fill=\"black\" stroke=\"black\" points=\"75.12,-84.26 71.96,-74.15 68.13,-84.03 75.12,-84.26\"/>\n",
       "<text text-anchor=\"middle\" x=\"64\" y=\"-95.8\" font-family=\"Times,serif\" font-size=\"14.00\">[0,0], [1,1]</text>\n",
       "</g>\n",
       "<!-- 3 -->\n",
       "<g id=\"node4\" class=\"node\">\n",
       "<title>3</title>\n",
       "<path fill=\"none\" stroke=\"black\" d=\"M203,-36C203,-36 173,-36 173,-36 167,-36 161,-30 161,-24 161,-24 161,-12 161,-12 161,-6 167,0 173,0 173,0 203,0 203,0 209,0 215,-6 215,-12 215,-12 215,-24 215,-24 215,-30 209,-36 203,-36\"/>\n",
       "<text text-anchor=\"middle\" x=\"188\" y=\"-14.3\" font-family=\"Times,serif\" font-size=\"14.00\">$1</text>\n",
       "</g>\n",
       "<!-- 2&#45;&gt;3 -->\n",
       "<g id=\"edge4\" class=\"edge\">\n",
       "<title>2-&gt;3</title>\n",
       "<path fill=\"none\" stroke=\"black\" d=\"M91.14,-49.14C106.36,-45.03 125.86,-39.53 143,-34 145.59,-33.16 148.26,-32.27 150.94,-31.35\"/>\n",
       "<polygon fill=\"black\" stroke=\"black\" points=\"152.31,-34.58 160.58,-27.96 149.99,-27.98 152.31,-34.58\"/>\n",
       "<text text-anchor=\"middle\" x=\"126\" y=\"-46.8\" font-family=\"Times,serif\" font-size=\"14.00\">[2,0]</text>\n",
       "</g>\n",
       "<!-- 3&#45;&gt;2 -->\n",
       "<g id=\"edge5\" class=\"edge\">\n",
       "<title>3-&gt;2</title>\n",
       "<path fill=\"none\" stroke=\"black\" d=\"M160.83,-11.84C145.25,-9.42 125.39,-8.55 109,-15 100.48,-18.35 92.64,-24.22 86,-30.49\"/>\n",
       "<polygon fill=\"black\" stroke=\"black\" points=\"83.26,-28.28 78.8,-37.9 88.28,-33.16 83.26,-28.28\"/>\n",
       "<text text-anchor=\"middle\" x=\"126\" y=\"-18.8\" font-family=\"Times,serif\" font-size=\"14.00\">[0,1]</text>\n",
       "</g>\n",
       "<!-- 3&#45;&gt;3 -->\n",
       "<g id=\"edge6\" class=\"edge\">\n",
       "<title>3-&gt;3</title>\n",
       "<path fill=\"none\" stroke=\"black\" d=\"M176.78,-36.15C175.06,-45.54 178.8,-54 188,-54 193.61,-54 197.19,-50.86 198.74,-46.28\"/>\n",
       "<polygon fill=\"black\" stroke=\"black\" points=\"202.24,-46.31 199.22,-36.15 195.25,-45.98 202.24,-46.31\"/>\n",
       "<text text-anchor=\"middle\" x=\"188\" y=\"-57.8\" font-family=\"Times,serif\" font-size=\"14.00\">[1,0], [2,1]</text>\n",
       "</g>\n",
       "</g>\n",
       "</svg>"
      ],
      "text/plain": [
       "<IPython.core.display.SVG object>"
      ]
     },
     "metadata": {},
     "output_type": "display_data"
    }
   ],
   "source": [
    "T.display()"
   ]
  },
  {
   "cell_type": "markdown",
   "metadata": {},
   "source": [
    "---\n",
    "Getting the list of states, or transitions<br>\n",
    "(*It cannot be assumed that the ids of states are [0,1,...,n] for some n *)"
   ]
  },
  {
   "cell_type": "code",
   "execution_count": 24,
   "metadata": {},
   "outputs": [
    {
     "data": {
      "text/plain": [
       "([0, 1], [2, 3, 4, 5, 6, 7])"
      ]
     },
     "execution_count": 24,
     "metadata": {},
     "output_type": "execute_result"
    }
   ],
   "source": [
    "T.states(), T.transitions()"
   ]
  },
  {
   "cell_type": "markdown",
   "metadata": {},
   "source": [
    "---\n",
    "Getting the list of initial states,of final states."
   ]
  },
  {
   "cell_type": "code",
   "execution_count": 25,
   "metadata": {},
   "outputs": [
    {
     "data": {
      "text/plain": [
       "([0], [0])"
      ]
     },
     "execution_count": 25,
     "metadata": {},
     "output_type": "execute_result"
    }
   ],
   "source": [
    "T.initial_states(), T.final_states()"
   ]
  },
  {
   "cell_type": "markdown",
   "metadata": {
    "collapsed": true
   },
   "source": [
    "---\n",
    "List of transitions adjacent of a state"
   ]
  },
  {
   "cell_type": "code",
   "execution_count": 26,
   "metadata": {},
   "outputs": [
    {
     "data": {
      "text/plain": [
       "([5, 6, 7], [4, 6, 7])"
      ]
     },
     "execution_count": 26,
     "metadata": {},
     "output_type": "execute_result"
    }
   ],
   "source": [
    "T.outgoing(stt_1), T.incoming(stt_1)"
   ]
  },
  {
   "cell_type": "markdown",
   "metadata": {},
   "source": [
    "---\n",
    "List of transitions from a state to another."
   ]
  },
  {
   "cell_type": "code",
   "execution_count": 27,
   "metadata": {},
   "outputs": [
    {
     "data": {
      "text/plain": [
       "[4]"
      ]
     },
     "execution_count": 27,
     "metadata": {},
     "output_type": "execute_result"
    }
   ],
   "source": [
    "T.outin(stt_0,stt_1)"
   ]
  },
  {
   "cell_type": "markdown",
   "metadata": {},
   "source": [
    "---\n",
    "List of states reachable from a state in one transition."
   ]
  },
  {
   "cell_type": "code",
   "execution_count": 28,
   "metadata": {},
   "outputs": [
    {
     "data": {
      "text/plain": [
       "([0, 0, 1], [])"
      ]
     },
     "execution_count": 28,
     "metadata": {},
     "output_type": "execute_result"
    }
   ],
   "source": [
    "T.successors(stt_0), T.successors(stt_0, [\"1\",\"0\"])"
   ]
  },
  {
   "cell_type": "markdown",
   "metadata": {},
   "source": [
    "---\n",
    "List of states that may reach a state in one transition."
   ]
  },
  {
   "cell_type": "code",
   "execution_count": 29,
   "metadata": {},
   "outputs": [
    {
     "data": {
      "text/plain": [
       "([0, 0, 1], [0])"
      ]
     },
     "execution_count": 29,
     "metadata": {},
     "output_type": "execute_result"
    }
   ],
   "source": [
    "T.predecessors(stt_0), T.predecessors(stt_0, [\"0\",\"0\"])"
   ]
  },
  {
   "cell_type": "code",
   "execution_count": null,
   "metadata": {},
   "outputs": [],
   "source": []
  }
 ],
 "metadata": {
  "kernelspec": {
   "display_name": "Python 3",
   "language": "python",
   "name": "python3"
  },
  "language_info": {
   "codemirror_mode": {
    "name": "ipython",
    "version": 3
   },
   "file_extension": ".py",
   "mimetype": "text/x-python",
   "name": "python",
   "nbconvert_exporter": "python",
   "pygments_lexer": "ipython3",
   "version": "3.9.2"
  }
 },
 "nbformat": 4,
 "nbformat_minor": 1
}
