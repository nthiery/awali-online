{
 "cells": [
  {
   "cell_type": "markdown",
   "metadata": {},
   "source": [
    "# Edition, visualisation, traversal\n",
    "## Weighted automata\n",
    "<br>\n"
   ]
  },
  {
   "cell_type": "code",
   "execution_count": 1,
   "metadata": {},
   "outputs": [
    {
     "data": {
      "application/javascript": [
       "IPython.notebook.set_autosave_interval(0)"
      ]
     },
     "metadata": {},
     "output_type": "display_data"
    },
    {
     "name": "stdout",
     "output_type": "stream",
     "text": [
      "Autosave disabled\n"
     ]
    }
   ],
   "source": [
    "# We disable autosave for technical reasons.\n",
    "# Replace 0 by 120 in next line to restore default.\n",
    "%autosave 0"
   ]
  },
  {
   "cell_type": "code",
   "execution_count": 2,
   "metadata": {},
   "outputs": [
    {
     "name": "stdout",
     "output_type": "stream",
     "text": [
      "[Warning] The python module awalipy relies on compilation executed \"on-the-fly\" depending on the context (type of weights, of labels, etc.). As a result, the very first call to a given function in a given context may take up to one minute. \n"
     ]
    }
   ],
   "source": [
    "import awalipy # If import fails, check that \n",
    "               # Python version used as Jupyter\n",
    "               # kernel matches the one\n",
    "               # Awalipy was compiled with."
   ]
  },
  {
   "cell_type": "markdown",
   "metadata": {},
   "source": [
    "## Creating an weighted automaton or transducer"
   ]
  },
  {
   "cell_type": "markdown",
   "metadata": {},
   "source": [
    "The constructor of both `Transducer` and `Automaton` take a second optional argument `weightset` of type `str`. Currently the weightsets implemented in awali are the following:\n",
    "\n",
    "- `\"B\"` : the set {true, false}, endowed with *and* and *or*\n",
    "- `\"N\"` : the set of natural integers endowed with $+$ and $\\times$ \n",
    "- `\"Z\"` : the set of relative integers endowed with $+$ and $\\times$ \n",
    "- `\"Q\"` : the set of rational numbers endowed with $+$ and $\\times$\n",
    "- `\"R\"` : the set of real numbers (double) endowed with $+$ and $\\times$\n",
    "- `\"C\"` : the set of complex numbers (pairs of double) endowed with $+$ and $\\times$\n",
    "- `\"N-oo\"`: the set of natural integers completed with an infinite element, endowed with $+$ and $\\times$\n",
    "- `\"Z-min-plus\"`, set of relative integers endowed with $\\min$ and $+$\n",
    "- `\"Z-max-plus\"`, set of relative integers endowed with $\\max$ and $+$\n",
    "- `\"R-max-prod\"`, set of real numbers (double) endowed with $\\max$ and $\\times$\n",
    "- `\"Fuzzy\"`, the set of integers endowed with $\\min$ and $\\max$\n",
    "- `\"Z/kZ\"` (eg. `\"Z/3Z\"` `\"Z/99Z\"`), cyclic semiring of cardinal k, endowed with $+$ and $\\times$<br>\n",
    "- `\"Nk\"` (e.g `\"N3\"`, `\"N20\"`), the set $\\{0,...,k\\}$, endowed with $+$ (with $k+1=k$) and $\\times$."
   ]
  },
  {
   "cell_type": "markdown",
   "metadata": {},
   "source": [
    "---\n",
    "Creating an automaton over alphabet {0,1} and weightset Z."
   ]
  },
  {
   "cell_type": "code",
   "execution_count": 3,
   "metadata": {},
   "outputs": [],
   "source": [
    "A = awalipy.Automaton(\"01\", \"Z\")"
   ]
  },
  {
   "cell_type": "markdown",
   "metadata": {},
   "source": [
    "---\n",
    "Adding states is the same as for unweighted automata."
   ]
  },
  {
   "cell_type": "code",
   "execution_count": 4,
   "metadata": {},
   "outputs": [],
   "source": [
    "stt_0 = A.add_state()\n",
    "stt_1 = A.add_state()"
   ]
  },
  {
   "cell_type": "markdown",
   "metadata": {},
   "source": [
    "---\n",
    "Transitions of weighted automata bear weights.\n",
    "\n",
    "- The function `set_transition` takes an optional fourth argument of type `str` representing a weight.\n",
    "- The function `set_initial` and `set_final` take an optional second argument of type `str` representing a weight."
   ]
  },
  {
   "cell_type": "code",
   "execution_count": 5,
   "metadata": {},
   "outputs": [
    {
     "data": {
      "image/svg+xml": [
       "<svg xmlns=\"http://www.w3.org/2000/svg\" xmlns:xlink=\"http://www.w3.org/1999/xlink\" width=\"182pt\" height=\"77pt\" viewBox=\"0.00 0.00 182.00 77.00\">\n",
       "<g id=\"graph0\" class=\"graph\" transform=\"scale(1 1) rotate(0) translate(4 73)\">\n",
       "<title>%3</title>\n",
       "<polygon fill=\"white\" stroke=\"transparent\" points=\"-4,4 -4,-73 178,-73 178,4 -4,4\"/>\n",
       "<!-- 2 -->\n",
       "<g id=\"node1\" class=\"node\">\n",
       "<title>2</title>\n",
       "<path fill=\"none\" stroke=\"DimGray\" d=\"M42,-36C42,-36 12,-36 12,-36 6,-36 0,-30 0,-24 0,-24 0,-12 0,-12 0,-6 6,0 12,0 12,0 42,0 42,0 48,0 54,-6 54,-12 54,-12 54,-24 54,-24 54,-30 48,-36 42,-36\"/>\n",
       "<text text-anchor=\"middle\" x=\"27\" y=\"-14.3\" font-family=\"Times,serif\" font-size=\"14.00\">$0</text>\n",
       "</g>\n",
       "<!-- 2&#45;&gt;2 -->\n",
       "<g id=\"edge1\" class=\"edge\">\n",
       "<title>2-&gt;2</title>\n",
       "<path fill=\"none\" stroke=\"DimGray\" d=\"M17.95,-36.15C16.56,-45.54 19.58,-54 27,-54 31.52,-54 34.41,-50.86 35.66,-46.28\"/>\n",
       "<polygon fill=\"DimGray\" stroke=\"DimGray\" points=\"39.16,-46.28 36.05,-36.15 32.17,-46.01 39.16,-46.28\"/>\n",
       "<text text-anchor=\"middle\" x=\"27\" y=\"-57.8\" font-family=\"Times,serif\" font-size=\"14.00\">0, 1</text>\n",
       "</g>\n",
       "<!-- 3 -->\n",
       "<g id=\"node2\" class=\"node\">\n",
       "<title>3</title>\n",
       "<path fill=\"none\" stroke=\"DimGray\" d=\"M142,-36C142,-36 112,-36 112,-36 106,-36 100,-30 100,-24 100,-24 100,-12 100,-12 100,-6 106,0 112,0 112,0 142,0 142,0 148,0 154,-6 154,-12 154,-12 154,-24 154,-24 154,-30 148,-36 142,-36\"/>\n",
       "<text text-anchor=\"middle\" x=\"127\" y=\"-14.3\" font-family=\"Times,serif\" font-size=\"14.00\">$1</text>\n",
       "</g>\n",
       "<!-- 2&#45;&gt;3 -->\n",
       "<g id=\"edge2\" class=\"edge\">\n",
       "<title>2-&gt;3</title>\n",
       "<path fill=\"none\" stroke=\"DimGray\" d=\"M54,-18C64.97,-18 77.92,-18 89.79,-18\"/>\n",
       "<polygon fill=\"DimGray\" stroke=\"DimGray\" points=\"89.87,-21.5 99.87,-18 89.87,-14.5 89.87,-21.5\"/>\n",
       "<text text-anchor=\"middle\" x=\"77\" y=\"-21.8\" font-family=\"Times,serif\" font-size=\"14.00\">1</text>\n",
       "</g>\n",
       "<!-- 3&#45;&gt;3 -->\n",
       "<g id=\"edge3\" class=\"edge\">\n",
       "<title>3-&gt;3</title>\n",
       "<path fill=\"none\" stroke=\"DimGray\" d=\"M117.95,-36.15C116.56,-45.54 119.58,-54 127,-54 131.52,-54 134.41,-50.86 135.66,-46.28\"/>\n",
       "<polygon fill=\"DimGray\" stroke=\"DimGray\" points=\"139.16,-46.28 136.05,-36.15 132.17,-46.01 139.16,-46.28\"/>\n",
       "<text text-anchor=\"middle\" x=\"127\" y=\"-57.8\" font-family=\"Times,serif\" font-size=\"14.00\">&lt;2&gt;0, &lt;2&gt;1</text>\n",
       "</g>\n",
       "</g>\n",
       "</svg>"
      ],
      "text/plain": [
       "<IPython.core.display.SVG object>"
      ]
     },
     "metadata": {},
     "output_type": "display_data"
    }
   ],
   "source": [
    "tr_0 = A.set_transition(stt_0,stt_0,\"0\",\"1\")\n",
    "tr_1 = A.set_transition(stt_0,stt_0,\"1\")        # Default \"weight\" parameter is the neutral element for multiplication.\n",
    "tr_2 = A.set_transition(stt_0,stt_1,\"1\")        # In \"Z\" it is 1 and is not displayed.\n",
    "tr_3 = A.set_transition(stt_1,stt_1,\"0\",\"2\")\n",
    "tr_4 = A.set_transition(stt_1,stt_1,\"1\",\"2\")\n",
    "A.display()"
   ]
  },
  {
   "cell_type": "markdown",
   "metadata": {},
   "source": [
    "As may be seen above, weights are displayed between `<`...`>` and if a weight is the weightset multiplicative neutral element, then it is usually omitted.\n"
   ]
  },
  {
   "cell_type": "code",
   "execution_count": 6,
   "metadata": {},
   "outputs": [
    {
     "data": {
      "image/svg+xml": [
       "<svg xmlns=\"http://www.w3.org/2000/svg\" xmlns:xlink=\"http://www.w3.org/1999/xlink\" width=\"269pt\" height=\"77pt\" viewBox=\"0.00 0.00 269.00 77.00\">\n",
       "<g id=\"graph0\" class=\"graph\" transform=\"scale(1 1) rotate(0) translate(4 73)\">\n",
       "<title>%3</title>\n",
       "<polygon fill=\"white\" stroke=\"transparent\" points=\"-4,4 -4,-73 265,-73 265,4 -4,4\"/>\n",
       "<!-- I2 -->\n",
       "<g id=\"node1\" class=\"node\">\n",
       "<title>I2</title>\n",
       "<ellipse fill=\"black\" stroke=\"black\" cx=\"0\" cy=\"-18\" rx=\"0\" ry=\"0\"/>\n",
       "</g>\n",
       "<!-- 2 -->\n",
       "<g id=\"node3\" class=\"node\">\n",
       "<title>2</title>\n",
       "<path fill=\"none\" stroke=\"black\" d=\"M79,-36C79,-36 49,-36 49,-36 43,-36 37,-30 37,-24 37,-24 37,-12 37,-12 37,-6 43,0 49,0 49,0 79,0 79,0 85,0 91,-6 91,-12 91,-12 91,-24 91,-24 91,-30 85,-36 79,-36\"/>\n",
       "<text text-anchor=\"middle\" x=\"64\" y=\"-14.3\" font-family=\"Times,serif\" font-size=\"14.00\">$0</text>\n",
       "</g>\n",
       "<!-- I2&#45;&gt;2 -->\n",
       "<g id=\"edge1\" class=\"edge\">\n",
       "<title>I2-&gt;2</title>\n",
       "<path fill=\"none\" stroke=\"DimGray\" d=\"M1.04,-18C1.86,-18 13.73,-18 26.87,-18\"/>\n",
       "<polygon fill=\"DimGray\" stroke=\"DimGray\" points=\"27,-21.5 37,-18 27,-14.5 27,-21.5\"/>\n",
       "</g>\n",
       "<!-- F3 -->\n",
       "<g id=\"node2\" class=\"node\">\n",
       "<title>F3</title>\n",
       "<ellipse fill=\"black\" stroke=\"black\" cx=\"261\" cy=\"-18\" rx=\"0\" ry=\"0\"/>\n",
       "</g>\n",
       "<!-- 2&#45;&gt;2 -->\n",
       "<g id=\"edge2\" class=\"edge\">\n",
       "<title>2-&gt;2</title>\n",
       "<path fill=\"none\" stroke=\"black\" d=\"M56.04,-36.15C54.82,-45.54 57.47,-54 64,-54 67.98,-54 70.52,-50.86 71.62,-46.28\"/>\n",
       "<polygon fill=\"black\" stroke=\"black\" points=\"75.12,-46.26 71.96,-36.15 68.13,-46.03 75.12,-46.26\"/>\n",
       "<text text-anchor=\"middle\" x=\"64\" y=\"-57.8\" font-family=\"Times,serif\" font-size=\"14.00\">0, 1</text>\n",
       "</g>\n",
       "<!-- 3 -->\n",
       "<g id=\"node4\" class=\"node\">\n",
       "<title>3</title>\n",
       "<path fill=\"none\" stroke=\"black\" d=\"M179,-36C179,-36 149,-36 149,-36 143,-36 137,-30 137,-24 137,-24 137,-12 137,-12 137,-6 143,0 149,0 149,0 179,0 179,0 185,0 191,-6 191,-12 191,-12 191,-24 191,-24 191,-30 185,-36 179,-36\"/>\n",
       "<text text-anchor=\"middle\" x=\"164\" y=\"-14.3\" font-family=\"Times,serif\" font-size=\"14.00\">$1</text>\n",
       "</g>\n",
       "<!-- 2&#45;&gt;3 -->\n",
       "<g id=\"edge3\" class=\"edge\">\n",
       "<title>2-&gt;3</title>\n",
       "<path fill=\"none\" stroke=\"black\" d=\"M91,-18C101.97,-18 114.92,-18 126.79,-18\"/>\n",
       "<polygon fill=\"black\" stroke=\"black\" points=\"126.87,-21.5 136.87,-18 126.87,-14.5 126.87,-21.5\"/>\n",
       "<text text-anchor=\"middle\" x=\"114\" y=\"-21.8\" font-family=\"Times,serif\" font-size=\"14.00\">1</text>\n",
       "</g>\n",
       "<!-- 3&#45;&gt;F3 -->\n",
       "<g id=\"edge4\" class=\"edge\">\n",
       "<title>3-&gt;F3</title>\n",
       "<path fill=\"none\" stroke=\"DimGray\" d=\"M191.21,-18C210.58,-18 235.9,-18 249.78,-18\"/>\n",
       "<polygon fill=\"DimGray\" stroke=\"DimGray\" points=\"249.88,-21.5 259.88,-18 249.88,-14.5 249.88,-21.5\"/>\n",
       "<text text-anchor=\"middle\" x=\"226\" y=\"-21.8\" font-family=\"Times,serif\" font-size=\"14.00\">&lt;2&gt;</text>\n",
       "</g>\n",
       "<!-- 3&#45;&gt;3 -->\n",
       "<g id=\"edge5\" class=\"edge\">\n",
       "<title>3-&gt;3</title>\n",
       "<path fill=\"none\" stroke=\"black\" d=\"M154.95,-36.15C153.56,-45.54 156.58,-54 164,-54 168.52,-54 171.41,-50.86 172.66,-46.28\"/>\n",
       "<polygon fill=\"black\" stroke=\"black\" points=\"176.16,-46.28 173.05,-36.15 169.17,-46.01 176.16,-46.28\"/>\n",
       "<text text-anchor=\"middle\" x=\"164\" y=\"-57.8\" font-family=\"Times,serif\" font-size=\"14.00\">&lt;2&gt;0, &lt;2&gt;1</text>\n",
       "</g>\n",
       "</g>\n",
       "</svg>"
      ],
      "text/plain": [
       "<IPython.core.display.SVG object>"
      ]
     },
     "metadata": {},
     "output_type": "display_data"
    }
   ],
   "source": [
    "A.set_initial(stt_0,\"1\")\n",
    "A.set_final(stt_1,\"2\")\n",
    "A.display()"
   ]
  },
  {
   "cell_type": "markdown",
   "metadata": {},
   "source": [
    "---\n",
    "The methods starting with `set_` or `unset_` ignore an eventual previous weight.  Awali also provides all the same commands starting with `add_` which \n",
    "1) **add** given weight to a transition, possibly creating it; and\n",
    "2) returns the new weight of the transition and not its id."
   ]
  },
  {
   "cell_type": "code",
   "execution_count": 7,
   "metadata": {},
   "outputs": [
    {
     "name": "stdout",
     "output_type": "stream",
     "text": [
      "11\n",
      "100\n",
      "1001\n"
     ]
    },
    {
     "data": {
      "image/svg+xml": [
       "<svg xmlns=\"http://www.w3.org/2000/svg\" xmlns:xlink=\"http://www.w3.org/1999/xlink\" width=\"380pt\" height=\"82pt\" viewBox=\"0.00 0.00 380.00 82.12\">\n",
       "<g id=\"graph0\" class=\"graph\" transform=\"scale(1 1) rotate(0) translate(4 78.12)\">\n",
       "<title>%3</title>\n",
       "<polygon fill=\"white\" stroke=\"transparent\" points=\"-4,4 -4,-78.12 376,-78.12 376,4 -4,4\"/>\n",
       "<!-- I2 -->\n",
       "<g id=\"node1\" class=\"node\">\n",
       "<title>I2</title>\n",
       "<ellipse fill=\"black\" stroke=\"black\" cx=\"0\" cy=\"-23.12\" rx=\"0\" ry=\"0\"/>\n",
       "</g>\n",
       "<!-- 2 -->\n",
       "<g id=\"node3\" class=\"node\">\n",
       "<title>2</title>\n",
       "<path fill=\"none\" stroke=\"black\" d=\"M139,-41.12C139,-41.12 109,-41.12 109,-41.12 103,-41.12 97,-35.12 97,-29.12 97,-29.12 97,-17.12 97,-17.12 97,-11.12 103,-5.12 109,-5.12 109,-5.12 139,-5.12 139,-5.12 145,-5.12 151,-11.12 151,-17.12 151,-17.12 151,-29.12 151,-29.12 151,-35.12 145,-41.12 139,-41.12\"/>\n",
       "<text text-anchor=\"middle\" x=\"124\" y=\"-19.42\" font-family=\"Times,serif\" font-size=\"14.00\">$0</text>\n",
       "</g>\n",
       "<!-- I2&#45;&gt;2 -->\n",
       "<g id=\"edge1\" class=\"edge\">\n",
       "<title>I2-&gt;2</title>\n",
       "<path fill=\"none\" stroke=\"DimGray\" d=\"M1.09,-23.12C3.42,-23.12 51.49,-23.12 86.55,-23.12\"/>\n",
       "<polygon fill=\"DimGray\" stroke=\"DimGray\" points=\"86.95,-26.62 96.95,-23.12 86.95,-19.62 86.95,-26.62\"/>\n",
       "<text text-anchor=\"middle\" x=\"48.5\" y=\"-26.92\" font-family=\"Times,serif\" font-size=\"14.00\">&lt;1001&gt;</text>\n",
       "</g>\n",
       "<!-- F3 -->\n",
       "<g id=\"node2\" class=\"node\">\n",
       "<title>F3</title>\n",
       "<ellipse fill=\"black\" stroke=\"black\" cx=\"372\" cy=\"-23.12\" rx=\"0\" ry=\"0\"/>\n",
       "</g>\n",
       "<!-- 2&#45;&gt;2 -->\n",
       "<g id=\"edge2\" class=\"edge\">\n",
       "<title>2-&gt;2</title>\n",
       "<path fill=\"none\" stroke=\"black\" d=\"M110.61,-41.27C108.55,-50.65 113.02,-59.12 124,-59.12 130.69,-59.12 134.97,-55.97 136.82,-51.4\"/>\n",
       "<polygon fill=\"black\" stroke=\"black\" points=\"140.32,-51.45 137.39,-41.27 133.33,-51.06 140.32,-51.45\"/>\n",
       "<text text-anchor=\"middle\" x=\"124\" y=\"-62.92\" font-family=\"Times,serif\" font-size=\"14.00\">&lt;11&gt;0, 1</text>\n",
       "</g>\n",
       "<!-- 3 -->\n",
       "<g id=\"node4\" class=\"node\">\n",
       "<title>3</title>\n",
       "<path fill=\"none\" stroke=\"black\" d=\"M290,-41.12C290,-41.12 260,-41.12 260,-41.12 254,-41.12 248,-35.12 248,-29.12 248,-29.12 248,-17.12 248,-17.12 248,-11.12 254,-5.12 260,-5.12 260,-5.12 290,-5.12 290,-5.12 296,-5.12 302,-11.12 302,-17.12 302,-17.12 302,-29.12 302,-29.12 302,-35.12 296,-41.12 290,-41.12\"/>\n",
       "<text text-anchor=\"middle\" x=\"275\" y=\"-19.42\" font-family=\"Times,serif\" font-size=\"14.00\">$1</text>\n",
       "</g>\n",
       "<!-- 2&#45;&gt;3 -->\n",
       "<g id=\"edge3\" class=\"edge\">\n",
       "<title>2-&gt;3</title>\n",
       "<path fill=\"none\" stroke=\"black\" d=\"M151.3,-23.12C175.34,-23.12 211.12,-23.12 237.85,-23.12\"/>\n",
       "<polygon fill=\"black\" stroke=\"black\" points=\"237.97,-26.62 247.97,-23.12 237.97,-19.62 237.97,-26.62\"/>\n",
       "<text text-anchor=\"middle\" x=\"199.5\" y=\"-26.92\" font-family=\"Times,serif\" font-size=\"14.00\">1</text>\n",
       "</g>\n",
       "<!-- 3&#45;&gt;F3 -->\n",
       "<g id=\"edge4\" class=\"edge\">\n",
       "<title>3-&gt;F3</title>\n",
       "<path fill=\"none\" stroke=\"DimGray\" d=\"M302.21,-23.12C321.58,-23.12 346.9,-23.12 360.78,-23.12\"/>\n",
       "<polygon fill=\"DimGray\" stroke=\"DimGray\" points=\"360.88,-26.62 370.88,-23.12 360.88,-19.62 360.88,-26.62\"/>\n",
       "<text text-anchor=\"middle\" x=\"337\" y=\"-26.92\" font-family=\"Times,serif\" font-size=\"14.00\">&lt;2&gt;</text>\n",
       "</g>\n",
       "<!-- 3&#45;&gt;2 -->\n",
       "<g id=\"edge5\" class=\"edge\">\n",
       "<title>3-&gt;2</title>\n",
       "<path fill=\"none\" stroke=\"black\" d=\"M247.58,-9.66C241.91,-7.36 235.87,-5.33 230,-4.12 203.45,1.37 195.55,1.37 169,-4.12 166.34,-4.67 163.65,-5.38 160.97,-6.22\"/>\n",
       "<polygon fill=\"black\" stroke=\"black\" points=\"159.64,-2.97 151.42,-9.66 162.02,-9.56 159.64,-2.97\"/>\n",
       "<text text-anchor=\"middle\" x=\"199.5\" y=\"-7.92\" font-family=\"Times,serif\" font-size=\"14.00\">&lt;100&gt;0</text>\n",
       "</g>\n",
       "<!-- 3&#45;&gt;3 -->\n",
       "<g id=\"edge6\" class=\"edge\">\n",
       "<title>3-&gt;3</title>\n",
       "<path fill=\"none\" stroke=\"black\" d=\"M263.78,-41.27C262.06,-50.65 265.8,-59.12 275,-59.12 280.61,-59.12 284.19,-55.97 285.74,-51.4\"/>\n",
       "<polygon fill=\"black\" stroke=\"black\" points=\"289.24,-51.42 286.22,-41.27 282.25,-51.09 289.24,-51.42\"/>\n",
       "<text text-anchor=\"middle\" x=\"275\" y=\"-62.92\" font-family=\"Times,serif\" font-size=\"14.00\">&lt;2&gt;0, &lt;2&gt;1</text>\n",
       "</g>\n",
       "</g>\n",
       "</svg>"
      ],
      "text/plain": [
       "<IPython.core.display.SVG object>"
      ]
     },
     "metadata": {},
     "output_type": "display_data"
    }
   ],
   "source": [
    "B = A.copy()\n",
    "print (B.add_transition(stt_0,stt_0,\"0\",\"10\"))\n",
    "print (B.add_transition(stt_1,stt_0,\"0\",\"100\"))\n",
    "print (B.add_initial(stt_0,\"1000\"))\n",
    "B.display()"
   ]
  },
  {
   "cell_type": "markdown",
   "metadata": {},
   "source": [
    "---\n",
    "For bigger automata, it may be useful to look at its string representation..."
   ]
  },
  {
   "cell_type": "code",
   "execution_count": 8,
   "metadata": {},
   "outputs": [
    {
     "data": {
      "text/plain": [
       "Automaton (static context: lal_char_z)\n",
       "Weightset: Z\tAlphabet: 01\tEpsilon-transitions: Disallowed\n",
       "- States:{\t0(i:1001)\t1(f:2)\t}\n",
       "- Transitions:{\t0-<11>0->0\t0-1->0\t0-1->1\t1-<2>0->1\t1-<2>1->1\t1-<100>0->0\t\t}"
      ]
     },
     "execution_count": 8,
     "metadata": {},
     "output_type": "execute_result"
    }
   ],
   "source": [
    "B"
   ]
  },
  {
   "cell_type": "markdown",
   "metadata": {},
   "source": [
    "NB: the mention \"(i:1001)\" following a state means that the state is *initial* with weight 1001.  Similarly, \"(f:2)\" means *final* with weight 2."
   ]
  },
  {
   "cell_type": "markdown",
   "metadata": {},
   "source": [
    "## Epsilon transitions\n",
    "As for unweighted automata, epsilon transitions are not allowed by default."
   ]
  },
  {
   "cell_type": "code",
   "execution_count": 9,
   "metadata": {},
   "outputs": [
    {
     "data": {
      "image/svg+xml": [
       "<svg xmlns=\"http://www.w3.org/2000/svg\" xmlns:xlink=\"http://www.w3.org/1999/xlink\" width=\"269pt\" height=\"77pt\" viewBox=\"0.00 0.00 269.00 77.00\">\n",
       "<g id=\"graph0\" class=\"graph\" transform=\"scale(1 1) rotate(0) translate(4 73)\">\n",
       "<title>%3</title>\n",
       "<polygon fill=\"white\" stroke=\"transparent\" points=\"-4,4 -4,-73 265,-73 265,4 -4,4\"/>\n",
       "<!-- I2 -->\n",
       "<g id=\"node1\" class=\"node\">\n",
       "<title>I2</title>\n",
       "<ellipse fill=\"black\" stroke=\"black\" cx=\"0\" cy=\"-18\" rx=\"0\" ry=\"0\"/>\n",
       "</g>\n",
       "<!-- 2 -->\n",
       "<g id=\"node3\" class=\"node\">\n",
       "<title>2</title>\n",
       "<path fill=\"none\" stroke=\"black\" d=\"M79,-36C79,-36 49,-36 49,-36 43,-36 37,-30 37,-24 37,-24 37,-12 37,-12 37,-6 43,0 49,0 49,0 79,0 79,0 85,0 91,-6 91,-12 91,-12 91,-24 91,-24 91,-30 85,-36 79,-36\"/>\n",
       "<text text-anchor=\"middle\" x=\"64\" y=\"-14.3\" font-family=\"Times,serif\" font-size=\"14.00\">$0</text>\n",
       "</g>\n",
       "<!-- I2&#45;&gt;2 -->\n",
       "<g id=\"edge1\" class=\"edge\">\n",
       "<title>I2-&gt;2</title>\n",
       "<path fill=\"none\" stroke=\"DimGray\" d=\"M1.04,-18C1.86,-18 13.73,-18 26.87,-18\"/>\n",
       "<polygon fill=\"DimGray\" stroke=\"DimGray\" points=\"27,-21.5 37,-18 27,-14.5 27,-21.5\"/>\n",
       "</g>\n",
       "<!-- F3 -->\n",
       "<g id=\"node2\" class=\"node\">\n",
       "<title>F3</title>\n",
       "<ellipse fill=\"black\" stroke=\"black\" cx=\"261\" cy=\"-18\" rx=\"0\" ry=\"0\"/>\n",
       "</g>\n",
       "<!-- 2&#45;&gt;2 -->\n",
       "<g id=\"edge2\" class=\"edge\">\n",
       "<title>2-&gt;2</title>\n",
       "<path fill=\"none\" stroke=\"black\" d=\"M56.04,-36.15C54.82,-45.54 57.47,-54 64,-54 67.98,-54 70.52,-50.86 71.62,-46.28\"/>\n",
       "<polygon fill=\"black\" stroke=\"black\" points=\"75.12,-46.26 71.96,-36.15 68.13,-46.03 75.12,-46.26\"/>\n",
       "<text text-anchor=\"middle\" x=\"64\" y=\"-57.8\" font-family=\"Times,serif\" font-size=\"14.00\">0, 1</text>\n",
       "</g>\n",
       "<!-- 3 -->\n",
       "<g id=\"node4\" class=\"node\">\n",
       "<title>3</title>\n",
       "<path fill=\"none\" stroke=\"black\" d=\"M179,-36C179,-36 149,-36 149,-36 143,-36 137,-30 137,-24 137,-24 137,-12 137,-12 137,-6 143,0 149,0 149,0 179,0 179,0 185,0 191,-6 191,-12 191,-12 191,-24 191,-24 191,-30 185,-36 179,-36\"/>\n",
       "<text text-anchor=\"middle\" x=\"164\" y=\"-14.3\" font-family=\"Times,serif\" font-size=\"14.00\">$1</text>\n",
       "</g>\n",
       "<!-- 2&#45;&gt;3 -->\n",
       "<g id=\"edge3\" class=\"edge\">\n",
       "<title>2-&gt;3</title>\n",
       "<path fill=\"none\" stroke=\"black\" d=\"M91,-18C101.97,-18 114.92,-18 126.79,-18\"/>\n",
       "<polygon fill=\"black\" stroke=\"black\" points=\"126.87,-21.5 136.87,-18 126.87,-14.5 126.87,-21.5\"/>\n",
       "<text text-anchor=\"middle\" x=\"114\" y=\"-21.8\" font-family=\"Times,serif\" font-size=\"14.00\">1</text>\n",
       "</g>\n",
       "<!-- 3&#45;&gt;F3 -->\n",
       "<g id=\"edge4\" class=\"edge\">\n",
       "<title>3-&gt;F3</title>\n",
       "<path fill=\"none\" stroke=\"DimGray\" d=\"M191.21,-18C210.58,-18 235.9,-18 249.78,-18\"/>\n",
       "<polygon fill=\"DimGray\" stroke=\"DimGray\" points=\"249.88,-21.5 259.88,-18 249.88,-14.5 249.88,-21.5\"/>\n",
       "<text text-anchor=\"middle\" x=\"226\" y=\"-21.8\" font-family=\"Times,serif\" font-size=\"14.00\">&lt;2&gt;</text>\n",
       "</g>\n",
       "<!-- 3&#45;&gt;3 -->\n",
       "<g id=\"edge5\" class=\"edge\">\n",
       "<title>3-&gt;3</title>\n",
       "<path fill=\"none\" stroke=\"black\" d=\"M154.95,-36.15C153.56,-45.54 156.58,-54 164,-54 168.52,-54 171.41,-50.86 172.66,-46.28\"/>\n",
       "<polygon fill=\"black\" stroke=\"black\" points=\"176.16,-46.28 173.05,-36.15 169.17,-46.01 176.16,-46.28\"/>\n",
       "<text text-anchor=\"middle\" x=\"164\" y=\"-57.8\" font-family=\"Times,serif\" font-size=\"14.00\">&lt;2&gt;0, &lt;2&gt;1</text>\n",
       "</g>\n",
       "</g>\n",
       "</svg>"
      ],
      "text/plain": [
       "<IPython.core.display.SVG object>"
      ]
     },
     "metadata": {},
     "output_type": "display_data"
    }
   ],
   "source": [
    "C = A.allow_eps_transition() # Copies the automaton\n",
    "C.display()"
   ]
  },
  {
   "cell_type": "markdown",
   "metadata": {},
   "source": [
    "---\n",
    "Adding an epsilon-transition"
   ]
  },
  {
   "cell_type": "code",
   "execution_count": 10,
   "metadata": {},
   "outputs": [
    {
     "data": {
      "image/svg+xml": [
       "<svg xmlns=\"http://www.w3.org/2000/svg\" xmlns:xlink=\"http://www.w3.org/1999/xlink\" width=\"323pt\" height=\"96pt\" viewBox=\"0.00 0.00 323.00 96.00\">\n",
       "<g id=\"graph0\" class=\"graph\" transform=\"scale(1 1) rotate(0) translate(4 92)\">\n",
       "<title>%3</title>\n",
       "<polygon fill=\"white\" stroke=\"transparent\" points=\"-4,4 -4,-92 319,-92 319,4 -4,4\"/>\n",
       "<!-- I2 -->\n",
       "<g id=\"node1\" class=\"node\">\n",
       "<title>I2</title>\n",
       "<ellipse fill=\"black\" stroke=\"black\" cx=\"0\" cy=\"-37\" rx=\"0\" ry=\"0\"/>\n",
       "</g>\n",
       "<!-- 2 -->\n",
       "<g id=\"node3\" class=\"node\">\n",
       "<title>2</title>\n",
       "<path fill=\"none\" stroke=\"black\" d=\"M79,-55C79,-55 49,-55 49,-55 43,-55 37,-49 37,-43 37,-43 37,-31 37,-31 37,-25 43,-19 49,-19 49,-19 79,-19 79,-19 85,-19 91,-25 91,-31 91,-31 91,-43 91,-43 91,-49 85,-55 79,-55\"/>\n",
       "<text text-anchor=\"middle\" x=\"64\" y=\"-33.3\" font-family=\"Times,serif\" font-size=\"14.00\">$0</text>\n",
       "</g>\n",
       "<!-- I2&#45;&gt;2 -->\n",
       "<g id=\"edge1\" class=\"edge\">\n",
       "<title>I2-&gt;2</title>\n",
       "<path fill=\"none\" stroke=\"DimGray\" d=\"M1.04,-37C1.86,-37 13.73,-37 26.87,-37\"/>\n",
       "<polygon fill=\"DimGray\" stroke=\"DimGray\" points=\"27,-40.5 37,-37 27,-33.5 27,-40.5\"/>\n",
       "</g>\n",
       "<!-- F3 -->\n",
       "<g id=\"node2\" class=\"node\">\n",
       "<title>F3</title>\n",
       "<ellipse fill=\"black\" stroke=\"black\" cx=\"288\" cy=\"-75\" rx=\"0\" ry=\"0\"/>\n",
       "</g>\n",
       "<!-- 2&#45;&gt;2 -->\n",
       "<g id=\"edge2\" class=\"edge\">\n",
       "<title>2-&gt;2</title>\n",
       "<path fill=\"none\" stroke=\"black\" d=\"M56.04,-55.15C54.82,-64.54 57.47,-73 64,-73 67.98,-73 70.52,-69.86 71.62,-65.28\"/>\n",
       "<polygon fill=\"black\" stroke=\"black\" points=\"75.12,-65.26 71.96,-55.15 68.13,-65.03 75.12,-65.26\"/>\n",
       "<text text-anchor=\"middle\" x=\"64\" y=\"-76.8\" font-family=\"Times,serif\" font-size=\"14.00\">0, 1</text>\n",
       "</g>\n",
       "<!-- 3 -->\n",
       "<g id=\"node4\" class=\"node\">\n",
       "<title>3</title>\n",
       "<path fill=\"none\" stroke=\"black\" d=\"M179,-55C179,-55 149,-55 149,-55 143,-55 137,-49 137,-43 137,-43 137,-31 137,-31 137,-25 143,-19 149,-19 149,-19 179,-19 179,-19 185,-19 191,-25 191,-31 191,-31 191,-43 191,-43 191,-49 185,-55 179,-55\"/>\n",
       "<text text-anchor=\"middle\" x=\"164\" y=\"-33.3\" font-family=\"Times,serif\" font-size=\"14.00\">$1</text>\n",
       "</g>\n",
       "<!-- 2&#45;&gt;3 -->\n",
       "<g id=\"edge3\" class=\"edge\">\n",
       "<title>2-&gt;3</title>\n",
       "<path fill=\"none\" stroke=\"black\" d=\"M91,-37C101.97,-37 114.92,-37 126.79,-37\"/>\n",
       "<polygon fill=\"black\" stroke=\"black\" points=\"126.87,-40.5 136.87,-37 126.87,-33.5 126.87,-40.5\"/>\n",
       "<text text-anchor=\"middle\" x=\"114\" y=\"-40.8\" font-family=\"Times,serif\" font-size=\"14.00\">1</text>\n",
       "</g>\n",
       "<!-- 3&#45;&gt;F3 -->\n",
       "<g id=\"edge4\" class=\"edge\">\n",
       "<title>3-&gt;F3</title>\n",
       "<path fill=\"none\" stroke=\"DimGray\" d=\"M191.17,-45.15C218.19,-53.57 258.91,-66.25 277.34,-71.99\"/>\n",
       "<polygon fill=\"DimGray\" stroke=\"DimGray\" points=\"276.37,-75.35 286.96,-74.99 278.45,-68.67 276.37,-75.35\"/>\n",
       "<text text-anchor=\"middle\" x=\"226\" y=\"-63.8\" font-family=\"Times,serif\" font-size=\"14.00\">&lt;2&gt;</text>\n",
       "</g>\n",
       "<!-- 3&#45;&gt;3 -->\n",
       "<g id=\"edge5\" class=\"edge\">\n",
       "<title>3-&gt;3</title>\n",
       "<path fill=\"none\" stroke=\"black\" d=\"M154.95,-55.15C153.56,-64.54 156.58,-73 164,-73 168.52,-73 171.41,-69.86 172.66,-65.28\"/>\n",
       "<polygon fill=\"black\" stroke=\"black\" points=\"176.16,-65.28 173.05,-55.15 169.17,-65.01 176.16,-65.28\"/>\n",
       "<text text-anchor=\"middle\" x=\"164\" y=\"-76.8\" font-family=\"Times,serif\" font-size=\"14.00\">&lt;2&gt;0, &lt;2&gt;1</text>\n",
       "</g>\n",
       "<!-- 4 -->\n",
       "<g id=\"node5\" class=\"node\">\n",
       "<title>4</title>\n",
       "<path fill=\"none\" stroke=\"black\" d=\"M303,-36C303,-36 273,-36 273,-36 267,-36 261,-30 261,-24 261,-24 261,-12 261,-12 261,-6 267,0 273,0 273,0 303,0 303,0 309,0 315,-6 315,-12 315,-12 315,-24 315,-24 315,-30 309,-36 303,-36\"/>\n",
       "<text text-anchor=\"middle\" x=\"288\" y=\"-14.3\" font-family=\"Times,serif\" font-size=\"14.00\">$2</text>\n",
       "</g>\n",
       "<!-- 3&#45;&gt;4 -->\n",
       "<g id=\"edge6\" class=\"edge\">\n",
       "<title>3-&gt;4</title>\n",
       "<path fill=\"none\" stroke=\"black\" d=\"M191.17,-32.92C208.62,-30.21 231.79,-26.6 250.97,-23.61\"/>\n",
       "<polygon fill=\"black\" stroke=\"black\" points=\"251.53,-27.07 260.87,-22.07 250.45,-20.15 251.53,-27.07\"/>\n",
       "<text text-anchor=\"middle\" x=\"226\" y=\"-32.8\" font-family=\"Times,serif\" font-size=\"14.00\">\\e</text>\n",
       "</g>\n",
       "<!-- 4&#45;&gt;3 -->\n",
       "<g id=\"edge7\" class=\"edge\">\n",
       "<title>4-&gt;3</title>\n",
       "<path fill=\"none\" stroke=\"black\" d=\"M260.9,-8.13C245.52,-3.75 225.85,-0.66 209,-6 203.66,-7.69 198.4,-10.3 193.48,-13.29\"/>\n",
       "<polygon fill=\"black\" stroke=\"black\" points=\"191.38,-10.48 185.06,-18.98 195.3,-16.28 191.38,-10.48\"/>\n",
       "<text text-anchor=\"middle\" x=\"226\" y=\"-9.8\" font-family=\"Times,serif\" font-size=\"14.00\">\\e</text>\n",
       "</g>\n",
       "</g>\n",
       "</svg>"
      ],
      "text/plain": [
       "<IPython.core.display.SVG object>"
      ]
     },
     "metadata": {},
     "output_type": "display_data"
    }
   ],
   "source": [
    "stt_2 = C.add_state()\n",
    "tr_6 = C.set_eps_transition(stt_2,stt_1)\n",
    "tr_7 = C.set_transition(stt_1,stt_2,\"\\\\e\")\n",
    "C.display()"
   ]
  },
  {
   "cell_type": "markdown",
   "metadata": {},
   "source": [
    "## Deleting edges and states"
   ]
  },
  {
   "cell_type": "markdown",
   "metadata": {},
   "source": [
    "Same as for boolean automata"
   ]
  },
  {
   "cell_type": "markdown",
   "metadata": {},
   "source": [
    "## Loading & saving automata"
   ]
  },
  {
   "cell_type": "markdown",
   "metadata": {},
   "source": [
    "Same as for boolean automata"
   ]
  },
  {
   "cell_type": "markdown",
   "metadata": {},
   "source": [
    "## Access and traversal\n",
    "Same as for unweighted automata, with a few extras"
   ]
  },
  {
   "cell_type": "code",
   "execution_count": 11,
   "metadata": {},
   "outputs": [
    {
     "data": {
      "image/svg+xml": [
       "<svg xmlns=\"http://www.w3.org/2000/svg\" xmlns:xlink=\"http://www.w3.org/1999/xlink\" width=\"380pt\" height=\"82pt\" viewBox=\"0.00 0.00 380.00 82.12\">\n",
       "<g id=\"graph0\" class=\"graph\" transform=\"scale(1 1) rotate(0) translate(4 78.12)\">\n",
       "<title>%3</title>\n",
       "<polygon fill=\"white\" stroke=\"transparent\" points=\"-4,4 -4,-78.12 376,-78.12 376,4 -4,4\"/>\n",
       "<!-- I2 -->\n",
       "<g id=\"node1\" class=\"node\">\n",
       "<title>I2</title>\n",
       "<ellipse fill=\"black\" stroke=\"black\" cx=\"0\" cy=\"-23.12\" rx=\"0\" ry=\"0\"/>\n",
       "</g>\n",
       "<!-- 2 -->\n",
       "<g id=\"node3\" class=\"node\">\n",
       "<title>2</title>\n",
       "<path fill=\"none\" stroke=\"black\" d=\"M139,-41.12C139,-41.12 109,-41.12 109,-41.12 103,-41.12 97,-35.12 97,-29.12 97,-29.12 97,-17.12 97,-17.12 97,-11.12 103,-5.12 109,-5.12 109,-5.12 139,-5.12 139,-5.12 145,-5.12 151,-11.12 151,-17.12 151,-17.12 151,-29.12 151,-29.12 151,-35.12 145,-41.12 139,-41.12\"/>\n",
       "<text text-anchor=\"middle\" x=\"124\" y=\"-19.42\" font-family=\"Times,serif\" font-size=\"14.00\">$0</text>\n",
       "</g>\n",
       "<!-- I2&#45;&gt;2 -->\n",
       "<g id=\"edge1\" class=\"edge\">\n",
       "<title>I2-&gt;2</title>\n",
       "<path fill=\"none\" stroke=\"DimGray\" d=\"M1.09,-23.12C3.42,-23.12 51.49,-23.12 86.55,-23.12\"/>\n",
       "<polygon fill=\"DimGray\" stroke=\"DimGray\" points=\"86.95,-26.62 96.95,-23.12 86.95,-19.62 86.95,-26.62\"/>\n",
       "<text text-anchor=\"middle\" x=\"48.5\" y=\"-26.92\" font-family=\"Times,serif\" font-size=\"14.00\">&lt;1001&gt;</text>\n",
       "</g>\n",
       "<!-- F3 -->\n",
       "<g id=\"node2\" class=\"node\">\n",
       "<title>F3</title>\n",
       "<ellipse fill=\"black\" stroke=\"black\" cx=\"372\" cy=\"-23.12\" rx=\"0\" ry=\"0\"/>\n",
       "</g>\n",
       "<!-- 2&#45;&gt;2 -->\n",
       "<g id=\"edge2\" class=\"edge\">\n",
       "<title>2-&gt;2</title>\n",
       "<path fill=\"none\" stroke=\"black\" d=\"M110.61,-41.27C108.55,-50.65 113.02,-59.12 124,-59.12 130.69,-59.12 134.97,-55.97 136.82,-51.4\"/>\n",
       "<polygon fill=\"black\" stroke=\"black\" points=\"140.32,-51.45 137.39,-41.27 133.33,-51.06 140.32,-51.45\"/>\n",
       "<text text-anchor=\"middle\" x=\"124\" y=\"-62.92\" font-family=\"Times,serif\" font-size=\"14.00\">&lt;11&gt;0, 1</text>\n",
       "</g>\n",
       "<!-- 3 -->\n",
       "<g id=\"node4\" class=\"node\">\n",
       "<title>3</title>\n",
       "<path fill=\"none\" stroke=\"black\" d=\"M290,-41.12C290,-41.12 260,-41.12 260,-41.12 254,-41.12 248,-35.12 248,-29.12 248,-29.12 248,-17.12 248,-17.12 248,-11.12 254,-5.12 260,-5.12 260,-5.12 290,-5.12 290,-5.12 296,-5.12 302,-11.12 302,-17.12 302,-17.12 302,-29.12 302,-29.12 302,-35.12 296,-41.12 290,-41.12\"/>\n",
       "<text text-anchor=\"middle\" x=\"275\" y=\"-19.42\" font-family=\"Times,serif\" font-size=\"14.00\">$1</text>\n",
       "</g>\n",
       "<!-- 2&#45;&gt;3 -->\n",
       "<g id=\"edge3\" class=\"edge\">\n",
       "<title>2-&gt;3</title>\n",
       "<path fill=\"none\" stroke=\"black\" d=\"M151.3,-23.12C175.34,-23.12 211.12,-23.12 237.85,-23.12\"/>\n",
       "<polygon fill=\"black\" stroke=\"black\" points=\"237.97,-26.62 247.97,-23.12 237.97,-19.62 237.97,-26.62\"/>\n",
       "<text text-anchor=\"middle\" x=\"199.5\" y=\"-26.92\" font-family=\"Times,serif\" font-size=\"14.00\">1</text>\n",
       "</g>\n",
       "<!-- 3&#45;&gt;F3 -->\n",
       "<g id=\"edge4\" class=\"edge\">\n",
       "<title>3-&gt;F3</title>\n",
       "<path fill=\"none\" stroke=\"DimGray\" d=\"M302.21,-23.12C321.58,-23.12 346.9,-23.12 360.78,-23.12\"/>\n",
       "<polygon fill=\"DimGray\" stroke=\"DimGray\" points=\"360.88,-26.62 370.88,-23.12 360.88,-19.62 360.88,-26.62\"/>\n",
       "<text text-anchor=\"middle\" x=\"337\" y=\"-26.92\" font-family=\"Times,serif\" font-size=\"14.00\">&lt;2&gt;</text>\n",
       "</g>\n",
       "<!-- 3&#45;&gt;2 -->\n",
       "<g id=\"edge5\" class=\"edge\">\n",
       "<title>3-&gt;2</title>\n",
       "<path fill=\"none\" stroke=\"black\" d=\"M247.58,-9.66C241.91,-7.36 235.87,-5.33 230,-4.12 203.45,1.37 195.55,1.37 169,-4.12 166.34,-4.67 163.65,-5.38 160.97,-6.22\"/>\n",
       "<polygon fill=\"black\" stroke=\"black\" points=\"159.64,-2.97 151.42,-9.66 162.02,-9.56 159.64,-2.97\"/>\n",
       "<text text-anchor=\"middle\" x=\"199.5\" y=\"-7.92\" font-family=\"Times,serif\" font-size=\"14.00\">&lt;100&gt;0</text>\n",
       "</g>\n",
       "<!-- 3&#45;&gt;3 -->\n",
       "<g id=\"edge6\" class=\"edge\">\n",
       "<title>3-&gt;3</title>\n",
       "<path fill=\"none\" stroke=\"black\" d=\"M263.78,-41.27C262.06,-50.65 265.8,-59.12 275,-59.12 280.61,-59.12 284.19,-55.97 285.74,-51.4\"/>\n",
       "<polygon fill=\"black\" stroke=\"black\" points=\"289.24,-51.42 286.22,-41.27 282.25,-51.09 289.24,-51.42\"/>\n",
       "<text text-anchor=\"middle\" x=\"275\" y=\"-62.92\" font-family=\"Times,serif\" font-size=\"14.00\">&lt;2&gt;0, &lt;2&gt;1</text>\n",
       "</g>\n",
       "</g>\n",
       "</svg>"
      ],
      "text/plain": [
       "<IPython.core.display.SVG object>"
      ]
     },
     "metadata": {},
     "output_type": "display_data"
    }
   ],
   "source": [
    "B.display()"
   ]
  },
  {
   "cell_type": "markdown",
   "metadata": {},
   "source": [
    "---\n",
    "Functions `src_of`, `dst_of` and `label_of` work just as for boolean automata. \n",
    "\n",
    "---\n",
    "Getting the weight of a transition."
   ]
  },
  {
   "cell_type": "code",
   "execution_count": 12,
   "metadata": {},
   "outputs": [
    {
     "data": {
      "text/plain": [
       "'11'"
      ]
     },
     "execution_count": 12,
     "metadata": {},
     "output_type": "execute_result"
    }
   ],
   "source": [
    "B.weight_of(tr_0)  # tr_0 is the transition s0 --<11>0--> s1"
   ]
  },
  {
   "cell_type": "markdown",
   "metadata": {},
   "source": [
    "---\n",
    "Getting the initial/final weight of a state."
   ]
  },
  {
   "cell_type": "code",
   "execution_count": 13,
   "metadata": {},
   "outputs": [
    {
     "data": {
      "text/plain": [
       "('1001', '0')"
      ]
     },
     "execution_count": 13,
     "metadata": {},
     "output_type": "execute_result"
    }
   ],
   "source": [
    "B.get_initial_weight(stt_0), B.get_final_weight(stt_0)"
   ]
  },
  {
   "cell_type": "markdown",
   "metadata": {},
   "source": [
    "---\n",
    "Note also that the third parameter of `unpack_transition(tr_id)` is the weight."
   ]
  },
  {
   "cell_type": "code",
   "execution_count": 14,
   "metadata": {},
   "outputs": [
    {
     "name": "stdout",
     "output_type": "stream",
     "text": [
      "(1, '0', '100', 0)\n",
      "source: 1\n",
      "label: 0\n",
      "weight: 100\n",
      "destination: 0\n"
     ]
    }
   ],
   "source": [
    "tr_content = B.unpack_transition(tr_6)\n",
    "print (tr_content)\n",
    "print (\"source: \"+str(tr_content[0]))\n",
    "print (\"label: \"+str(tr_content[1]))\n",
    "print (\"weight: \"+str(tr_content[2]))\n",
    "print (\"destination: \"+str(tr_content[3]))"
   ]
  },
  {
   "cell_type": "code",
   "execution_count": null,
   "metadata": {},
   "outputs": [],
   "source": []
  }
 ],
 "metadata": {
  "kernelspec": {
   "display_name": "Python 3",
   "language": "python",
   "name": "python3"
  },
  "language_info": {
   "codemirror_mode": {
    "name": "ipython",
    "version": 3
   },
   "file_extension": ".py",
   "mimetype": "text/x-python",
   "name": "python",
   "nbconvert_exporter": "python",
   "pygments_lexer": "ipython3",
   "version": "3.9.2"
  }
 },
 "nbformat": 4,
 "nbformat_minor": 1
}
