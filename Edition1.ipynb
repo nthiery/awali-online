{
 "cells": [
  {
   "cell_type": "markdown",
   "metadata": {},
   "source": [
    "# Edition, visualisation, traversal\n",
    "## Boolean automata\n"
   ]
  },
  {
   "cell_type": "code",
   "execution_count": 1,
   "metadata": {},
   "outputs": [
    {
     "name": "stdout",
     "output_type": "stream",
     "text": [
      "[Warning] The python module awalipy relies on compilation executed \"on-the-fly\" depending on the context (type of weights, of labels, etc.). As a result, the very first call to a given function in a given context may take up to 10 seconds. \n"
     ]
    }
   ],
   "source": [
    "import awalipy"
   ]
  },
  {
   "cell_type": "markdown",
   "metadata": {},
   "source": [
    "(The above warning is displayed every time awalipy is imported.)"
   ]
  },
  {
   "cell_type": "markdown",
   "metadata": {},
   "source": [
    "## Creating an automaton"
   ]
  },
  {
   "cell_type": "markdown",
   "metadata": {},
   "source": [
    "Alphabets we use are Python `str`\n",
    "- each `char` of the `str` is a letter the alphabet\n",
    "- order does not matter (`\"abc\"` and `\"bac\"` represent the same alphabet)"
   ]
  },
  {
   "cell_type": "code",
   "execution_count": 2,
   "metadata": {},
   "outputs": [],
   "source": [
    "alph1 = \"abc\"  # represents {a,b,c}\n",
    "alph2 = \"01\"   # represents {0,1}"
   ]
  },
  {
   "cell_type": "markdown",
   "metadata": {},
   "source": [
    "An **automaton** is built from an alphabet"
   ]
  },
  {
   "cell_type": "code",
   "execution_count": 3,
   "metadata": {},
   "outputs": [],
   "source": [
    "A = awalipy.Automaton(alph1)\n",
    "# or directly  `awalipy.Automaton(\"abc\")`"
   ]
  },
  {
   "cell_type": "markdown",
   "metadata": {},
   "source": [
    "`A` is an automaton with no states and no transitions over the alphabet {a,b,c}"
   ]
  },
  {
   "cell_type": "markdown",
   "metadata": {},
   "source": [
    "---\n",
    "Adding states\n",
    "\n",
    "By default the displayed name of the state is given by its index: the first state is named `\"s0\"`, the second `\"s1\"`, etc."
   ]
  },
  {
   "cell_type": "code",
   "execution_count": 4,
   "metadata": {},
   "outputs": [],
   "source": [
    "stt_0 = A.add_state()\n",
    "stt_1 = A.add_state()"
   ]
  },
  {
   "cell_type": "markdown",
   "metadata": {},
   "source": [
    "---\n",
    "Adding transitions"
   ]
  },
  {
   "cell_type": "code",
   "execution_count": 5,
   "metadata": {},
   "outputs": [],
   "source": [
    "tr_0 = A.set_transition(stt_0,stt_1,'a')\n",
    "tr_1 = A.set_transition(stt_1,stt_0,'b')\n",
    "tr_2 = A.set_transition(stt_0,stt_0,'b')"
   ]
  },
  {
   "cell_type": "markdown",
   "metadata": {},
   "source": [
    "<hr>\n",
    "There is no Python class for transitions or states. We manipulate only their identifiers."
   ]
  },
  {
   "cell_type": "code",
   "execution_count": 6,
   "metadata": {},
   "outputs": [
    {
     "name": "stdout",
     "output_type": "stream",
     "text": [
      "0\n",
      "2\n"
     ]
    }
   ],
   "source": [
    "print stt_0\n",
    "print tr_2 "
   ]
  },
  {
   "cell_type": "markdown",
   "metadata": {},
   "source": [
    "---\n",
    "Making states initial or final"
   ]
  },
  {
   "cell_type": "code",
   "execution_count": 7,
   "metadata": {},
   "outputs": [],
   "source": [
    "A.set_initial(stt_0)\n",
    "A.set_final(stt_1)"
   ]
  },
  {
   "cell_type": "markdown",
   "metadata": {},
   "source": [
    "# Displaying an automaton"
   ]
  },
  {
   "cell_type": "markdown",
   "metadata": {},
   "source": [
    "Displaying an automaton graphically, using dot for state placement.<br>\n",
    "(Works well for small automata only.)"
   ]
  },
  {
   "cell_type": "code",
   "execution_count": 8,
   "metadata": {},
   "outputs": [
    {
     "data": {
      "image/svg+xml": [
       "<svg height=\"79pt\" viewBox=\"0.00 0.00 233.00 78.86\" width=\"233pt\" xmlns=\"http://www.w3.org/2000/svg\" xmlns:xlink=\"http://www.w3.org/1999/xlink\">\n",
       "<g class=\"graph\" id=\"graph0\" transform=\"scale(1 1) rotate(0) translate(4 74.8606)\">\n",
       "<title>%3</title>\n",
       "<polygon fill=\"white\" points=\"-4,4 -4,-74.8606 229,-74.8606 229,4 -4,4\" stroke=\"none\"/>\n",
       "<!-- I2 -->\n",
       "<g class=\"node\" id=\"node1\"><title>I2</title>\n",
       "<ellipse cx=\"0\" cy=\"-19.8606\" fill=\"black\" rx=\"0\" ry=\"0\" stroke=\"black\"/>\n",
       "</g>\n",
       "<!-- 2 -->\n",
       "<g class=\"node\" id=\"node3\"><title>2</title>\n",
       "<path d=\"M79,-37.8606C79,-37.8606 49,-37.8606 49,-37.8606 43,-37.8606 37,-31.8606 37,-25.8606 37,-25.8606 37,-13.8606 37,-13.8606 37,-7.86062 43,-1.86062 49,-1.86062 49,-1.86062 79,-1.86062 79,-1.86062 85,-1.86062 91,-7.86062 91,-13.8606 91,-13.8606 91,-25.8606 91,-25.8606 91,-31.8606 85,-37.8606 79,-37.8606\" fill=\"none\" stroke=\"black\"/>\n",
       "<text font-family=\"Times,serif\" font-size=\"14.00\" text-anchor=\"middle\" x=\"64\" y=\"-16.1606\">s0</text>\n",
       "</g>\n",
       "<!-- I2&#45;&gt;2 -->\n",
       "<g class=\"edge\" id=\"edge1\"><title>I2-&gt;2</title>\n",
       "<path d=\"M1.04494,-19.8606C1.8631,-19.8606 13.7343,-19.8606 26.8695,-19.8606\" fill=\"none\" stroke=\"DimGray\"/>\n",
       "<polygon fill=\"DimGray\" points=\"26.9984,-23.3607 36.9983,-19.8606 26.9983,-16.3607 26.9984,-23.3607\" stroke=\"DimGray\"/>\n",
       "</g>\n",
       "<!-- F3 -->\n",
       "<g class=\"node\" id=\"node2\"><title>F3</title>\n",
       "<ellipse cx=\"225\" cy=\"-19.8606\" fill=\"black\" rx=\"0\" ry=\"0\" stroke=\"black\"/>\n",
       "</g>\n",
       "<!-- 2&#45;&gt;2 -->\n",
       "<g class=\"edge\" id=\"edge2\"><title>2-&gt;2</title>\n",
       "<path d=\"M56.04,-38.0133C54.8154,-47.3997 57.4688,-55.8606 64,-55.8606 67.98,-55.8606 70.5199,-52.7187 71.6199,-48.1402\" fill=\"none\" stroke=\"black\"/>\n",
       "<polygon fill=\"black\" points=\"75.1223,-48.1252 71.96,-38.0133 68.1262,-47.8902 75.1223,-48.1252\" stroke=\"black\"/>\n",
       "<text font-family=\"Times,serif\" font-size=\"14.00\" text-anchor=\"middle\" x=\"64\" y=\"-59.6606\">b</text>\n",
       "</g>\n",
       "<!-- 3 -->\n",
       "<g class=\"node\" id=\"node4\"><title>3</title>\n",
       "<path d=\"M176,-37.8606C176,-37.8606 146,-37.8606 146,-37.8606 140,-37.8606 134,-31.8606 134,-25.8606 134,-25.8606 134,-13.8606 134,-13.8606 134,-7.86062 140,-1.86062 146,-1.86062 146,-1.86062 176,-1.86062 176,-1.86062 182,-1.86062 188,-7.86062 188,-13.8606 188,-13.8606 188,-25.8606 188,-25.8606 188,-31.8606 182,-37.8606 176,-37.8606\" fill=\"none\" stroke=\"black\"/>\n",
       "<text font-family=\"Times,serif\" font-size=\"14.00\" text-anchor=\"middle\" x=\"161\" y=\"-16.1606\">s1</text>\n",
       "</g>\n",
       "<!-- 2&#45;&gt;3 -->\n",
       "<g class=\"edge\" id=\"edge3\"><title>2-&gt;3</title>\n",
       "<path d=\"M91.2106,-19.8606C101.283,-19.8606 112.965,-19.8606 123.811,-19.8606\" fill=\"none\" stroke=\"black\"/>\n",
       "<polygon fill=\"black\" points=\"123.875,-23.3607 133.875,-19.8606 123.875,-16.3607 123.875,-23.3607\" stroke=\"black\"/>\n",
       "<text font-family=\"Times,serif\" font-size=\"14.00\" text-anchor=\"middle\" x=\"112.5\" y=\"-23.6606\">a</text>\n",
       "</g>\n",
       "<!-- 3&#45;&gt;F3 -->\n",
       "<g class=\"edge\" id=\"edge4\"><title>3-&gt;F3</title>\n",
       "<path d=\"M188.294,-19.8606C197.246,-19.8606 206.734,-19.8606 213.678,-19.8606\" fill=\"none\" stroke=\"DimGray\"/>\n",
       "<polygon fill=\"DimGray\" points=\"213.946,-23.3607 223.946,-19.8606 213.945,-16.3607 213.946,-23.3607\" stroke=\"DimGray\"/>\n",
       "</g>\n",
       "<!-- 3&#45;&gt;2 -->\n",
       "<g class=\"edge\" id=\"edge5\"><title>3-&gt;2</title>\n",
       "<path d=\"M133.983,-4.08325C126.103,-0.976721 117.328,0.860616 109,-0.860616 106.342,-1.41007 103.646,-2.12807 100.966,-2.96272\" fill=\"none\" stroke=\"black\"/>\n",
       "<polygon fill=\"black\" points=\"99.6439,0.281121 91.4238,-6.4033 102.018,-6.30393 99.6439,0.281121\" stroke=\"black\"/>\n",
       "<text font-family=\"Times,serif\" font-size=\"14.00\" text-anchor=\"middle\" x=\"112.5\" y=\"-4.66062\">b</text>\n",
       "</g>\n",
       "</g>\n",
       "</svg>"
      ],
      "text/plain": [
       "<IPython.core.display.SVG object>"
      ]
     },
     "metadata": {},
     "output_type": "display_data"
    }
   ],
   "source": [
    "A.display()"
   ]
  },
  {
   "cell_type": "markdown",
   "metadata": {},
   "source": [
    "---\n",
    "Displayin an automaton in text format."
   ]
  },
  {
   "cell_type": "code",
   "execution_count": 9,
   "metadata": {},
   "outputs": [
    {
     "data": {
      "text/plain": [
       "Automaton (lal_char_b):\tWeight Set: B\tAlphabet: abc\n",
       "States:{\t0(i)\t1(f)\t}\n",
       "Transitions:{\t0--a-->1\t1--b-->0\t0--b-->0\t\t}"
      ]
     },
     "execution_count": 9,
     "metadata": {},
     "output_type": "execute_result"
    }
   ],
   "source": [
    "A"
   ]
  },
  {
   "cell_type": "markdown",
   "metadata": {},
   "source": [
    "NB: the mention `(i)` following a state means that the state is *initial*.  Similarly, `(f)` means *final* and `(i,f)` means *initial and final*."
   ]
  },
  {
   "cell_type": "markdown",
   "metadata": {},
   "source": [
    "## Epsilon transitions\n",
    "By default, automata do not allow epsilon transitions.  \n",
    "Moreover, automata with/without epsilon transitions are not represented by the same data structure. Allowing epsilon transition hence provokes a complete copy of the automaton."
   ]
  },
  {
   "cell_type": "code",
   "execution_count": 10,
   "metadata": {},
   "outputs": [
    {
     "data": {
      "image/svg+xml": [
       "<svg height=\"79pt\" viewBox=\"0.00 0.00 233.00 78.86\" width=\"233pt\" xmlns=\"http://www.w3.org/2000/svg\" xmlns:xlink=\"http://www.w3.org/1999/xlink\">\n",
       "<g class=\"graph\" id=\"graph0\" transform=\"scale(1 1) rotate(0) translate(4 74.8606)\">\n",
       "<title>%3</title>\n",
       "<polygon fill=\"white\" points=\"-4,4 -4,-74.8606 229,-74.8606 229,4 -4,4\" stroke=\"none\"/>\n",
       "<!-- I2 -->\n",
       "<g class=\"node\" id=\"node1\"><title>I2</title>\n",
       "<ellipse cx=\"0\" cy=\"-19.8606\" fill=\"black\" rx=\"0\" ry=\"0\" stroke=\"black\"/>\n",
       "</g>\n",
       "<!-- 2 -->\n",
       "<g class=\"node\" id=\"node3\"><title>2</title>\n",
       "<path d=\"M79,-37.8606C79,-37.8606 49,-37.8606 49,-37.8606 43,-37.8606 37,-31.8606 37,-25.8606 37,-25.8606 37,-13.8606 37,-13.8606 37,-7.86062 43,-1.86062 49,-1.86062 49,-1.86062 79,-1.86062 79,-1.86062 85,-1.86062 91,-7.86062 91,-13.8606 91,-13.8606 91,-25.8606 91,-25.8606 91,-31.8606 85,-37.8606 79,-37.8606\" fill=\"none\" stroke=\"black\"/>\n",
       "<text font-family=\"Times,serif\" font-size=\"14.00\" text-anchor=\"middle\" x=\"64\" y=\"-16.1606\">s0</text>\n",
       "</g>\n",
       "<!-- I2&#45;&gt;2 -->\n",
       "<g class=\"edge\" id=\"edge1\"><title>I2-&gt;2</title>\n",
       "<path d=\"M1.04494,-19.8606C1.8631,-19.8606 13.7343,-19.8606 26.8695,-19.8606\" fill=\"none\" stroke=\"DimGray\"/>\n",
       "<polygon fill=\"DimGray\" points=\"26.9984,-23.3607 36.9983,-19.8606 26.9983,-16.3607 26.9984,-23.3607\" stroke=\"DimGray\"/>\n",
       "</g>\n",
       "<!-- F3 -->\n",
       "<g class=\"node\" id=\"node2\"><title>F3</title>\n",
       "<ellipse cx=\"225\" cy=\"-19.8606\" fill=\"black\" rx=\"0\" ry=\"0\" stroke=\"black\"/>\n",
       "</g>\n",
       "<!-- 2&#45;&gt;2 -->\n",
       "<g class=\"edge\" id=\"edge2\"><title>2-&gt;2</title>\n",
       "<path d=\"M56.04,-38.0133C54.8154,-47.3997 57.4688,-55.8606 64,-55.8606 67.98,-55.8606 70.5199,-52.7187 71.6199,-48.1402\" fill=\"none\" stroke=\"black\"/>\n",
       "<polygon fill=\"black\" points=\"75.1223,-48.1252 71.96,-38.0133 68.1262,-47.8902 75.1223,-48.1252\" stroke=\"black\"/>\n",
       "<text font-family=\"Times,serif\" font-size=\"14.00\" text-anchor=\"middle\" x=\"64\" y=\"-59.6606\">b</text>\n",
       "</g>\n",
       "<!-- 3 -->\n",
       "<g class=\"node\" id=\"node4\"><title>3</title>\n",
       "<path d=\"M176,-37.8606C176,-37.8606 146,-37.8606 146,-37.8606 140,-37.8606 134,-31.8606 134,-25.8606 134,-25.8606 134,-13.8606 134,-13.8606 134,-7.86062 140,-1.86062 146,-1.86062 146,-1.86062 176,-1.86062 176,-1.86062 182,-1.86062 188,-7.86062 188,-13.8606 188,-13.8606 188,-25.8606 188,-25.8606 188,-31.8606 182,-37.8606 176,-37.8606\" fill=\"none\" stroke=\"black\"/>\n",
       "<text font-family=\"Times,serif\" font-size=\"14.00\" text-anchor=\"middle\" x=\"161\" y=\"-16.1606\">s1</text>\n",
       "</g>\n",
       "<!-- 2&#45;&gt;3 -->\n",
       "<g class=\"edge\" id=\"edge3\"><title>2-&gt;3</title>\n",
       "<path d=\"M91.2106,-19.8606C101.283,-19.8606 112.965,-19.8606 123.811,-19.8606\" fill=\"none\" stroke=\"black\"/>\n",
       "<polygon fill=\"black\" points=\"123.875,-23.3607 133.875,-19.8606 123.875,-16.3607 123.875,-23.3607\" stroke=\"black\"/>\n",
       "<text font-family=\"Times,serif\" font-size=\"14.00\" text-anchor=\"middle\" x=\"112.5\" y=\"-23.6606\">a</text>\n",
       "</g>\n",
       "<!-- 3&#45;&gt;F3 -->\n",
       "<g class=\"edge\" id=\"edge4\"><title>3-&gt;F3</title>\n",
       "<path d=\"M188.294,-19.8606C197.246,-19.8606 206.734,-19.8606 213.678,-19.8606\" fill=\"none\" stroke=\"DimGray\"/>\n",
       "<polygon fill=\"DimGray\" points=\"213.946,-23.3607 223.946,-19.8606 213.945,-16.3607 213.946,-23.3607\" stroke=\"DimGray\"/>\n",
       "</g>\n",
       "<!-- 3&#45;&gt;2 -->\n",
       "<g class=\"edge\" id=\"edge5\"><title>3-&gt;2</title>\n",
       "<path d=\"M133.983,-4.08325C126.103,-0.976721 117.328,0.860616 109,-0.860616 106.342,-1.41007 103.646,-2.12807 100.966,-2.96272\" fill=\"none\" stroke=\"black\"/>\n",
       "<polygon fill=\"black\" points=\"99.6439,0.281121 91.4238,-6.4033 102.018,-6.30393 99.6439,0.281121\" stroke=\"black\"/>\n",
       "<text font-family=\"Times,serif\" font-size=\"14.00\" text-anchor=\"middle\" x=\"112.5\" y=\"-4.66062\">b</text>\n",
       "</g>\n",
       "</g>\n",
       "</svg>"
      ],
      "text/plain": [
       "<IPython.core.display.SVG object>"
      ]
     },
     "metadata": {},
     "output_type": "display_data"
    }
   ],
   "source": [
    "Ae = A.allow_eps_transition()\n",
    "Ae.display()"
   ]
  },
  {
   "cell_type": "markdown",
   "metadata": {},
   "source": [
    "---\n",
    "Adding an epsilon transition using the specific function."
   ]
  },
  {
   "cell_type": "code",
   "execution_count": 11,
   "metadata": {},
   "outputs": [
    {
     "data": {
      "image/svg+xml": [
       "<svg height=\"80pt\" viewBox=\"0.00 0.00 251.00 79.69\" width=\"251pt\" xmlns=\"http://www.w3.org/2000/svg\" xmlns:xlink=\"http://www.w3.org/1999/xlink\">\n",
       "<g class=\"graph\" id=\"graph0\" transform=\"scale(1 1) rotate(0) translate(4 75.6867)\">\n",
       "<title>%3</title>\n",
       "<polygon fill=\"white\" points=\"-4,4 -4,-75.6867 247,-75.6867 247,4 -4,4\" stroke=\"none\"/>\n",
       "<!-- I2 -->\n",
       "<g class=\"node\" id=\"node1\"><title>I2</title>\n",
       "<ellipse cx=\"0\" cy=\"-20.6867\" fill=\"black\" rx=\"0\" ry=\"0\" stroke=\"black\"/>\n",
       "</g>\n",
       "<!-- 2 -->\n",
       "<g class=\"node\" id=\"node3\"><title>2</title>\n",
       "<path d=\"M79,-38.6867C79,-38.6867 49,-38.6867 49,-38.6867 43,-38.6867 37,-32.6867 37,-26.6867 37,-26.6867 37,-14.6867 37,-14.6867 37,-8.68673 43,-2.68673 49,-2.68673 49,-2.68673 79,-2.68673 79,-2.68673 85,-2.68673 91,-8.68673 91,-14.6867 91,-14.6867 91,-26.6867 91,-26.6867 91,-32.6867 85,-38.6867 79,-38.6867\" fill=\"none\" stroke=\"black\"/>\n",
       "<text font-family=\"Times,serif\" font-size=\"14.00\" text-anchor=\"middle\" x=\"64\" y=\"-16.9867\">s0</text>\n",
       "</g>\n",
       "<!-- I2&#45;&gt;2 -->\n",
       "<g class=\"edge\" id=\"edge1\"><title>I2-&gt;2</title>\n",
       "<path d=\"M1.04494,-20.6867C1.8631,-20.6867 13.7343,-20.6867 26.8695,-20.6867\" fill=\"none\" stroke=\"DimGray\"/>\n",
       "<polygon fill=\"DimGray\" points=\"26.9984,-24.1868 36.9983,-20.6867 26.9983,-17.1868 26.9984,-24.1868\" stroke=\"DimGray\"/>\n",
       "</g>\n",
       "<!-- F3 -->\n",
       "<g class=\"node\" id=\"node2\"><title>F3</title>\n",
       "<ellipse cx=\"243\" cy=\"-20.6867\" fill=\"black\" rx=\"0\" ry=\"0\" stroke=\"black\"/>\n",
       "</g>\n",
       "<!-- 2&#45;&gt;2 -->\n",
       "<g class=\"edge\" id=\"edge2\"><title>2-&gt;2</title>\n",
       "<path d=\"M56.04,-38.8394C54.8154,-48.2258 57.4688,-56.6867 64,-56.6867 67.98,-56.6867 70.5199,-53.5449 71.6199,-48.9663\" fill=\"none\" stroke=\"black\"/>\n",
       "<polygon fill=\"black\" points=\"75.1223,-48.9513 71.96,-38.8394 68.1262,-48.7163 75.1223,-48.9513\" stroke=\"black\"/>\n",
       "<text font-family=\"Times,serif\" font-size=\"14.00\" text-anchor=\"middle\" x=\"64\" y=\"-60.4867\">b</text>\n",
       "</g>\n",
       "<!-- 3 -->\n",
       "<g class=\"node\" id=\"node4\"><title>3</title>\n",
       "<path d=\"M194,-38.6867C194,-38.6867 164,-38.6867 164,-38.6867 158,-38.6867 152,-32.6867 152,-26.6867 152,-26.6867 152,-14.6867 152,-14.6867 152,-8.68673 158,-2.68673 164,-2.68673 164,-2.68673 194,-2.68673 194,-2.68673 200,-2.68673 206,-8.68673 206,-14.6867 206,-14.6867 206,-26.6867 206,-26.6867 206,-32.6867 200,-38.6867 194,-38.6867\" fill=\"none\" stroke=\"black\"/>\n",
       "<text font-family=\"Times,serif\" font-size=\"14.00\" text-anchor=\"middle\" x=\"179\" y=\"-16.9867\">s1</text>\n",
       "</g>\n",
       "<!-- 2&#45;&gt;3 -->\n",
       "<g class=\"edge\" id=\"edge3\"><title>2-&gt;3</title>\n",
       "<path d=\"M91.2085,-20.6867C106.184,-20.6867 125.19,-20.6867 141.596,-20.6867\" fill=\"none\" stroke=\"black\"/>\n",
       "<polygon fill=\"black\" points=\"141.934,-24.1868 151.934,-20.6867 141.934,-17.1868 141.934,-24.1868\" stroke=\"black\"/>\n",
       "<text font-family=\"Times,serif\" font-size=\"14.00\" text-anchor=\"middle\" x=\"121.5\" y=\"-24.4867\">a</text>\n",
       "</g>\n",
       "<!-- 3&#45;&gt;F3 -->\n",
       "<g class=\"edge\" id=\"edge4\"><title>3-&gt;F3</title>\n",
       "<path d=\"M206.294,-20.6867C215.246,-20.6867 224.734,-20.6867 231.678,-20.6867\" fill=\"none\" stroke=\"DimGray\"/>\n",
       "<polygon fill=\"DimGray\" points=\"231.946,-24.1868 241.946,-20.6867 231.945,-17.1868 231.946,-24.1868\" stroke=\"DimGray\"/>\n",
       "</g>\n",
       "<!-- 3&#45;&gt;2 -->\n",
       "<g class=\"edge\" id=\"edge5\"><title>3-&gt;2</title>\n",
       "<path d=\"M151.576,-7.22941C145.914,-4.93277 139.867,-2.89933 134,-1.68673 123.119,0.562243 119.881,0.562243 109,-1.68673 106.342,-2.23619 103.646,-2.95418 100.966,-3.78884\" fill=\"none\" stroke=\"black\"/>\n",
       "<polygon fill=\"black\" points=\"99.6439,-0.544993 91.4238,-7.22941 102.018,-7.13004 99.6439,-0.544993\" stroke=\"black\"/>\n",
       "<text font-family=\"Times,serif\" font-size=\"14.00\" text-anchor=\"middle\" x=\"121.5\" y=\"-5.48673\">\\e, b</text>\n",
       "</g>\n",
       "</g>\n",
       "</svg>"
      ],
      "text/plain": [
       "<IPython.core.display.SVG object>"
      ]
     },
     "metadata": {},
     "output_type": "display_data"
    }
   ],
   "source": [
    "tr_3 = Ae.set_eps_transition(stt_1,stt_0)\n",
    "Ae.display()"
   ]
  },
  {
   "cell_type": "markdown",
   "metadata": {},
   "source": [
    "Epsilon transition is represented by the string `\"\\e\"`.\n",
    "\n",
    "(*NB: the `'\\'` must be escaped by a preceding `'\\'`*)\n",
    "\n",
    "---\n",
    "Adding an epsilon-transition using the general function."
   ]
  },
  {
   "cell_type": "code",
   "execution_count": 12,
   "metadata": {},
   "outputs": [
    {
     "data": {
      "text/plain": [
       "6"
      ]
     },
     "execution_count": 12,
     "metadata": {},
     "output_type": "execute_result"
    }
   ],
   "source": [
    "Ae.set_transition(stt_1,stt_1,\"\\\\e\")"
   ]
  },
  {
   "cell_type": "markdown",
   "metadata": {},
   "source": [
    "For convenience we also allow `\"\"` as input to mean epsilon."
   ]
  },
  {
   "cell_type": "code",
   "execution_count": 13,
   "metadata": {},
   "outputs": [
    {
     "data": {
      "text/plain": [
       "7"
      ]
     },
     "execution_count": 13,
     "metadata": {},
     "output_type": "execute_result"
    }
   ],
   "source": [
    "Ae.set_transition(stt_0,stt_0,\"\")"
   ]
  },
  {
   "cell_type": "markdown",
   "metadata": {},
   "source": [
    "---\n",
    "Resulting automaton:"
   ]
  },
  {
   "cell_type": "code",
   "execution_count": 14,
   "metadata": {},
   "outputs": [
    {
     "data": {
      "image/svg+xml": [
       "<svg height=\"80pt\" viewBox=\"0.00 0.00 251.00 79.69\" width=\"251pt\" xmlns=\"http://www.w3.org/2000/svg\" xmlns:xlink=\"http://www.w3.org/1999/xlink\">\n",
       "<g class=\"graph\" id=\"graph0\" transform=\"scale(1 1) rotate(0) translate(4 75.6867)\">\n",
       "<title>%3</title>\n",
       "<polygon fill=\"white\" points=\"-4,4 -4,-75.6867 247,-75.6867 247,4 -4,4\" stroke=\"none\"/>\n",
       "<!-- I2 -->\n",
       "<g class=\"node\" id=\"node1\"><title>I2</title>\n",
       "<ellipse cx=\"0\" cy=\"-20.6867\" fill=\"black\" rx=\"0\" ry=\"0\" stroke=\"black\"/>\n",
       "</g>\n",
       "<!-- 2 -->\n",
       "<g class=\"node\" id=\"node3\"><title>2</title>\n",
       "<path d=\"M79,-38.6867C79,-38.6867 49,-38.6867 49,-38.6867 43,-38.6867 37,-32.6867 37,-26.6867 37,-26.6867 37,-14.6867 37,-14.6867 37,-8.68673 43,-2.68673 49,-2.68673 49,-2.68673 79,-2.68673 79,-2.68673 85,-2.68673 91,-8.68673 91,-14.6867 91,-14.6867 91,-26.6867 91,-26.6867 91,-32.6867 85,-38.6867 79,-38.6867\" fill=\"none\" stroke=\"black\"/>\n",
       "<text font-family=\"Times,serif\" font-size=\"14.00\" text-anchor=\"middle\" x=\"64\" y=\"-16.9867\">s0</text>\n",
       "</g>\n",
       "<!-- I2&#45;&gt;2 -->\n",
       "<g class=\"edge\" id=\"edge1\"><title>I2-&gt;2</title>\n",
       "<path d=\"M1.04494,-20.6867C1.8631,-20.6867 13.7343,-20.6867 26.8695,-20.6867\" fill=\"none\" stroke=\"DimGray\"/>\n",
       "<polygon fill=\"DimGray\" points=\"26.9984,-24.1868 36.9983,-20.6867 26.9983,-17.1868 26.9984,-24.1868\" stroke=\"DimGray\"/>\n",
       "</g>\n",
       "<!-- F3 -->\n",
       "<g class=\"node\" id=\"node2\"><title>F3</title>\n",
       "<ellipse cx=\"243\" cy=\"-20.6867\" fill=\"black\" rx=\"0\" ry=\"0\" stroke=\"black\"/>\n",
       "</g>\n",
       "<!-- 2&#45;&gt;2 -->\n",
       "<g class=\"edge\" id=\"edge2\"><title>2-&gt;2</title>\n",
       "<path d=\"M56.04,-38.8394C54.8154,-48.2258 57.4688,-56.6867 64,-56.6867 67.98,-56.6867 70.5199,-53.5449 71.6199,-48.9663\" fill=\"none\" stroke=\"black\"/>\n",
       "<polygon fill=\"black\" points=\"75.1223,-48.9513 71.96,-38.8394 68.1262,-48.7163 75.1223,-48.9513\" stroke=\"black\"/>\n",
       "<text font-family=\"Times,serif\" font-size=\"14.00\" text-anchor=\"middle\" x=\"64\" y=\"-60.4867\">\\e, b</text>\n",
       "</g>\n",
       "<!-- 3 -->\n",
       "<g class=\"node\" id=\"node4\"><title>3</title>\n",
       "<path d=\"M194,-38.6867C194,-38.6867 164,-38.6867 164,-38.6867 158,-38.6867 152,-32.6867 152,-26.6867 152,-26.6867 152,-14.6867 152,-14.6867 152,-8.68673 158,-2.68673 164,-2.68673 164,-2.68673 194,-2.68673 194,-2.68673 200,-2.68673 206,-8.68673 206,-14.6867 206,-14.6867 206,-26.6867 206,-26.6867 206,-32.6867 200,-38.6867 194,-38.6867\" fill=\"none\" stroke=\"black\"/>\n",
       "<text font-family=\"Times,serif\" font-size=\"14.00\" text-anchor=\"middle\" x=\"179\" y=\"-16.9867\">s1</text>\n",
       "</g>\n",
       "<!-- 2&#45;&gt;3 -->\n",
       "<g class=\"edge\" id=\"edge3\"><title>2-&gt;3</title>\n",
       "<path d=\"M91.2085,-20.6867C106.184,-20.6867 125.19,-20.6867 141.596,-20.6867\" fill=\"none\" stroke=\"black\"/>\n",
       "<polygon fill=\"black\" points=\"141.934,-24.1868 151.934,-20.6867 141.934,-17.1868 141.934,-24.1868\" stroke=\"black\"/>\n",
       "<text font-family=\"Times,serif\" font-size=\"14.00\" text-anchor=\"middle\" x=\"121.5\" y=\"-24.4867\">a</text>\n",
       "</g>\n",
       "<!-- 3&#45;&gt;F3 -->\n",
       "<g class=\"edge\" id=\"edge4\"><title>3-&gt;F3</title>\n",
       "<path d=\"M206.294,-20.6867C215.246,-20.6867 224.734,-20.6867 231.678,-20.6867\" fill=\"none\" stroke=\"DimGray\"/>\n",
       "<polygon fill=\"DimGray\" points=\"231.946,-24.1868 241.946,-20.6867 231.945,-17.1868 231.946,-24.1868\" stroke=\"DimGray\"/>\n",
       "</g>\n",
       "<!-- 3&#45;&gt;2 -->\n",
       "<g class=\"edge\" id=\"edge5\"><title>3-&gt;2</title>\n",
       "<path d=\"M151.576,-7.22941C145.914,-4.93277 139.867,-2.89933 134,-1.68673 123.119,0.562243 119.881,0.562243 109,-1.68673 106.342,-2.23619 103.646,-2.95418 100.966,-3.78884\" fill=\"none\" stroke=\"black\"/>\n",
       "<polygon fill=\"black\" points=\"99.6439,-0.544993 91.4238,-7.22941 102.018,-7.13004 99.6439,-0.544993\" stroke=\"black\"/>\n",
       "<text font-family=\"Times,serif\" font-size=\"14.00\" text-anchor=\"middle\" x=\"121.5\" y=\"-5.48673\">\\e, b</text>\n",
       "</g>\n",
       "<!-- 3&#45;&gt;3 -->\n",
       "<g class=\"edge\" id=\"edge6\"><title>3-&gt;3</title>\n",
       "<path d=\"M171.04,-38.8394C169.815,-48.2258 172.469,-56.6867 179,-56.6867 182.98,-56.6867 185.52,-53.5449 186.62,-48.9663\" fill=\"none\" stroke=\"black\"/>\n",
       "<polygon fill=\"black\" points=\"190.122,-48.9513 186.96,-38.8394 183.126,-48.7163 190.122,-48.9513\" stroke=\"black\"/>\n",
       "<text font-family=\"Times,serif\" font-size=\"14.00\" text-anchor=\"middle\" x=\"179\" y=\"-60.4867\">\\e</text>\n",
       "</g>\n",
       "</g>\n",
       "</svg>"
      ],
      "text/plain": [
       "<IPython.core.display.SVG object>"
      ]
     },
     "metadata": {},
     "output_type": "display_data"
    }
   ],
   "source": [
    "Ae.display()"
   ]
  },
  {
   "cell_type": "markdown",
   "metadata": {},
   "source": [
    "## Deleting edges and states"
   ]
  },
  {
   "cell_type": "markdown",
   "metadata": {},
   "source": [
    "Let us consider the automaton `A`."
   ]
  },
  {
   "cell_type": "code",
   "execution_count": 15,
   "metadata": {},
   "outputs": [
    {
     "data": {
      "image/svg+xml": [
       "<svg height=\"79pt\" viewBox=\"0.00 0.00 233.00 78.86\" width=\"233pt\" xmlns=\"http://www.w3.org/2000/svg\" xmlns:xlink=\"http://www.w3.org/1999/xlink\">\n",
       "<g class=\"graph\" id=\"graph0\" transform=\"scale(1 1) rotate(0) translate(4 74.8606)\">\n",
       "<title>%3</title>\n",
       "<polygon fill=\"white\" points=\"-4,4 -4,-74.8606 229,-74.8606 229,4 -4,4\" stroke=\"none\"/>\n",
       "<!-- I2 -->\n",
       "<g class=\"node\" id=\"node1\"><title>I2</title>\n",
       "<ellipse cx=\"0\" cy=\"-19.8606\" fill=\"black\" rx=\"0\" ry=\"0\" stroke=\"black\"/>\n",
       "</g>\n",
       "<!-- 2 -->\n",
       "<g class=\"node\" id=\"node3\"><title>2</title>\n",
       "<path d=\"M79,-37.8606C79,-37.8606 49,-37.8606 49,-37.8606 43,-37.8606 37,-31.8606 37,-25.8606 37,-25.8606 37,-13.8606 37,-13.8606 37,-7.86062 43,-1.86062 49,-1.86062 49,-1.86062 79,-1.86062 79,-1.86062 85,-1.86062 91,-7.86062 91,-13.8606 91,-13.8606 91,-25.8606 91,-25.8606 91,-31.8606 85,-37.8606 79,-37.8606\" fill=\"none\" stroke=\"black\"/>\n",
       "<text font-family=\"Times,serif\" font-size=\"14.00\" text-anchor=\"middle\" x=\"64\" y=\"-16.1606\">s0</text>\n",
       "</g>\n",
       "<!-- I2&#45;&gt;2 -->\n",
       "<g class=\"edge\" id=\"edge1\"><title>I2-&gt;2</title>\n",
       "<path d=\"M1.04494,-19.8606C1.8631,-19.8606 13.7343,-19.8606 26.8695,-19.8606\" fill=\"none\" stroke=\"DimGray\"/>\n",
       "<polygon fill=\"DimGray\" points=\"26.9984,-23.3607 36.9983,-19.8606 26.9983,-16.3607 26.9984,-23.3607\" stroke=\"DimGray\"/>\n",
       "</g>\n",
       "<!-- F3 -->\n",
       "<g class=\"node\" id=\"node2\"><title>F3</title>\n",
       "<ellipse cx=\"225\" cy=\"-19.8606\" fill=\"black\" rx=\"0\" ry=\"0\" stroke=\"black\"/>\n",
       "</g>\n",
       "<!-- 2&#45;&gt;2 -->\n",
       "<g class=\"edge\" id=\"edge2\"><title>2-&gt;2</title>\n",
       "<path d=\"M56.04,-38.0133C54.8154,-47.3997 57.4688,-55.8606 64,-55.8606 67.98,-55.8606 70.5199,-52.7187 71.6199,-48.1402\" fill=\"none\" stroke=\"black\"/>\n",
       "<polygon fill=\"black\" points=\"75.1223,-48.1252 71.96,-38.0133 68.1262,-47.8902 75.1223,-48.1252\" stroke=\"black\"/>\n",
       "<text font-family=\"Times,serif\" font-size=\"14.00\" text-anchor=\"middle\" x=\"64\" y=\"-59.6606\">b</text>\n",
       "</g>\n",
       "<!-- 3 -->\n",
       "<g class=\"node\" id=\"node4\"><title>3</title>\n",
       "<path d=\"M176,-37.8606C176,-37.8606 146,-37.8606 146,-37.8606 140,-37.8606 134,-31.8606 134,-25.8606 134,-25.8606 134,-13.8606 134,-13.8606 134,-7.86062 140,-1.86062 146,-1.86062 146,-1.86062 176,-1.86062 176,-1.86062 182,-1.86062 188,-7.86062 188,-13.8606 188,-13.8606 188,-25.8606 188,-25.8606 188,-31.8606 182,-37.8606 176,-37.8606\" fill=\"none\" stroke=\"black\"/>\n",
       "<text font-family=\"Times,serif\" font-size=\"14.00\" text-anchor=\"middle\" x=\"161\" y=\"-16.1606\">s1</text>\n",
       "</g>\n",
       "<!-- 2&#45;&gt;3 -->\n",
       "<g class=\"edge\" id=\"edge3\"><title>2-&gt;3</title>\n",
       "<path d=\"M91.2106,-19.8606C101.283,-19.8606 112.965,-19.8606 123.811,-19.8606\" fill=\"none\" stroke=\"black\"/>\n",
       "<polygon fill=\"black\" points=\"123.875,-23.3607 133.875,-19.8606 123.875,-16.3607 123.875,-23.3607\" stroke=\"black\"/>\n",
       "<text font-family=\"Times,serif\" font-size=\"14.00\" text-anchor=\"middle\" x=\"112.5\" y=\"-23.6606\">a</text>\n",
       "</g>\n",
       "<!-- 3&#45;&gt;F3 -->\n",
       "<g class=\"edge\" id=\"edge4\"><title>3-&gt;F3</title>\n",
       "<path d=\"M188.294,-19.8606C197.246,-19.8606 206.734,-19.8606 213.678,-19.8606\" fill=\"none\" stroke=\"DimGray\"/>\n",
       "<polygon fill=\"DimGray\" points=\"213.946,-23.3607 223.946,-19.8606 213.945,-16.3607 213.946,-23.3607\" stroke=\"DimGray\"/>\n",
       "</g>\n",
       "<!-- 3&#45;&gt;2 -->\n",
       "<g class=\"edge\" id=\"edge5\"><title>3-&gt;2</title>\n",
       "<path d=\"M133.983,-4.08325C126.103,-0.976721 117.328,0.860616 109,-0.860616 106.342,-1.41007 103.646,-2.12807 100.966,-2.96272\" fill=\"none\" stroke=\"black\"/>\n",
       "<polygon fill=\"black\" points=\"99.6439,0.281121 91.4238,-6.4033 102.018,-6.30393 99.6439,0.281121\" stroke=\"black\"/>\n",
       "<text font-family=\"Times,serif\" font-size=\"14.00\" text-anchor=\"middle\" x=\"112.5\" y=\"-4.66062\">b</text>\n",
       "</g>\n",
       "</g>\n",
       "</svg>"
      ],
      "text/plain": [
       "<IPython.core.display.SVG object>"
      ]
     },
     "metadata": {},
     "output_type": "display_data"
    }
   ],
   "source": [
    "A.display()"
   ]
  },
  {
   "cell_type": "markdown",
   "metadata": {},
   "source": [
    "---\n",
    "First we add a bunch of states and transitions"
   ]
  },
  {
   "cell_type": "code",
   "execution_count": 16,
   "metadata": {},
   "outputs": [
    {
     "data": {
      "image/svg+xml": [
       "<svg height=\"135pt\" viewBox=\"0.00 0.00 307.00 135.28\" width=\"307pt\" xmlns=\"http://www.w3.org/2000/svg\" xmlns:xlink=\"http://www.w3.org/1999/xlink\">\n",
       "<g class=\"graph\" id=\"graph0\" transform=\"scale(1 1) rotate(0) translate(4 131.281)\">\n",
       "<title>%3</title>\n",
       "<polygon fill=\"white\" points=\"-4,4 -4,-131.281 303,-131.281 303,4 -4,4\" stroke=\"none\"/>\n",
       "<!-- I2 -->\n",
       "<g class=\"node\" id=\"node1\"><title>I2</title>\n",
       "<ellipse cx=\"0\" cy=\"-21.2811\" fill=\"black\" rx=\"0\" ry=\"0\" stroke=\"black\"/>\n",
       "</g>\n",
       "<!-- 2 -->\n",
       "<g class=\"node\" id=\"node3\"><title>2</title>\n",
       "<path d=\"M79,-39.2811C79,-39.2811 49,-39.2811 49,-39.2811 43,-39.2811 37,-33.2811 37,-27.2811 37,-27.2811 37,-15.2811 37,-15.2811 37,-9.28106 43,-3.28106 49,-3.28106 49,-3.28106 79,-3.28106 79,-3.28106 85,-3.28106 91,-9.28106 91,-15.2811 91,-15.2811 91,-27.2811 91,-27.2811 91,-33.2811 85,-39.2811 79,-39.2811\" fill=\"none\" stroke=\"black\"/>\n",
       "<text font-family=\"Times,serif\" font-size=\"14.00\" text-anchor=\"middle\" x=\"64\" y=\"-17.5811\">s0</text>\n",
       "</g>\n",
       "<!-- I2&#45;&gt;2 -->\n",
       "<g class=\"edge\" id=\"edge1\"><title>I2-&gt;2</title>\n",
       "<path d=\"M1.04494,-21.2811C1.8631,-21.2811 13.7343,-21.2811 26.8695,-21.2811\" fill=\"none\" stroke=\"DimGray\"/>\n",
       "<polygon fill=\"DimGray\" points=\"26.9984,-24.7812 36.9983,-21.2811 26.9983,-17.7812 26.9984,-24.7812\" stroke=\"DimGray\"/>\n",
       "</g>\n",
       "<!-- F3 -->\n",
       "<g class=\"node\" id=\"node2\"><title>F3</title>\n",
       "<ellipse cx=\"272\" cy=\"-106.281\" fill=\"black\" rx=\"0\" ry=\"0\" stroke=\"black\"/>\n",
       "</g>\n",
       "<!-- 2&#45;&gt;2 -->\n",
       "<g class=\"edge\" id=\"edge2\"><title>2-&gt;2</title>\n",
       "<path d=\"M56.04,-39.4338C54.8154,-48.8201 57.4688,-57.2811 64,-57.2811 67.98,-57.2811 70.5199,-54.1392 71.6199,-49.5606\" fill=\"none\" stroke=\"black\"/>\n",
       "<polygon fill=\"black\" points=\"75.1223,-49.5456 71.96,-39.4338 68.1262,-49.3106 75.1223,-49.5456\" stroke=\"black\"/>\n",
       "<text font-family=\"Times,serif\" font-size=\"14.00\" text-anchor=\"middle\" x=\"64\" y=\"-61.0811\">b</text>\n",
       "</g>\n",
       "<!-- 3 -->\n",
       "<g class=\"node\" id=\"node4\"><title>3</title>\n",
       "<path d=\"M176,-94.2811C176,-94.2811 146,-94.2811 146,-94.2811 140,-94.2811 134,-88.2811 134,-82.2811 134,-82.2811 134,-70.2811 134,-70.2811 134,-64.2811 140,-58.2811 146,-58.2811 146,-58.2811 176,-58.2811 176,-58.2811 182,-58.2811 188,-64.2811 188,-70.2811 188,-70.2811 188,-82.2811 188,-82.2811 188,-88.2811 182,-94.2811 176,-94.2811\" fill=\"none\" stroke=\"black\"/>\n",
       "<text font-family=\"Times,serif\" font-size=\"14.00\" text-anchor=\"middle\" x=\"161\" y=\"-72.5811\">s1</text>\n",
       "</g>\n",
       "<!-- 2&#45;&gt;3 -->\n",
       "<g class=\"edge\" id=\"edge3\"><title>2-&gt;3</title>\n",
       "<path d=\"M87.1308,-39.476C93.9198,-44.6127 101.565,-49.971 109,-54.2811 113.901,-57.1224 119.239,-59.8182 124.554,-62.2858\" fill=\"none\" stroke=\"black\"/>\n",
       "<polygon fill=\"black\" points=\"123.438,-65.6192 134,-66.4628 126.27,-59.2173 123.438,-65.6192\" stroke=\"black\"/>\n",
       "<text font-family=\"Times,serif\" font-size=\"14.00\" text-anchor=\"middle\" x=\"112.5\" y=\"-61.0811\">a</text>\n",
       "</g>\n",
       "<!-- 4 -->\n",
       "<g class=\"node\" id=\"node5\"><title>4</title>\n",
       "<path d=\"M287,-39.2811C287,-39.2811 257,-39.2811 257,-39.2811 251,-39.2811 245,-33.2811 245,-27.2811 245,-27.2811 245,-15.2811 245,-15.2811 245,-9.28106 251,-3.28106 257,-3.28106 257,-3.28106 287,-3.28106 287,-3.28106 293,-3.28106 299,-9.28106 299,-15.2811 299,-15.2811 299,-27.2811 299,-27.2811 299,-33.2811 293,-39.2811 287,-39.2811\" fill=\"none\" stroke=\"black\"/>\n",
       "<text font-family=\"Times,serif\" font-size=\"14.00\" text-anchor=\"middle\" x=\"272\" y=\"-17.5811\">s2</text>\n",
       "</g>\n",
       "<!-- 2&#45;&gt;4 -->\n",
       "<g class=\"edge\" id=\"edge4\"><title>2-&gt;4</title>\n",
       "<path d=\"M91.09,-21.2811C127.442,-21.2811 193.49,-21.2811 234.65,-21.2811\" fill=\"none\" stroke=\"black\"/>\n",
       "<polygon fill=\"black\" points=\"234.797,-24.7812 244.797,-21.2811 234.797,-17.7812 234.797,-24.7812\" stroke=\"black\"/>\n",
       "<text font-family=\"Times,serif\" font-size=\"14.00\" text-anchor=\"middle\" x=\"161\" y=\"-25.0811\">a</text>\n",
       "</g>\n",
       "<!-- 3&#45;&gt;F3 -->\n",
       "<g class=\"edge\" id=\"edge5\"><title>3-&gt;F3</title>\n",
       "<path d=\"M188.332,-86.5187C194.105,-88.5769 200.22,-90.6162 206,-92.2811 225.128,-97.7908 247.979,-102.23 260.858,-104.541\" fill=\"none\" stroke=\"DimGray\"/>\n",
       "<polygon fill=\"DimGray\" points=\"260.446,-108.021 270.894,-106.264 261.631,-101.122 260.446,-108.021\" stroke=\"DimGray\"/>\n",
       "</g>\n",
       "<!-- 3&#45;&gt;2 -->\n",
       "<g class=\"edge\" id=\"edge6\"><title>3-&gt;2</title>\n",
       "<path d=\"M144.405,-58.2023C136.602,-50.1549 126.576,-41.1834 116,-35.2811 111.359,-32.6908 106.208,-30.5561 101.017,-28.8034\" fill=\"none\" stroke=\"black\"/>\n",
       "<polygon fill=\"black\" points=\"101.686,-25.3521 91.105,-25.8844 99.7088,-32.067 101.686,-25.3521\" stroke=\"black\"/>\n",
       "<text font-family=\"Times,serif\" font-size=\"14.00\" text-anchor=\"middle\" x=\"112.5\" y=\"-39.0811\">b</text>\n",
       "</g>\n",
       "<!-- 3&#45;&gt;3 -->\n",
       "<g class=\"edge\" id=\"edge7\"><title>3-&gt;3</title>\n",
       "<path d=\"M152.316,-94.4338C150.98,-103.82 153.875,-112.281 161,-112.281 165.342,-112.281 168.113,-109.139 169.313,-104.561\" fill=\"none\" stroke=\"black\"/>\n",
       "<polygon fill=\"black\" points=\"172.815,-104.555 169.684,-94.4338 165.82,-104.299 172.815,-104.555\" stroke=\"black\"/>\n",
       "<text font-family=\"Times,serif\" font-size=\"14.00\" text-anchor=\"middle\" x=\"161\" y=\"-116.081\">a</text>\n",
       "</g>\n",
       "<!-- 3&#45;&gt;4 -->\n",
       "<g class=\"edge\" id=\"edge8\"><title>3-&gt;4</title>\n",
       "<path d=\"M188.087,-69.5186C200.281,-65.8441 214.774,-60.7231 227,-54.2811 231.857,-51.7217 236.753,-48.6472 241.423,-45.4182\" fill=\"none\" stroke=\"black\"/>\n",
       "<polygon fill=\"black\" points=\"243.506,-48.2311 249.532,-39.5167 239.387,-42.5713 243.506,-48.2311\" stroke=\"black\"/>\n",
       "<text font-family=\"Times,serif\" font-size=\"14.00\" text-anchor=\"middle\" x=\"216.5\" y=\"-67.0811\">a, b</text>\n",
       "</g>\n",
       "<!-- 4&#45;&gt;2 -->\n",
       "<g class=\"edge\" id=\"edge9\"><title>4-&gt;2</title>\n",
       "<path d=\"M244.722,-13.6702C228.526,-9.37971 207.243,-4.4554 188,-2.28106 164.152,0.413701 157.784,0.933681 134,-2.28106 123.083,-3.7567 111.451,-6.48931 100.909,-9.4312\" fill=\"none\" stroke=\"black\"/>\n",
       "<polygon fill=\"black\" points=\"99.8047,-6.1076 91.1948,-12.2817 101.776,-12.8244 99.8047,-6.1076\" stroke=\"black\"/>\n",
       "<text font-family=\"Times,serif\" font-size=\"14.00\" text-anchor=\"middle\" x=\"161\" y=\"-6.08106\">b</text>\n",
       "</g>\n",
       "<!-- 4&#45;&gt;3 -->\n",
       "<g class=\"edge\" id=\"edge10\"><title>4-&gt;3</title>\n",
       "<path d=\"M244.91,-23.6531C232.579,-25.5694 217.973,-29.0308 206,-35.2811 198.451,-39.2222 191.245,-44.8138 184.931,-50.6042\" fill=\"none\" stroke=\"black\"/>\n",
       "<polygon fill=\"black\" points=\"182.143,-48.4363 177.451,-57.9357 187.043,-53.4354 182.143,-48.4363\" stroke=\"black\"/>\n",
       "<text font-family=\"Times,serif\" font-size=\"14.00\" text-anchor=\"middle\" x=\"216.5\" y=\"-39.0811\">a</text>\n",
       "</g>\n",
       "<!-- 4&#45;&gt;4 -->\n",
       "<g class=\"edge\" id=\"edge11\"><title>4-&gt;4</title>\n",
       "<path d=\"M262.231,-39.4338C260.728,-48.8201 263.984,-57.2811 272,-57.2811 276.885,-57.2811 280.002,-54.1392 281.352,-49.5606\" fill=\"none\" stroke=\"black\"/>\n",
       "<polygon fill=\"black\" points=\"284.854,-49.5695 281.769,-39.4338 277.86,-49.2811 284.854,-49.5695\" stroke=\"black\"/>\n",
       "<text font-family=\"Times,serif\" font-size=\"14.00\" text-anchor=\"middle\" x=\"272\" y=\"-61.0811\">b</text>\n",
       "</g>\n",
       "</g>\n",
       "</svg>"
      ],
      "text/plain": [
       "<IPython.core.display.SVG object>"
      ]
     },
     "metadata": {},
     "output_type": "display_data"
    }
   ],
   "source": [
    "stt_2 = A.add_state()\n",
    "tr_3 = A.set_transition(stt_1,stt_1,'a')\n",
    "# Not recording ids of transitions any further\n",
    "A.set_transition(stt_2,stt_2,'b')\n",
    "A.set_transition(stt_0,stt_2,'a')\n",
    "A.set_transition(stt_2,stt_0,'b')\n",
    "A.set_transition(stt_1,stt_2,'b')\n",
    "A.set_transition(stt_1,stt_2,'a')\n",
    "A.set_transition(stt_2,stt_1,'a')\n",
    "A.display()"
   ]
  },
  {
   "cell_type": "markdown",
   "metadata": {},
   "source": [
    "---\n",
    "Deleting a transition by id"
   ]
  },
  {
   "cell_type": "code",
   "execution_count": 17,
   "metadata": {},
   "outputs": [
    {
     "data": {
      "image/svg+xml": [
       "<svg height=\"114pt\" viewBox=\"0.00 0.00 307.00 114.28\" width=\"307pt\" xmlns=\"http://www.w3.org/2000/svg\" xmlns:xlink=\"http://www.w3.org/1999/xlink\">\n",
       "<g class=\"graph\" id=\"graph0\" transform=\"scale(1 1) rotate(0) translate(4 110.281)\">\n",
       "<title>%3</title>\n",
       "<polygon fill=\"white\" points=\"-4,4 -4,-110.281 303,-110.281 303,4 -4,4\" stroke=\"none\"/>\n",
       "<!-- I2 -->\n",
       "<g class=\"node\" id=\"node1\"><title>I2</title>\n",
       "<ellipse cx=\"0\" cy=\"-21.2811\" fill=\"black\" rx=\"0\" ry=\"0\" stroke=\"black\"/>\n",
       "</g>\n",
       "<!-- 2 -->\n",
       "<g class=\"node\" id=\"node3\"><title>2</title>\n",
       "<path d=\"M79,-39.2811C79,-39.2811 49,-39.2811 49,-39.2811 43,-39.2811 37,-33.2811 37,-27.2811 37,-27.2811 37,-15.2811 37,-15.2811 37,-9.28106 43,-3.28106 49,-3.28106 49,-3.28106 79,-3.28106 79,-3.28106 85,-3.28106 91,-9.28106 91,-15.2811 91,-15.2811 91,-27.2811 91,-27.2811 91,-33.2811 85,-39.2811 79,-39.2811\" fill=\"none\" stroke=\"black\"/>\n",
       "<text font-family=\"Times,serif\" font-size=\"14.00\" text-anchor=\"middle\" x=\"64\" y=\"-17.5811\">s0</text>\n",
       "</g>\n",
       "<!-- I2&#45;&gt;2 -->\n",
       "<g class=\"edge\" id=\"edge1\"><title>I2-&gt;2</title>\n",
       "<path d=\"M1.04494,-21.2811C1.8631,-21.2811 13.7343,-21.2811 26.8695,-21.2811\" fill=\"none\" stroke=\"DimGray\"/>\n",
       "<polygon fill=\"DimGray\" points=\"26.9984,-24.7812 36.9983,-21.2811 26.9983,-17.7812 26.9984,-24.7812\" stroke=\"DimGray\"/>\n",
       "</g>\n",
       "<!-- F3 -->\n",
       "<g class=\"node\" id=\"node2\"><title>F3</title>\n",
       "<ellipse cx=\"272\" cy=\"-106.281\" fill=\"black\" rx=\"0\" ry=\"0\" stroke=\"black\"/>\n",
       "</g>\n",
       "<!-- 2&#45;&gt;2 -->\n",
       "<g class=\"edge\" id=\"edge2\"><title>2-&gt;2</title>\n",
       "<path d=\"M56.04,-39.4338C54.8154,-48.8201 57.4688,-57.2811 64,-57.2811 67.98,-57.2811 70.5199,-54.1392 71.6199,-49.5606\" fill=\"none\" stroke=\"black\"/>\n",
       "<polygon fill=\"black\" points=\"75.1223,-49.5456 71.96,-39.4338 68.1262,-49.3106 75.1223,-49.5456\" stroke=\"black\"/>\n",
       "<text font-family=\"Times,serif\" font-size=\"14.00\" text-anchor=\"middle\" x=\"64\" y=\"-61.0811\">b</text>\n",
       "</g>\n",
       "<!-- 3 -->\n",
       "<g class=\"node\" id=\"node4\"><title>3</title>\n",
       "<path d=\"M176,-94.2811C176,-94.2811 146,-94.2811 146,-94.2811 140,-94.2811 134,-88.2811 134,-82.2811 134,-82.2811 134,-70.2811 134,-70.2811 134,-64.2811 140,-58.2811 146,-58.2811 146,-58.2811 176,-58.2811 176,-58.2811 182,-58.2811 188,-64.2811 188,-70.2811 188,-70.2811 188,-82.2811 188,-82.2811 188,-88.2811 182,-94.2811 176,-94.2811\" fill=\"none\" stroke=\"black\"/>\n",
       "<text font-family=\"Times,serif\" font-size=\"14.00\" text-anchor=\"middle\" x=\"161\" y=\"-72.5811\">s1</text>\n",
       "</g>\n",
       "<!-- 2&#45;&gt;3 -->\n",
       "<g class=\"edge\" id=\"edge3\"><title>2-&gt;3</title>\n",
       "<path d=\"M87.1308,-39.476C93.9198,-44.6127 101.565,-49.971 109,-54.2811 113.901,-57.1224 119.239,-59.8182 124.554,-62.2858\" fill=\"none\" stroke=\"black\"/>\n",
       "<polygon fill=\"black\" points=\"123.438,-65.6192 134,-66.4628 126.27,-59.2173 123.438,-65.6192\" stroke=\"black\"/>\n",
       "<text font-family=\"Times,serif\" font-size=\"14.00\" text-anchor=\"middle\" x=\"112.5\" y=\"-61.0811\">a</text>\n",
       "</g>\n",
       "<!-- 4 -->\n",
       "<g class=\"node\" id=\"node5\"><title>4</title>\n",
       "<path d=\"M287,-39.2811C287,-39.2811 257,-39.2811 257,-39.2811 251,-39.2811 245,-33.2811 245,-27.2811 245,-27.2811 245,-15.2811 245,-15.2811 245,-9.28106 251,-3.28106 257,-3.28106 257,-3.28106 287,-3.28106 287,-3.28106 293,-3.28106 299,-9.28106 299,-15.2811 299,-15.2811 299,-27.2811 299,-27.2811 299,-33.2811 293,-39.2811 287,-39.2811\" fill=\"none\" stroke=\"black\"/>\n",
       "<text font-family=\"Times,serif\" font-size=\"14.00\" text-anchor=\"middle\" x=\"272\" y=\"-17.5811\">s2</text>\n",
       "</g>\n",
       "<!-- 2&#45;&gt;4 -->\n",
       "<g class=\"edge\" id=\"edge4\"><title>2-&gt;4</title>\n",
       "<path d=\"M91.09,-21.2811C127.442,-21.2811 193.49,-21.2811 234.65,-21.2811\" fill=\"none\" stroke=\"black\"/>\n",
       "<polygon fill=\"black\" points=\"234.797,-24.7812 244.797,-21.2811 234.797,-17.7812 234.797,-24.7812\" stroke=\"black\"/>\n",
       "<text font-family=\"Times,serif\" font-size=\"14.00\" text-anchor=\"middle\" x=\"161\" y=\"-25.0811\">a</text>\n",
       "</g>\n",
       "<!-- 3&#45;&gt;F3 -->\n",
       "<g class=\"edge\" id=\"edge5\"><title>3-&gt;F3</title>\n",
       "<path d=\"M188.332,-86.5187C194.105,-88.5769 200.22,-90.6162 206,-92.2811 225.128,-97.7908 247.979,-102.23 260.858,-104.541\" fill=\"none\" stroke=\"DimGray\"/>\n",
       "<polygon fill=\"DimGray\" points=\"260.446,-108.021 270.894,-106.264 261.631,-101.122 260.446,-108.021\" stroke=\"DimGray\"/>\n",
       "</g>\n",
       "<!-- 3&#45;&gt;2 -->\n",
       "<g class=\"edge\" id=\"edge6\"><title>3-&gt;2</title>\n",
       "<path d=\"M144.405,-58.2023C136.602,-50.1549 126.576,-41.1834 116,-35.2811 111.359,-32.6908 106.208,-30.5561 101.017,-28.8034\" fill=\"none\" stroke=\"black\"/>\n",
       "<polygon fill=\"black\" points=\"101.686,-25.3521 91.105,-25.8844 99.7088,-32.067 101.686,-25.3521\" stroke=\"black\"/>\n",
       "<text font-family=\"Times,serif\" font-size=\"14.00\" text-anchor=\"middle\" x=\"112.5\" y=\"-39.0811\">b</text>\n",
       "</g>\n",
       "<!-- 3&#45;&gt;4 -->\n",
       "<g class=\"edge\" id=\"edge7\"><title>3-&gt;4</title>\n",
       "<path d=\"M188.087,-69.5186C200.281,-65.8441 214.774,-60.7231 227,-54.2811 231.857,-51.7217 236.753,-48.6472 241.423,-45.4182\" fill=\"none\" stroke=\"black\"/>\n",
       "<polygon fill=\"black\" points=\"243.506,-48.2311 249.532,-39.5167 239.387,-42.5713 243.506,-48.2311\" stroke=\"black\"/>\n",
       "<text font-family=\"Times,serif\" font-size=\"14.00\" text-anchor=\"middle\" x=\"216.5\" y=\"-67.0811\">a, b</text>\n",
       "</g>\n",
       "<!-- 4&#45;&gt;2 -->\n",
       "<g class=\"edge\" id=\"edge8\"><title>4-&gt;2</title>\n",
       "<path d=\"M244.722,-13.6702C228.526,-9.37971 207.243,-4.4554 188,-2.28106 164.152,0.413701 157.784,0.933681 134,-2.28106 123.083,-3.7567 111.451,-6.48931 100.909,-9.4312\" fill=\"none\" stroke=\"black\"/>\n",
       "<polygon fill=\"black\" points=\"99.8047,-6.1076 91.1948,-12.2817 101.776,-12.8244 99.8047,-6.1076\" stroke=\"black\"/>\n",
       "<text font-family=\"Times,serif\" font-size=\"14.00\" text-anchor=\"middle\" x=\"161\" y=\"-6.08106\">b</text>\n",
       "</g>\n",
       "<!-- 4&#45;&gt;3 -->\n",
       "<g class=\"edge\" id=\"edge9\"><title>4-&gt;3</title>\n",
       "<path d=\"M244.91,-23.6531C232.579,-25.5694 217.973,-29.0308 206,-35.2811 198.451,-39.2222 191.245,-44.8138 184.931,-50.6042\" fill=\"none\" stroke=\"black\"/>\n",
       "<polygon fill=\"black\" points=\"182.143,-48.4363 177.451,-57.9357 187.043,-53.4354 182.143,-48.4363\" stroke=\"black\"/>\n",
       "<text font-family=\"Times,serif\" font-size=\"14.00\" text-anchor=\"middle\" x=\"216.5\" y=\"-39.0811\">a</text>\n",
       "</g>\n",
       "<!-- 4&#45;&gt;4 -->\n",
       "<g class=\"edge\" id=\"edge10\"><title>4-&gt;4</title>\n",
       "<path d=\"M262.231,-39.4338C260.728,-48.8201 263.984,-57.2811 272,-57.2811 276.885,-57.2811 280.002,-54.1392 281.352,-49.5606\" fill=\"none\" stroke=\"black\"/>\n",
       "<polygon fill=\"black\" points=\"284.854,-49.5695 281.769,-39.4338 277.86,-49.2811 284.854,-49.5695\" stroke=\"black\"/>\n",
       "<text font-family=\"Times,serif\" font-size=\"14.00\" text-anchor=\"middle\" x=\"272\" y=\"-61.0811\">b</text>\n",
       "</g>\n",
       "</g>\n",
       "</svg>"
      ],
      "text/plain": [
       "<IPython.core.display.SVG object>"
      ]
     },
     "metadata": {},
     "output_type": "display_data"
    }
   ],
   "source": [
    "A.del_transition(tr_3) # tr_3 is the transition: s2 --a--> s2\n",
    "A.display()"
   ]
  },
  {
   "cell_type": "markdown",
   "metadata": {},
   "source": [
    "---\n",
    "Deleting a transition by triplet (origin, destination, label)  "
   ]
  },
  {
   "cell_type": "code",
   "execution_count": 18,
   "metadata": {},
   "outputs": [
    {
     "data": {
      "image/svg+xml": [
       "<svg height=\"114pt\" viewBox=\"0.00 0.00 307.00 114.28\" width=\"307pt\" xmlns=\"http://www.w3.org/2000/svg\" xmlns:xlink=\"http://www.w3.org/1999/xlink\">\n",
       "<g class=\"graph\" id=\"graph0\" transform=\"scale(1 1) rotate(0) translate(4 110.281)\">\n",
       "<title>%3</title>\n",
       "<polygon fill=\"white\" points=\"-4,4 -4,-110.281 303,-110.281 303,4 -4,4\" stroke=\"none\"/>\n",
       "<!-- I2 -->\n",
       "<g class=\"node\" id=\"node1\"><title>I2</title>\n",
       "<ellipse cx=\"0\" cy=\"-21.2811\" fill=\"black\" rx=\"0\" ry=\"0\" stroke=\"black\"/>\n",
       "</g>\n",
       "<!-- 2 -->\n",
       "<g class=\"node\" id=\"node3\"><title>2</title>\n",
       "<path d=\"M79,-39.2811C79,-39.2811 49,-39.2811 49,-39.2811 43,-39.2811 37,-33.2811 37,-27.2811 37,-27.2811 37,-15.2811 37,-15.2811 37,-9.28106 43,-3.28106 49,-3.28106 49,-3.28106 79,-3.28106 79,-3.28106 85,-3.28106 91,-9.28106 91,-15.2811 91,-15.2811 91,-27.2811 91,-27.2811 91,-33.2811 85,-39.2811 79,-39.2811\" fill=\"none\" stroke=\"black\"/>\n",
       "<text font-family=\"Times,serif\" font-size=\"14.00\" text-anchor=\"middle\" x=\"64\" y=\"-17.5811\">s0</text>\n",
       "</g>\n",
       "<!-- I2&#45;&gt;2 -->\n",
       "<g class=\"edge\" id=\"edge1\"><title>I2-&gt;2</title>\n",
       "<path d=\"M1.04494,-21.2811C1.8631,-21.2811 13.7343,-21.2811 26.8695,-21.2811\" fill=\"none\" stroke=\"DimGray\"/>\n",
       "<polygon fill=\"DimGray\" points=\"26.9984,-24.7812 36.9983,-21.2811 26.9983,-17.7812 26.9984,-24.7812\" stroke=\"DimGray\"/>\n",
       "</g>\n",
       "<!-- F3 -->\n",
       "<g class=\"node\" id=\"node2\"><title>F3</title>\n",
       "<ellipse cx=\"272\" cy=\"-106.281\" fill=\"black\" rx=\"0\" ry=\"0\" stroke=\"black\"/>\n",
       "</g>\n",
       "<!-- 2&#45;&gt;2 -->\n",
       "<g class=\"edge\" id=\"edge2\"><title>2-&gt;2</title>\n",
       "<path d=\"M56.04,-39.4338C54.8154,-48.8201 57.4688,-57.2811 64,-57.2811 67.98,-57.2811 70.5199,-54.1392 71.6199,-49.5606\" fill=\"none\" stroke=\"black\"/>\n",
       "<polygon fill=\"black\" points=\"75.1223,-49.5456 71.96,-39.4338 68.1262,-49.3106 75.1223,-49.5456\" stroke=\"black\"/>\n",
       "<text font-family=\"Times,serif\" font-size=\"14.00\" text-anchor=\"middle\" x=\"64\" y=\"-61.0811\">b</text>\n",
       "</g>\n",
       "<!-- 3 -->\n",
       "<g class=\"node\" id=\"node4\"><title>3</title>\n",
       "<path d=\"M176,-94.2811C176,-94.2811 146,-94.2811 146,-94.2811 140,-94.2811 134,-88.2811 134,-82.2811 134,-82.2811 134,-70.2811 134,-70.2811 134,-64.2811 140,-58.2811 146,-58.2811 146,-58.2811 176,-58.2811 176,-58.2811 182,-58.2811 188,-64.2811 188,-70.2811 188,-70.2811 188,-82.2811 188,-82.2811 188,-88.2811 182,-94.2811 176,-94.2811\" fill=\"none\" stroke=\"black\"/>\n",
       "<text font-family=\"Times,serif\" font-size=\"14.00\" text-anchor=\"middle\" x=\"161\" y=\"-72.5811\">s1</text>\n",
       "</g>\n",
       "<!-- 2&#45;&gt;3 -->\n",
       "<g class=\"edge\" id=\"edge3\"><title>2-&gt;3</title>\n",
       "<path d=\"M87.1308,-39.476C93.9198,-44.6127 101.565,-49.971 109,-54.2811 113.901,-57.1224 119.239,-59.8182 124.554,-62.2858\" fill=\"none\" stroke=\"black\"/>\n",
       "<polygon fill=\"black\" points=\"123.438,-65.6192 134,-66.4628 126.27,-59.2173 123.438,-65.6192\" stroke=\"black\"/>\n",
       "<text font-family=\"Times,serif\" font-size=\"14.00\" text-anchor=\"middle\" x=\"112.5\" y=\"-61.0811\">a</text>\n",
       "</g>\n",
       "<!-- 4 -->\n",
       "<g class=\"node\" id=\"node5\"><title>4</title>\n",
       "<path d=\"M287,-39.2811C287,-39.2811 257,-39.2811 257,-39.2811 251,-39.2811 245,-33.2811 245,-27.2811 245,-27.2811 245,-15.2811 245,-15.2811 245,-9.28106 251,-3.28106 257,-3.28106 257,-3.28106 287,-3.28106 287,-3.28106 293,-3.28106 299,-9.28106 299,-15.2811 299,-15.2811 299,-27.2811 299,-27.2811 299,-33.2811 293,-39.2811 287,-39.2811\" fill=\"none\" stroke=\"black\"/>\n",
       "<text font-family=\"Times,serif\" font-size=\"14.00\" text-anchor=\"middle\" x=\"272\" y=\"-17.5811\">s2</text>\n",
       "</g>\n",
       "<!-- 2&#45;&gt;4 -->\n",
       "<g class=\"edge\" id=\"edge4\"><title>2-&gt;4</title>\n",
       "<path d=\"M91.09,-21.2811C127.442,-21.2811 193.49,-21.2811 234.65,-21.2811\" fill=\"none\" stroke=\"black\"/>\n",
       "<polygon fill=\"black\" points=\"234.797,-24.7812 244.797,-21.2811 234.797,-17.7812 234.797,-24.7812\" stroke=\"black\"/>\n",
       "<text font-family=\"Times,serif\" font-size=\"14.00\" text-anchor=\"middle\" x=\"161\" y=\"-25.0811\">a</text>\n",
       "</g>\n",
       "<!-- 3&#45;&gt;F3 -->\n",
       "<g class=\"edge\" id=\"edge5\"><title>3-&gt;F3</title>\n",
       "<path d=\"M188.332,-86.5187C194.105,-88.5769 200.22,-90.6162 206,-92.2811 225.128,-97.7908 247.979,-102.23 260.858,-104.541\" fill=\"none\" stroke=\"DimGray\"/>\n",
       "<polygon fill=\"DimGray\" points=\"260.446,-108.021 270.894,-106.264 261.631,-101.122 260.446,-108.021\" stroke=\"DimGray\"/>\n",
       "</g>\n",
       "<!-- 3&#45;&gt;2 -->\n",
       "<g class=\"edge\" id=\"edge6\"><title>3-&gt;2</title>\n",
       "<path d=\"M144.405,-58.2023C136.602,-50.1549 126.576,-41.1834 116,-35.2811 111.359,-32.6908 106.208,-30.5561 101.017,-28.8034\" fill=\"none\" stroke=\"black\"/>\n",
       "<polygon fill=\"black\" points=\"101.686,-25.3521 91.105,-25.8844 99.7088,-32.067 101.686,-25.3521\" stroke=\"black\"/>\n",
       "<text font-family=\"Times,serif\" font-size=\"14.00\" text-anchor=\"middle\" x=\"112.5\" y=\"-39.0811\">b</text>\n",
       "</g>\n",
       "<!-- 3&#45;&gt;4 -->\n",
       "<g class=\"edge\" id=\"edge7\"><title>3-&gt;4</title>\n",
       "<path d=\"M188.087,-69.5186C200.281,-65.8441 214.774,-60.7231 227,-54.2811 231.857,-51.7217 236.753,-48.6472 241.423,-45.4182\" fill=\"none\" stroke=\"black\"/>\n",
       "<polygon fill=\"black\" points=\"243.506,-48.2311 249.532,-39.5167 239.387,-42.5713 243.506,-48.2311\" stroke=\"black\"/>\n",
       "<text font-family=\"Times,serif\" font-size=\"14.00\" text-anchor=\"middle\" x=\"216.5\" y=\"-67.0811\">a, b</text>\n",
       "</g>\n",
       "<!-- 4&#45;&gt;2 -->\n",
       "<g class=\"edge\" id=\"edge8\"><title>4-&gt;2</title>\n",
       "<path d=\"M244.722,-13.6702C228.526,-9.37971 207.243,-4.4554 188,-2.28106 164.152,0.413701 157.784,0.933681 134,-2.28106 123.083,-3.7567 111.451,-6.48931 100.909,-9.4312\" fill=\"none\" stroke=\"black\"/>\n",
       "<polygon fill=\"black\" points=\"99.8047,-6.1076 91.1948,-12.2817 101.776,-12.8244 99.8047,-6.1076\" stroke=\"black\"/>\n",
       "<text font-family=\"Times,serif\" font-size=\"14.00\" text-anchor=\"middle\" x=\"161\" y=\"-6.08106\">b</text>\n",
       "</g>\n",
       "<!-- 4&#45;&gt;3 -->\n",
       "<g class=\"edge\" id=\"edge9\"><title>4-&gt;3</title>\n",
       "<path d=\"M244.91,-23.6531C232.579,-25.5694 217.973,-29.0308 206,-35.2811 198.451,-39.2222 191.245,-44.8138 184.931,-50.6042\" fill=\"none\" stroke=\"black\"/>\n",
       "<polygon fill=\"black\" points=\"182.143,-48.4363 177.451,-57.9357 187.043,-53.4354 182.143,-48.4363\" stroke=\"black\"/>\n",
       "<text font-family=\"Times,serif\" font-size=\"14.00\" text-anchor=\"middle\" x=\"216.5\" y=\"-39.0811\">a</text>\n",
       "</g>\n",
       "</g>\n",
       "</svg>"
      ],
      "text/plain": [
       "<IPython.core.display.SVG object>"
      ]
     },
     "metadata": {},
     "output_type": "display_data"
    }
   ],
   "source": [
    "A.del_transition(stt_2,stt_2,'b')\n",
    "A.display()"
   ]
  },
  {
   "cell_type": "markdown",
   "metadata": {},
   "source": [
    "---\n",
    "Deleting all transitions from a state to another (order matters)."
   ]
  },
  {
   "cell_type": "code",
   "execution_count": 19,
   "metadata": {},
   "outputs": [
    {
     "data": {
      "image/svg+xml": [
       "<svg height=\"109pt\" viewBox=\"0.00 0.00 330.00 109.04\" width=\"330pt\" xmlns=\"http://www.w3.org/2000/svg\" xmlns:xlink=\"http://www.w3.org/1999/xlink\">\n",
       "<g class=\"graph\" id=\"graph0\" transform=\"scale(1 1) rotate(0) translate(4 105.039)\">\n",
       "<title>%3</title>\n",
       "<polygon fill=\"white\" points=\"-4,4 -4,-105.039 326,-105.039 326,4 -4,4\" stroke=\"none\"/>\n",
       "<!-- I2 -->\n",
       "<g class=\"node\" id=\"node1\"><title>I2</title>\n",
       "<ellipse cx=\"0\" cy=\"-50.0394\" fill=\"black\" rx=\"0\" ry=\"0\" stroke=\"black\"/>\n",
       "</g>\n",
       "<!-- 2 -->\n",
       "<g class=\"node\" id=\"node3\"><title>2</title>\n",
       "<path d=\"M79,-68.0394C79,-68.0394 49,-68.0394 49,-68.0394 43,-68.0394 37,-62.0394 37,-56.0394 37,-56.0394 37,-44.0394 37,-44.0394 37,-38.0394 43,-32.0394 49,-32.0394 49,-32.0394 79,-32.0394 79,-32.0394 85,-32.0394 91,-38.0394 91,-44.0394 91,-44.0394 91,-56.0394 91,-56.0394 91,-62.0394 85,-68.0394 79,-68.0394\" fill=\"none\" stroke=\"black\"/>\n",
       "<text font-family=\"Times,serif\" font-size=\"14.00\" text-anchor=\"middle\" x=\"64\" y=\"-46.3394\">s0</text>\n",
       "</g>\n",
       "<!-- I2&#45;&gt;2 -->\n",
       "<g class=\"edge\" id=\"edge1\"><title>I2-&gt;2</title>\n",
       "<path d=\"M1.04494,-50.0394C1.8631,-50.0394 13.7343,-50.0394 26.8695,-50.0394\" fill=\"none\" stroke=\"DimGray\"/>\n",
       "<polygon fill=\"DimGray\" points=\"26.9984,-53.5395 36.9983,-50.0394 26.9983,-46.5395 26.9984,-53.5395\" stroke=\"DimGray\"/>\n",
       "</g>\n",
       "<!-- F3 -->\n",
       "<g class=\"node\" id=\"node2\"><title>F3</title>\n",
       "<ellipse cx=\"322\" cy=\"-47.0394\" fill=\"black\" rx=\"0\" ry=\"0\" stroke=\"black\"/>\n",
       "</g>\n",
       "<!-- 2&#45;&gt;2 -->\n",
       "<g class=\"edge\" id=\"edge2\"><title>2-&gt;2</title>\n",
       "<path d=\"M56.04,-68.1921C54.8154,-77.5784 57.4688,-86.0394 64,-86.0394 67.98,-86.0394 70.5199,-82.8975 71.6199,-78.3189\" fill=\"none\" stroke=\"black\"/>\n",
       "<polygon fill=\"black\" points=\"75.1223,-78.304 71.96,-68.1921 68.1262,-78.0689 75.1223,-78.304\" stroke=\"black\"/>\n",
       "<text font-family=\"Times,serif\" font-size=\"14.00\" text-anchor=\"middle\" x=\"64\" y=\"-89.8394\">b</text>\n",
       "</g>\n",
       "<!-- 3 -->\n",
       "<g class=\"node\" id=\"node4\"><title>3</title>\n",
       "<path d=\"M273,-65.0394C273,-65.0394 243,-65.0394 243,-65.0394 237,-65.0394 231,-59.0394 231,-53.0394 231,-53.0394 231,-41.0394 231,-41.0394 231,-35.0394 237,-29.0394 243,-29.0394 243,-29.0394 273,-29.0394 273,-29.0394 279,-29.0394 285,-35.0394 285,-41.0394 285,-41.0394 285,-53.0394 285,-53.0394 285,-59.0394 279,-65.0394 273,-65.0394\" fill=\"none\" stroke=\"black\"/>\n",
       "<text font-family=\"Times,serif\" font-size=\"14.00\" text-anchor=\"middle\" x=\"258\" y=\"-43.3394\">s1</text>\n",
       "</g>\n",
       "<!-- 2&#45;&gt;3 -->\n",
       "<g class=\"edge\" id=\"edge3\"><title>2-&gt;3</title>\n",
       "<path d=\"M91.3761,-60.7012C97.1466,-62.9014 103.249,-65.1282 109,-67.0394 142.45,-78.1559 153.173,-79.4759 188,-74.0394 199.288,-72.2773 211.048,-68.4883 221.595,-64.2907\" fill=\"none\" stroke=\"black\"/>\n",
       "<polygon fill=\"black\" points=\"223.038,-67.4804 230.891,-60.3674 220.317,-61.0312 223.038,-67.4804\" stroke=\"black\"/>\n",
       "<text font-family=\"Times,serif\" font-size=\"14.00\" text-anchor=\"middle\" x=\"161\" y=\"-80.8394\">a</text>\n",
       "</g>\n",
       "<!-- 4 -->\n",
       "<g class=\"node\" id=\"node5\"><title>4</title>\n",
       "<path d=\"M176,-65.0394C176,-65.0394 146,-65.0394 146,-65.0394 140,-65.0394 134,-59.0394 134,-53.0394 134,-53.0394 134,-41.0394 134,-41.0394 134,-35.0394 140,-29.0394 146,-29.0394 146,-29.0394 176,-29.0394 176,-29.0394 182,-29.0394 188,-35.0394 188,-41.0394 188,-41.0394 188,-53.0394 188,-53.0394 188,-59.0394 182,-65.0394 176,-65.0394\" fill=\"none\" stroke=\"black\"/>\n",
       "<text font-family=\"Times,serif\" font-size=\"14.00\" text-anchor=\"middle\" x=\"161\" y=\"-43.3394\">s2</text>\n",
       "</g>\n",
       "<!-- 2&#45;&gt;4 -->\n",
       "<g class=\"edge\" id=\"edge4\"><title>2-&gt;4</title>\n",
       "<path d=\"M91.2106,-49.2117C101.283,-48.8936 112.965,-48.5247 123.811,-48.1822\" fill=\"none\" stroke=\"black\"/>\n",
       "<polygon fill=\"black\" points=\"123.99,-51.6784 133.875,-47.8644 123.769,-44.6818 123.99,-51.6784\" stroke=\"black\"/>\n",
       "<text font-family=\"Times,serif\" font-size=\"14.00\" text-anchor=\"middle\" x=\"112.5\" y=\"-51.8394\">a</text>\n",
       "</g>\n",
       "<!-- 3&#45;&gt;F3 -->\n",
       "<g class=\"edge\" id=\"edge5\"><title>3-&gt;F3</title>\n",
       "<path d=\"M285.294,-47.0394C294.246,-47.0394 303.734,-47.0394 310.678,-47.0394\" fill=\"none\" stroke=\"DimGray\"/>\n",
       "<polygon fill=\"DimGray\" points=\"310.946,-50.5395 320.946,-47.0394 310.945,-43.5395 310.946,-50.5395\" stroke=\"DimGray\"/>\n",
       "</g>\n",
       "<!-- 3&#45;&gt;2 -->\n",
       "<g class=\"edge\" id=\"edge6\"><title>3-&gt;2</title>\n",
       "<path d=\"M234.547,-29.0194C221.725,-19.897 204.879,-9.77245 188,-5.03937 164.891,1.44066 157.005,1.79935 134,-5.03937 119.659,-9.30241 105.517,-17.5955 93.806,-25.9132\" fill=\"none\" stroke=\"black\"/>\n",
       "<polygon fill=\"black\" points=\"91.672,-23.1384 85.7399,-31.9168 95.8516,-28.7537 91.672,-23.1384\" stroke=\"black\"/>\n",
       "<text font-family=\"Times,serif\" font-size=\"14.00\" text-anchor=\"middle\" x=\"161\" y=\"-8.83937\">b</text>\n",
       "</g>\n",
       "<!-- 4&#45;&gt;2 -->\n",
       "<g class=\"edge\" id=\"edge7\"><title>4-&gt;2</title>\n",
       "<path d=\"M133.875,-31.7955C125.992,-28.8441 117.242,-27.1734 109,-29.0394 106.214,-29.6702 103.398,-30.4997 100.607,-31.4644\" fill=\"none\" stroke=\"black\"/>\n",
       "<polygon fill=\"black\" points=\"99.2969,-28.219 91.3045,-35.174 101.89,-34.7211 99.2969,-28.219\" stroke=\"black\"/>\n",
       "<text font-family=\"Times,serif\" font-size=\"14.00\" text-anchor=\"middle\" x=\"112.5\" y=\"-32.8394\">b</text>\n",
       "</g>\n",
       "<!-- 4&#45;&gt;3 -->\n",
       "<g class=\"edge\" id=\"edge8\"><title>4-&gt;3</title>\n",
       "<path d=\"M188.211,-47.0394C198.283,-47.0394 209.965,-47.0394 220.811,-47.0394\" fill=\"none\" stroke=\"black\"/>\n",
       "<polygon fill=\"black\" points=\"220.875,-50.5395 230.875,-47.0394 220.875,-43.5395 220.875,-50.5395\" stroke=\"black\"/>\n",
       "<text font-family=\"Times,serif\" font-size=\"14.00\" text-anchor=\"middle\" x=\"209.5\" y=\"-50.8394\">a</text>\n",
       "</g>\n",
       "</g>\n",
       "</svg>"
      ],
      "text/plain": [
       "<IPython.core.display.SVG object>"
      ]
     },
     "metadata": {},
     "output_type": "display_data"
    }
   ],
   "source": [
    "A.del_transition(stt_1,stt_2)\n",
    "A.display()"
   ]
  },
  {
   "cell_type": "markdown",
   "metadata": {},
   "source": [
    "---\n",
    "Deleting a state (and all its outgoing and incoming transitions) "
   ]
  },
  {
   "cell_type": "code",
   "execution_count": 20,
   "metadata": {},
   "outputs": [
    {
     "data": {
      "image/svg+xml": [
       "<svg height=\"79pt\" viewBox=\"0.00 0.00 233.00 78.86\" width=\"233pt\" xmlns=\"http://www.w3.org/2000/svg\" xmlns:xlink=\"http://www.w3.org/1999/xlink\">\n",
       "<g class=\"graph\" id=\"graph0\" transform=\"scale(1 1) rotate(0) translate(4 74.8606)\">\n",
       "<title>%3</title>\n",
       "<polygon fill=\"white\" points=\"-4,4 -4,-74.8606 229,-74.8606 229,4 -4,4\" stroke=\"none\"/>\n",
       "<!-- I2 -->\n",
       "<g class=\"node\" id=\"node1\"><title>I2</title>\n",
       "<ellipse cx=\"0\" cy=\"-19.8606\" fill=\"black\" rx=\"0\" ry=\"0\" stroke=\"black\"/>\n",
       "</g>\n",
       "<!-- 2 -->\n",
       "<g class=\"node\" id=\"node3\"><title>2</title>\n",
       "<path d=\"M79,-37.8606C79,-37.8606 49,-37.8606 49,-37.8606 43,-37.8606 37,-31.8606 37,-25.8606 37,-25.8606 37,-13.8606 37,-13.8606 37,-7.86062 43,-1.86062 49,-1.86062 49,-1.86062 79,-1.86062 79,-1.86062 85,-1.86062 91,-7.86062 91,-13.8606 91,-13.8606 91,-25.8606 91,-25.8606 91,-31.8606 85,-37.8606 79,-37.8606\" fill=\"none\" stroke=\"black\"/>\n",
       "<text font-family=\"Times,serif\" font-size=\"14.00\" text-anchor=\"middle\" x=\"64\" y=\"-16.1606\">s0</text>\n",
       "</g>\n",
       "<!-- I2&#45;&gt;2 -->\n",
       "<g class=\"edge\" id=\"edge1\"><title>I2-&gt;2</title>\n",
       "<path d=\"M1.04494,-19.8606C1.8631,-19.8606 13.7343,-19.8606 26.8695,-19.8606\" fill=\"none\" stroke=\"DimGray\"/>\n",
       "<polygon fill=\"DimGray\" points=\"26.9984,-23.3607 36.9983,-19.8606 26.9983,-16.3607 26.9984,-23.3607\" stroke=\"DimGray\"/>\n",
       "</g>\n",
       "<!-- F3 -->\n",
       "<g class=\"node\" id=\"node2\"><title>F3</title>\n",
       "<ellipse cx=\"225\" cy=\"-19.8606\" fill=\"black\" rx=\"0\" ry=\"0\" stroke=\"black\"/>\n",
       "</g>\n",
       "<!-- 2&#45;&gt;2 -->\n",
       "<g class=\"edge\" id=\"edge2\"><title>2-&gt;2</title>\n",
       "<path d=\"M56.04,-38.0133C54.8154,-47.3997 57.4688,-55.8606 64,-55.8606 67.98,-55.8606 70.5199,-52.7187 71.6199,-48.1402\" fill=\"none\" stroke=\"black\"/>\n",
       "<polygon fill=\"black\" points=\"75.1223,-48.1252 71.96,-38.0133 68.1262,-47.8902 75.1223,-48.1252\" stroke=\"black\"/>\n",
       "<text font-family=\"Times,serif\" font-size=\"14.00\" text-anchor=\"middle\" x=\"64\" y=\"-59.6606\">b</text>\n",
       "</g>\n",
       "<!-- 3 -->\n",
       "<g class=\"node\" id=\"node4\"><title>3</title>\n",
       "<path d=\"M176,-37.8606C176,-37.8606 146,-37.8606 146,-37.8606 140,-37.8606 134,-31.8606 134,-25.8606 134,-25.8606 134,-13.8606 134,-13.8606 134,-7.86062 140,-1.86062 146,-1.86062 146,-1.86062 176,-1.86062 176,-1.86062 182,-1.86062 188,-7.86062 188,-13.8606 188,-13.8606 188,-25.8606 188,-25.8606 188,-31.8606 182,-37.8606 176,-37.8606\" fill=\"none\" stroke=\"black\"/>\n",
       "<text font-family=\"Times,serif\" font-size=\"14.00\" text-anchor=\"middle\" x=\"161\" y=\"-16.1606\">s1</text>\n",
       "</g>\n",
       "<!-- 2&#45;&gt;3 -->\n",
       "<g class=\"edge\" id=\"edge3\"><title>2-&gt;3</title>\n",
       "<path d=\"M91.2106,-19.8606C101.283,-19.8606 112.965,-19.8606 123.811,-19.8606\" fill=\"none\" stroke=\"black\"/>\n",
       "<polygon fill=\"black\" points=\"123.875,-23.3607 133.875,-19.8606 123.875,-16.3607 123.875,-23.3607\" stroke=\"black\"/>\n",
       "<text font-family=\"Times,serif\" font-size=\"14.00\" text-anchor=\"middle\" x=\"112.5\" y=\"-23.6606\">a</text>\n",
       "</g>\n",
       "<!-- 3&#45;&gt;F3 -->\n",
       "<g class=\"edge\" id=\"edge4\"><title>3-&gt;F3</title>\n",
       "<path d=\"M188.294,-19.8606C197.246,-19.8606 206.734,-19.8606 213.678,-19.8606\" fill=\"none\" stroke=\"DimGray\"/>\n",
       "<polygon fill=\"DimGray\" points=\"213.946,-23.3607 223.946,-19.8606 213.945,-16.3607 213.946,-23.3607\" stroke=\"DimGray\"/>\n",
       "</g>\n",
       "<!-- 3&#45;&gt;2 -->\n",
       "<g class=\"edge\" id=\"edge5\"><title>3-&gt;2</title>\n",
       "<path d=\"M133.983,-4.08325C126.103,-0.976721 117.328,0.860616 109,-0.860616 106.342,-1.41007 103.646,-2.12807 100.966,-2.96272\" fill=\"none\" stroke=\"black\"/>\n",
       "<polygon fill=\"black\" points=\"99.6439,0.281121 91.4238,-6.4033 102.018,-6.30393 99.6439,0.281121\" stroke=\"black\"/>\n",
       "<text font-family=\"Times,serif\" font-size=\"14.00\" text-anchor=\"middle\" x=\"112.5\" y=\"-4.66062\">b</text>\n",
       "</g>\n",
       "</g>\n",
       "</svg>"
      ],
      "text/plain": [
       "<IPython.core.display.SVG object>"
      ]
     },
     "metadata": {},
     "output_type": "display_data"
    }
   ],
   "source": [
    "A.del_state(stt_2)\n",
    "A.display()"
   ]
  },
  {
   "cell_type": "markdown",
   "metadata": {},
   "source": [
    "## Loading & saving automata"
   ]
  },
  {
   "cell_type": "markdown",
   "metadata": {},
   "source": [
    "Saving an automaton to file.  The format used is JavaScript Object Notation (JSON) hence the extension \".json\" ."
   ]
  },
  {
   "cell_type": "code",
   "execution_count": 21,
   "metadata": {},
   "outputs": [],
   "source": [
    "A.save(\"fibo.json\")"
   ]
  },
  {
   "cell_type": "code",
   "execution_count": 22,
   "metadata": {},
   "outputs": [
    {
     "name": "stdout",
     "output_type": "stream",
     "text": [
      "\u001b[0m\u001b[01;36mawalipy_purepython_extra.py\u001b[0m@     Edition1.ipynb\r\n",
      "awalipy_purepython_extra.pyc     Edition2.ipynb\r\n",
      "\u001b[01;36mawalipy.so\u001b[0m@                      Edition3.ipynb\r\n",
      "ClassicalTransformations1.ipynb  fibo.json\r\n",
      "ClassicalTransformations2.ipynb  fibo_LR_additioner.json\r\n",
      "CMakeLists.txt                   RationalExpression.ipynb\r\n"
     ]
    }
   ],
   "source": [
    "ls"
   ]
  },
  {
   "cell_type": "markdown",
   "metadata": {},
   "source": [
    "---\n",
    "Loading an automaton."
   ]
  },
  {
   "cell_type": "code",
   "execution_count": 23,
   "metadata": {},
   "outputs": [
    {
     "data": {
      "image/svg+xml": [
       "<svg height=\"79pt\" viewBox=\"0.00 0.00 233.00 78.86\" width=\"233pt\" xmlns=\"http://www.w3.org/2000/svg\" xmlns:xlink=\"http://www.w3.org/1999/xlink\">\n",
       "<g class=\"graph\" id=\"graph0\" transform=\"scale(1 1) rotate(0) translate(4 74.8606)\">\n",
       "<title>%3</title>\n",
       "<polygon fill=\"white\" points=\"-4,4 -4,-74.8606 229,-74.8606 229,4 -4,4\" stroke=\"none\"/>\n",
       "<!-- I2 -->\n",
       "<g class=\"node\" id=\"node1\"><title>I2</title>\n",
       "<ellipse cx=\"0\" cy=\"-19.8606\" fill=\"black\" rx=\"0\" ry=\"0\" stroke=\"black\"/>\n",
       "</g>\n",
       "<!-- 2 -->\n",
       "<g class=\"node\" id=\"node3\"><title>2</title>\n",
       "<path d=\"M79,-37.8606C79,-37.8606 49,-37.8606 49,-37.8606 43,-37.8606 37,-31.8606 37,-25.8606 37,-25.8606 37,-13.8606 37,-13.8606 37,-7.86062 43,-1.86062 49,-1.86062 49,-1.86062 79,-1.86062 79,-1.86062 85,-1.86062 91,-7.86062 91,-13.8606 91,-13.8606 91,-25.8606 91,-25.8606 91,-31.8606 85,-37.8606 79,-37.8606\" fill=\"none\" stroke=\"black\"/>\n",
       "<text font-family=\"Times,serif\" font-size=\"14.00\" text-anchor=\"middle\" x=\"64\" y=\"-16.1606\">s0</text>\n",
       "</g>\n",
       "<!-- I2&#45;&gt;2 -->\n",
       "<g class=\"edge\" id=\"edge1\"><title>I2-&gt;2</title>\n",
       "<path d=\"M1.04494,-19.8606C1.8631,-19.8606 13.7343,-19.8606 26.8695,-19.8606\" fill=\"none\" stroke=\"DimGray\"/>\n",
       "<polygon fill=\"DimGray\" points=\"26.9984,-23.3607 36.9983,-19.8606 26.9983,-16.3607 26.9984,-23.3607\" stroke=\"DimGray\"/>\n",
       "</g>\n",
       "<!-- F3 -->\n",
       "<g class=\"node\" id=\"node2\"><title>F3</title>\n",
       "<ellipse cx=\"225\" cy=\"-19.8606\" fill=\"black\" rx=\"0\" ry=\"0\" stroke=\"black\"/>\n",
       "</g>\n",
       "<!-- 2&#45;&gt;2 -->\n",
       "<g class=\"edge\" id=\"edge2\"><title>2-&gt;2</title>\n",
       "<path d=\"M56.04,-38.0133C54.8154,-47.3997 57.4688,-55.8606 64,-55.8606 67.98,-55.8606 70.5199,-52.7187 71.6199,-48.1402\" fill=\"none\" stroke=\"black\"/>\n",
       "<polygon fill=\"black\" points=\"75.1223,-48.1252 71.96,-38.0133 68.1262,-47.8902 75.1223,-48.1252\" stroke=\"black\"/>\n",
       "<text font-family=\"Times,serif\" font-size=\"14.00\" text-anchor=\"middle\" x=\"64\" y=\"-59.6606\">b</text>\n",
       "</g>\n",
       "<!-- 3 -->\n",
       "<g class=\"node\" id=\"node4\"><title>3</title>\n",
       "<path d=\"M176,-37.8606C176,-37.8606 146,-37.8606 146,-37.8606 140,-37.8606 134,-31.8606 134,-25.8606 134,-25.8606 134,-13.8606 134,-13.8606 134,-7.86062 140,-1.86062 146,-1.86062 146,-1.86062 176,-1.86062 176,-1.86062 182,-1.86062 188,-7.86062 188,-13.8606 188,-13.8606 188,-25.8606 188,-25.8606 188,-31.8606 182,-37.8606 176,-37.8606\" fill=\"none\" stroke=\"black\"/>\n",
       "<text font-family=\"Times,serif\" font-size=\"14.00\" text-anchor=\"middle\" x=\"161\" y=\"-16.1606\">s1</text>\n",
       "</g>\n",
       "<!-- 2&#45;&gt;3 -->\n",
       "<g class=\"edge\" id=\"edge3\"><title>2-&gt;3</title>\n",
       "<path d=\"M91.2106,-19.8606C101.283,-19.8606 112.965,-19.8606 123.811,-19.8606\" fill=\"none\" stroke=\"black\"/>\n",
       "<polygon fill=\"black\" points=\"123.875,-23.3607 133.875,-19.8606 123.875,-16.3607 123.875,-23.3607\" stroke=\"black\"/>\n",
       "<text font-family=\"Times,serif\" font-size=\"14.00\" text-anchor=\"middle\" x=\"112.5\" y=\"-23.6606\">a</text>\n",
       "</g>\n",
       "<!-- 3&#45;&gt;F3 -->\n",
       "<g class=\"edge\" id=\"edge4\"><title>3-&gt;F3</title>\n",
       "<path d=\"M188.294,-19.8606C197.246,-19.8606 206.734,-19.8606 213.678,-19.8606\" fill=\"none\" stroke=\"DimGray\"/>\n",
       "<polygon fill=\"DimGray\" points=\"213.946,-23.3607 223.946,-19.8606 213.945,-16.3607 213.946,-23.3607\" stroke=\"DimGray\"/>\n",
       "</g>\n",
       "<!-- 3&#45;&gt;2 -->\n",
       "<g class=\"edge\" id=\"edge5\"><title>3-&gt;2</title>\n",
       "<path d=\"M133.983,-4.08325C126.103,-0.976721 117.328,0.860616 109,-0.860616 106.342,-1.41007 103.646,-2.12807 100.966,-2.96272\" fill=\"none\" stroke=\"black\"/>\n",
       "<polygon fill=\"black\" points=\"99.6439,0.281121 91.4238,-6.4033 102.018,-6.30393 99.6439,0.281121\" stroke=\"black\"/>\n",
       "<text font-family=\"Times,serif\" font-size=\"14.00\" text-anchor=\"middle\" x=\"112.5\" y=\"-4.66062\">b</text>\n",
       "</g>\n",
       "</g>\n",
       "</svg>"
      ],
      "text/plain": [
       "<IPython.core.display.SVG object>"
      ]
     },
     "metadata": {},
     "output_type": "display_data"
    }
   ],
   "source": [
    "B = awalipy.load(\"fibo.json\")\n",
    "B.display()"
   ]
  },
  {
   "cell_type": "markdown",
   "metadata": {},
   "source": [
    "---\n",
    "A few example are given as part of the library. They may be listed as follows."
   ]
  },
  {
   "cell_type": "code",
   "execution_count": 24,
   "metadata": {},
   "outputs": [
    {
     "name": "stdout",
     "output_type": "stream",
     "text": [
      "Name              Description\n",
      "----              -----------\n",
      "a1 .............. NFA which recognizes words with factor 'ab'\n",
      "b1 .............. Z-FA which counts the number of 'b'\n",
      "binary .......... Z-FA which converts binary sequences into values\n",
      "c1 .............. Z-FA that converts binary sequences on alphabet {a,b} into values\n",
      "d1 .............. Z-FA which computes the difference between the numbers of 'a' and 'b'\n",
      "e1 .............. Q-automaton that converts words of {a,b}^* into their binary values 'after the radix point'\n",
      "evena ........... NFA which recognizes words with an even number of 'a'\n",
      "fibotdc-lr ...... Sequential transducer which tries to replace 'abb' by 'baa'\n",
      "gray ............ Gray code increment\n",
      "heapmodel ....... Z-max-plus automaton, heap model with 2 pieces\n",
      "lamplighter ..... Sequential transducer...\n",
      "minab ........... Zmin-FA which computes the minimum among the number of 'a' and 'b'\n",
      "minblocka ....... Zmin-FA which computes the length of the shortest block of 'a'\n",
      "oddb ............ NFA which recognizes the words with an odd number of 'b'\n",
      "prob-rabin ...... Probabilistic automaton that accepts w with prob. expansion(w)\n",
      "rotation ........ C automaton realizing a rotation\n",
      "slowcerny ....... Synchronisable NFA which meets Cerny bound\n",
      "slowgrow ........ Zmin-automaton with a slow growing length function\n"
     ]
    }
   ],
   "source": [
    "awalipy.list_example_automata()"
   ]
  },
  {
   "cell_type": "markdown",
   "metadata": {},
   "source": [
    "---\n",
    "Loading an example automaton (given with the library)."
   ]
  },
  {
   "cell_type": "code",
   "execution_count": 25,
   "metadata": {},
   "outputs": [
    {
     "data": {
      "image/svg+xml": [
       "<svg height=\"77pt\" viewBox=\"0.00 0.00 330.00 77.00\" width=\"330pt\" xmlns=\"http://www.w3.org/2000/svg\" xmlns:xlink=\"http://www.w3.org/1999/xlink\">\n",
       "<g class=\"graph\" id=\"graph0\" transform=\"scale(1 1) rotate(0) translate(4 73)\">\n",
       "<title>%3</title>\n",
       "<polygon fill=\"white\" points=\"-4,4 -4,-73 326,-73 326,4 -4,4\" stroke=\"none\"/>\n",
       "<!-- I2 -->\n",
       "<g class=\"node\" id=\"node1\"><title>I2</title>\n",
       "<ellipse cx=\"0\" cy=\"-18\" fill=\"black\" rx=\"0\" ry=\"0\" stroke=\"black\"/>\n",
       "</g>\n",
       "<!-- 2 -->\n",
       "<g class=\"node\" id=\"node3\"><title>2</title>\n",
       "<path d=\"M79,-36C79,-36 49,-36 49,-36 43,-36 37,-30 37,-24 37,-24 37,-12 37,-12 37,-6 43,-0 49,-0 49,-0 79,-0 79,-0 85,-0 91,-6 91,-12 91,-12 91,-24 91,-24 91,-30 85,-36 79,-36\" fill=\"none\" stroke=\"black\"/>\n",
       "<text font-family=\"Times,serif\" font-size=\"14.00\" text-anchor=\"middle\" x=\"64\" y=\"-14.3\">s0</text>\n",
       "</g>\n",
       "<!-- I2&#45;&gt;2 -->\n",
       "<g class=\"edge\" id=\"edge1\"><title>I2-&gt;2</title>\n",
       "<path d=\"M1.04494,-18C1.8631,-18 13.7343,-18 26.8695,-18\" fill=\"none\" stroke=\"DimGray\"/>\n",
       "<polygon fill=\"DimGray\" points=\"26.9984,-21.5001 36.9983,-18 26.9983,-14.5001 26.9984,-21.5001\" stroke=\"DimGray\"/>\n",
       "</g>\n",
       "<!-- F4 -->\n",
       "<g class=\"node\" id=\"node2\"><title>F4</title>\n",
       "<ellipse cx=\"322\" cy=\"-18\" fill=\"black\" rx=\"0\" ry=\"0\" stroke=\"black\"/>\n",
       "</g>\n",
       "<!-- 2&#45;&gt;2 -->\n",
       "<g class=\"edge\" id=\"edge2\"><title>2-&gt;2</title>\n",
       "<path d=\"M56.04,-36.1527C54.8154,-45.5391 57.4688,-54 64,-54 67.98,-54 70.5199,-50.8581 71.6199,-46.2796\" fill=\"none\" stroke=\"black\"/>\n",
       "<polygon fill=\"black\" points=\"75.1223,-46.2646 71.96,-36.1527 68.1262,-46.0296 75.1223,-46.2646\" stroke=\"black\"/>\n",
       "<text font-family=\"Times,serif\" font-size=\"14.00\" text-anchor=\"middle\" x=\"64\" y=\"-57.8\">a, b</text>\n",
       "</g>\n",
       "<!-- 3 -->\n",
       "<g class=\"node\" id=\"node4\"><title>3</title>\n",
       "<path d=\"M176,-36C176,-36 146,-36 146,-36 140,-36 134,-30 134,-24 134,-24 134,-12 134,-12 134,-6 140,-0 146,-0 146,-0 176,-0 176,-0 182,-0 188,-6 188,-12 188,-12 188,-24 188,-24 188,-30 182,-36 176,-36\" fill=\"none\" stroke=\"black\"/>\n",
       "<text font-family=\"Times,serif\" font-size=\"14.00\" text-anchor=\"middle\" x=\"161\" y=\"-14.3\">s1</text>\n",
       "</g>\n",
       "<!-- 2&#45;&gt;3 -->\n",
       "<g class=\"edge\" id=\"edge3\"><title>2-&gt;3</title>\n",
       "<path d=\"M91.2106,-18C101.283,-18 112.965,-18 123.811,-18\" fill=\"none\" stroke=\"black\"/>\n",
       "<polygon fill=\"black\" points=\"123.875,-21.5001 133.875,-18 123.875,-14.5001 123.875,-21.5001\" stroke=\"black\"/>\n",
       "<text font-family=\"Times,serif\" font-size=\"14.00\" text-anchor=\"middle\" x=\"112.5\" y=\"-21.8\">a</text>\n",
       "</g>\n",
       "<!-- 4 -->\n",
       "<g class=\"node\" id=\"node5\"><title>4</title>\n",
       "<path d=\"M273,-36C273,-36 243,-36 243,-36 237,-36 231,-30 231,-24 231,-24 231,-12 231,-12 231,-6 237,-0 243,-0 243,-0 273,-0 273,-0 279,-0 285,-6 285,-12 285,-12 285,-24 285,-24 285,-30 279,-36 273,-36\" fill=\"none\" stroke=\"black\"/>\n",
       "<text font-family=\"Times,serif\" font-size=\"14.00\" text-anchor=\"middle\" x=\"258\" y=\"-14.3\">s2</text>\n",
       "</g>\n",
       "<!-- 3&#45;&gt;4 -->\n",
       "<g class=\"edge\" id=\"edge4\"><title>3-&gt;4</title>\n",
       "<path d=\"M188.211,-18C198.283,-18 209.965,-18 220.811,-18\" fill=\"none\" stroke=\"black\"/>\n",
       "<polygon fill=\"black\" points=\"220.875,-21.5001 230.875,-18 220.875,-14.5001 220.875,-21.5001\" stroke=\"black\"/>\n",
       "<text font-family=\"Times,serif\" font-size=\"14.00\" text-anchor=\"middle\" x=\"209.5\" y=\"-21.8\">b</text>\n",
       "</g>\n",
       "<!-- 4&#45;&gt;F4 -->\n",
       "<g class=\"edge\" id=\"edge5\"><title>4-&gt;F4</title>\n",
       "<path d=\"M285.294,-18C294.246,-18 303.734,-18 310.678,-18\" fill=\"none\" stroke=\"DimGray\"/>\n",
       "<polygon fill=\"DimGray\" points=\"310.946,-21.5001 320.946,-18 310.945,-14.5001 310.946,-21.5001\" stroke=\"DimGray\"/>\n",
       "</g>\n",
       "<!-- 4&#45;&gt;4 -->\n",
       "<g class=\"edge\" id=\"edge6\"><title>4-&gt;4</title>\n",
       "<path d=\"M250.04,-36.1527C248.815,-45.5391 251.469,-54 258,-54 261.98,-54 264.52,-50.8581 265.62,-46.2796\" fill=\"none\" stroke=\"black\"/>\n",
       "<polygon fill=\"black\" points=\"269.122,-46.2646 265.96,-36.1527 262.126,-46.0296 269.122,-46.2646\" stroke=\"black\"/>\n",
       "<text font-family=\"Times,serif\" font-size=\"14.00\" text-anchor=\"middle\" x=\"258\" y=\"-57.8\">a, b</text>\n",
       "</g>\n",
       "</g>\n",
       "</svg>"
      ],
      "text/plain": [
       "<IPython.core.display.SVG object>"
      ]
     },
     "metadata": {},
     "output_type": "display_data"
    }
   ],
   "source": [
    "C = awalipy.load(\"a1\")\n",
    "C.display()"
   ]
  },
  {
   "cell_type": "markdown",
   "metadata": {},
   "source": [
    "## A few factories\n"
   ]
  },
  {
   "cell_type": "markdown",
   "metadata": {},
   "source": [
    "`make_cerny(n)` returns an `n`-states DFA whose smallest synchronising word is of length `(n-1)**2`. This automaton attains the upper bound for the Cerny conjecture."
   ]
  },
  {
   "cell_type": "code",
   "execution_count": 26,
   "metadata": {},
   "outputs": [
    {
     "data": {
      "image/svg+xml": [
       "<svg height=\"125pt\" viewBox=\"0.00 0.00 487.00 125.00\" width=\"487pt\" xmlns=\"http://www.w3.org/2000/svg\" xmlns:xlink=\"http://www.w3.org/1999/xlink\">\n",
       "<g class=\"graph\" id=\"graph0\" transform=\"scale(1 1) rotate(0) translate(4 121)\">\n",
       "<title>%3</title>\n",
       "<polygon fill=\"white\" points=\"-4,4 -4,-121 483,-121 483,4 -4,4\" stroke=\"none\"/>\n",
       "<!-- I2 -->\n",
       "<g class=\"node\" id=\"node1\"><title>I2</title>\n",
       "<ellipse cx=\"0\" cy=\"-48\" fill=\"black\" rx=\"0\" ry=\"0\" stroke=\"black\"/>\n",
       "</g>\n",
       "<!-- 2 -->\n",
       "<g class=\"node\" id=\"node3\"><title>2</title>\n",
       "<path d=\"M79,-66C79,-66 49,-66 49,-66 43,-66 37,-60 37,-54 37,-54 37,-42 37,-42 37,-36 43,-30 49,-30 49,-30 79,-30 79,-30 85,-30 91,-36 91,-42 91,-42 91,-54 91,-54 91,-60 85,-66 79,-66\" fill=\"none\" stroke=\"black\"/>\n",
       "<text font-family=\"Times,serif\" font-size=\"14.00\" text-anchor=\"middle\" x=\"64\" y=\"-44.3\">s0</text>\n",
       "</g>\n",
       "<!-- I2&#45;&gt;2 -->\n",
       "<g class=\"edge\" id=\"edge1\"><title>I2-&gt;2</title>\n",
       "<path d=\"M1.04494,-48C1.8631,-48 13.7343,-48 26.8695,-48\" fill=\"none\" stroke=\"DimGray\"/>\n",
       "<polygon fill=\"DimGray\" points=\"26.9984,-51.5001 36.9983,-48 26.9983,-44.5001 26.9984,-51.5001\" stroke=\"DimGray\"/>\n",
       "</g>\n",
       "<!-- F2 -->\n",
       "<g class=\"node\" id=\"node2\"><title>F2</title>\n",
       "<ellipse cx=\"161\" cy=\"-117\" fill=\"black\" rx=\"0\" ry=\"0\" stroke=\"black\"/>\n",
       "</g>\n",
       "<!-- 2&#45;&gt;F2 -->\n",
       "<g class=\"edge\" id=\"edge2\"><title>2-&gt;F2</title>\n",
       "<path d=\"M81.9779,-66.1059C95.1234,-79.2425 114.351,-96.632 134,-108 138.967,-110.873 144.997,-113.032 149.999,-114.514\" fill=\"none\" stroke=\"DimGray\"/>\n",
       "<polygon fill=\"DimGray\" points=\"149.406,-117.973 159.955,-116.992 151.097,-111.18 149.406,-117.973\" stroke=\"DimGray\"/>\n",
       "</g>\n",
       "<!-- 2&#45;&gt;2 -->\n",
       "<g class=\"edge\" id=\"edge3\"><title>2-&gt;2</title>\n",
       "<path d=\"M56.04,-66.1527C54.8154,-75.5391 57.4688,-84 64,-84 67.98,-84 70.5199,-80.8581 71.6199,-76.2796\" fill=\"none\" stroke=\"black\"/>\n",
       "<polygon fill=\"black\" points=\"75.1223,-76.2646 71.96,-66.1527 68.1262,-76.0296 75.1223,-76.2646\" stroke=\"black\"/>\n",
       "<text font-family=\"Times,serif\" font-size=\"14.00\" text-anchor=\"middle\" x=\"64\" y=\"-87.8\">b</text>\n",
       "</g>\n",
       "<!-- 3 -->\n",
       "<g class=\"node\" id=\"node4\"><title>3</title>\n",
       "<path d=\"M176,-66C176,-66 146,-66 146,-66 140,-66 134,-60 134,-54 134,-54 134,-42 134,-42 134,-36 140,-30 146,-30 146,-30 176,-30 176,-30 182,-30 188,-36 188,-42 188,-42 188,-54 188,-54 188,-60 182,-66 176,-66\" fill=\"none\" stroke=\"black\"/>\n",
       "<text font-family=\"Times,serif\" font-size=\"14.00\" text-anchor=\"middle\" x=\"161\" y=\"-44.3\">s1</text>\n",
       "</g>\n",
       "<!-- 2&#45;&gt;3 -->\n",
       "<g class=\"edge\" id=\"edge4\"><title>2-&gt;3</title>\n",
       "<path d=\"M91.2106,-48C101.283,-48 112.965,-48 123.811,-48\" fill=\"none\" stroke=\"black\"/>\n",
       "<polygon fill=\"black\" points=\"123.875,-51.5001 133.875,-48 123.875,-44.5001 123.875,-51.5001\" stroke=\"black\"/>\n",
       "<text font-family=\"Times,serif\" font-size=\"14.00\" text-anchor=\"middle\" x=\"112.5\" y=\"-51.8\">a</text>\n",
       "</g>\n",
       "<!-- 3&#45;&gt;3 -->\n",
       "<g class=\"edge\" id=\"edge5\"><title>3-&gt;3</title>\n",
       "<path d=\"M152.316,-66.1527C150.98,-75.5391 153.875,-84 161,-84 165.342,-84 168.113,-80.8581 169.313,-76.2796\" fill=\"none\" stroke=\"black\"/>\n",
       "<polygon fill=\"black\" points=\"172.815,-76.2742 169.684,-66.1527 165.82,-76.0178 172.815,-76.2742\" stroke=\"black\"/>\n",
       "<text font-family=\"Times,serif\" font-size=\"14.00\" text-anchor=\"middle\" x=\"161\" y=\"-87.8\">b</text>\n",
       "</g>\n",
       "<!-- 4 -->\n",
       "<g class=\"node\" id=\"node5\"><title>4</title>\n",
       "<path d=\"M273,-69C273,-69 243,-69 243,-69 237,-69 231,-63 231,-57 231,-57 231,-45 231,-45 231,-39 237,-33 243,-33 243,-33 273,-33 273,-33 279,-33 285,-39 285,-45 285,-45 285,-57 285,-57 285,-63 279,-69 273,-69\" fill=\"none\" stroke=\"black\"/>\n",
       "<text font-family=\"Times,serif\" font-size=\"14.00\" text-anchor=\"middle\" x=\"258\" y=\"-47.3\">s2</text>\n",
       "</g>\n",
       "<!-- 3&#45;&gt;4 -->\n",
       "<g class=\"edge\" id=\"edge6\"><title>3-&gt;4</title>\n",
       "<path d=\"M188.211,-48.8277C198.283,-49.1458 209.965,-49.5147 220.811,-49.8572\" fill=\"none\" stroke=\"black\"/>\n",
       "<polygon fill=\"black\" points=\"220.769,-53.3575 230.875,-50.175 220.99,-46.361 220.769,-53.3575\" stroke=\"black\"/>\n",
       "<text font-family=\"Times,serif\" font-size=\"14.00\" text-anchor=\"middle\" x=\"209.5\" y=\"-52.8\">a</text>\n",
       "</g>\n",
       "<!-- 4&#45;&gt;4 -->\n",
       "<g class=\"edge\" id=\"edge7\"><title>4-&gt;4</title>\n",
       "<path d=\"M249.316,-69.1527C247.98,-78.5391 250.875,-87 258,-87 262.342,-87 265.113,-83.8581 266.313,-79.2796\" fill=\"none\" stroke=\"black\"/>\n",
       "<polygon fill=\"black\" points=\"269.815,-79.2742 266.684,-69.1527 262.82,-79.0178 269.815,-79.2742\" stroke=\"black\"/>\n",
       "<text font-family=\"Times,serif\" font-size=\"14.00\" text-anchor=\"middle\" x=\"258\" y=\"-90.8\">b</text>\n",
       "</g>\n",
       "<!-- 5 -->\n",
       "<g class=\"node\" id=\"node6\"><title>5</title>\n",
       "<path d=\"M370,-65C370,-65 340,-65 340,-65 334,-65 328,-59 328,-53 328,-53 328,-41 328,-41 328,-35 334,-29 340,-29 340,-29 370,-29 370,-29 376,-29 382,-35 382,-41 382,-41 382,-53 382,-53 382,-59 376,-65 370,-65\" fill=\"none\" stroke=\"black\"/>\n",
       "<text font-family=\"Times,serif\" font-size=\"14.00\" text-anchor=\"middle\" x=\"355\" y=\"-43.3\">s3</text>\n",
       "</g>\n",
       "<!-- 4&#45;&gt;5 -->\n",
       "<g class=\"edge\" id=\"edge8\"><title>4-&gt;5</title>\n",
       "<path d=\"M285.211,-49.8964C295.283,-49.4723 306.965,-48.9804 317.811,-48.5237\" fill=\"none\" stroke=\"black\"/>\n",
       "<polygon fill=\"black\" points=\"318.031,-52.0177 327.875,-48.1 317.736,-45.0239 318.031,-52.0177\" stroke=\"black\"/>\n",
       "<text font-family=\"Times,serif\" font-size=\"14.00\" text-anchor=\"middle\" x=\"306.5\" y=\"-52.8\">a</text>\n",
       "</g>\n",
       "<!-- 5&#45;&gt;5 -->\n",
       "<g class=\"edge\" id=\"edge9\"><title>5-&gt;5</title>\n",
       "<path d=\"M346.316,-65.1527C344.98,-74.5391 347.875,-83 355,-83 359.342,-83 362.113,-79.8581 363.313,-75.2796\" fill=\"none\" stroke=\"black\"/>\n",
       "<polygon fill=\"black\" points=\"366.815,-75.2742 363.684,-65.1527 359.82,-75.0178 366.815,-75.2742\" stroke=\"black\"/>\n",
       "<text font-family=\"Times,serif\" font-size=\"14.00\" text-anchor=\"middle\" x=\"355\" y=\"-86.8\">b</text>\n",
       "</g>\n",
       "<!-- 6 -->\n",
       "<g class=\"node\" id=\"node7\"><title>6</title>\n",
       "<path d=\"M467,-38C467,-38 437,-38 437,-38 431,-38 425,-32 425,-26 425,-26 425,-14 425,-14 425,-8 431,-2 437,-2 437,-2 467,-2 467,-2 473,-2 479,-8 479,-14 479,-14 479,-26 479,-26 479,-32 473,-38 467,-38\" fill=\"none\" stroke=\"black\"/>\n",
       "<text font-family=\"Times,serif\" font-size=\"14.00\" text-anchor=\"middle\" x=\"452\" y=\"-16.3\">s4</text>\n",
       "</g>\n",
       "<!-- 5&#45;&gt;6 -->\n",
       "<g class=\"edge\" id=\"edge10\"><title>5-&gt;6</title>\n",
       "<path d=\"M382.211,-39.5507C392.386,-36.6586 404.206,-33.2994 415.147,-30.1899\" fill=\"none\" stroke=\"black\"/>\n",
       "<polygon fill=\"black\" points=\"416.213,-33.5256 424.875,-27.425 414.299,-26.7923 416.213,-33.5256\" stroke=\"black\"/>\n",
       "<text font-family=\"Times,serif\" font-size=\"14.00\" text-anchor=\"middle\" x=\"403.5\" y=\"-37.8\">a</text>\n",
       "</g>\n",
       "<!-- 6&#45;&gt;2 -->\n",
       "<g class=\"edge\" id=\"edge11\"><title>6-&gt;2</title>\n",
       "<path d=\"M424.695,-11.4021C405.796,-5.98145 379.596,-0 356,-0 160,-0 160,-0 160,-0 136.338,-0 112.58,-12.0088 94.7408,-24.0132\" fill=\"none\" stroke=\"black\"/>\n",
       "<polygon fill=\"black\" points=\"92.6278,-21.2207 86.4854,-29.8533 96.6705,-26.9353 92.6278,-21.2207\" stroke=\"black\"/>\n",
       "<text font-family=\"Times,serif\" font-size=\"14.00\" text-anchor=\"middle\" x=\"258\" y=\"-3.8\">a, b</text>\n",
       "</g>\n",
       "</g>\n",
       "</svg>"
      ],
      "text/plain": [
       "<IPython.core.display.SVG object>"
      ]
     },
     "metadata": {},
     "output_type": "display_data"
    }
   ],
   "source": [
    "awalipy.make_cerny(5).display()"
   ]
  },
  {
   "cell_type": "markdown",
   "metadata": {},
   "source": [
    "---\n",
    "`make_divkbaseb(k,b)` returns an automaton accepting integers divisible by `k`, written in base `b`."
   ]
  },
  {
   "cell_type": "code",
   "execution_count": 27,
   "metadata": {},
   "outputs": [
    {
     "data": {
      "image/svg+xml": [
       "<svg height=\"101pt\" viewBox=\"0.00 0.00 293.00 100.86\" width=\"293pt\" xmlns=\"http://www.w3.org/2000/svg\" xmlns:xlink=\"http://www.w3.org/1999/xlink\">\n",
       "<g class=\"graph\" id=\"graph0\" transform=\"scale(1 1) rotate(0) translate(4 96.8606)\">\n",
       "<title>%3</title>\n",
       "<polygon fill=\"white\" points=\"-4,4 -4,-96.8606 289,-96.8606 289,4 -4,4\" stroke=\"none\"/>\n",
       "<!-- I2 -->\n",
       "<g class=\"node\" id=\"node1\"><title>I2</title>\n",
       "<ellipse cx=\"0\" cy=\"-41.8606\" fill=\"black\" rx=\"0\" ry=\"0\" stroke=\"black\"/>\n",
       "</g>\n",
       "<!-- 2 -->\n",
       "<g class=\"node\" id=\"node3\"><title>2</title>\n",
       "<path d=\"M79,-59.8606C79,-59.8606 49,-59.8606 49,-59.8606 43,-59.8606 37,-53.8606 37,-47.8606 37,-47.8606 37,-35.8606 37,-35.8606 37,-29.8606 43,-23.8606 49,-23.8606 49,-23.8606 79,-23.8606 79,-23.8606 85,-23.8606 91,-29.8606 91,-35.8606 91,-35.8606 91,-47.8606 91,-47.8606 91,-53.8606 85,-59.8606 79,-59.8606\" fill=\"none\" stroke=\"black\"/>\n",
       "<text font-family=\"Times,serif\" font-size=\"14.00\" text-anchor=\"middle\" x=\"64\" y=\"-38.1606\">s0</text>\n",
       "</g>\n",
       "<!-- I2&#45;&gt;2 -->\n",
       "<g class=\"edge\" id=\"edge1\"><title>I2-&gt;2</title>\n",
       "<path d=\"M1.04494,-41.8606C1.8631,-41.8606 13.7343,-41.8606 26.8695,-41.8606\" fill=\"none\" stroke=\"DimGray\"/>\n",
       "<polygon fill=\"DimGray\" points=\"26.9984,-45.3607 36.9983,-41.8606 26.9983,-38.3607 26.9984,-45.3607\" stroke=\"DimGray\"/>\n",
       "</g>\n",
       "<!-- F2 -->\n",
       "<g class=\"node\" id=\"node2\"><title>F2</title>\n",
       "<ellipse cx=\"161\" cy=\"-71.8606\" fill=\"black\" rx=\"0\" ry=\"0\" stroke=\"black\"/>\n",
       "</g>\n",
       "<!-- 2&#45;&gt;F2 -->\n",
       "<g class=\"edge\" id=\"edge2\"><title>2-&gt;F2</title>\n",
       "<path d=\"M91.2106,-50.1377C110.79,-56.3206 136.454,-64.425 150.237,-68.7775\" fill=\"none\" stroke=\"DimGray\"/>\n",
       "<polygon fill=\"DimGray\" points=\"149.293,-72.1497 159.882,-71.8235 151.401,-65.4746 149.293,-72.1497\" stroke=\"DimGray\"/>\n",
       "</g>\n",
       "<!-- 2&#45;&gt;2 -->\n",
       "<g class=\"edge\" id=\"edge3\"><title>2-&gt;2</title>\n",
       "<path d=\"M56.04,-60.0133C54.8154,-69.3997 57.4688,-77.8606 64,-77.8606 67.98,-77.8606 70.5199,-74.7187 71.6199,-70.1402\" fill=\"none\" stroke=\"black\"/>\n",
       "<polygon fill=\"black\" points=\"75.1223,-70.1252 71.96,-60.0133 68.1262,-69.8902 75.1223,-70.1252\" stroke=\"black\"/>\n",
       "<text font-family=\"Times,serif\" font-size=\"14.00\" text-anchor=\"middle\" x=\"64\" y=\"-81.6606\">0</text>\n",
       "</g>\n",
       "<!-- 3 -->\n",
       "<g class=\"node\" id=\"node4\"><title>3</title>\n",
       "<path d=\"M176,-37.8606C176,-37.8606 146,-37.8606 146,-37.8606 140,-37.8606 134,-31.8606 134,-25.8606 134,-25.8606 134,-13.8606 134,-13.8606 134,-7.86062 140,-1.86062 146,-1.86062 146,-1.86062 176,-1.86062 176,-1.86062 182,-1.86062 188,-7.86062 188,-13.8606 188,-13.8606 188,-25.8606 188,-25.8606 188,-31.8606 182,-37.8606 176,-37.8606\" fill=\"none\" stroke=\"black\"/>\n",
       "<text font-family=\"Times,serif\" font-size=\"14.00\" text-anchor=\"middle\" x=\"161\" y=\"-16.1606\">s1</text>\n",
       "</g>\n",
       "<!-- 2&#45;&gt;3 -->\n",
       "<g class=\"edge\" id=\"edge4\"><title>2-&gt;3</title>\n",
       "<path d=\"M91.2106,-35.7908C101.283,-33.4583 112.965,-30.753 123.811,-28.2411\" fill=\"none\" stroke=\"black\"/>\n",
       "<polygon fill=\"black\" points=\"124.922,-31.5766 133.875,-25.9106 123.343,-24.757 124.922,-31.5766\" stroke=\"black\"/>\n",
       "<text font-family=\"Times,serif\" font-size=\"14.00\" text-anchor=\"middle\" x=\"112.5\" y=\"-34.6606\">1</text>\n",
       "</g>\n",
       "<!-- 3&#45;&gt;2 -->\n",
       "<g class=\"edge\" id=\"edge5\"><title>3-&gt;2</title>\n",
       "<path d=\"M133.996,-10.4888C125.881,-8.83172 116.971,-8.33465 109,-10.8606 103.655,-12.5543 98.3989,-15.157 93.4831,-18.1495\" fill=\"none\" stroke=\"black\"/>\n",
       "<polygon fill=\"black\" points=\"91.3818,-15.3452 85.0568,-23.8449 95.3018,-21.1447 91.3818,-15.3452\" stroke=\"black\"/>\n",
       "<text font-family=\"Times,serif\" font-size=\"14.00\" text-anchor=\"middle\" x=\"112.5\" y=\"-14.6606\">1</text>\n",
       "</g>\n",
       "<!-- 4 -->\n",
       "<g class=\"node\" id=\"node5\"><title>4</title>\n",
       "<path d=\"M273,-37.8606C273,-37.8606 243,-37.8606 243,-37.8606 237,-37.8606 231,-31.8606 231,-25.8606 231,-25.8606 231,-13.8606 231,-13.8606 231,-7.86062 237,-1.86062 243,-1.86062 243,-1.86062 273,-1.86062 273,-1.86062 279,-1.86062 285,-7.86062 285,-13.8606 285,-13.8606 285,-25.8606 285,-25.8606 285,-31.8606 279,-37.8606 273,-37.8606\" fill=\"none\" stroke=\"black\"/>\n",
       "<text font-family=\"Times,serif\" font-size=\"14.00\" text-anchor=\"middle\" x=\"258\" y=\"-16.1606\">s2</text>\n",
       "</g>\n",
       "<!-- 3&#45;&gt;4 -->\n",
       "<g class=\"edge\" id=\"edge6\"><title>3-&gt;4</title>\n",
       "<path d=\"M188.211,-19.8606C198.283,-19.8606 209.965,-19.8606 220.811,-19.8606\" fill=\"none\" stroke=\"black\"/>\n",
       "<polygon fill=\"black\" points=\"220.875,-23.3607 230.875,-19.8606 220.875,-16.3607 220.875,-23.3607\" stroke=\"black\"/>\n",
       "<text font-family=\"Times,serif\" font-size=\"14.00\" text-anchor=\"middle\" x=\"209.5\" y=\"-23.6606\">0</text>\n",
       "</g>\n",
       "<!-- 4&#45;&gt;3 -->\n",
       "<g class=\"edge\" id=\"edge7\"><title>4-&gt;3</title>\n",
       "<path d=\"M230.983,-4.08325C223.103,-0.976721 214.328,0.860616 206,-0.860616 203.342,-1.41007 200.646,-2.12807 197.966,-2.96272\" fill=\"none\" stroke=\"black\"/>\n",
       "<polygon fill=\"black\" points=\"196.644,0.281121 188.424,-6.4033 199.018,-6.30393 196.644,0.281121\" stroke=\"black\"/>\n",
       "<text font-family=\"Times,serif\" font-size=\"14.00\" text-anchor=\"middle\" x=\"209.5\" y=\"-4.66062\">0</text>\n",
       "</g>\n",
       "<!-- 4&#45;&gt;4 -->\n",
       "<g class=\"edge\" id=\"edge8\"><title>4-&gt;4</title>\n",
       "<path d=\"M249.316,-38.0133C247.98,-47.3997 250.875,-55.8606 258,-55.8606 262.342,-55.8606 265.113,-52.7187 266.313,-48.1402\" fill=\"none\" stroke=\"black\"/>\n",
       "<polygon fill=\"black\" points=\"269.815,-48.1348 266.684,-38.0133 262.82,-47.8784 269.815,-48.1348\" stroke=\"black\"/>\n",
       "<text font-family=\"Times,serif\" font-size=\"14.00\" text-anchor=\"middle\" x=\"258\" y=\"-59.6606\">1</text>\n",
       "</g>\n",
       "</g>\n",
       "</svg>"
      ],
      "text/plain": [
       "<IPython.core.display.SVG object>"
      ]
     },
     "metadata": {},
     "output_type": "display_data"
    }
   ],
   "source": [
    "awalipy.make_divkbaseb(3,2).display()"
   ]
  },
  {
   "cell_type": "markdown",
   "metadata": {},
   "source": [
    "---\n",
    "`make_ladybird(n)` returns an automaton with `n`-states, whose equivalent minimal DFA has `2**n` states."
   ]
  },
  {
   "cell_type": "code",
   "execution_count": 28,
   "metadata": {},
   "outputs": [
    {
     "data": {
      "image/svg+xml": [
       "<svg height=\"217pt\" viewBox=\"0.00 0.00 487.00 217.00\" width=\"487pt\" xmlns=\"http://www.w3.org/2000/svg\" xmlns:xlink=\"http://www.w3.org/1999/xlink\">\n",
       "<g class=\"graph\" id=\"graph0\" transform=\"scale(1 1) rotate(0) translate(4 213)\">\n",
       "<title>%3</title>\n",
       "<polygon fill=\"white\" points=\"-4,4 -4,-213 483,-213 483,4 -4,4\" stroke=\"none\"/>\n",
       "<!-- I2 -->\n",
       "<g class=\"node\" id=\"node1\"><title>I2</title>\n",
       "<ellipse cx=\"0\" cy=\"-105\" fill=\"black\" rx=\"0\" ry=\"0\" stroke=\"black\"/>\n",
       "</g>\n",
       "<!-- 2 -->\n",
       "<g class=\"node\" id=\"node3\"><title>2</title>\n",
       "<path d=\"M79,-123C79,-123 49,-123 49,-123 43,-123 37,-117 37,-111 37,-111 37,-99 37,-99 37,-93 43,-87 49,-87 49,-87 79,-87 79,-87 85,-87 91,-93 91,-99 91,-99 91,-111 91,-111 91,-117 85,-123 79,-123\" fill=\"none\" stroke=\"black\"/>\n",
       "<text font-family=\"Times,serif\" font-size=\"14.00\" text-anchor=\"middle\" x=\"64\" y=\"-101.3\">s0</text>\n",
       "</g>\n",
       "<!-- I2&#45;&gt;2 -->\n",
       "<g class=\"edge\" id=\"edge1\"><title>I2-&gt;2</title>\n",
       "<path d=\"M1.04494,-105C1.8631,-105 13.7343,-105 26.8695,-105\" fill=\"none\" stroke=\"DimGray\"/>\n",
       "<polygon fill=\"DimGray\" points=\"26.9984,-108.5 36.9983,-105 26.9983,-101.5 26.9984,-108.5\" stroke=\"DimGray\"/>\n",
       "</g>\n",
       "<!-- F2 -->\n",
       "<g class=\"node\" id=\"node2\"><title>F2</title>\n",
       "<ellipse cx=\"161\" cy=\"-209\" fill=\"black\" rx=\"0\" ry=\"0\" stroke=\"black\"/>\n",
       "</g>\n",
       "<!-- 2&#45;&gt;F2 -->\n",
       "<g class=\"edge\" id=\"edge2\"><title>2-&gt;F2</title>\n",
       "<path d=\"M73.9021,-123.35C85.1195,-144.654 106.326,-179.484 134,-200 138.609,-203.417 144.618,-205.609 149.697,-206.973\" fill=\"none\" stroke=\"DimGray\"/>\n",
       "<polygon fill=\"DimGray\" points=\"149.465,-210.495 159.953,-208.995 150.819,-203.627 149.465,-210.495\" stroke=\"DimGray\"/>\n",
       "</g>\n",
       "<!-- 3 -->\n",
       "<g class=\"node\" id=\"node4\"><title>3</title>\n",
       "<path d=\"M176,-158C176,-158 146,-158 146,-158 140,-158 134,-152 134,-146 134,-146 134,-134 134,-134 134,-128 140,-122 146,-122 146,-122 176,-122 176,-122 182,-122 188,-128 188,-134 188,-134 188,-146 188,-146 188,-152 182,-158 176,-158\" fill=\"none\" stroke=\"black\"/>\n",
       "<text font-family=\"Times,serif\" font-size=\"14.00\" text-anchor=\"middle\" x=\"161\" y=\"-136.3\">s1</text>\n",
       "</g>\n",
       "<!-- 2&#45;&gt;3 -->\n",
       "<g class=\"edge\" id=\"edge3\"><title>2-&gt;3</title>\n",
       "<path d=\"M84.0801,-123.267C91.3202,-129.069 100.002,-134.804 109,-138 113.611,-139.638 118.605,-140.662 123.603,-141.262\" fill=\"none\" stroke=\"black\"/>\n",
       "<polygon fill=\"black\" points=\"123.531,-144.765 133.746,-141.955 124.008,-137.781 123.531,-144.765\" stroke=\"black\"/>\n",
       "<text font-family=\"Times,serif\" font-size=\"14.00\" text-anchor=\"middle\" x=\"112.5\" y=\"-142.8\">a</text>\n",
       "</g>\n",
       "<!-- 3&#45;&gt;2 -->\n",
       "<g class=\"edge\" id=\"edge4\"><title>3-&gt;2</title>\n",
       "<path d=\"M133.804,-126.565C128.022,-123.864 121.87,-121.187 116,-119 111.176,-117.203 106.02,-115.522 100.907,-113.992\" fill=\"none\" stroke=\"black\"/>\n",
       "<polygon fill=\"black\" points=\"101.804,-110.608 91.2283,-111.245 99.8927,-117.342 101.804,-110.608\" stroke=\"black\"/>\n",
       "<text font-family=\"Times,serif\" font-size=\"14.00\" text-anchor=\"middle\" x=\"112.5\" y=\"-122.8\">c</text>\n",
       "</g>\n",
       "<!-- 3&#45;&gt;3 -->\n",
       "<g class=\"edge\" id=\"edge5\"><title>3-&gt;3</title>\n",
       "<path d=\"M152.316,-158.153C150.98,-167.539 153.875,-176 161,-176 165.342,-176 168.113,-172.858 169.313,-168.28\" fill=\"none\" stroke=\"black\"/>\n",
       "<polygon fill=\"black\" points=\"172.815,-168.274 169.684,-158.153 165.82,-168.018 172.815,-168.274\" stroke=\"black\"/>\n",
       "<text font-family=\"Times,serif\" font-size=\"14.00\" text-anchor=\"middle\" x=\"161\" y=\"-179.8\">b, c</text>\n",
       "</g>\n",
       "<!-- 4 -->\n",
       "<g class=\"node\" id=\"node5\"><title>4</title>\n",
       "<path d=\"M273,-107C273,-107 243,-107 243,-107 237,-107 231,-101 231,-95 231,-95 231,-83 231,-83 231,-77 237,-71 243,-71 243,-71 273,-71 273,-71 279,-71 285,-77 285,-83 285,-83 285,-95 285,-95 285,-101 279,-107 273,-107\" fill=\"none\" stroke=\"black\"/>\n",
       "<text font-family=\"Times,serif\" font-size=\"14.00\" text-anchor=\"middle\" x=\"258\" y=\"-85.3\">s2</text>\n",
       "</g>\n",
       "<!-- 3&#45;&gt;4 -->\n",
       "<g class=\"edge\" id=\"edge6\"><title>3-&gt;4</title>\n",
       "<path d=\"M188.211,-125.929C198.594,-120.355 210.689,-113.862 221.815,-107.889\" fill=\"none\" stroke=\"black\"/>\n",
       "<polygon fill=\"black\" points=\"223.72,-110.839 230.875,-103.025 220.409,-104.671 223.72,-110.839\" stroke=\"black\"/>\n",
       "<text font-family=\"Times,serif\" font-size=\"14.00\" text-anchor=\"middle\" x=\"209.5\" y=\"-119.8\">a</text>\n",
       "</g>\n",
       "<!-- 4&#45;&gt;2 -->\n",
       "<g class=\"edge\" id=\"edge7\"><title>4-&gt;2</title>\n",
       "<path d=\"M230.59,-90.7173C205.671,-92.3887 167.275,-95.0953 134,-98 123.384,-98.9267 111.862,-100.049 101.329,-101.121\" fill=\"none\" stroke=\"black\"/>\n",
       "<polygon fill=\"black\" points=\"100.783,-97.6591 91.1957,-102.168 101.502,-104.622 100.783,-97.6591\" stroke=\"black\"/>\n",
       "<text font-family=\"Times,serif\" font-size=\"14.00\" text-anchor=\"middle\" x=\"161\" y=\"-101.8\">c</text>\n",
       "</g>\n",
       "<!-- 4&#45;&gt;4 -->\n",
       "<g class=\"edge\" id=\"edge8\"><title>4-&gt;4</title>\n",
       "<path d=\"M249.316,-107.153C247.98,-116.539 250.875,-125 258,-125 262.342,-125 265.113,-121.858 266.313,-117.28\" fill=\"none\" stroke=\"black\"/>\n",
       "<polygon fill=\"black\" points=\"269.815,-117.274 266.684,-107.153 262.82,-117.018 269.815,-117.274\" stroke=\"black\"/>\n",
       "<text font-family=\"Times,serif\" font-size=\"14.00\" text-anchor=\"middle\" x=\"258\" y=\"-128.8\">b, c</text>\n",
       "</g>\n",
       "<!-- 5 -->\n",
       "<g class=\"node\" id=\"node6\"><title>5</title>\n",
       "<path d=\"M370,-64C370,-64 340,-64 340,-64 334,-64 328,-58 328,-52 328,-52 328,-40 328,-40 328,-34 334,-28 340,-28 340,-28 370,-28 370,-28 376,-28 382,-34 382,-40 382,-40 382,-52 382,-52 382,-58 376,-64 370,-64\" fill=\"none\" stroke=\"black\"/>\n",
       "<text font-family=\"Times,serif\" font-size=\"14.00\" text-anchor=\"middle\" x=\"355\" y=\"-42.3\">s3</text>\n",
       "</g>\n",
       "<!-- 4&#45;&gt;5 -->\n",
       "<g class=\"edge\" id=\"edge9\"><title>4-&gt;5</title>\n",
       "<path d=\"M285.211,-77.1362C295.49,-72.4834 307.447,-67.0713 318.481,-62.0769\" fill=\"none\" stroke=\"black\"/>\n",
       "<polygon fill=\"black\" points=\"320.208,-65.1373 327.875,-57.825 317.321,-58.7601 320.208,-65.1373\" stroke=\"black\"/>\n",
       "<text font-family=\"Times,serif\" font-size=\"14.00\" text-anchor=\"middle\" x=\"306.5\" y=\"-71.8\">a</text>\n",
       "</g>\n",
       "<!-- 5&#45;&gt;2 -->\n",
       "<g class=\"edge\" id=\"edge10\"><title>5-&gt;2</title>\n",
       "<path d=\"M327.934,-48.4421C302.933,-51.0076 264.191,-55.5682 231,-62 185.707,-70.7769 134.42,-84.6848 100.994,-94.2954\" fill=\"none\" stroke=\"black\"/>\n",
       "<polygon fill=\"black\" points=\"99.8493,-90.983 91.2197,-97.1295 101.799,-97.706 99.8493,-90.983\" stroke=\"black\"/>\n",
       "<text font-family=\"Times,serif\" font-size=\"14.00\" text-anchor=\"middle\" x=\"209.5\" y=\"-70.8\">c</text>\n",
       "</g>\n",
       "<!-- 5&#45;&gt;5 -->\n",
       "<g class=\"edge\" id=\"edge11\"><title>5-&gt;5</title>\n",
       "<path d=\"M346.316,-64.1527C344.98,-73.5391 347.875,-82 355,-82 359.342,-82 362.113,-78.8581 363.313,-74.2796\" fill=\"none\" stroke=\"black\"/>\n",
       "<polygon fill=\"black\" points=\"366.815,-74.2742 363.684,-64.1527 359.82,-74.0178 366.815,-74.2742\" stroke=\"black\"/>\n",
       "<text font-family=\"Times,serif\" font-size=\"14.00\" text-anchor=\"middle\" x=\"355\" y=\"-85.8\">b, c</text>\n",
       "</g>\n",
       "<!-- 6 -->\n",
       "<g class=\"node\" id=\"node7\"><title>6</title>\n",
       "<path d=\"M467,-37C467,-37 437,-37 437,-37 431,-37 425,-31 425,-25 425,-25 425,-13 425,-13 425,-7 431,-1 437,-1 437,-1 467,-1 467,-1 473,-1 479,-7 479,-13 479,-13 479,-25 479,-25 479,-31 473,-37 467,-37\" fill=\"none\" stroke=\"black\"/>\n",
       "<text font-family=\"Times,serif\" font-size=\"14.00\" text-anchor=\"middle\" x=\"452\" y=\"-15.3\">s4</text>\n",
       "</g>\n",
       "<!-- 5&#45;&gt;6 -->\n",
       "<g class=\"edge\" id=\"edge12\"><title>5-&gt;6</title>\n",
       "<path d=\"M382.211,-38.5507C392.386,-35.6586 404.206,-32.2994 415.147,-29.1899\" fill=\"none\" stroke=\"black\"/>\n",
       "<polygon fill=\"black\" points=\"416.213,-32.5256 424.875,-26.425 414.299,-25.7923 416.213,-32.5256\" stroke=\"black\"/>\n",
       "<text font-family=\"Times,serif\" font-size=\"14.00\" text-anchor=\"middle\" x=\"403.5\" y=\"-37.8\">a</text>\n",
       "</g>\n",
       "<!-- 6&#45;&gt;2 -->\n",
       "<g class=\"edge\" id=\"edge13\"><title>6-&gt;2</title>\n",
       "<path d=\"M424.665,-10.832C405.752,-5.68237 379.548,-0 356,-0 160,-0 160,-0 160,-0 118.297,-0 90.1478,-46.1072 75.9016,-77.215\" fill=\"none\" stroke=\"black\"/>\n",
       "<polygon fill=\"black\" points=\"72.5502,-76.1447 71.7652,-86.7104 78.9678,-78.9403 72.5502,-76.1447\" stroke=\"black\"/>\n",
       "<text font-family=\"Times,serif\" font-size=\"14.00\" text-anchor=\"middle\" x=\"258\" y=\"-3.8\">a, c</text>\n",
       "</g>\n",
       "<!-- 6&#45;&gt;6 -->\n",
       "<g class=\"edge\" id=\"edge14\"><title>6-&gt;6</title>\n",
       "<path d=\"M443.316,-37.1527C441.98,-46.5391 444.875,-55 452,-55 456.342,-55 459.113,-51.8581 460.313,-47.2796\" fill=\"none\" stroke=\"black\"/>\n",
       "<polygon fill=\"black\" points=\"463.815,-47.2742 460.684,-37.1527 456.82,-47.0178 463.815,-47.2742\" stroke=\"black\"/>\n",
       "<text font-family=\"Times,serif\" font-size=\"14.00\" text-anchor=\"middle\" x=\"452\" y=\"-58.8\">b, c</text>\n",
       "</g>\n",
       "</g>\n",
       "</svg>"
      ],
      "text/plain": [
       "<IPython.core.display.SVG object>"
      ]
     },
     "metadata": {},
     "output_type": "display_data"
    }
   ],
   "source": [
    "awalipy.make_ladybird(5).display()"
   ]
  },
  {
   "cell_type": "markdown",
   "metadata": {},
   "source": [
    "---\n",
    "See also `make_de_bruijn` ,  `make_double_ring` , `make_witness`"
   ]
  },
  {
   "cell_type": "markdown",
   "metadata": {},
   "source": [
    "## Generate a random accessible DFA"
   ]
  },
  {
   "cell_type": "code",
   "execution_count": 29,
   "metadata": {},
   "outputs": [
    {
     "data": {
      "image/svg+xml": [
       "<svg height=\"129pt\" viewBox=\"0.00 0.00 501.00 129.00\" width=\"501pt\" xmlns=\"http://www.w3.org/2000/svg\" xmlns:xlink=\"http://www.w3.org/1999/xlink\">\n",
       "<g class=\"graph\" id=\"graph0\" transform=\"scale(1 1) rotate(0) translate(4 125)\">\n",
       "<title>%3</title>\n",
       "<polygon fill=\"white\" points=\"-4,4 -4,-125 497,-125 497,4 -4,4\" stroke=\"none\"/>\n",
       "<!-- I2 -->\n",
       "<g class=\"node\" id=\"node1\"><title>I2</title>\n",
       "<ellipse cx=\"0\" cy=\"-53\" fill=\"black\" rx=\"0\" ry=\"0\" stroke=\"black\"/>\n",
       "</g>\n",
       "<!-- 2 -->\n",
       "<g class=\"node\" id=\"node4\"><title>2</title>\n",
       "<path d=\"M79,-71C79,-71 49,-71 49,-71 43,-71 37,-65 37,-59 37,-59 37,-47 37,-47 37,-41 43,-35 49,-35 49,-35 79,-35 79,-35 85,-35 91,-41 91,-47 91,-47 91,-59 91,-59 91,-65 85,-71 79,-71\" fill=\"none\" stroke=\"black\"/>\n",
       "<text font-family=\"Times,serif\" font-size=\"14.00\" text-anchor=\"middle\" x=\"64\" y=\"-49.3\">s0</text>\n",
       "</g>\n",
       "<!-- I2&#45;&gt;2 -->\n",
       "<g class=\"edge\" id=\"edge1\"><title>I2-&gt;2</title>\n",
       "<path d=\"M1.04494,-53C1.8631,-53 13.7343,-53 26.8695,-53\" fill=\"none\" stroke=\"DimGray\"/>\n",
       "<polygon fill=\"DimGray\" points=\"26.9984,-56.5001 36.9983,-53 26.9983,-49.5001 26.9984,-56.5001\" stroke=\"DimGray\"/>\n",
       "</g>\n",
       "<!-- F2 -->\n",
       "<g class=\"node\" id=\"node2\"><title>F2</title>\n",
       "<ellipse cx=\"175\" cy=\"-105\" fill=\"black\" rx=\"0\" ry=\"0\" stroke=\"black\"/>\n",
       "</g>\n",
       "<!-- F4 -->\n",
       "<g class=\"node\" id=\"node3\"><title>F4</title>\n",
       "<ellipse cx=\"369\" cy=\"-101\" fill=\"black\" rx=\"0\" ry=\"0\" stroke=\"black\"/>\n",
       "</g>\n",
       "<!-- 2&#45;&gt;F2 -->\n",
       "<g class=\"edge\" id=\"edge2\"><title>2-&gt;F2</title>\n",
       "<path d=\"M91.024,-70.7603C96.8164,-74.3717 103.017,-77.9838 109,-81 125.583,-89.3601 130.556,-89.6283 148,-96 153.384,-97.9666 159.433,-100.067 164.341,-101.744\" fill=\"none\" stroke=\"DimGray\"/>\n",
       "<polygon fill=\"DimGray\" points=\"163.24,-105.066 173.834,-104.945 165.477,-98.433 163.24,-105.066\" stroke=\"DimGray\"/>\n",
       "</g>\n",
       "<!-- 3 -->\n",
       "<g class=\"node\" id=\"node5\"><title>3</title>\n",
       "<path d=\"M190,-87C190,-87 160,-87 160,-87 154,-87 148,-81 148,-75 148,-75 148,-63 148,-63 148,-57 154,-51 160,-51 160,-51 190,-51 190,-51 196,-51 202,-57 202,-63 202,-63 202,-75 202,-75 202,-81 196,-87 190,-87\" fill=\"none\" stroke=\"black\"/>\n",
       "<text font-family=\"Times,serif\" font-size=\"14.00\" text-anchor=\"middle\" x=\"175\" y=\"-65.3\">s1</text>\n",
       "</g>\n",
       "<!-- 2&#45;&gt;3 -->\n",
       "<g class=\"edge\" id=\"edge3\"><title>2-&gt;3</title>\n",
       "<path d=\"M91.1082,-56.8324C105.027,-58.8756 122.374,-61.4219 137.596,-63.6563\" fill=\"none\" stroke=\"black\"/>\n",
       "<polygon fill=\"black\" points=\"137.325,-67.1539 147.727,-65.1434 138.341,-60.2281 137.325,-67.1539\" stroke=\"black\"/>\n",
       "<text font-family=\"Times,serif\" font-size=\"14.00\" text-anchor=\"middle\" x=\"119.5\" y=\"-65.8\">a, b</text>\n",
       "</g>\n",
       "<!-- 3&#45;&gt;2 -->\n",
       "<g class=\"edge\" id=\"edge4\"><title>3-&gt;2</title>\n",
       "<path d=\"M151.987,-50.9124C145.321,-46.4623 137.712,-42.3128 130,-40 120.772,-37.2323 110.627,-37.6652 101.154,-39.5012\" fill=\"none\" stroke=\"black\"/>\n",
       "<polygon fill=\"black\" points=\"100.079,-36.1614 91.2116,-41.9592 101.759,-42.9568 100.079,-36.1614\" stroke=\"black\"/>\n",
       "<text font-family=\"Times,serif\" font-size=\"14.00\" text-anchor=\"middle\" x=\"119.5\" y=\"-43.8\">a</text>\n",
       "</g>\n",
       "<!-- 4 -->\n",
       "<g class=\"node\" id=\"node6\"><title>4</title>\n",
       "<path d=\"M287,-88C287,-88 257,-88 257,-88 251,-88 245,-82 245,-76 245,-76 245,-64 245,-64 245,-58 251,-52 257,-52 257,-52 287,-52 287,-52 293,-52 299,-58 299,-64 299,-64 299,-76 299,-76 299,-82 293,-88 287,-88\" fill=\"none\" stroke=\"black\"/>\n",
       "<text font-family=\"Times,serif\" font-size=\"14.00\" text-anchor=\"middle\" x=\"272\" y=\"-66.3\">s2</text>\n",
       "</g>\n",
       "<!-- 3&#45;&gt;4 -->\n",
       "<g class=\"edge\" id=\"edge5\"><title>3-&gt;4</title>\n",
       "<path d=\"M202.211,-69.2759C212.283,-69.3819 223.965,-69.5049 234.811,-69.6191\" fill=\"none\" stroke=\"black\"/>\n",
       "<polygon fill=\"black\" points=\"234.839,-73.1194 244.875,-69.725 234.912,-66.1198 234.839,-73.1194\" stroke=\"black\"/>\n",
       "<text font-family=\"Times,serif\" font-size=\"14.00\" text-anchor=\"middle\" x=\"223.5\" y=\"-72.8\">b</text>\n",
       "</g>\n",
       "<!-- 4&#45;&gt;F4 -->\n",
       "<g class=\"edge\" id=\"edge6\"><title>4-&gt;F4</title>\n",
       "<path d=\"M299.211,-78.5529C318.79,-84.942 344.454,-93.3165 358.237,-97.8141\" fill=\"none\" stroke=\"DimGray\"/>\n",
       "<polygon fill=\"DimGray\" points=\"357.29,-101.187 367.882,-100.962 359.462,-94.5321 357.29,-101.187\" stroke=\"DimGray\"/>\n",
       "</g>\n",
       "<!-- 4&#45;&gt;4 -->\n",
       "<g class=\"edge\" id=\"edge7\"><title>4-&gt;4</title>\n",
       "<path d=\"M263.316,-88.1527C261.98,-97.5391 264.875,-106 272,-106 276.342,-106 279.113,-102.858 280.313,-98.2796\" fill=\"none\" stroke=\"black\"/>\n",
       "<polygon fill=\"black\" points=\"283.815,-98.2742 280.684,-88.1527 276.82,-98.0178 283.815,-98.2742\" stroke=\"black\"/>\n",
       "<text font-family=\"Times,serif\" font-size=\"14.00\" text-anchor=\"middle\" x=\"272\" y=\"-109.8\">b</text>\n",
       "</g>\n",
       "<!-- 5 -->\n",
       "<g class=\"node\" id=\"node7\"><title>5</title>\n",
       "<path d=\"M384,-64C384,-64 354,-64 354,-64 348,-64 342,-58 342,-52 342,-52 342,-40 342,-40 342,-34 348,-28 354,-28 354,-28 384,-28 384,-28 390,-28 396,-34 396,-40 396,-40 396,-52 396,-52 396,-58 390,-64 384,-64\" fill=\"none\" stroke=\"black\"/>\n",
       "<text font-family=\"Times,serif\" font-size=\"14.00\" text-anchor=\"middle\" x=\"369\" y=\"-42.3\">s3</text>\n",
       "</g>\n",
       "<!-- 4&#45;&gt;5 -->\n",
       "<g class=\"edge\" id=\"edge8\"><title>4-&gt;5</title>\n",
       "<path d=\"M299.211,-63.3784C309.386,-60.8076 321.206,-57.8217 332.147,-55.0577\" fill=\"none\" stroke=\"black\"/>\n",
       "<polygon fill=\"black\" points=\"333.037,-58.4429 341.875,-52.6 331.322,-51.6561 333.037,-58.4429\" stroke=\"black\"/>\n",
       "<text font-family=\"Times,serif\" font-size=\"14.00\" text-anchor=\"middle\" x=\"320.5\" y=\"-61.8\">a</text>\n",
       "</g>\n",
       "<!-- 5&#45;&gt;4 -->\n",
       "<g class=\"edge\" id=\"edge9\"><title>5-&gt;4</title>\n",
       "<path d=\"M341.942,-37.2653C333.825,-35.7734 324.927,-35.4224 317,-38 311.361,-39.8338 305.841,-42.6927 300.722,-45.9637\" fill=\"none\" stroke=\"black\"/>\n",
       "<polygon fill=\"black\" points=\"298.681,-43.1202 292.533,-51.7492 302.72,-48.8372 298.681,-43.1202\" stroke=\"black\"/>\n",
       "<text font-family=\"Times,serif\" font-size=\"14.00\" text-anchor=\"middle\" x=\"320.5\" y=\"-41.8\">a</text>\n",
       "</g>\n",
       "<!-- 6 -->\n",
       "<g class=\"node\" id=\"node8\"><title>6</title>\n",
       "<path d=\"M481,-37C481,-37 451,-37 451,-37 445,-37 439,-31 439,-25 439,-25 439,-13 439,-13 439,-7 445,-1 451,-1 451,-1 481,-1 481,-1 487,-1 493,-7 493,-13 493,-13 493,-25 493,-25 493,-31 487,-37 481,-37\" fill=\"none\" stroke=\"black\"/>\n",
       "<text font-family=\"Times,serif\" font-size=\"14.00\" text-anchor=\"middle\" x=\"466\" y=\"-15.3\">s4</text>\n",
       "</g>\n",
       "<!-- 5&#45;&gt;6 -->\n",
       "<g class=\"edge\" id=\"edge10\"><title>5-&gt;6</title>\n",
       "<path d=\"M396.211,-38.5507C406.386,-35.6586 418.206,-32.2994 429.147,-29.1899\" fill=\"none\" stroke=\"black\"/>\n",
       "<polygon fill=\"black\" points=\"430.213,-32.5256 438.875,-26.425 428.299,-25.7923 430.213,-32.5256\" stroke=\"black\"/>\n",
       "<text font-family=\"Times,serif\" font-size=\"14.00\" text-anchor=\"middle\" x=\"417.5\" y=\"-36.8\">b</text>\n",
       "</g>\n",
       "<!-- 6&#45;&gt;2 -->\n",
       "<g class=\"edge\" id=\"edge11\"><title>6-&gt;2</title>\n",
       "<path d=\"M438.665,-10.832C419.752,-5.68237 393.548,-0 370,-0 174,-0 174,-0 174,-0 145.462,-0 116.568,-14.8756 95.7063,-28.8651\" fill=\"none\" stroke=\"black\"/>\n",
       "<polygon fill=\"black\" points=\"93.4681,-26.1594 87.2815,-34.7604 97.4814,-31.8947 93.4681,-26.1594\" stroke=\"black\"/>\n",
       "<text font-family=\"Times,serif\" font-size=\"14.00\" text-anchor=\"middle\" x=\"272\" y=\"-3.8\">a, b</text>\n",
       "</g>\n",
       "</g>\n",
       "</svg>"
      ],
      "text/plain": [
       "<IPython.core.display.SVG object>"
      ]
     },
     "metadata": {},
     "output_type": "display_data"
    }
   ],
   "source": [
    "awalipy.generate_DFA(5,\"ab\").display()"
   ]
  },
  {
   "cell_type": "markdown",
   "metadata": {},
   "source": [
    "## Access and browsing"
   ]
  },
  {
   "cell_type": "code",
   "execution_count": 30,
   "metadata": {},
   "outputs": [
    {
     "data": {
      "image/svg+xml": [
       "<svg height=\"79pt\" viewBox=\"0.00 0.00 233.00 78.86\" width=\"233pt\" xmlns=\"http://www.w3.org/2000/svg\" xmlns:xlink=\"http://www.w3.org/1999/xlink\">\n",
       "<g class=\"graph\" id=\"graph0\" transform=\"scale(1 1) rotate(0) translate(4 74.8606)\">\n",
       "<title>%3</title>\n",
       "<polygon fill=\"white\" points=\"-4,4 -4,-74.8606 229,-74.8606 229,4 -4,4\" stroke=\"none\"/>\n",
       "<!-- I2 -->\n",
       "<g class=\"node\" id=\"node1\"><title>I2</title>\n",
       "<ellipse cx=\"0\" cy=\"-19.8606\" fill=\"black\" rx=\"0\" ry=\"0\" stroke=\"black\"/>\n",
       "</g>\n",
       "<!-- 2 -->\n",
       "<g class=\"node\" id=\"node3\"><title>2</title>\n",
       "<path d=\"M79,-37.8606C79,-37.8606 49,-37.8606 49,-37.8606 43,-37.8606 37,-31.8606 37,-25.8606 37,-25.8606 37,-13.8606 37,-13.8606 37,-7.86062 43,-1.86062 49,-1.86062 49,-1.86062 79,-1.86062 79,-1.86062 85,-1.86062 91,-7.86062 91,-13.8606 91,-13.8606 91,-25.8606 91,-25.8606 91,-31.8606 85,-37.8606 79,-37.8606\" fill=\"none\" stroke=\"black\"/>\n",
       "<text font-family=\"Times,serif\" font-size=\"14.00\" text-anchor=\"middle\" x=\"64\" y=\"-16.1606\">s0</text>\n",
       "</g>\n",
       "<!-- I2&#45;&gt;2 -->\n",
       "<g class=\"edge\" id=\"edge1\"><title>I2-&gt;2</title>\n",
       "<path d=\"M1.04494,-19.8606C1.8631,-19.8606 13.7343,-19.8606 26.8695,-19.8606\" fill=\"none\" stroke=\"DimGray\"/>\n",
       "<polygon fill=\"DimGray\" points=\"26.9984,-23.3607 36.9983,-19.8606 26.9983,-16.3607 26.9984,-23.3607\" stroke=\"DimGray\"/>\n",
       "</g>\n",
       "<!-- F3 -->\n",
       "<g class=\"node\" id=\"node2\"><title>F3</title>\n",
       "<ellipse cx=\"225\" cy=\"-19.8606\" fill=\"black\" rx=\"0\" ry=\"0\" stroke=\"black\"/>\n",
       "</g>\n",
       "<!-- 2&#45;&gt;2 -->\n",
       "<g class=\"edge\" id=\"edge2\"><title>2-&gt;2</title>\n",
       "<path d=\"M56.04,-38.0133C54.8154,-47.3997 57.4688,-55.8606 64,-55.8606 67.98,-55.8606 70.5199,-52.7187 71.6199,-48.1402\" fill=\"none\" stroke=\"black\"/>\n",
       "<polygon fill=\"black\" points=\"75.1223,-48.1252 71.96,-38.0133 68.1262,-47.8902 75.1223,-48.1252\" stroke=\"black\"/>\n",
       "<text font-family=\"Times,serif\" font-size=\"14.00\" text-anchor=\"middle\" x=\"64\" y=\"-59.6606\">b</text>\n",
       "</g>\n",
       "<!-- 3 -->\n",
       "<g class=\"node\" id=\"node4\"><title>3</title>\n",
       "<path d=\"M176,-37.8606C176,-37.8606 146,-37.8606 146,-37.8606 140,-37.8606 134,-31.8606 134,-25.8606 134,-25.8606 134,-13.8606 134,-13.8606 134,-7.86062 140,-1.86062 146,-1.86062 146,-1.86062 176,-1.86062 176,-1.86062 182,-1.86062 188,-7.86062 188,-13.8606 188,-13.8606 188,-25.8606 188,-25.8606 188,-31.8606 182,-37.8606 176,-37.8606\" fill=\"none\" stroke=\"black\"/>\n",
       "<text font-family=\"Times,serif\" font-size=\"14.00\" text-anchor=\"middle\" x=\"161\" y=\"-16.1606\">s1</text>\n",
       "</g>\n",
       "<!-- 2&#45;&gt;3 -->\n",
       "<g class=\"edge\" id=\"edge3\"><title>2-&gt;3</title>\n",
       "<path d=\"M91.2106,-19.8606C101.283,-19.8606 112.965,-19.8606 123.811,-19.8606\" fill=\"none\" stroke=\"black\"/>\n",
       "<polygon fill=\"black\" points=\"123.875,-23.3607 133.875,-19.8606 123.875,-16.3607 123.875,-23.3607\" stroke=\"black\"/>\n",
       "<text font-family=\"Times,serif\" font-size=\"14.00\" text-anchor=\"middle\" x=\"112.5\" y=\"-23.6606\">a</text>\n",
       "</g>\n",
       "<!-- 3&#45;&gt;F3 -->\n",
       "<g class=\"edge\" id=\"edge4\"><title>3-&gt;F3</title>\n",
       "<path d=\"M188.294,-19.8606C197.246,-19.8606 206.734,-19.8606 213.678,-19.8606\" fill=\"none\" stroke=\"DimGray\"/>\n",
       "<polygon fill=\"DimGray\" points=\"213.946,-23.3607 223.946,-19.8606 213.945,-16.3607 213.946,-23.3607\" stroke=\"DimGray\"/>\n",
       "</g>\n",
       "<!-- 3&#45;&gt;2 -->\n",
       "<g class=\"edge\" id=\"edge5\"><title>3-&gt;2</title>\n",
       "<path d=\"M133.983,-4.08325C126.103,-0.976721 117.328,0.860616 109,-0.860616 106.342,-1.41007 103.646,-2.12807 100.966,-2.96272\" fill=\"none\" stroke=\"black\"/>\n",
       "<polygon fill=\"black\" points=\"99.6439,0.281121 91.4238,-6.4033 102.018,-6.30393 99.6439,0.281121\" stroke=\"black\"/>\n",
       "<text font-family=\"Times,serif\" font-size=\"14.00\" text-anchor=\"middle\" x=\"112.5\" y=\"-4.66062\">b</text>\n",
       "</g>\n",
       "</g>\n",
       "</svg>"
      ],
      "text/plain": [
       "<IPython.core.display.SVG object>"
      ]
     },
     "metadata": {},
     "output_type": "display_data"
    }
   ],
   "source": [
    "A.display()"
   ]
  },
  {
   "cell_type": "markdown",
   "metadata": {},
   "source": [
    "---\n",
    "Getting the list of states, of transitions.\n",
    "\n",
    "(It cannot be assumed that the ids of states are `[0,1,...,n]` for some n)"
   ]
  },
  {
   "cell_type": "code",
   "execution_count": 31,
   "metadata": {},
   "outputs": [
    {
     "data": {
      "text/plain": [
       "([0, 1], [0, 1, 2])"
      ]
     },
     "execution_count": 31,
     "metadata": {},
     "output_type": "execute_result"
    }
   ],
   "source": [
    "A.states(), A.transitions()"
   ]
  },
  {
   "cell_type": "markdown",
   "metadata": {},
   "source": [
    "---\n",
    "Getting the list of initial states, of final states."
   ]
  },
  {
   "cell_type": "code",
   "execution_count": 32,
   "metadata": {},
   "outputs": [
    {
     "data": {
      "text/plain": [
       "([0], [1])"
      ]
     },
     "execution_count": 32,
     "metadata": {},
     "output_type": "execute_result"
    }
   ],
   "source": [
    "A.initial_states(), A.final_states()"
   ]
  },
  {
   "cell_type": "markdown",
   "metadata": {
    "collapsed": true
   },
   "source": [
    "---\n",
    "Listing the transitions adjacent to a state."
   ]
  },
  {
   "cell_type": "code",
   "execution_count": 33,
   "metadata": {},
   "outputs": [
    {
     "data": {
      "text/plain": [
       "([1], [0])"
      ]
     },
     "execution_count": 33,
     "metadata": {},
     "output_type": "execute_result"
    }
   ],
   "source": [
    "A.outgoing(stt_1), A.incoming(stt_1)"
   ]
  },
  {
   "cell_type": "markdown",
   "metadata": {},
   "source": [
    "---\n",
    "Listing the transitions from a state to another."
   ]
  },
  {
   "cell_type": "code",
   "execution_count": 34,
   "metadata": {},
   "outputs": [
    {
     "data": {
      "text/plain": [
       "[0]"
      ]
     },
     "execution_count": 34,
     "metadata": {},
     "output_type": "execute_result"
    }
   ],
   "source": [
    "A.outin(stt_0,stt_1)"
   ]
  },
  {
   "cell_type": "markdown",
   "metadata": {},
   "source": [
    "---\n",
    "Getting information from a transition identifier."
   ]
  },
  {
   "cell_type": "code",
   "execution_count": 35,
   "metadata": {},
   "outputs": [
    {
     "name": "stdout",
     "output_type": "stream",
     "text": [
      "1\n",
      "b\n",
      "0\n",
      "(1, 'b', '1', 0)\n"
     ]
    }
   ],
   "source": [
    "# NB: tr_1 is a transition s1 --b--> s0\n",
    "print A.src_of(tr_1)   ## Source of transition tr_2\n",
    "print A.label_of(tr_1) ## Label of tr_2\n",
    "print A.dst_of(tr_1)   ## Destination of tr_2\n",
    "print A.unpack_transition(tr_1) ## All the above. (Third component \n",
    "                                ## is the weight and may be ignored.)"
   ]
  },
  {
   "cell_type": "markdown",
   "metadata": {},
   "source": [
    "---\n",
    "List of states reachable from a state in one transition."
   ]
  },
  {
   "cell_type": "code",
   "execution_count": 36,
   "metadata": {},
   "outputs": [
    {
     "data": {
      "text/plain": [
       "([1, 0], [1])"
      ]
     },
     "execution_count": 36,
     "metadata": {},
     "output_type": "execute_result"
    }
   ],
   "source": [
    "A.successors(stt_0), A.successors(stt_0, 'a')"
   ]
  },
  {
   "cell_type": "markdown",
   "metadata": {},
   "source": [
    "---\n",
    "List of states that may reach a state in one transition."
   ]
  },
  {
   "cell_type": "code",
   "execution_count": 37,
   "metadata": {},
   "outputs": [
    {
     "data": {
      "text/plain": [
       "([1, 0], [])"
      ]
     },
     "execution_count": 37,
     "metadata": {},
     "output_type": "execute_result"
    }
   ],
   "source": [
    "A.predecessors(stt_0), A.predecessors(stt_0, 'a')"
   ]
  },
  {
   "cell_type": "markdown",
   "metadata": {},
   "source": [
    "## Exercice: breadth-first traversal of **A**"
   ]
  },
  {
   "cell_type": "code",
   "execution_count": 38,
   "metadata": {},
   "outputs": [],
   "source": [
    "def bf_traversal(A):\n",
    "    visited = {}\n",
    "    for i in A.states():\n",
    "        visited[i] = False\n",
    "\n",
    "    to_treat = A.initial_states()\n",
    "    while len(to_treat) > 0 :\n",
    "        stt = to_treat.pop()\n",
    "        if not (visited[stt]):\n",
    "            visited[stt] = True\n",
    "            out_trs = A.outgoing(stt)\n",
    "            for tr in out_trs:\n",
    "                print A.unpack_transition(tr)\n",
    "                to_treat.append(A.dst_of(tr))"
   ]
  },
  {
   "cell_type": "code",
   "execution_count": 39,
   "metadata": {},
   "outputs": [
    {
     "name": "stdout",
     "output_type": "stream",
     "text": [
      "(0, 'a', '1', 1)\n",
      "(0, 'b', '1', 0)\n",
      "(1, 'b', '1', 0)\n"
     ]
    }
   ],
   "source": [
    "bf_traversal(A)"
   ]
  },
  {
   "cell_type": "code",
   "execution_count": 40,
   "metadata": {},
   "outputs": [
    {
     "name": "stdout",
     "output_type": "stream",
     "text": [
      "(0, 'a', '1', 1)\n",
      "(1, 'b', '1', 1)\n",
      "(1, 'c', '1', 1)\n",
      "(1, 'c', '1', 0)\n",
      "(1, 'a', '1', 2)\n",
      "(2, 'b', '1', 2)\n",
      "(2, 'c', '1', 2)\n",
      "(2, 'c', '1', 0)\n",
      "(2, 'a', '1', 0)\n"
     ]
    }
   ],
   "source": [
    "bf_traversal(awalipy.make_ladybird(3))"
   ]
  },
  {
   "cell_type": "code",
   "execution_count": null,
   "metadata": {},
   "outputs": [],
   "source": []
  }
 ],
 "metadata": {
  "kernelspec": {
   "display_name": "Python 2",
   "language": "python",
   "name": "python2"
  },
  "language_info": {
   "codemirror_mode": {
    "name": "ipython",
    "version": 2
   },
   "file_extension": ".py",
   "mimetype": "text/x-python",
   "name": "python",
   "nbconvert_exporter": "python",
   "pygments_lexer": "ipython2",
   "version": "2.7.13"
  }
 },
 "nbformat": 4,
 "nbformat_minor": 1
}
